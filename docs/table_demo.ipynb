{
 "metadata": {
  "name": ""
 },
 "nbformat": 3,
 "nbformat_minor": 0,
 "worksheets": [
  {
   "cells": [
    {
     "cell_type": "code",
     "collapsed": false,
     "input": [
      "%run -i docs/setup.py\n",
      "\n",
      "from standardise import rules; reload(rules)"
     ],
     "language": "python",
     "metadata": {},
     "outputs": [
      {
       "metadata": {},
       "output_type": "pyout",
       "prompt_number": 1,
       "text": [
        "<module 'standardise.rules' from 'standardise/rules.pyc'>"
       ]
      }
     ],
     "prompt_number": 1
    },
    {
     "cell_type": "code",
     "collapsed": false,
     "input": [
      "mol = Chem.MolFromSmiles(\"[NH-]C=CC=[NH2+]\")"
     ],
     "language": "python",
     "metadata": {},
     "outputs": [],
     "prompt_number": 2
    },
    {
     "cell_type": "code",
     "collapsed": false,
     "input": [
      "old_mol, old_match, new_mol, new_match = rules.demo(mol)"
     ],
     "language": "python",
     "metadata": {},
     "outputs": [
      {
       "output_type": "stream",
       "stream": "stderr",
       "text": [
        "[2013/Oct/07 13:28:40 INFO    ] rule 11 ('Fix 1,5 charge-seperated systems (non-aromatic)') applied\n"
       ]
      }
     ],
     "prompt_number": 3
    },
    {
     "cell_type": "code",
     "collapsed": false,
     "input": [
      "old_image = Draw.MolToImage(old_mol, highlightAtoms=old_match)\n",
      "new_image = Draw.MolToImage(new_mol, highlightAtoms=new_match)\n",
      "\n",
      "old_image.save(\"old_image.png\")\n",
      "new_image.save(\"new_image.png\")"
     ],
     "language": "python",
     "metadata": {},
     "outputs": [],
     "prompt_number": 4
    },
    {
     "cell_type": "markdown",
     "metadata": {},
     "source": [
      "<table>\n",
      "<tr> <th>Old</th> <th>New</th> <tr>\n",
      "<tr> <td>![old image](files/images/old_image.png)</td><td>![old image](files/images/new_image.png)</td> <tr>\n",
      "</table>"
     ]
    },
    {
     "cell_type": "code",
     "collapsed": false,
     "input": [],
     "language": "python",
     "metadata": {},
     "outputs": []
    }
   ],
   "metadata": {}
  }
 ]
}