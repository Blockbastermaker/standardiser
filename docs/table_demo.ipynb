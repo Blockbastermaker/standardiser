{
 "metadata": {
  "name": ""
 },
 "nbformat": 3,
 "nbformat_minor": 0,
 "worksheets": [
  {
   "cells": [
    {
     "cell_type": "markdown",
     "metadata": {},
     "source": [
      "## An alternative way to illustrate the application of rules\n",
      "\n",
      "The corresponding substructures in the original and transformed substructures are aligned and highlighted.\n",
      "\n",
      "Just a demo as yet!"
     ]
    },
    {
     "cell_type": "code",
     "collapsed": false,
     "input": [
      "%run setup.py\n",
      "\n",
      "from standardise import rules"
     ],
     "language": "python",
     "metadata": {},
     "outputs": [],
     "prompt_number": 33
    },
    {
     "cell_type": "code",
     "collapsed": false,
     "input": [
      "mol = Chem.MolFromSmiles(\"n1ccc2ccc[nH]c12\")"
     ],
     "language": "python",
     "metadata": {},
     "outputs": [],
     "prompt_number": 34
    },
    {
     "cell_type": "code",
     "collapsed": false,
     "input": [
      "old_mol, old_match, new_mol, new_match = rules.demo(mol)"
     ],
     "language": "python",
     "metadata": {},
     "outputs": [],
     "prompt_number": 35
    },
    {
     "cell_type": "code",
     "collapsed": false,
     "input": [
      "old_image = Draw.MolToImage(old_mol, highlightAtoms=old_match)\n",
      "new_image = Draw.MolToImage(new_mol, highlightAtoms=new_match)\n",
      "\n",
      "old_image.save(\"images/old_image.png\")\n",
      "new_image.save(\"images/new_image.png\")"
     ],
     "language": "python",
     "metadata": {},
     "outputs": [],
     "prompt_number": 36
    },
    {
     "cell_type": "markdown",
     "metadata": {},
     "source": [
      "<table>\n",
      "<tr> <th>Old Structure</th> <th>New Structure</th> <tr>\n",
      "<tr> <td>![old image](files/images/old_image.png)</td><td>![old image](files/images/new_image.png)</td> <tr>\n",
      "</table>"
     ]
    }
   ],
   "metadata": {}
  }
 ]
}