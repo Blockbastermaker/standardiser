{
 "metadata": {
  "name": ""
 },
 "nbformat": 3,
 "nbformat_minor": 0,
 "worksheets": [
  {
   "cells": [
    {
     "cell_type": "markdown",
     "metadata": {},
     "source": [
      "# `standardiser`\n",
      "\n",
      "This is the first publically-released version of a tool designed to provide a simple way of standardising molecules as a prelude to _e.g._ molecular modelling exercises. A python module is provided that performs the complete standardisation procedure; in addition, the modules that implement the individual steps may be used seperately if required, perhaps as part of a custom standardisation pipeline.\n",
      "\n",
      "A slide-set describing some of the background to the project is shown below...\n"
     ]
    },
    {
     "cell_type": "code",
     "collapsed": false,
     "input": [
      "import IPython; IPython.display.HTML('<iframe src=\"files/standardiser.pdf\" width=\"800\" height=\"600\"></iframe>')"
     ],
     "language": "python",
     "metadata": {},
     "outputs": [
      {
       "html": [
        "<iframe src=\"files/standardiser.pdf\" width=\"800\" height=\"600\"></iframe>"
       ],
       "metadata": {},
       "output_type": "pyout",
       "prompt_number": 1,
       "text": [
        "<IPython.core.display.HTML at 0x11001d410>"
       ]
      }
     ],
     "prompt_number": 1
    },
    {
     "cell_type": "markdown",
     "metadata": {},
     "source": [
      "In summary, the general procedure for standardising a molecule (with the documentation for the appropriate module linked) is...\n",
      "\n",
      "* Break bonds to Group I or II metals [[**`break_bonds`**](01_break_bonds.ipynb)]\n",
      "\n",
      "* Neutralize charges by adding/removing protons [[**`neutralise`**](02_neutralise.ipynb)]\n",
      "\n",
      "* Apply standardization rules [[**`rules`**](03_rules.ipynb)]\n",
      "\n",
      "* Re-run neutralisation (in case any charges are exposed by rules)\n",
      "\n",
      "* Discard any salt/solvate components [[**`unsalt`**](04_unsalt.ipynb)]\n",
      "\n",
      "* Return standardized parent\n",
      "\n",
      "The complete procedure is implemented by the [**`standardise`**](05_standardise.ipynb) module; a bare-bones alternative workflow using the individual modules is shown [here](06_alternative.ipynb).\n",
      "\n",
      "The documentantion is contained in the project **`docs/`** directory, and consists of a set of [IPython Notebooks](http://ipython.org/notebook.html), which can be viewed (and run and edited) by starting a notebook server in that directory. Alternatively, the notebooks have been exported as HTML pages, which can be viewed by pointing a browser at the **`docs/html/`** directory.\n",
      "\n",
      "A simple command-line driver program **`standardiser.py`** is available in the project **`bin/`** directory. It take SD or SMILES as input, and writes out a file containing those structures that have been successfuly standardised and one containing structures for which the procedure has failed.\n",
      "\n",
      "In the project **`test/`** directory are examples of running **`standardiser.py`** on structures from taken from PubChem and the EPA ACToR database."
     ]
    },
    {
     "cell_type": "markdown",
     "metadata": {},
     "source": [
      "### Further work\n",
      "\n",
      "* Tidy up the code\n",
      "\n",
      "\n",
      "* Proper installer\n",
      "  \n",
      "    \n",
      "* Proper API documentation\n",
      "    - Hopefully the notebooks show how things work, but proper Pythonic documentation is still needed\n",
      "\n",
      "\n",
      "* Improve the rule set, neutralisation algorithm and salt dictionary\n",
      "\n",
      "\n",
      "* Better (optional) logging of what each module has done to a molecule...\n",
      "    - The **`rules`** module can return a list of what rules have been applied\n",
      "    - Other modules do not do anything equivalent as yet."
     ]
    },
    {
     "cell_type": "markdown",
     "metadata": {},
     "source": [
      "### Acknowledgements\n",
      "\n",
      "This work was funded by the <a target=\"_blank\" href=\"http://www.imi.europa.eu/content/etox\">IMI eTOX</a> project.\n",
      "\n",
      "The salt dictionary used is based on that used in the ChEMBL database, which was compiled by L.J. Bellis, A. Hersey and others."
     ]
    },
    {
     "cell_type": "markdown",
     "metadata": {},
     "source": [
      "### Contact details\n",
      "\n",
      "Please sent bug reports and suggestions for improvements to <a href=\"mailto:francis@ebi.ac.uk\">Francis Atkinson</a>."
     ]
    }
   ],
   "metadata": {}
  }
 ]
}