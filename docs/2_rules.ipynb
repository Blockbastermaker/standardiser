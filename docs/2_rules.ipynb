{
 "metadata": {
  "name": ""
 },
 "nbformat": 3,
 "nbformat_minor": 0,
 "worksheets": [
  {
   "cells": [
    {
     "cell_type": "markdown",
     "metadata": {
      "slideshow": {
       "slide_type": "slide"
      }
     },
     "source": [
      "# `rules`: apply structure-normalization rules"
     ]
    },
    {
     "cell_type": "markdown",
     "metadata": {
      "slideshow": {
       "slide_type": "skip"
      }
     },
     "source": [
      "This is the standardisation rule set. Recall that bonds to Group I & II metals are broken and a round of neutralization (_i.e._ protonation/deprotonation) are done before there rules are applied, and that a further round of neutralization is carried out afterwards.\n",
      "\n",
      "I would be interested in missing rules, and in cases where rules need to be restricted (_i.e._ they are being applied inappropriately). I have attempted to highlight some cases where this might be an issue, in order to prompt discussion."
     ]
    },
    {
     "cell_type": "code",
     "collapsed": true,
     "input": [
      "%run setup.py\n",
      "\n",
      "reload(logging) # Seems to be required to get logging from modules working\n",
      "\n",
      "logging.basicConfig(level=logging.INFO, format=\"[%(asctime)s %(levelname)-8s] %(message)s\", datefmt=\"%Y/%b/%d %H:%M:%S\")"
     ],
     "language": "python",
     "metadata": {
      "slideshow": {
       "slide_type": "skip"
      }
     },
     "outputs": [],
     "prompt_number": 1
    },
    {
     "cell_type": "code",
     "collapsed": false,
     "input": [
      "from standardise import rules"
     ],
     "language": "python",
     "metadata": {},
     "outputs": [],
     "prompt_number": 2
    },
    {
     "cell_type": "markdown",
     "metadata": {},
     "source": [
      "#### For reference, the rules are shown below..."
     ]
    },
    {
     "cell_type": "code",
     "collapsed": false,
     "input": [
      "HTML(\"<table><tr><th>description</th><th>SMARTS</th></tr>\" + \"\\n\".join([\"<tr> <td><code>{}</code></td> <td>{}</td> </tr>\".format(rule[\"description\"], rule[\"SMARTS\"]) for rule in rules.rule_set]) + \"</table>\")"
     ],
     "language": "python",
     "metadata": {},
     "outputs": [
      {
       "html": [
        "<table><tr><th>description</th><th>SMARTS</th></tr><tr> <td><code>Charge-seperate sulphoxides</code></td> <td>[Sv4:1](=[O:2])[*:3]>>[S+:1](-[O-:2])[*:3]</td> </tr>\n",
        "<tr> <td><code>Un-charge-seperate sulphones</code></td> <td>[S+2:1]([O-:2])([O-:3])>>[S+0:1](=[O-0:2])(=[O-0:3])</td> </tr>\n",
        "<tr> <td><code>2-hydroxy pyridine -> 2-pyridone</code></td> <td>[OX2H1:1]-[c:2]:[nX2:3]>>[OH0:1]=[c:2]:[nH1:3]</td> </tr>\n",
        "<tr> <td><code>4-hydroxy pyridine -> 4-pyridone</code></td> <td>[OX2H1:1]-[c:2]:[c:3]:[a:4]:[nX2:5]>>[OH0:1]=[c:2]:[c:3]:[a:4]:[nH1:5]</td> </tr>\n",
        "<tr> <td><code>hydropyridin-2-imine -> 2-amino-pyridine (1)</code></td> <td>[Nv3+0H1:1]=[c:2]:[nH!$(*:c=O):3]>>[NH2:1]-[c:2]:[nH0:3]</td> </tr>\n",
        "<tr> <td><code>hydropyridin-2-imine -> 2-amino-pyridine (2)</code></td> <td>[Nv3+0H0:1]=[c:2]:[nH!$(*:c=O):3]>>[NH1:1]-[c:2]:[nH0:3]</td> </tr>\n",
        "<tr> <td><code>hydropyridin-4-imine -> 4-amino-pyridine (1)</code></td> <td>[Nv3+0H1:1]=[c:2]:[a:3]:,-[a:4]:[nH:5]>>[NH2:1]-[c:2]:[a:3]:[a:4]:[nH0:5]</td> </tr>\n",
        "<tr> <td><code>hydropyridin-4-imine -> 4-amino-pyridine (2)</code></td> <td>[Nv3+0H0:1]=[c:2]:[a:3]:,-[a:4]:[nH:5]>>[NH1:1]-[c:2]:[a:3]:[a:4]:[nH0:5]</td> </tr>\n",
        "<tr> <td><code>Fix 1,3 charge-seperated systems (non-aromatic)</code></td> <td>[N,O,P,S;-1:1]-[A:2]=[N,O,P,S;+1:3]>>[*-0:1]=[A:2]-[*+0:3]</td> </tr>\n",
        "<tr> <td><code>Fix 1,3 charge-seperated systems (aromatic 1)</code></td> <td>[n,o,p,s;-1:1]:[a:2]=[N,O,P,S;+1:3]>>[*-0:1]:[a:2]-[*+0:3]</td> </tr>\n",
        "<tr> <td><code>Fix 1,3 charge-seperated systems (aromatic 2)</code></td> <td>[N,O,P,S;-1:1]-[a:2]:[n,o,p,s;+1:3]>>[*-0:1]=[a:2]:[*+0:3]</td> </tr>\n",
        "<tr> <td><code>Fix 1,5 charge-seperated systems (non-aromatic)</code></td> <td>[N,O,P,S;-1:1]-[A:2]=[A:3]-[A:4]=[N,O,P,S;+1:5]>>[*-0:1]=[*:2]-[*:3]=[*:4]-[*+0:5]</td> </tr>\n",
        "<tr> <td><code>Fix 1,5 charge-seperated systems (aromatic 1)</code></td> <td>[n,o,p,s;-1:1]:[a:2]:[a:3]:[c:4]=[N,O,P,S;+1:5]>>[*-0:1]:[*:2]:[*:3]:[c:4]-[*+0:5]</td> </tr>\n",
        "<tr> <td><code>Fix 1,5 charge-seperated systems (aromatic 2)</code></td> <td>[N,O,P,S;-1:1]-[c:2]:[a:3]:[a:4]:[n,o,p,s;+1:5]>>[*-0:1]=[c:2]:[*:3]:[*:4]:[*+0:5]</td> </tr>\n",
        "<tr> <td><code>Fix 1,3 conjugated cation (non-aromatic)</code></td> <td>[N,O;+0!H0:1]-[A:2]=[N!$(*[O-]),O;+1H0:3]>>[*+1:1]=[C:2]-[*+0:3]</td> </tr>\n",
        "<tr> <td><code>Fix 1,3 conjugated cation (aromatic 1)</code></td> <td>[N,O;+0!H0:1]-[c:2]:[n!$(*[O-]),o;+1H0:3]>>[*+1:1]=[c:2]:[*+0:3]</td> </tr>\n",
        "<tr> <td><code>Fix 1,3 conjugated cation (aromatic 2)</code></td> <td>[n;+0!H0:1]:[c:2]=[N!$(*[O-]),O;+1H0:3]>>[*+1:1]:[c:2]-[*+0:3]</td> </tr>\n",
        "<tr> <td><code>Fix 1,5 conjugated cation (non-aromatic)</code></td> <td>[N,O;+0!H0:1]-[A:2]=[A:3]-[A:4]=[N!$(*[O-]),O;+1H0:5]>>[*+1:1]=[C:2]-[C:3]=[C:4]-[*+0:5]</td> </tr>\n",
        "<tr> <td><code>Fix 1,5 conjugated cation (aromatic 1)</code></td> <td>[N,O;+0!H0:1]-[c:2]:[a:3]:[a:4]:[n!$(*[O-]),o;+1H0:5]>>[*+1:1]=[c:2]:[*:3]:[*:4]:[*+0:5]</td> </tr>\n",
        "<tr> <td><code>Fix 1,5 conjugated cation (aromatic 2)</code></td> <td>[n;+0!H0:1]:[a:2]:[a:3]:[c:4]=[N!$(*[O-]),O;+1H0:5]>>[n+1:1]:[*:2]:[*:3]:[c:4]-[*+0:5]</td> </tr>\n",
        "<tr> <td><code>Fix heterocyclic tautomer 1</code></td> <td>[nH1r6:1]:[c:2]:[nX2r5:3]>>[nH0:1]:[c:2]:[nH1:3]</td> </tr>\n",
        "<tr> <td><code>Fix heterocyclic tautomer 2</code></td> <td>[nH1r6:1]:[c:2]-[c:3]:[nX2r5:4]>>[nH0:1]:[c:2][c:3]:[nH1:4]</td> </tr>\n",
        "<tr> <td><code>Fix heterocyclic tautomer 3</code></td> <td>[nH1r6:1]:[a:2]:[c:3]-[c:4]:[nX2r5:5]>>[nH0:1]:[*:2]:[c:3]:[c:4]:[nH1:5]</td> </tr>\n",
        "<tr> <td><code>Fix heterocyclic tautomer 4</code></td> <td>[nH1r6:1]:[a:2]:[c:3]:[nX2r5:4]>>[nH0:1]:[a:2]:[c:3]:[nH1:4]</td> </tr>\n",
        "<tr> <td><code>Fix hydrazine-diazonium system</code></td> <td>[NX3H$(*[CX4]):1]-[NX3H:2][CX4:5][NX2+:3]#[NX1:4]>>[N:1]=[NH+:2][C:5][N+0:3]=[NH:4]</td> </tr></table>"
       ],
       "metadata": {},
       "output_type": "pyout",
       "prompt_number": 10,
       "text": [
        "<IPython.core.display.HTML at 0x1113c8d10>"
       ]
      }
     ],
     "prompt_number": 10
    },
    {
     "cell_type": "markdown",
     "metadata": {
      "slideshow": {
       "slide_type": "slide"
      }
     },
     "source": [
      "### Charge-seperate sulphoxides"
     ]
    },
    {
     "cell_type": "markdown",
     "metadata": {
      "slideshow": {
       "slide_type": "skip"
      }
     },
     "source": [
      "The motivation for this rule is that the charge-seperated\n",
      " representation is consistent with that for five-valent N (which is actually applied by default by RDKit on building such molecules) and also that it better reflects the sulphur's 'tetrahedral' (and possibly chiral) geometry. Note that, by contrast, the default representation for a sulphone in ChEMBL is in the hypervalent form, _i.e._ R-S(=O)(=O)-R. \n",
      "\n",
      "Is this treatment of sulphoxides desirable in the current context?"
     ]
    },
    {
     "cell_type": "code",
     "collapsed": false,
     "input": [
      "mol = Chem.MolFromSmiles(\"CS(=O)C\")\n",
      "mol"
     ],
     "language": "python",
     "metadata": {
      "slideshow": {
       "slide_type": "-"
      }
     },
     "outputs": [
      {
       "metadata": {},
       "output_type": "pyout",
       "png": "[encoded data removed]",
       "prompt_number": 4,
       "text": [
        "<rdkit.Chem.rdchem.Mol at 0x1113ad8a0>"
       ]
      }
     ],
     "prompt_number": 4
    },
    {
     "cell_type": "code",
     "collapsed": false,
     "input": [
      "rules.apply(mol)"
     ],
     "language": "python",
     "metadata": {
      "slideshow": {
       "slide_type": "fragment"
      }
     },
     "outputs": [
      {
       "output_type": "stream",
       "stream": "stderr",
       "text": [
        "[2013/Oct/18 13:01:21 INFO    ] rule 1 'Charge-seperate sulphoxides' applied on pass 1\n"
       ]
      },
      {
       "metadata": {},
       "output_type": "pyout",
       "png": "[encoded data removed]",
       "prompt_number": 5,
       "text": [
        "<rdkit.Chem.rdchem.Mol at 0x111402140>"
       ]
      }
     ],
     "prompt_number": 5
    },
    {
     "cell_type": "markdown",
     "metadata": {},
     "source": [
      "_N.B._ RDKit charge-seperates nitro- and n-oxides _etc._ automatically, thus no rules are needed for these"
     ]
    },
    {
     "cell_type": "markdown",
     "metadata": {
      "slideshow": {
       "slide_type": "slide"
      }
     },
     "source": [
      "### 2-hydroxy pyridine -> pyridone"
     ]
    },
    {
     "cell_type": "code",
     "collapsed": false,
     "input": [
      "mol = Chem.MolFromSmiles(\"Oc1ncncc1\")\n",
      "mol"
     ],
     "language": "python",
     "metadata": {
      "slideshow": {
       "slide_type": "-"
      }
     },
     "outputs": [
      {
       "metadata": {},
       "output_type": "pyout",
       "png": "[encoded data removed]",
       "prompt_number": 45,
       "text": [
        "<rdkit.Chem.rdchem.Mol at 0x10d483d00>"
       ]
      }
     ],
     "prompt_number": 45
    },
    {
     "cell_type": "code",
     "collapsed": false,
     "input": [
      "rules.apply(mol)"
     ],
     "language": "python",
     "metadata": {
      "slideshow": {
       "slide_type": "fragment"
      }
     },
     "outputs": [
      {
       "output_type": "stream",
       "stream": "stderr",
       "text": [
        "[2013/Oct/17 10:26:54 INFO    ] rule 3 '2-hydroxy pyridine -> 2-pyridone' applied on pass 1\n"
       ]
      },
      {
       "metadata": {},
       "output_type": "pyout",
       "png": "[encoded data removed]",
       "prompt_number": 46,
       "text": [
        "<rdkit.Chem.rdchem.Mol at 0x10d82a1b8>"
       ]
      }
     ],
     "prompt_number": 46
    },
    {
     "cell_type": "markdown",
     "metadata": {
      "slideshow": {
       "slide_type": "skip"
      }
     },
     "source": [
      "### 4-hydroxy pyridine -> pyridone"
     ]
    },
    {
     "cell_type": "code",
     "collapsed": false,
     "input": [
      "mol = Chem.MolFromSmiles(\"Oc1ccncc1\")\n",
      "mol"
     ],
     "language": "python",
     "metadata": {
      "slideshow": {
       "slide_type": "skip"
      }
     },
     "outputs": [
      {
       "metadata": {},
       "output_type": "pyout",
       "png": "[encoded data removed]",
       "prompt_number": 47,
       "text": [
        "<rdkit.Chem.rdchem.Mol at 0x10d483e50>"
       ]
      }
     ],
     "prompt_number": 47
    },
    {
     "cell_type": "code",
     "collapsed": false,
     "input": [
      "rules.apply(mol)"
     ],
     "language": "python",
     "metadata": {
      "slideshow": {
       "slide_type": "skip"
      }
     },
     "outputs": [
      {
       "output_type": "stream",
       "stream": "stderr",
       "text": [
        "[2013/Oct/17 10:27:00 INFO    ] rule 4 '4-hydroxy pyridine -> 4-pyridone' applied on pass 1\n"
       ]
      },
      {
       "metadata": {},
       "output_type": "pyout",
       "png": "[encoded data removed]",
       "prompt_number": 48,
       "text": [
        "<rdkit.Chem.rdchem.Mol at 0x10d829ed8>"
       ]
      }
     ],
     "prompt_number": 48
    },
    {
     "cell_type": "markdown",
     "metadata": {},
     "source": [
      "#### Note that this rule can currently work 'across rings', which may or may not be desirable..."
     ]
    },
    {
     "cell_type": "code",
     "collapsed": false,
     "input": [
      "mol = Chem.MolFromSmiles(\"Oc(c1)ccn2ccnc12\")\n",
      "mol"
     ],
     "language": "python",
     "metadata": {},
     "outputs": [
      {
       "metadata": {},
       "output_type": "pyout",
       "png": "[encoded data removed]",
       "prompt_number": 49,
       "text": [
        "<rdkit.Chem.rdchem.Mol at 0x10d483c90>"
       ]
      }
     ],
     "prompt_number": 49
    },
    {
     "cell_type": "code",
     "collapsed": false,
     "input": [
      "rules.apply(mol)"
     ],
     "language": "python",
     "metadata": {},
     "outputs": [
      {
       "output_type": "stream",
       "stream": "stderr",
       "text": [
        "[2013/Oct/17 10:27:24 INFO    ] rule 4 '4-hydroxy pyridine -> 4-pyridone' applied on pass 1\n"
       ]
      },
      {
       "metadata": {},
       "output_type": "pyout",
       "png": "[encoded data removed]",
       "prompt_number": 50,
       "text": [
        "<rdkit.Chem.rdchem.Mol at 0x10d8290c8>"
       ]
      }
     ],
     "prompt_number": 50
    },
    {
     "cell_type": "markdown",
     "metadata": {
      "slideshow": {
       "slide_type": "slide"
      }
     },
     "source": [
      "### hydropyridin-2-imine -> amino-pyridine (1)"
     ]
    },
    {
     "cell_type": "code",
     "collapsed": false,
     "input": [
      "mol = Chem.MolFromSmiles(\"N=c1[nH]cncc1\")\n",
      "mol"
     ],
     "language": "python",
     "metadata": {
      "slideshow": {
       "slide_type": "-"
      }
     },
     "outputs": [
      {
       "metadata": {},
       "output_type": "pyout",
       "png": "[encoded data removed]",
       "prompt_number": 51,
       "text": [
        "<rdkit.Chem.rdchem.Mol at 0x10d483ad0>"
       ]
      }
     ],
     "prompt_number": 51
    },
    {
     "cell_type": "code",
     "collapsed": false,
     "input": [
      "rules.apply(mol)"
     ],
     "language": "python",
     "metadata": {
      "slideshow": {
       "slide_type": "fragment"
      }
     },
     "outputs": [
      {
       "output_type": "stream",
       "stream": "stderr",
       "text": [
        "[2013/Oct/17 10:42:06 INFO    ] rule 5 'hydropyridin-2-imine -> 2-amino-pyridine (1)' applied on pass 1\n"
       ]
      },
      {
       "metadata": {},
       "output_type": "pyout",
       "png": "[encoded data removed]",
       "prompt_number": 52,
       "text": [
        "<rdkit.Chem.rdchem.Mol at 0x10d829050>"
       ]
      }
     ],
     "prompt_number": 52
    },
    {
     "cell_type": "markdown",
     "metadata": {
      "slideshow": {
       "slide_type": "skip"
      }
     },
     "source": [
      "### hydropyridin-2-imine -> amino-pyridine (2)"
     ]
    },
    {
     "cell_type": "code",
     "collapsed": false,
     "input": [
      "mol = Chem.MolFromSmiles(\"CN=c1[nH]cncc1\")\n",
      "mol"
     ],
     "language": "python",
     "metadata": {
      "slideshow": {
       "slide_type": "skip"
      }
     },
     "outputs": [
      {
       "metadata": {},
       "output_type": "pyout",
       "png": "[encoded data removed]",
       "prompt_number": 53,
       "text": [
        "<rdkit.Chem.rdchem.Mol at 0x10d483d70>"
       ]
      }
     ],
     "prompt_number": 53
    },
    {
     "cell_type": "code",
     "collapsed": false,
     "input": [
      "rules.apply(mol)"
     ],
     "language": "python",
     "metadata": {
      "slideshow": {
       "slide_type": "skip"
      }
     },
     "outputs": [
      {
       "output_type": "stream",
       "stream": "stderr",
       "text": [
        "[2013/Oct/17 10:42:30 INFO    ] rule 6 'hydropyridin-2-imine -> 2-amino-pyridine (2)' applied on pass 1\n"
       ]
      },
      {
       "metadata": {},
       "output_type": "pyout",
       "png": "[encoded data removed]",
       "prompt_number": 54,
       "text": [
        "<rdkit.Chem.rdchem.Mol at 0x10d829e60>"
       ]
      }
     ],
     "prompt_number": 54
    },
    {
     "cell_type": "markdown",
     "metadata": {},
     "source": [
      "### hydropyridin-4-imine -> amino-pyridine (1)"
     ]
    },
    {
     "cell_type": "code",
     "collapsed": false,
     "input": [
      "mol = Chem.MolFromSmiles(\"N=c1nc[nH]cc1\")\n",
      "mol"
     ],
     "language": "python",
     "metadata": {},
     "outputs": [
      {
       "metadata": {},
       "output_type": "pyout",
       "png": "[encoded data removed]",
       "prompt_number": 55,
       "text": [
        "<rdkit.Chem.rdchem.Mol at 0x10d4839f0>"
       ]
      }
     ],
     "prompt_number": 55
    },
    {
     "cell_type": "code",
     "collapsed": false,
     "input": [
      "rules.apply(mol)"
     ],
     "language": "python",
     "metadata": {},
     "outputs": [
      {
       "output_type": "stream",
       "stream": "stderr",
       "text": [
        "[2013/Oct/17 10:42:37 INFO    ] rule 7 'hydropyridin-4-imine -> 4-amino-pyridine (1)' applied on pass 1\n"
       ]
      },
      {
       "metadata": {},
       "output_type": "pyout",
       "png": "[encoded data removed]",
       "prompt_number": 56,
       "text": [
        "<rdkit.Chem.rdchem.Mol at 0x10d829f50>"
       ]
      }
     ],
     "prompt_number": 56
    },
    {
     "cell_type": "markdown",
     "metadata": {},
     "source": [
      "### hydropyridin-4-imine -> amino-pyridine (2)"
     ]
    },
    {
     "cell_type": "code",
     "collapsed": false,
     "input": [
      "mol = Chem.MolFromSmiles(\"CN=c1nc[nH]cc1\")\n",
      "mol"
     ],
     "language": "python",
     "metadata": {},
     "outputs": [
      {
       "metadata": {},
       "output_type": "pyout",
       "png": "[encoded data removed]",
       "prompt_number": 57,
       "text": [
        "<rdkit.Chem.rdchem.Mol at 0x10d483a60>"
       ]
      }
     ],
     "prompt_number": 57
    },
    {
     "cell_type": "code",
     "collapsed": false,
     "input": [
      "rules.apply(mol)"
     ],
     "language": "python",
     "metadata": {},
     "outputs": [
      {
       "output_type": "stream",
       "stream": "stderr",
       "text": [
        "[2013/Oct/17 10:42:47 INFO    ] rule 8 'hydropyridin-4-imine -> 4-amino-pyridine (2)' applied on pass 1\n"
       ]
      },
      {
       "metadata": {},
       "output_type": "pyout",
       "png": "[encoded data removed]",
       "prompt_number": 58,
       "text": [
        "<rdkit.Chem.rdchem.Mol at 0x10d828410>"
       ]
      }
     ],
     "prompt_number": 58
    },
    {
     "cell_type": "markdown",
     "metadata": {},
     "source": [
      "#### As with the analagous pyrimidine, this rule may also work 'across-rings'..."
     ]
    },
    {
     "cell_type": "code",
     "collapsed": false,
     "input": [
      "mol = Chem.MolFromSmiles(\"N=c(c1)ccn2cc[nH]c12\")\n",
      "mol"
     ],
     "language": "python",
     "metadata": {},
     "outputs": [
      {
       "metadata": {},
       "output_type": "pyout",
       "png": "[encoded data removed]",
       "prompt_number": 8,
       "text": [
        "<rdkit.Chem.rdchem.Mol at 0x103b09f30>"
       ]
      }
     ],
     "prompt_number": 8
    },
    {
     "cell_type": "code",
     "collapsed": false,
     "input": [
      "rules.apply(mol)"
     ],
     "language": "python",
     "metadata": {},
     "outputs": [
      {
       "output_type": "stream",
       "stream": "stderr",
       "text": [
        "[2013/Oct/18 11:44:43 INFO    ] rule 7 'hydropyridin-4-imine -> 4-amino-pyridine (1)' applied on pass 1\n"
       ]
      },
      {
       "metadata": {},
       "output_type": "pyout",
       "png": "[encoded data removed]",
       "prompt_number": 9,
       "text": [
        "<rdkit.Chem.rdchem.Mol at 0x104313410>"
       ]
      }
     ],
     "prompt_number": 9
    },
    {
     "cell_type": "markdown",
     "metadata": {
      "slideshow": {
       "slide_type": "slide"
      }
     },
     "source": [
      "### Fix 1,3 charge-seperated systems (non-aromatic)"
     ]
    },
    {
     "cell_type": "code",
     "collapsed": false,
     "input": [
      "mol = Chem.MolFromSmiles(\"[NH-]C(C)=[NH2+]\")\n",
      "mol"
     ],
     "language": "python",
     "metadata": {
      "slideshow": {
       "slide_type": "-"
      }
     },
     "outputs": [
      {
       "metadata": {},
       "output_type": "pyout",
       "png": "[encoded data removed]",
       "prompt_number": 63,
       "text": [
        "<rdkit.Chem.rdchem.Mol at 0x10d483b40>"
       ]
      }
     ],
     "prompt_number": 63
    },
    {
     "cell_type": "code",
     "collapsed": false,
     "input": [
      "rules.apply(mol)"
     ],
     "language": "python",
     "metadata": {
      "slideshow": {
       "slide_type": "fragment"
      }
     },
     "outputs": [
      {
       "output_type": "stream",
       "stream": "stderr",
       "text": [
        "[2013/Oct/17 10:47:07 INFO    ] rule 9 'Fix 1,3 charge-seperated systems (non-aromatic)' applied on pass 1\n"
       ]
      },
      {
       "metadata": {},
       "output_type": "pyout",
       "png": "[encoded data removed]",
       "prompt_number": 65,
       "text": [
        "<rdkit.Chem.rdchem.Mol at 0x10d8282a8>"
       ]
      }
     ],
     "prompt_number": 65
    },
    {
     "cell_type": "markdown",
     "metadata": {
      "slideshow": {
       "slide_type": "slide"
      }
     },
     "source": [
      "### Fix 1,3 charge-seperated systems (aromatic 1)"
     ]
    },
    {
     "cell_type": "code",
     "collapsed": false,
     "input": [
      "mol = Chem.MolFromSmiles(\"[n-]1c(=[NH2+])cccc1\")\n",
      "mol"
     ],
     "language": "python",
     "metadata": {
      "slideshow": {
       "slide_type": "-"
      }
     },
     "outputs": [
      {
       "metadata": {},
       "output_type": "pyout",
       "png": "[encoded data removed]",
       "prompt_number": 66,
       "text": [
        "<rdkit.Chem.rdchem.Mol at 0x10d818b40>"
       ]
      }
     ],
     "prompt_number": 66
    },
    {
     "cell_type": "code",
     "collapsed": false,
     "input": [
      "rules.apply(mol)"
     ],
     "language": "python",
     "metadata": {
      "slideshow": {
       "slide_type": "fragment"
      }
     },
     "outputs": [
      {
       "output_type": "stream",
       "stream": "stderr",
       "text": [
        "[2013/Oct/17 10:47:22 INFO    ] rule 10 'Fix 1,3 charge-seperated systems (aromatic 1)' applied on pass 1\n"
       ]
      },
      {
       "metadata": {},
       "output_type": "pyout",
       "png": "[encoded data removed]",
       "prompt_number": 68,
       "text": [
        "<rdkit.Chem.rdchem.Mol at 0x10c15c6e0>"
       ]
      }
     ],
     "prompt_number": 68
    },
    {
     "cell_type": "markdown",
     "metadata": {
      "slideshow": {
       "slide_type": "skip"
      }
     },
     "source": [
      "### Fix 1,3 charge-seperated systems (aromatic 2)"
     ]
    },
    {
     "cell_type": "code",
     "collapsed": false,
     "input": [
      "mol = Chem.MolFromSmiles(\"[nH+]1c([NH-])cccc1\")\n",
      "mol"
     ],
     "language": "python",
     "metadata": {
      "slideshow": {
       "slide_type": "skip"
      }
     },
     "outputs": [
      {
       "metadata": {},
       "output_type": "pyout",
       "png": "[encoded data removed]",
       "prompt_number": 69,
       "text": [
        "<rdkit.Chem.rdchem.Mol at 0x10d818980>"
       ]
      }
     ],
     "prompt_number": 69
    },
    {
     "cell_type": "markdown",
     "metadata": {},
     "source": [
      "_N.B._ Fixing the charge-seperation produces an hydroxypridinimine, which is converted to the aminopyridine in the subsequent pass..."
     ]
    },
    {
     "cell_type": "code",
     "collapsed": false,
     "input": [
      "rules.apply(mol, first_only=True)"
     ],
     "language": "python",
     "metadata": {},
     "outputs": [
      {
       "output_type": "stream",
       "stream": "stderr",
       "text": [
        "[2013/Oct/17 10:54:48 INFO    ] rule 11 'Fix 1,3 charge-seperated systems (aromatic 2)' applied on pass 1\n"
       ]
      },
      {
       "metadata": {},
       "output_type": "pyout",
       "png": "[encoded data removed]",
       "prompt_number": 76,
       "text": [
        "<rdkit.Chem.rdchem.Mol at 0x10d3011b8>"
       ]
      }
     ],
     "prompt_number": 76
    },
    {
     "cell_type": "code",
     "collapsed": false,
     "input": [
      "rules.apply(mol)"
     ],
     "language": "python",
     "metadata": {},
     "outputs": [
      {
       "output_type": "stream",
       "stream": "stderr",
       "text": [
        "[2013/Oct/17 10:50:36 INFO    ] rule 11 'Fix 1,3 charge-seperated systems (aromatic 2)' applied on pass 1\n"
       ]
      },
      {
       "output_type": "stream",
       "stream": "stderr",
       "text": [
        "[2013/Oct/17 10:50:36 INFO    ] rule 5 'hydropyridin-2-imine -> 2-amino-pyridine (1)' applied on pass 2\n"
       ]
      },
      {
       "metadata": {},
       "output_type": "pyout",
       "png": "[encoded data removed]",
       "prompt_number": 71,
       "text": [
        "<rdkit.Chem.rdchem.Mol at 0x10d828320>"
       ]
      }
     ],
     "prompt_number": 71
    },
    {
     "cell_type": "markdown",
     "metadata": {
      "slideshow": {
       "slide_type": "skip"
      }
     },
     "source": [
      "### Fix 1,5 charge-seperated systems (non-aromatic)"
     ]
    },
    {
     "cell_type": "code",
     "collapsed": false,
     "input": [
      "mol = Chem.MolFromSmiles(\"[NH-]C=CC=[NH2+]\")\n",
      "mol"
     ],
     "language": "python",
     "metadata": {
      "slideshow": {
       "slide_type": "skip"
      }
     },
     "outputs": [
      {
       "metadata": {},
       "output_type": "pyout",
       "png": "[encoded data removed]",
       "prompt_number": 77,
       "text": [
        "<rdkit.Chem.rdchem.Mol at 0x10d818280>"
       ]
      }
     ],
     "prompt_number": 77
    },
    {
     "cell_type": "code",
     "collapsed": false,
     "input": [
      "rules.apply(mol)"
     ],
     "language": "python",
     "metadata": {
      "slideshow": {
       "slide_type": "skip"
      }
     },
     "outputs": [
      {
       "output_type": "stream",
       "stream": "stderr",
       "text": [
        "[2013/Oct/17 10:55:39 INFO    ] rule 12 'Fix 1,5 charge-seperated systems (non-aromatic)' applied on pass 1\n"
       ]
      },
      {
       "metadata": {},
       "output_type": "pyout",
       "png": "[encoded data removed]",
       "prompt_number": 78,
       "text": [
        "<rdkit.Chem.rdchem.Mol at 0x10d82a0c8>"
       ]
      }
     ],
     "prompt_number": 78
    },
    {
     "cell_type": "markdown",
     "metadata": {
      "slideshow": {
       "slide_type": "skip"
      }
     },
     "source": [
      "### Fix 1,5 charge-seperated systems (aromatic 1)"
     ]
    },
    {
     "cell_type": "code",
     "collapsed": false,
     "input": [
      "mol = Chem.MolFromSmiles(\"[n-]1ccc(=[NH2+])cc1\")\n",
      "mol"
     ],
     "language": "python",
     "metadata": {
      "slideshow": {
       "slide_type": "skip"
      }
     },
     "outputs": [
      {
       "metadata": {},
       "output_type": "pyout",
       "png": "[encoded data removed]",
       "prompt_number": 79,
       "text": [
        "<rdkit.Chem.rdchem.Mol at 0x10d8182f0>"
       ]
      }
     ],
     "prompt_number": 79
    },
    {
     "cell_type": "code",
     "collapsed": false,
     "input": [
      "rules.apply(mol)"
     ],
     "language": "python",
     "metadata": {
      "slideshow": {
       "slide_type": "skip"
      }
     },
     "outputs": [
      {
       "output_type": "stream",
       "stream": "stderr",
       "text": [
        "[2013/Oct/17 10:55:46 INFO    ] rule 13 'Fix 1,5 charge-seperated systems (aromatic 1)' applied on pass 1\n"
       ]
      },
      {
       "metadata": {},
       "output_type": "pyout",
       "png": "[encoded data removed]",
       "prompt_number": 80,
       "text": [
        "<rdkit.Chem.rdchem.Mol at 0x10d82a320>"
       ]
      }
     ],
     "prompt_number": 80
    },
    {
     "cell_type": "markdown",
     "metadata": {
      "slideshow": {
       "slide_type": "skip"
      }
     },
     "source": [
      "### Fix 1,5 charge-seperated systems (aromatic 2)"
     ]
    },
    {
     "cell_type": "code",
     "collapsed": false,
     "input": [
      "mol = Chem.MolFromSmiles(\"[nH+]1ccc([NH-])cc1\")\n",
      "mol"
     ],
     "language": "python",
     "metadata": {
      "slideshow": {
       "slide_type": "skip"
      }
     },
     "outputs": [
      {
       "metadata": {},
       "output_type": "pyout",
       "png": "[encoded data removed]",
       "prompt_number": 81,
       "text": [
        "<rdkit.Chem.rdchem.Mol at 0x10d8183d0>"
       ]
      }
     ],
     "prompt_number": 81
    },
    {
     "cell_type": "code",
     "collapsed": false,
     "input": [
      "rules.apply(mol, first_only=True)"
     ],
     "language": "python",
     "metadata": {
      "slideshow": {
       "slide_type": "skip"
      }
     },
     "outputs": [
      {
       "output_type": "stream",
       "stream": "stderr",
       "text": [
        "[2013/Oct/17 10:56:04 INFO    ] rule 14 'Fix 1,5 charge-seperated systems (aromatic 2)' applied on pass 1\n"
       ]
      },
      {
       "metadata": {},
       "output_type": "pyout",
       "png": "[encoded data removed]",
       "prompt_number": 83,
       "text": [
        "<rdkit.Chem.rdchem.Mol at 0x10d498b18>"
       ]
      }
     ],
     "prompt_number": 83
    },
    {
     "cell_type": "markdown",
     "metadata": {},
     "source": [
      "_N.B._ Fixing the charge-seperation produces an hydroxypridinimine, which is converted to the aminopyridine in the subsequent pass..."
     ]
    },
    {
     "cell_type": "code",
     "collapsed": false,
     "input": [
      "rules.apply(mol)"
     ],
     "language": "python",
     "metadata": {},
     "outputs": [
      {
       "output_type": "stream",
       "stream": "stderr",
       "text": [
        "[2013/Oct/17 10:56:19 INFO    ] rule 14 'Fix 1,5 charge-seperated systems (aromatic 2)' applied on pass 1\n"
       ]
      },
      {
       "output_type": "stream",
       "stream": "stderr",
       "text": [
        "[2013/Oct/17 10:56:19 INFO    ] rule 7 'hydropyridin-4-imine -> 4-amino-pyridine (1)' applied on pass 2\n"
       ]
      },
      {
       "metadata": {},
       "output_type": "pyout",
       "png": "[encoded data removed]",
       "prompt_number": 84,
       "text": [
        "<rdkit.Chem.rdchem.Mol at 0x10d498ed8>"
       ]
      }
     ],
     "prompt_number": 84
    },
    {
     "cell_type": "markdown",
     "metadata": {
      "slideshow": {
       "slide_type": "slide"
      }
     },
     "source": [
      "### Fix 1,5 charge-seperated systems (hybrid) NB should not normally be used"
     ]
    },
    {
     "cell_type": "code",
     "collapsed": false,
     "input": [
      "mol = Chem.MolFromSmiles(\"[NH-]c1c(cccc1)C=[N+](C)C\")\n",
      "mol"
     ],
     "language": "python",
     "metadata": {
      "slideshow": {
       "slide_type": "-"
      }
     },
     "outputs": [
      {
       "metadata": {},
       "output_type": "pyout",
       "png": "[encoded data removed]",
       "prompt_number": 85,
       "text": [
        "<rdkit.Chem.rdchem.Mol at 0x10d4834b0>"
       ]
      }
     ],
     "prompt_number": 85
    },
    {
     "cell_type": "code",
     "collapsed": false,
     "input": [
      "mol = rules.apply(mol)\n",
      "mol"
     ],
     "language": "python",
     "metadata": {
      "slideshow": {
       "slide_type": "fragment"
      }
     },
     "outputs": [
      {
       "output_type": "stream",
       "stream": "stderr",
       "text": [
        "[2013/Oct/17 11:02:39 INFO    ] rule 15 'Fix 1,5 charge-seperated systems (hybrid) NB should not normally be used' applied on pass 1\n"
       ]
      },
      {
       "metadata": {},
       "output_type": "pyout",
       "png": "[encoded data removed]",
       "prompt_number": 88,
       "text": [
        "<rdkit.Chem.rdchem.Mol at 0x10d498cf8>"
       ]
      }
     ],
     "prompt_number": 88
    },
    {
     "cell_type": "markdown",
     "metadata": {},
     "source": [
      "Note that this structure is not aromatic..."
     ]
    },
    {
     "cell_type": "code",
     "collapsed": false,
     "input": [
      "Chem.MolToSmiles(mol)"
     ],
     "language": "python",
     "metadata": {},
     "outputs": [
      {
       "metadata": {},
       "output_type": "pyout",
       "prompt_number": 89,
       "text": [
        "'CN(C)C=C1C=CC=CC1=N'"
       ]
      }
     ],
     "prompt_number": 89
    },
    {
     "cell_type": "markdown",
     "metadata": {
      "slideshow": {
       "slide_type": "fragment"
      }
     },
     "source": [
      "As we generally don't want to break aromaticity, we wouldn't normally use this rule (_i.e._ it is commented out of the default **`standardise/data/rules.dat`** file)."
     ]
    },
    {
     "cell_type": "markdown",
     "metadata": {
      "slideshow": {
       "slide_type": "fragment"
      }
     },
     "source": [
      "### Fix 1,3 conjugated cation (non-aromatic)\n",
      "In this case, and the other 'conjugated cation' rules that follow, the NH+ moiety exposed by the transformation will be deprotonated in a subsequent neutralization step."
     ]
    },
    {
     "cell_type": "code",
     "collapsed": false,
     "input": [
      "mol = Chem.MolFromSmiles(\"CNC=[N+](C)C\")\n",
      "mol"
     ],
     "language": "python",
     "metadata": {
      "slideshow": {
       "slide_type": "-"
      }
     },
     "outputs": [
      {
       "metadata": {},
       "output_type": "pyout",
       "png": "[encoded data removed]",
       "prompt_number": 104,
       "text": [
        "<rdkit.Chem.rdchem.Mol at 0x10d843360>"
       ]
      }
     ],
     "prompt_number": 104
    },
    {
     "cell_type": "code",
     "collapsed": false,
     "input": [
      "rules.apply(mol)"
     ],
     "language": "python",
     "metadata": {
      "slideshow": {
       "slide_type": "fragment"
      }
     },
     "outputs": [
      {
       "output_type": "stream",
       "stream": "stderr",
       "text": [
        "[2013/Oct/17 11:08:50 INFO    ] rule 16 'Fix 1,3 conjugated cation (non-aromatic)' applied on pass 1\n"
       ]
      },
      {
       "metadata": {},
       "output_type": "pyout",
       "png": "[encoded data removed]",
       "prompt_number": 105,
       "text": [
        "<rdkit.Chem.rdchem.Mol at 0x10d8405f0>"
       ]
      }
     ],
     "prompt_number": 105
    },
    {
     "cell_type": "markdown",
     "metadata": {
      "slideshow": {
       "slide_type": "slide"
      }
     },
     "source": [
      "### Fix 1,3 conjugated cation (aromatic 1)"
     ]
    },
    {
     "cell_type": "code",
     "collapsed": false,
     "input": [
      "mol = Chem.MolFromSmiles(\"CNc1[n+](C)cccc1\")\n",
      "mol"
     ],
     "language": "python",
     "metadata": {
      "slideshow": {
       "slide_type": "-"
      }
     },
     "outputs": [
      {
       "metadata": {},
       "output_type": "pyout",
       "png": "[encoded data removed]",
       "prompt_number": 106,
       "text": [
        "<rdkit.Chem.rdchem.Mol at 0x10d843440>"
       ]
      }
     ],
     "prompt_number": 106
    },
    {
     "cell_type": "code",
     "collapsed": false,
     "input": [
      "rules.apply(mol)"
     ],
     "language": "python",
     "metadata": {
      "slideshow": {
       "slide_type": "fragment"
      }
     },
     "outputs": [
      {
       "output_type": "stream",
       "stream": "stderr",
       "text": [
        "[2013/Oct/17 11:08:51 INFO    ] rule 17 'Fix 1,3 conjugated cation (aromatic 1)' applied on pass 1\n"
       ]
      },
      {
       "metadata": {},
       "output_type": "pyout",
       "png": "[encoded data removed]",
       "prompt_number": 107,
       "text": [
        "<rdkit.Chem.rdchem.Mol at 0x10d840230>"
       ]
      }
     ],
     "prompt_number": 107
    },
    {
     "cell_type": "markdown",
     "metadata": {
      "slideshow": {
       "slide_type": "skip"
      }
     },
     "source": [
      "### Fix 1,3 conjugated cation (aromatic 2)"
     ]
    },
    {
     "cell_type": "code",
     "collapsed": false,
     "input": [
      "mol = Chem.MolFromSmiles(\"[nH]1c(=[N+](C)C)cccc1\")\n",
      "mol"
     ],
     "language": "python",
     "metadata": {
      "slideshow": {
       "slide_type": "skip"
      }
     },
     "outputs": [
      {
       "metadata": {},
       "output_type": "pyout",
       "png": "[encoded data removed]",
       "prompt_number": 108,
       "text": [
        "<rdkit.Chem.rdchem.Mol at 0x10d879130>"
       ]
      }
     ],
     "prompt_number": 108
    },
    {
     "cell_type": "code",
     "collapsed": false,
     "input": [
      "rules.apply(mol)"
     ],
     "language": "python",
     "metadata": {
      "slideshow": {
       "slide_type": "skip"
      }
     },
     "outputs": [
      {
       "output_type": "stream",
       "stream": "stderr",
       "text": [
        "[2013/Oct/17 11:08:52 INFO    ] rule 18 'Fix 1,3 conjugated cation (aromatic 2)' applied on pass 1\n"
       ]
      },
      {
       "metadata": {},
       "output_type": "pyout",
       "png": "[encoded data removed]",
       "prompt_number": 109,
       "text": [
        "<rdkit.Chem.rdchem.Mol at 0x10d840668>"
       ]
      }
     ],
     "prompt_number": 109
    },
    {
     "cell_type": "markdown",
     "metadata": {
      "slideshow": {
       "slide_type": "skip"
      }
     },
     "source": [
      "### Fix 1,5 conjugated cation (non-aromatic)"
     ]
    },
    {
     "cell_type": "code",
     "collapsed": false,
     "input": [
      "mol = Chem.MolFromSmiles(\"NC=CC=[N+](C)C\")\n",
      "mol"
     ],
     "language": "python",
     "metadata": {
      "slideshow": {
       "slide_type": "skip"
      }
     },
     "outputs": [
      {
       "metadata": {},
       "output_type": "pyout",
       "png": "[encoded data removed]",
       "prompt_number": 110,
       "text": [
        "<rdkit.Chem.rdchem.Mol at 0x10d879670>"
       ]
      }
     ],
     "prompt_number": 110
    },
    {
     "cell_type": "code",
     "collapsed": false,
     "input": [
      "rules.apply(mol)"
     ],
     "language": "python",
     "metadata": {
      "slideshow": {
       "slide_type": "skip"
      }
     },
     "outputs": [
      {
       "output_type": "stream",
       "stream": "stderr",
       "text": [
        "[2013/Oct/17 11:08:54 INFO    ] rule 19 'Fix 1,5 conjugated cation (non-aromatic)' applied on pass 1\n"
       ]
      },
      {
       "metadata": {},
       "output_type": "pyout",
       "png": "[encoded data removed]",
       "prompt_number": 111,
       "text": [
        "<rdkit.Chem.rdchem.Mol at 0x10d840758>"
       ]
      }
     ],
     "prompt_number": 111
    },
    {
     "cell_type": "markdown",
     "metadata": {
      "slideshow": {
       "slide_type": "skip"
      }
     },
     "source": [
      "### Fix 1,5 conjugated cation (aromatic 1)"
     ]
    },
    {
     "cell_type": "code",
     "collapsed": false,
     "input": [
      "mol =  Chem.MolFromSmiles(\"Nc1cc[n+](C)cc1\")\n",
      "mol"
     ],
     "language": "python",
     "metadata": {
      "slideshow": {
       "slide_type": "skip"
      }
     },
     "outputs": [
      {
       "metadata": {},
       "output_type": "pyout",
       "png": "[encoded data removed]",
       "prompt_number": 112,
       "text": [
        "<rdkit.Chem.rdchem.Mol at 0x10d879050>"
       ]
      }
     ],
     "prompt_number": 112
    },
    {
     "cell_type": "code",
     "collapsed": false,
     "input": [
      "rules.apply(mol)"
     ],
     "language": "python",
     "metadata": {
      "slideshow": {
       "slide_type": "skip"
      }
     },
     "outputs": [
      {
       "output_type": "stream",
       "stream": "stderr",
       "text": [
        "[2013/Oct/17 11:08:56 INFO    ] rule 20 'Fix 1,5 conjugated cation (aromatic 1)' applied on pass 1\n"
       ]
      },
      {
       "metadata": {},
       "output_type": "pyout",
       "png": "[encoded data removed]",
       "prompt_number": 113,
       "text": [
        "<rdkit.Chem.rdchem.Mol at 0x10d8406e0>"
       ]
      }
     ],
     "prompt_number": 113
    },
    {
     "cell_type": "markdown",
     "metadata": {
      "slideshow": {
       "slide_type": "skip"
      }
     },
     "source": [
      "### Fix 1,5 conjugated cation (aromatic 2)"
     ]
    },
    {
     "cell_type": "code",
     "collapsed": false,
     "input": [
      "mol = Chem.MolFromSmiles(\"[nH]1ccc(=[N+](C)C)cc1\")\n",
      "mol"
     ],
     "language": "python",
     "metadata": {
      "slideshow": {
       "slide_type": "skip"
      }
     },
     "outputs": [
      {
       "metadata": {},
       "output_type": "pyout",
       "png": "[encoded data removed]",
       "prompt_number": 114,
       "text": [
        "<rdkit.Chem.rdchem.Mol at 0x10d879520>"
       ]
      }
     ],
     "prompt_number": 114
    },
    {
     "cell_type": "code",
     "collapsed": false,
     "input": [
      "rules.apply(mol)"
     ],
     "language": "python",
     "metadata": {
      "slideshow": {
       "slide_type": "skip"
      }
     },
     "outputs": [
      {
       "output_type": "stream",
       "stream": "stderr",
       "text": [
        "[2013/Oct/17 11:08:56 INFO    ] rule 21 'Fix 1,5 conjugated cation (aromatic 2)' applied on pass 1\n"
       ]
      },
      {
       "metadata": {},
       "output_type": "pyout",
       "png": "[encoded data removed]",
       "prompt_number": 115,
       "text": [
        "<rdkit.Chem.rdchem.Mol at 0x10d8407d0>"
       ]
      }
     ],
     "prompt_number": 115
    },
    {
     "cell_type": "markdown",
     "metadata": {
      "slideshow": {
       "slide_type": "skip"
      }
     },
     "source": [
      "### Fix 1,5 conjugated cation (hybrid) NB should not normally be used"
     ]
    },
    {
     "cell_type": "code",
     "collapsed": false,
     "input": [
      "mol = Chem.MolFromSmiles(\"Nc1c(cccc1)C=[N+](C)C\")\n",
      "mol"
     ],
     "language": "python",
     "metadata": {
      "slideshow": {
       "slide_type": "skip"
      }
     },
     "outputs": [
      {
       "metadata": {},
       "output_type": "pyout",
       "png": "[encoded data removed]",
       "prompt_number": 116,
       "text": [
        "<rdkit.Chem.rdchem.Mol at 0x10d8790c0>"
       ]
      }
     ],
     "prompt_number": 116
    },
    {
     "cell_type": "code",
     "collapsed": false,
     "input": [
      "rules.apply(mol)"
     ],
     "language": "python",
     "metadata": {
      "slideshow": {
       "slide_type": "skip"
      }
     },
     "outputs": [
      {
       "output_type": "stream",
       "stream": "stderr",
       "text": [
        "[2013/Oct/17 11:08:59 INFO    ] rule 22 'Fix 1,5 conjugated cation (hybrid) NB should not normally be used' applied on pass 1\n"
       ]
      },
      {
       "metadata": {},
       "output_type": "pyout",
       "png": "[encoded data removed]",
       "prompt_number": 117,
       "text": [
        "<rdkit.Chem.rdchem.Mol at 0x10d8408c0>"
       ]
      }
     ],
     "prompt_number": 117
    },
    {
     "cell_type": "markdown",
     "metadata": {
      "slideshow": {
       "slide_type": "skip"
      }
     },
     "source": [
      "Again, this breaks aromaticity and the rule would normally be disabled."
     ]
    },
    {
     "cell_type": "markdown",
     "metadata": {
      "slideshow": {
       "slide_type": "slide"
      }
     },
     "source": [
      "### Fix heterocyclic tautomer 1"
     ]
    },
    {
     "cell_type": "code",
     "collapsed": false,
     "input": [
      "mol = Chem.MolFromSmiles(\"n1ccc2ccc[nH]c12\")\n",
      "mol"
     ],
     "language": "python",
     "metadata": {
      "slideshow": {
       "slide_type": "-"
      }
     },
     "outputs": [
      {
       "metadata": {},
       "output_type": "pyout",
       "png": "[encoded data removed]",
       "prompt_number": 118,
       "text": [
        "<rdkit.Chem.rdchem.Mol at 0x10d8799f0>"
       ]
      }
     ],
     "prompt_number": 118
    },
    {
     "cell_type": "code",
     "collapsed": false,
     "input": [
      "rules.apply(mol)"
     ],
     "language": "python",
     "metadata": {
      "slideshow": {
       "slide_type": "fragment"
      }
     },
     "outputs": [
      {
       "output_type": "stream",
       "stream": "stderr",
       "text": [
        "[2013/Oct/17 11:09:06 INFO    ] rule 23 'Fix heterocyclic tautomer 1' applied on pass 1\n"
       ]
      },
      {
       "metadata": {},
       "output_type": "pyout",
       "png": "[encoded data removed]",
       "prompt_number": 119,
       "text": [
        "<rdkit.Chem.rdchem.Mol at 0x10d840848>"
       ]
      }
     ],
     "prompt_number": 119
    },
    {
     "cell_type": "markdown",
     "metadata": {},
     "source": [
      "#### Should pyrimidones such as the following molecule be excluded by this rule?"
     ]
    },
    {
     "cell_type": "code",
     "collapsed": false,
     "input": [
      "mol = Chem.MolFromSmiles(\"c1cc(=O)[nH]c2nccn12\")\n",
      "mol"
     ],
     "language": "python",
     "metadata": {},
     "outputs": [
      {
       "metadata": {},
       "output_type": "pyout",
       "png": "[encoded data removed]",
       "prompt_number": 128,
       "text": [
        "<rdkit.Chem.rdchem.Mol at 0x10d8797c0>"
       ]
      }
     ],
     "prompt_number": 128
    },
    {
     "cell_type": "code",
     "collapsed": false,
     "input": [
      "rules.apply(mol)"
     ],
     "language": "python",
     "metadata": {},
     "outputs": [
      {
       "output_type": "stream",
       "stream": "stderr",
       "text": [
        "[2013/Oct/17 11:12:02 INFO    ] rule 23 'Fix heterocyclic tautomer 1' applied on pass 1\n"
       ]
      },
      {
       "metadata": {},
       "output_type": "pyout",
       "png": "[encoded data removed]",
       "prompt_number": 129,
       "text": [
        "<rdkit.Chem.rdchem.Mol at 0x10d840b18>"
       ]
      }
     ],
     "prompt_number": 129
    },
    {
     "cell_type": "markdown",
     "metadata": {
      "slideshow": {
       "slide_type": "slide"
      }
     },
     "source": [
      "### Fix heterocyclic tautomer 2"
     ]
    },
    {
     "cell_type": "code",
     "collapsed": false,
     "input": [
      "mol = Chem.MolFromSmiles(\"c1cnc2ccc[nH]c12\")\n",
      "mol"
     ],
     "language": "python",
     "metadata": {
      "slideshow": {
       "slide_type": "-"
      }
     },
     "outputs": [
      {
       "metadata": {},
       "output_type": "pyout",
       "png": "[encoded data removed]",
       "prompt_number": 130,
       "text": [
        "<rdkit.Chem.rdchem.Mol at 0x10d879bb0>"
       ]
      }
     ],
     "prompt_number": 130
    },
    {
     "cell_type": "code",
     "collapsed": false,
     "input": [
      "rules.apply(mol)"
     ],
     "language": "python",
     "metadata": {
      "slideshow": {
       "slide_type": "fragment"
      }
     },
     "outputs": [
      {
       "output_type": "stream",
       "stream": "stderr",
       "text": [
        "[2013/Oct/17 11:12:06 INFO    ] rule 24 'Fix heterocyclic tautomer 2' applied on pass 1\n"
       ]
      },
      {
       "metadata": {},
       "output_type": "pyout",
       "png": "[encoded data removed]",
       "prompt_number": 131,
       "text": [
        "<rdkit.Chem.rdchem.Mol at 0x10d840aa0>"
       ]
      }
     ],
     "prompt_number": 131
    },
    {
     "cell_type": "markdown",
     "metadata": {
      "slideshow": {
       "slide_type": "slide"
      }
     },
     "source": [
      "### Fix heterocyclic tautomer 3"
     ]
    },
    {
     "cell_type": "code",
     "collapsed": false,
     "input": [
      "mol = Chem.MolFromSmiles(\"n1ccc2c[nH]ccc12\")\n",
      "mol"
     ],
     "language": "python",
     "metadata": {
      "slideshow": {
       "slide_type": "-"
      }
     },
     "outputs": [
      {
       "metadata": {},
       "output_type": "pyout",
       "png": "[encoded data removed]",
       "prompt_number": 132,
       "text": [
        "<rdkit.Chem.rdchem.Mol at 0x10d879d70>"
       ]
      }
     ],
     "prompt_number": 132
    },
    {
     "cell_type": "code",
     "collapsed": false,
     "input": [
      "rules.apply(mol)"
     ],
     "language": "python",
     "metadata": {
      "slideshow": {
       "slide_type": "fragment"
      }
     },
     "outputs": [
      {
       "output_type": "stream",
       "stream": "stderr",
       "text": [
        "[2013/Oct/17 11:12:09 INFO    ] rule 25 'Fix heterocyclic tautomer 3' applied on pass 1\n"
       ]
      },
      {
       "metadata": {},
       "output_type": "pyout",
       "png": "[encoded data removed]",
       "prompt_number": 133,
       "text": [
        "<rdkit.Chem.rdchem.Mol at 0x10d840c08>"
       ]
      }
     ],
     "prompt_number": 133
    },
    {
     "cell_type": "markdown",
     "metadata": {
      "slideshow": {
       "slide_type": "slide"
      }
     },
     "source": [
      "### Fix heterocyclic tautomer 4"
     ]
    },
    {
     "cell_type": "code",
     "collapsed": false,
     "input": [
      "mol = Chem.MolFromSmiles(\"c1cnc2c[nH]ccc12\")\n",
      "mol"
     ],
     "language": "python",
     "metadata": {
      "slideshow": {
       "slide_type": "-"
      }
     },
     "outputs": [
      {
       "metadata": {},
       "output_type": "pyout",
       "png": "[encoded data removed]",
       "prompt_number": 134,
       "text": [
        "<rdkit.Chem.rdchem.Mol at 0x10d879ec0>"
       ]
      }
     ],
     "prompt_number": 134
    },
    {
     "cell_type": "code",
     "collapsed": false,
     "input": [
      "rules.apply(mol)"
     ],
     "language": "python",
     "metadata": {
      "slideshow": {
       "slide_type": "fragment"
      }
     },
     "outputs": [
      {
       "output_type": "stream",
       "stream": "stderr",
       "text": [
        "[2013/Oct/17 11:12:11 INFO    ] rule 26 'Fix heterocyclic tautomer 4' applied on pass 1\n"
       ]
      },
      {
       "metadata": {},
       "output_type": "pyout",
       "png": "[encoded data removed]",
       "prompt_number": 135,
       "text": [
        "<rdkit.Chem.rdchem.Mol at 0x10d840c80>"
       ]
      }
     ],
     "prompt_number": 135
    },
    {
     "cell_type": "markdown",
     "metadata": {},
     "source": [
      "### Fix hydrazine-diazonium system\n",
      "\n",
      "Borrowed from the InChI standardisation procedure, but probably not the most widely-used of the rules..."
     ]
    },
    {
     "cell_type": "code",
     "collapsed": false,
     "input": [
      "mol = Chem.MolFromSmiles(\"CNNC[N+]#N\")\n",
      "mol"
     ],
     "language": "python",
     "metadata": {},
     "outputs": [
      {
       "metadata": {},
       "output_type": "pyout",
       "png": "[encoded data removed]",
       "prompt_number": 136,
       "text": [
        "<rdkit.Chem.rdchem.Mol at 0x10d879de0>"
       ]
      }
     ],
     "prompt_number": 136
    },
    {
     "cell_type": "code",
     "collapsed": false,
     "input": [
      "rules.apply(mol)"
     ],
     "language": "python",
     "metadata": {
      "slideshow": {
       "slide_type": "fragment"
      }
     },
     "outputs": [
      {
       "output_type": "stream",
       "stream": "stderr",
       "text": [
        "[2013/Oct/17 11:13:16 INFO    ] rule 27 'Fix hydrazine-diazonium system' applied on pass 1\n"
       ]
      },
      {
       "metadata": {},
       "output_type": "pyout",
       "png": "[encoded data removed]",
       "prompt_number": 138,
       "text": [
        "<rdkit.Chem.rdchem.Mol at 0x10d840d70>"
       ]
      }
     ],
     "prompt_number": 138
    }
   ],
   "metadata": {}
  }
 ]
}