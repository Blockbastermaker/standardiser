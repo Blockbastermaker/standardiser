{
 "metadata": {
  "name": ""
 },
 "nbformat": 3,
 "nbformat_minor": 0,
 "worksheets": [
  {
   "cells": [
    {
     "cell_type": "markdown",
     "metadata": {
      "slideshow": {
       "slide_type": "slide"
      }
     },
     "source": [
      "# **`rules`**: apply structure-normalization transformations"
     ]
    },
    {
     "cell_type": "markdown",
     "metadata": {
      "slideshow": {
       "slide_type": "skip"
      }
     },
     "source": [
      "### Introduction\n",
      "\n",
      "This document describes the **`rules`** module, which encodes the set of rules that are applied in order to standardise molecular representation.\n",
      "\n",
      "Recall that bonds to Group I & II metals are broken and a round of neutralization (_via_ protonation/deprotonation) are done _before_ these rules are applied, and that a further round of neutralization is carried out afterwards.\n",
      "\n",
      "The neutralization step before rule application is particularly worthy of note, as the neutralization can mean some rules (_i.e._ those for charge-seperated systems) are apparently redundant in some situations (_e.g._ in unsubsituted analogues). However, the rules are kept as they can apply in other situations (_e.g._ in fully subsituted analogues) and also because the rules module may be applied stand-alone, where these charge-neutralization rules may be useful. \n",
      "\n",
      "Note that charge-neutralization rules _could_ provide an alternative to the proton-addition/removal strategy employed by the neutralize module; however, the latter is used here as it allows finer control, which is particularly useful when more complex systems such as zwitterions are encountered.\n",
      "\n",
      "I would be interested in missing rules, and in cases where rules need to be restricted (_i.e._ they are being applied inappropriately). I have attempted to highlight some cases where this might be an issue, in order to prompt discussion.\n",
      "\n",
      "Finally, note that the product is not claimed to be a canonical tautomer: there may be cases where different input tautomers will produce different outputs, and it is up to the user to track this if it is important."
     ]
    },
    {
     "cell_type": "markdown",
     "metadata": {},
     "source": [
      "#### Setup"
     ]
    },
    {
     "cell_type": "code",
     "collapsed": true,
     "input": [
      "%run setup.py\n",
      "\n",
      "reload(logging) # Seems to be required to get logging from modules working\n",
      "\n",
      "logging.basicConfig(level=logging.INFO, format=\"[%(asctime)s %(levelname)-8s] %(message)s\", datefmt=\"%Y/%b/%d %H:%M:%S\")\n",
      "\n",
      "sys.path.append(\"..\")"
     ],
     "language": "python",
     "metadata": {
      "slideshow": {
       "slide_type": "skip"
      }
     },
     "outputs": [],
     "prompt_number": 11
    },
    {
     "cell_type": "code",
     "collapsed": false,
     "input": [
      "from standardise import rules, neutralize, standardise\n",
      "\n",
      "from demo import demo, s2m"
     ],
     "language": "python",
     "metadata": {},
     "outputs": [],
     "prompt_number": 12
    },
    {
     "cell_type": "markdown",
     "metadata": {},
     "source": [
      "### SMARTS\n",
      "\n",
      "For reference, the SMARTS implementing the rules are shown below..."
     ]
    },
    {
     "cell_type": "code",
     "collapsed": false,
     "input": [
      "HTML(Template(open(\"templates/rule_set.html\").read()).render(rule_set=rules.rule_set))"
     ],
     "language": "python",
     "metadata": {},
     "outputs": [
      {
       "html": [
        "<table>\n",
        "\t<tr> <th>Description</th> <th>SMARTS</th> </tr>\n",
        "\t\n",
        "\t    <tr> <td>Charge-seperate sulphoxides</td> <td>[Sv4:1](=[O:2])[*:3]>>[S+:1](-[O-:2])[*:3]</td> </tr>\n",
        "\t\n",
        "\t    <tr> <td>Un-charge-seperate sulphones</td> <td>[S+2:1]([O-:2])([O-:3])>>[S+0:1](=[O-0:2])(=[O-0:3])</td> </tr>\n",
        "\t\n",
        "\t    <tr> <td>2-hydroxy pyridine -> 2-pyridone</td> <td>[OX2H1:1]-[c:2]:[nX2:3]>>[OH0:1]=[c:2]:[nH1:3]</td> </tr>\n",
        "\t\n",
        "\t    <tr> <td>4-hydroxy pyridine -> 4-pyridone</td> <td>[OX2H1:1]-[c:2]:[c:3]:[a:4]:[nX2:5]>>[OH0:1]=[c:2]:[c:3]:[a:4]:[nH1:5]</td> </tr>\n",
        "\t\n",
        "\t    <tr> <td>hydropyridin-2-imine -> 2-amino-pyridine (1)</td> <td>[Nv3+0H1:1]=[c:2]:[nH!$(*:c=O):3]>>[NH2:1]-[c:2]:[nH0:3]</td> </tr>\n",
        "\t\n",
        "\t    <tr> <td>hydropyridin-2-imine -> 2-amino-pyridine (2)</td> <td>[Nv3+0H0:1]=[c:2]:[nH!$(*:c=O):3]>>[NH1:1]-[c:2]:[nH0:3]</td> </tr>\n",
        "\t\n",
        "\t    <tr> <td>hydropyridin-4-imine -> 4-amino-pyridine (1)</td> <td>[Nv3+0H1:1]=[c:2]:[a:3]:,-[a:4]:[nH:5]>>[NH2:1]-[c:2]:[a:3]:[a:4]:[nH0:5]</td> </tr>\n",
        "\t\n",
        "\t    <tr> <td>hydropyridin-4-imine -> 4-amino-pyridine (2)</td> <td>[Nv3+0H0:1]=[c:2]:[a:3]:,-[a:4]:[nH:5]>>[NH1:1]-[c:2]:[a:3]:[a:4]:[nH0:5]</td> </tr>\n",
        "\t\n",
        "\t    <tr> <td>Fix 1,3 charge-seperated systems (non-aromatic)</td> <td>[N,O,P,S;-1:1]-[A:2]=[N,O,P,S;+1:3]>>[*-0:1]=[A:2]-[*+0:3]</td> </tr>\n",
        "\t\n",
        "\t    <tr> <td>Fix 1,3 charge-seperated systems (aromatic 1)</td> <td>[n,o,p,s;-1:1]:[a:2]=[N,O,P,S;+1:3]>>[*-0:1]:[a:2]-[*+0:3]</td> </tr>\n",
        "\t\n",
        "\t    <tr> <td>Fix 1,3 charge-seperated systems (aromatic 2)</td> <td>[N,O,P,S;-1:1]-[a:2]:[n,o,p,s;+1:3]>>[*-0:1]=[a:2]:[*+0:3]</td> </tr>\n",
        "\t\n",
        "\t    <tr> <td>Fix 1,5 charge-seperated systems (non-aromatic)</td> <td>[N,O,P,S;-1:1]-[A:2]=[A:3]-[A:4]=[N,O,P,S;+1:5]>>[*-0:1]=[*:2]-[*:3]=[*:4]-[*+0:5]</td> </tr>\n",
        "\t\n",
        "\t    <tr> <td>Fix 1,5 charge-seperated systems (aromatic 1)</td> <td>[n,o,p,s;-1:1]:[a:2]:[a:3]:[c:4]=[N,O,P,S;+1:5]>>[*-0:1]:[*:2]:[*:3]:[c:4]-[*+0:5]</td> </tr>\n",
        "\t\n",
        "\t    <tr> <td>Fix 1,5 charge-seperated systems (aromatic 2)</td> <td>[N,O,P,S;-1:1]-[c:2]:[a:3]:[a:4]:[n,o,p,s;+1:5]>>[*-0:1]=[c:2]:[*:3]:[*:4]:[*+0:5]</td> </tr>\n",
        "\t\n",
        "\t    <tr> <td>Fix 1,3 conjugated cation (non-aromatic)</td> <td>[N,O;+0!H0:1]-[A:2]=[N!$(*[O-]),O;+1H0:3]>>[*+1:1]=[C:2]-[*+0:3]</td> </tr>\n",
        "\t\n",
        "\t    <tr> <td>Fix 1,3 conjugated cation (aromatic 1)</td> <td>[N,O;+0!H0:1]-[c:2]:[n!$(*[O-]),o;+1H0:3]>>[*+1:1]=[c:2]:[*+0:3]</td> </tr>\n",
        "\t\n",
        "\t    <tr> <td>Fix 1,3 conjugated cation (aromatic 2)</td> <td>[n;+0!H0:1]:[c:2]=[N!$(*[O-]),O;+1H0:3]>>[*+1:1]:[c:2]-[*+0:3]</td> </tr>\n",
        "\t\n",
        "\t    <tr> <td>Fix 1,5 conjugated cation (non-aromatic)</td> <td>[N,O;+0!H0:1]-[A:2]=[A:3]-[A:4]=[N!$(*[O-]),O;+1H0:5]>>[*+1:1]=[C:2]-[C:3]=[C:4]-[*+0:5]</td> </tr>\n",
        "\t\n",
        "\t    <tr> <td>Fix 1,5 conjugated cation (aromatic 1)</td> <td>[N,O;+0!H0:1]-[c:2]:[a:3]:[a:4]:[n!$(*[O-]),o;+1H0:5]>>[*+1:1]=[c:2]:[*:3]:[*:4]:[*+0:5]</td> </tr>\n",
        "\t\n",
        "\t    <tr> <td>Fix 1,5 conjugated cation (aromatic 2)</td> <td>[n;+0!H0:1]:[a:2]:[a:3]:[c:4]=[N!$(*[O-]),O;+1H0:5]>>[n+1:1]:[*:2]:[*:3]:[c:4]-[*+0:5]</td> </tr>\n",
        "\t\n",
        "\t    <tr> <td>Fix heterocyclic tautomer 1</td> <td>[nH1r6:1]:[c:2]:[nX2r5:3]>>[nH0:1]:[c:2]:[nH1:3]</td> </tr>\n",
        "\t\n",
        "\t    <tr> <td>Fix heterocyclic tautomer 2</td> <td>[nH1r6:1]:[c:2]-[c:3]:[nX2r5:4]>>[nH0:1]:[c:2][c:3]:[nH1:4]</td> </tr>\n",
        "\t\n",
        "\t    <tr> <td>Fix heterocyclic tautomer 3</td> <td>[nH1r6:1]:[a:2]:[c:3]-[c:4]:[nX2r5:5]>>[nH0:1]:[*:2]:[c:3]:[c:4]:[nH1:5]</td> </tr>\n",
        "\t\n",
        "\t    <tr> <td>Fix heterocyclic tautomer 4</td> <td>[nH1r6:1]:[a:2]:[c:3]:[nX2r5:4]>>[nH0:1]:[a:2]:[c:3]:[nH1:4]</td> </tr>\n",
        "\t\n",
        "\t    <tr> <td>Fix hydrazine-diazonium system</td> <td>[NX3H$(*[CX4]):1]-[NX3H:2][CX4:5][NX2+:3]#[NX1:4]>>[N:1]=[NH+:2][C:5][N+0:3]=[NH:4]</td> </tr>\n",
        "\t\n",
        "</table>"
       ],
       "metadata": {},
       "output_type": "pyout",
       "prompt_number": 13,
       "text": [
        "<IPython.core.display.HTML at 0x10e561a50>"
       ]
      }
     ],
     "prompt_number": 13
    },
    {
     "cell_type": "markdown",
     "metadata": {
      "slideshow": {
       "slide_type": "slide"
      }
     },
     "source": [
      "### Charge-seperate sulphoxides"
     ]
    },
    {
     "cell_type": "markdown",
     "metadata": {
      "slideshow": {
       "slide_type": "skip"
      }
     },
     "source": [
      "The motivation for this rule is that the charge-seperated\n",
      " representation is consistent with that for five-valent N (which is actually applied by default by RDKit on building such molecules) and also that it better reflects the sulphur's 'tetrahedral' (and possibly chiral) geometry. Note that, by contrast, the default representation for a sulphone in ChEMBL is in the hypervalent form, _i.e._ R-S(=O)(=O)-R. \n",
      "\n",
      "Is this treatment of sulphoxides desirable in the current context?"
     ]
    },
    {
     "cell_type": "code",
     "collapsed": false,
     "input": [
      "demo(\"CS(=O)C\")"
     ],
     "language": "python",
     "metadata": {},
     "outputs": [
      {
       "output_type": "stream",
       "stream": "stderr",
       "text": [
        "[2013/Oct/31 16:56:12 INFO    ] rule 1 (Charge-seperate sulphoxides) applied\n"
       ]
      },
      {
       "html": [
        "<!-- NB the styling is inline as otherwise it is overridden by the Notebook stylesheets -->\n",
        "\n",
        "<table>\n",
        "\t<tr>\n",
        "\t\t<th style=\"text-align: center;\">Original</th>\n",
        "\t\t<th style=\"text-align: center;\">Transformed</th>\n",
        "\t</tr>\n",
        "\t<tr>\n",
        "\t\t<td><img src=\"data:image/png;base64,iVBORw0KGgoAAAANSUhEUgAAASwAAAEsCAIAAAD2HxkiAAAEZklEQVR4nO3dW27aUBRAUVx1Rp3/\n",
        "EBiT+4HqEvJSleJ9T7vWR5RApKA4O8fYmLvt+34BOt/qBwD/OxFCTIQQEyHERAgxEUJMhBATIcRE\n",
        "CDERQkyEEBMhxEQIMRFCTIQQEyHERAgxEUJMhBATIcRECDERQkyEEBMhxEQIMRFCTIQQEyHERAgx\n",
        "EUJMhBATIcRECDERQkyEEBMhxEQIMRFCTIQQEyHERAgxEUJMhBATIcRECDERQkyEEBMhxEQIMRFC\n",
        "TIQQEyHERAgxEUJMhBATIcRECDERQkyEEBMhxEQIMRFCTIQQEyHERAgxEUJMhBATIcRECDERQkyE\n",
        "EBMhxEQIMRFCTIQQEyHERAgxEUJMhBATIcRECDERQkyEEBMhxEQIMRFCTIQQEyHERAgxEUJMhBAT\n",
        "IcRECDERQkyEEBMhxEQIMRFCTIQQEyHERAgxEUJMhBATIcRECDERQkyEEBMhxEQIMRFCTIQQEyHE\n",
        "RAgxEUJMhBATIcRECDERQux7/QD4gm37/fm+d4+DLxHhWNv2IryHL5nD7ug0t+n3Orl9fzEYmUOE\n",
        "EBMhxEQIMRFCTIQzvT4M4+joWE5RjPXQoQLHEuFAt/b2/TG8o0lBjmJ3FGIihJgIISZCiIkQYiKE\n",
        "mAghJkKIiRBiIoSYCCEmQoiJEGIihJgIISZCiIkQYiKEmAghJkKIiRBiIoSYCCEmwpnefGfR1+9E\n",
        "ygQihJgIISZCiIkQYhaEmcyqTP8EEY71sCCh9QnHEuE075V23C7FaTwnHOu2SOjDer0MZBJOc6wQ\n",
        "eny8v4WBTMI53pt7txfK/LrrejUbh9l2/0HX99DeMQDfOTBz6/DHD1t2BhGu7c38jrs+PDp6vW46\n",
        "HEGEC/v0NOBn32AkjiDCJf3Vs/BG4uJEuJgP9j+/wEhcmQiX8Zz87klxTSJcwPPze/nTbPS12B61\n",
        "4kXY27ZdLhebfhEi7NTXQEhxESIsnLv/+TEp5kR4rpXyuyfFkAjPsmp+96SYEOEp6qd/f0SKJxPh\n",
        "k43K754UTyPCZxpb4EGKJ3BR7/NN/gu+5ef8/lP55ULMlfUQEyHERAgxEUJMhBATIcRECDERQkyE\n",
        "EBMhxEQIMRFCTIQQEyHERAgxEUJMhBATIcRECDERQkyEEBMhxEQIMRFCTIQQEyHERAgxEUJMhBAT\n",
        "IcRECDERQkyEEBMhxEQIMRFCTIQQEyHERAgxEUJMhBATIcRECDERQkyEEBMhxEQIMRFCTIQQEyHE\n",
        "RAgxEUJMhBATIcRECDERQkyEEBMhxEQIMRFCTIQQEyHERAgxEUJMhBATIcRECDERQkyEEBMhxEQI\n",
        "MRFCTIQQEyHERAgxEUJMhBATIcRECDERQkyEEBMhxEQIMRFCTIQQEyHERAgxEUJMhBATIcRECDER\n",
        "QkyEEBMhxEQIMRFCTIQQEyHERAgxEUJMhBATIcRECDERQkyEEBMhxEQIMRFCTIQQEyHERAgxEUJM\n",
        "hBATIcRECDERQkyEEBMhxEQIMRFC7Cduv8mxt5rHdAAAAABJRU5ErkJggg==\n",
        "\"></td>\n",
        "\t\t<td><img src=\"data:image/png;base64,iVBORw0KGgoAAAANSUhEUgAAASwAAAEsCAIAAAD2HxkiAAAEXUlEQVR4nO3dXW7aQBhAUVx1R9n/\n",
        "EliT+4BEidu0jRR856PnPCU8oUyu5scYb/u+X4DOt/oNwP9OhBATIcRECDERQkyEEBMhxEQIMRFC\n",
        "TIQQEyHERAgxEUJMhBATIcRECDERQkyEEBMhxEQIMRFCTIQQEyHERAgxEUJMhBATIcRECDERQkyE\n",
        "EBMhxEQIMRFCTIQQEyHERAgxEUJMhBATIcRECDERQkyEEBMhxEQIMRFCTIQQEyHERAgxEUJMhBAT\n",
        "IcRECDERQkyEEBMhxEQIMRFCTIQQEyHERAgxEUJMhBATIcRECDERQkyEEBMhxEQIMRFCTIQQEyHE\n",
        "RAgxEUJMhBATIcRECDERQkyEEBMhxEQIMRFCTIQQEyHERAgxEUJMhBATIcRECDERQkyEEBMhxEQI\n",
        "MRFCTIQQEyHERAgxEUJMhBATIcRECDERQkyEEBMhxEQIMRFCTIQQEyHERAgxEUJMhBATIcRECDER\n",
        "QkyEEBMhxEQIMRFCTIQQ+16/AT5p237+vO/d++DLiHCUbXsX3uFXZrIcnePX5Pb93cTITCKEmAgh\n",
        "Zk/4Kg7rUnvFOUT4KlQ3luXoHL8ewzgdfQlmwlEOHSrwJYhwmkN49yYFOZblKMRECDERQkyEEBMh\n",
        "xEQIMRFCTIQQEyHERAgxEUJMhBATIcRECDERQkyEEBMhxEQIMRFCTIQQEyHERAgxEULM944O5+tG\n",
        "5zMTQkyEEBMhxEQIMQczA3kw02sR4TSHZxJ6ROF8lqPDKXA+EU5ze07o4ZG9dx+9zsIsRwe6zX63\n",
        "3syE8227UZzit9u/+4uHOdCwzmEmnOAxsI9OYu4pym8ae8K1/WH79zfXq/3hDJajC/voeuA/Xye8\n",
        "dfj2ZoiXJsIlfenl+Ot10+HKRLiY55yvmBJXJsJlPP94U4prEuECzr26sG0GfS3Go1Z8Gnvbtsvl\n",
        "YugXIcJOfTOEFBchwsJKn26RYk6E51opv0dSDInwLKvm90iKCRGeot7+fYoUTybCJxuV3yMpnkaE\n",
        "zzS2wDspnsCtTM83+T/4lp/r+0/ljwsx9xNCTIQQEyHERAgxEUJMhBATIcRECDERQkyEEBMhxEQI\n",
        "MRFCTIQQEyHERAgxEUJMhBATIcRECDERQkyEEBMhxEQIMRFCTIQQEyHERAgxEUJMhBATIcRECDER\n",
        "QkyEEBMhxEQIMRFCTIQQEyHERAgxEUJMhBATIcRECDERQkyEEBMhxEQIMRFCTIQQEyHERAgxEUJM\n",
        "hBATIcRECDERQkyEEBMhxEQIMRFCTIQQEyHERAgxEUJMhBATIcRECDERQkyEEBMhxEQIMRFCTIQQ\n",
        "EyHERAgxEUJMhBATIcRECDERQkyEEBMhxEQIMRFCTIQQEyHERAgxEUJMhBATIcRECDERQkyEEBMh\n",
        "xEQIMRFCTIQQEyHERAgxEUJMhBATIcRECDERQkyEEBMhxEQIMRFCTIQQEyHERAgxEUJMhBATIcRE\n",
        "CDERQkyEEBMhxEQIsR9nXrTDR1hiRgAAAABJRU5ErkJggg==\n",
        "\"></td>\n",
        "\t</tr>\n",
        "</table>"
       ],
       "metadata": {},
       "output_type": "pyout",
       "prompt_number": 14,
       "text": [
        "<IPython.core.display.HTML at 0x10c5a3f10>"
       ]
      }
     ],
     "prompt_number": 14
    },
    {
     "cell_type": "markdown",
     "metadata": {},
     "source": [
      "_N.B._ RDKit charge-seperates nitro- and n-oxides _etc._ automatically, thus no rules are needed for these"
     ]
    },
    {
     "cell_type": "markdown",
     "metadata": {
      "slideshow": {
       "slide_type": "slide"
      }
     },
     "source": [
      "### 2-hydroxy pyridine -> pyridone"
     ]
    },
    {
     "cell_type": "code",
     "collapsed": false,
     "input": [
      "demo(\"Oc1ncncc1\")"
     ],
     "language": "python",
     "metadata": {
      "slideshow": {
       "slide_type": "-"
      }
     },
     "outputs": [
      {
       "output_type": "stream",
       "stream": "stderr",
       "text": [
        "[2013/Oct/31 16:56:12 INFO    ] rule 3 (2-hydroxy pyridine -> 2-pyridone) applied\n"
       ]
      },
      {
       "html": [
        "<!-- NB the styling is inline as otherwise it is overridden by the Notebook stylesheets -->\n",
        "\n",
        "<table>\n",
        "\t<tr>\n",
        "\t\t<th style=\"text-align: center;\">Original</th>\n",
        "\t\t<th style=\"text-align: center;\">Transformed</th>\n",
        "\t</tr>\n",
        "\t<tr>\n",
        "\t\t<td><img src=\"data:image/png;base64,iVBORw0KGgoAAAANSUhEUgAAASwAAAEsCAIAAAD2HxkiAAAFXElEQVR4nO3c3W6bWBhAUTOa939l\n",
        "5iJVO7UT/Ie9z8FrqVeNJQhh+zsGmWVd1xPQ+afeAfh0IoSYCCEmQoiJEGIihJgIISZCiIkQYiKE\n",
        "mAghJkKIiRBiIoSYCCEmQoiJEGIihJgIISZCiIkQYiKEmAghJkKIiRBiIoSYCCEmQoiJEGIihJgI\n",
        "ISZCiIkQYiKEmAghJkKIiRBiIoSYCCEmQoiJEGIihJgIISZCiIkQYiKEmAghJkKIiRBiIoSYCCEm\n",
        "QoiJEGIihJgIISZCiIkQYiKEmAghJkKIiRBiIoSYCCEmQoiJEGIihJgIISZCiIkQYiKEmAghJkKI\n",
        "iRBiIoSYCCEmQoiJEGIihJgIISZCiIkQYiKEmAghJkKIiRBiIoSYCCEmQoiJEGIihJgIISZCiIkQ\n",
        "YiKEmAghJkKIiRBiIoSYCCEmQoiJEGIihJgIISZCiIkQYiKEmAghJkKIiRBiIoSYCCEmQoiJEGIi\n",
        "hJgIIfZvvQOHsixLst11XZPtsgsR7mZZliqGcNM8z3IUYiLcRzuL1nWtVsI8T4QQE+EORvhIZhjO\n",
        "S4QQE+GzRhiDXwzDSYkQYqO8i09qYwy+eihtbNffdC5u1r9KVcLXolSHE7EcfZxznV2I8IBcoZmL\n",
        "CB9kDLIXER6TYTgRET7CGGRHIjwsw3AWIrzbRGNQh1MQ4X2WxdfY2ZkID84wHJ8I77AsJ1OQ3Ynw\n",
        "+AzDwYnwVsYgLyLCm8xeoGE4MhFCTITXzT4GvxiGwxLhB9HhmER43QHGICMT4WcxDAckQoiJ8OMY\n",
        "hqMRIcRE+MflePh2YEwzRZbl178LbxqGv3fgbFs3HuiP4ZGHfznGLcHT6X+n9cbv86JT/2uLZ4fy\n",
        "OEd2fybhX9b1+pl5y2vGt55OL/wlLpM7xlF7DZPwiK6OwWU5nU7rxgt4IxGe+3rL3j45b3lNZoqB\n",
        "M8VOvosIvzF0Y7fbHINbL3iDs01/dpM+Ez5o0M84ty1Et17A24nwe4M2NovLw3eEpcWrWI7+6GqH\n",
        "w61ahxqDZ4dvoMM0HBH+cXmeDJfZXH46cN8e6A9mOXrF9jwcaNU61BjkHiK8bqDSOCIRPmuIRI3B\n",
        "mYnwJkOU9pOre6bAsYlwB6MkqrE5ifBWN1yhKUK0EJ2fCO8wysTjWES4m+CxEcbgIYjwPjMNw2l2\n",
        "9NOJ8G4bH//eOgxvn3LG4NhEuLNRnmVmIToPET6iL01jByLC/b08UXfnj0WED9ou7U2jUmOHIMLZ\n",
        "uC1xOCJ83BDD8IwCJyTCqWjsiJbVn/M5y7J1DLd/+hKeBTAbk/C1vMdxlQif1d8zPCP72YgQYiLc\n",
        "wXDDkKmIEGIi3Ef5ZcKN/2EGIpyZ6g7BE7h38/QwvOOq5q8roJ4Qfggi3JO7gjzAcnRyMz1vg++J\n",
        "cH46nJwIISbCQzAMZybCo3BNaFq+ygQxkxBiIoSYCCEmQoiJEGIihJgIISZCiIkQYiKEmAghJkKI\n",
        "iRBiIoSYCCEmQoiJEGIihJgIISZCiIkQYiKEmAghJkKIiRBiIoSYCCEmQoiJEGIihJgIISZCiIkQ\n",
        "YiKEmAghJkKIiRBiIoSYCCEmQoiJEGIihJgIISZCiIkQYiKEmAghJkKIiRBiIoSYCCEmQoiJEGIi\n",
        "hJgIISZCiIkQYiKEmAghJkKIiRBiIoSYCCEmQoiJEGIihJgIISZCiIkQYiKEmAghJkKIiRBiIoSY\n",
        "CCEmQoiJEGIihJgIISZCiIkQYiKEmAghJkKIiRBiIoSYCCEmQoiJEGIihJgIISZCiIkQYiKEmAgh\n",
        "JkKIiRBiIoSYCCEmQoiJEGIihJgIISZCiIkQYiKEmAghJkKIiRBi/wE8j0xj+yUsPQAAAABJRU5E\n",
        "rkJggg==\n",
        "\"></td>\n",
        "\t\t<td><img src=\"data:image/png;base64,iVBORw0KGgoAAAANSUhEUgAAASwAAAEsCAIAAAD2HxkiAAAFM0lEQVR4nO3d224aSQBFUTqa///l\n",
        "zoNH4/GNa+Fd1aylvESKBGl7c5rGhm3f9xPQ+VPfAXh1IoSYCCEmQoiJEGIihJgIISZCiIkQYiKE\n",
        "mAghJkKIiRBiIoSYCCEmQoiJEGIihJgIISZCiIkQYiKEmAghJkKIiRBiIoSYCCEmQoiJEGIihJgI\n",
        "ISZCiIkQYiKEmAghJkKIiRBiIoSYCCEmQoiJEGIihJgIISZCiIkQYiKEmAghJkKIiRBiIoSYCCEm\n",
        "QoiJEGIihJgIISZCiIkQYiKEmAghJkKIiRBiIoSYCCEmQoiJEGIihJgIISZCiIkQYiKEmAghJkKI\n",
        "iRBiIoSYCCEmQoiJEGIihJgIISZCiIkQYiKEmAghJkKIiRBiIoSYCCEmQoiJEGIihJgIISZCiIkQ\n",
        "YiKEmAghJkKIiRBiIoSYCCEmQoiJEGIihJgIISZCiIkQYiKEmAghJkKIiRBiIoSYCCEmQoiJEGIi\n",
        "hJgIIfZPfQcOZdu25Hb3fU9ulyFEOMy2bVUM4U3zOKejEBPhGO0W7ftenQnzOBFCTIQDzPCUzBiu\n",
        "S4QQE+GjZpjBN8ZwUSKE2CyP4os6M4PPHqUzt+truhYv1j9LVcLbSakOF+J09H6+1xlChAfkCs1a\n",
        "RHgnM8goIjwmY7gQEd7DDDKQCA/LGK5ChDdbaAZ1uAQR3mbb/Bo7g4nw4Izh/ER4g207WUGGE+Hx\n",
        "GcPJifBaZpAnEeFVVi/QGM5MhBAT4WWrz+AbYzgtEb4QHc5JhJcdYAaZ2TI/gcUo7z929wur6Lvr\n",
        "CpYQYpbwFS30M+ivwBJCTITvvj5F+vZJ0wGuLwaXSbft/Q8fecvDD47xkuB0Ph1WR/kjS/jBvl9+\n",
        "pL7m38xvf3t74l/4n3xN7hhHcBwRvqRtO51O+8lLCFMQ4WevM4ZMwnPCb7w1dtiR+P/jx7MfSw57\n",
        "EEeyhHdadQz/u9PymIYl/N6qjd3kdzr8el5x5NOMe4jwRxc7XO+stZrBT4dypUP2G0T47uv3xnqZ\n",
        "TctB/JnnhBec38OVzlo9G5yVCC9bqTQWJMJHrZGoGZyYCK+yRmk/UeDcRDjA2olSE+G1rrhCM2WI\n",
        "ZnB6IryBxeMZRDjMjG8oaAZXIMLbrDSGy9zRVyfCm515+jfjGJ7M4OxEONgsHToRXYcI7zFLaRyC\n",
        "CMfrEzWDSxHhnc6X1nfIOkR4OGZwNSK834xjqMAFiRBiPhjkUec/XMVHr3CRJXwuBXKRCB/lQigP\n",
        "EiHERDiAMeQRIoSYCMf4jTE88yGmV36+KVMS4VKkdUTegXuYh8fw3IsZ/77S4S3Bj0iEI3lVkDuI\n",
        "cDU/jaEz1WWJcEHfdvjpr5pchwszEBPhmlZ61zcuEOGyXAQ6Cr9oAzFLCDERQkyEEBMhxEQIMRFC\n",
        "TIQQEyHERAgxEUJMhBATIcRECDERQkyEEBMhxEQIMRFCTIQQEyHERAgxEUJMhBATIcRECDERQkyE\n",
        "EBMhxEQIMRFCTIQQEyHERAgxEUJMhBATIcRECDERQkyEEBMhxEQIMRFCTIQQEyHERAgxEUJMhBAT\n",
        "IcRECDERQkyEEBMhxEQIMRFCTIQQEyHERAgxEUJMhBATIcRECDERQkyEEBMhxEQIMRFCTIQQEyHE\n",
        "RAgxEUJMhBATIcRECDERQkyEEBMhxEQIMRFCTIQQEyHERAgxEUJMhBATIcRECDERQkyEEBMhxEQI\n",
        "MRFCTIQQEyHERAgxEUJMhBATIcRECDERQkyEEBMhxEQIMRFCTIQQEyHERAgxEUJMhBATIcRECLG/\n",
        "sCIwX6QQ3d4AAAAASUVORK5CYII=\n",
        "\"></td>\n",
        "\t</tr>\n",
        "</table>"
       ],
       "metadata": {},
       "output_type": "pyout",
       "prompt_number": 15,
       "text": [
        "<IPython.core.display.HTML at 0x10e553e90>"
       ]
      }
     ],
     "prompt_number": 15
    },
    {
     "cell_type": "markdown",
     "metadata": {},
     "source": [
      "Note that it is the 2-pyrimidone that is produced preferentially."
     ]
    },
    {
     "cell_type": "markdown",
     "metadata": {
      "slideshow": {
       "slide_type": "skip"
      }
     },
     "source": [
      "### 4-hydroxy pyridine -> pyridone"
     ]
    },
    {
     "cell_type": "code",
     "collapsed": false,
     "input": [
      "demo(\"Oc1ccncc1\")"
     ],
     "language": "python",
     "metadata": {
      "slideshow": {
       "slide_type": "skip"
      }
     },
     "outputs": [
      {
       "output_type": "stream",
       "stream": "stderr",
       "text": [
        "[2013/Oct/31 16:56:12 INFO    ] rule 4 (4-hydroxy pyridine -> 4-pyridone) applied\n"
       ]
      },
      {
       "html": [
        "<!-- NB the styling is inline as otherwise it is overridden by the Notebook stylesheets -->\n",
        "\n",
        "<table>\n",
        "\t<tr>\n",
        "\t\t<th style=\"text-align: center;\">Original</th>\n",
        "\t\t<th style=\"text-align: center;\">Transformed</th>\n",
        "\t</tr>\n",
        "\t<tr>\n",
        "\t\t<td><img src=\"data:image/png;base64,iVBORw0KGgoAAAANSUhEUgAAASwAAAEsCAIAAAD2HxkiAAAFOUlEQVR4nO3d3W7aWABGUTya939l\n",
        "zwUj1OYHDBj2OWYt5SqKZJd49zOxmi7rup6Azj/1CcCnEyHERAgxEUJMhBATIcRECDERQkyEEBMh\n",
        "xEQIMRFCTIQQEyHERAgxEUJMhBATIcRECDERQkyEEBMhxEQIMRFCTIQQEyHERAgxEUJMhBATIcRE\n",
        "CDERQkyEEBMhxEQIMRFCTIQQEyHERAgxEUJMhBATIcRECDERQkyEEBMhxEQIMRFCTIQQEyHERAgx\n",
        "EUJMhBATIcRECDERQkyEEBMhxEQIMRFCTIQQEyHERAgxEUJMhBATIcRECDERQkyEEBMhxEQIMRFC\n",
        "TIQQEyHERAgxEUJMhBATIcRECDERQkyEEBMhxEQIMRFCTIQQEyHERAgxEUJMhBATIcRECDERQkyE\n",
        "EBMhxEQIMRFCTIQQEyHERAgxEUJMhBATIcRECDERQkyEEBMhxEQIMRFCTIQQEyHERAgxEUJMhBAT\n",
        "IcRECLF/6xM4lGVZkuOu65ocl12IcDfLslQxhIfmeW5HISbCfbRbtK5rdSfM80QIMRHuYIS3ZMZw\n",
        "XiKEmAifNcIMnhnDSYkQYqP8LT6pKzP46lG6clzf07l4WP8qVQnnm1IdTsTt6ONc6+xChAfkJzRz\n",
        "EeGDzCB7EeExGcOJiPARZpAdifCwjOEsRHi3iWZQh1MQ4X2WxT9jZ2ciPDhjOD4R3mFZTlaQ3Ynw\n",
        "+Izh4ES4lRnkRUS4yewFGsORiRBiIrxt9hk8M4bDEuEH0eGYRHjbAWaQkYnwsxjDAYkQYiL8OMZw\n",
        "NCKEmAj/8H0ffvzM+WN8v5/qm8bwcgJfjrXldf4kfuXh324+E1zX/6+YwZ8eXi7rKyf5okv/fMQv\n",
        "r8/gL1fKEv7t0tjRrafTC/+c35P7mBf2AZbwfuOP4c0ZXJbT6bRe+QLeSITfnBvbeHUO2OEUgzPF\n",
        "Sb6LCH9ys8Mpbq6uzuC1L3iDL4ce/8V8Je8JH3W5jIa6gLbdiF77At5OhL+YYuuG9f3VG/C+fRgi\n",
        "/N3NrRttDIeawXOHlw8F/s57wj/8eKEMEtiMfgvv++c/O1FLeNVEYzjUDHIPEUJMhLdMMYZmcGYi\n",
        "3GB7ZkmH289KgUMS4R4GubgHOQ3uJMJthr0pdSM6PxFCTISbDTiGZvAQRPiQ/KngFlOcJCK8z809\n",
        "eecYbl85Mzg2Ed5phKeCW7gRnYcI9/aeSjV2ICK8X/7s3tP5YxHhC7zt0tfYIYjwIeHjCo8lDkeE\n",
        "jxrzJzQKnJAIX+YVlWrsiJbVt/MZQ1Ux1MmwmSWEmAifM847QzM4LRFCTIRPG2EMzeDMRLiHtkMF\n",
        "Tk6EEPOIYj/tz2Z8H6dlCfczzn9yxFT8GvxdiYH7WUKIiRBiIoSYCCEmQoiJEGIihJgIISZCiIkQ\n",
        "YiKEmAghJkKIiRBiIoSYCCEmQoiJEGIihJgIISZCiIkQYiKEmAghJkKIiRBiIoSYCCEmQoiJEGIi\n",
        "hJgIISZCiIkQYiKEmAghJkKIiRBiIoSYCCEmQoiJEGIihJgIISZCiIkQYiKEmAghJkKIiRBiIoSY\n",
        "CCEmQoiJEGIihJgIISZCiIkQYiKEmAghJkKIiRBiIoSYCCEmQoiJEGIihJgIISZCiIkQYiKEmAgh\n",
        "JkKIiRBiIoSYCCEmQoiJEGIihJgIISZCiIkQYiKEmAghJkKIiRBiIoSYCCEmQoiJEGIihJgIISZC\n",
        "iIkQYiKEmAghJkKIiRBiIoSYCCEmQoiJEGIihJgIISZCiIkQYiKEmAghJkKIiRBiIoSYCCEmQoiJ\n",
        "EGIihNh/mXcwctYKgrYAAAAASUVORK5CYII=\n",
        "\"></td>\n",
        "\t\t<td><img src=\"data:image/png;base64,iVBORw0KGgoAAAANSUhEUgAAASwAAAEsCAIAAAD2HxkiAAAE8klEQVR4nO3dyXLaUABFQSmV//9l\n",
        "ZUF5rmAG2ec9qbuyibNgMIcrBHbWbdsWoPOnvgJwdiKEmAghJkKIiRBiIoSYCCEmQoiJEGIihJgI\n",
        "ISZCiIkQYiKEmAghJkKIiRBiIoSYCCEmQoiJEGIihJgIISZCiIkQYiKEmAghJkKIiRBiIoSYCCEm\n",
        "QoiJEGIihJgIISZCiIkQYiKEmAghJkKIiRBiIoSYCCEmQoiJEGIihJgIISZCiIkQYiKEmAghJkKI\n",
        "iRBiIoSYCCEmQoiJEGIihJgIISZCiIkQYiKEmAghJkKIiRBiIoSYCCEmQoiJEGIihJgIISZCiIkQ\n",
        "YiKEmAghJkKIiRBiIoSYCCEmQoiJEGIihJgIISZCiIkQYiKEmAghJkKIiRBiIoSYCCEmQoiJEGIi\n",
        "hJgIISZCiIkQYiKEmAghJkKIiRBiIoSYCCEmQoiJEGIihJgIISZCiIkQYiKEmAghJkKIiRBiIoSY\n",
        "CCH2t74Ch7Kua3K527Yll8suRLibdV2rGMKL5nkORyEmwn20W7RtW3UkzPNECDER7mCEl2TGcF4i\n",
        "hJgInzXCDF4Yw0mJEGKjPItP6soM/vQoXblc39O5eLP+p1QlXA5KdTgRh6OP81hnFyI8IGdo5iLC\n",
        "B5lB9iLCYzKGExHhI8wgOxLhYRnDWYjwbhPNoA6nIML7rKsfY2dnIjw4Yzg+Ed5hXRcryO5EeHzG\n",
        "cHAivJUZ5IeI8CazF2gMRyZCiInwe7PP4IUxHJYIv3eAAi90OCYRQmyaT2Cxl7eP3f3CKnp03cAS\n",
        "QswSntFEn0E/A0sIsXNH+PVF0etXrvzT/ILTpOv69oePTv8rD4/xJuDgPt3J7vOPzr2Ey7Js2zmf\n",
        "m7fLryf+hdv+Nbmz3uf/c/oIz2ldl2XZFm8hDOH0h6PLyxPz14ejZ2t+hQiXZflPh5/+epgm39+Q\n",
        "n75RlvYGDkdP5rU6eQzDEr444dmC3+nw61GGs6MfifCdw3dYzeCnO1aBH/n40lUHO3g72M05Cq8J\n",
        "r3p9sB5gIRU4KhFCTITfOcYYmsGBifAGs3eowLGJEGIivM28Y2gGhydCiInwZjOOoRmcgQgfMkWH\n",
        "U1xJRHifSfdk0qt9GiK80ywHpQ5E5yFCiInwfuOPoRmcigghJsKHjDyGZnA2fp7wCdcf7smvb1Hg\n",
        "hCwhxCzhc4ZanqGuDDezhBAT4XPGOUNjBqclQoiJ8GkjjKEZnJkI99B2qMDJiRBi3qLYT3tuxvdx\n",
        "WpZwP2EGCpyZ/4tiV2LgfpYQYiKEmAghJkKIiRBiIoSYCCEmQoiJEGIihJgIISZCiIkQYiKEmAgh\n",
        "JkKIiRBiIoSYCCEmQoiJEGIihJgIISZCiIkQYiKEmAghJkKIiRBiIoSYCCEmQoiJEGIihJgIISZC\n",
        "iIkQYiKEmAghJkKIiRBiIoSYCCEmQoiJEGIihJgIISZCiIkQYiKEmAghJkKIiRBiIoSYCCEmQoiJ\n",
        "EGIihJgIISZCiIkQYiKEmAghJkKIiRBiIoSYCCEmQoiJEGIihJgIISZCiIkQYiKEmAghJkKIiRBi\n",
        "IoSYCCEmQoiJEGIihJgIISZCiIkQYiKEmAghJkKIiRBiIoSYCCEmQoiJEGIihJgIISZCiIkQYiKE\n",
        "mAghJkKIiRBiIoSYCCEmQoiJEGIihJgIISZCiIkQYiKEmAghJkKIiRBiIoSYCCH2D3Ce/EkhKy4u\n",
        "AAAAAElFTkSuQmCC\n",
        "\"></td>\n",
        "\t</tr>\n",
        "</table>"
       ],
       "metadata": {},
       "output_type": "pyout",
       "prompt_number": 16,
       "text": [
        "<IPython.core.display.HTML at 0x10e553c90>"
       ]
      }
     ],
     "prompt_number": 16
    },
    {
     "cell_type": "markdown",
     "metadata": {},
     "source": [
      "Note that this rule will currently work 'across rings', which may or may not be desirable..."
     ]
    },
    {
     "cell_type": "code",
     "collapsed": false,
     "input": [
      "demo(\"Oc(c1)ccn2ccnc12\")"
     ],
     "language": "python",
     "metadata": {},
     "outputs": [
      {
       "output_type": "stream",
       "stream": "stderr",
       "text": [
        "[2013/Oct/31 16:56:12 INFO    ] rule 4 (4-hydroxy pyridine -> 4-pyridone) applied\n"
       ]
      },
      {
       "html": [
        "<!-- NB the styling is inline as otherwise it is overridden by the Notebook stylesheets -->\n",
        "\n",
        "<table>\n",
        "\t<tr>\n",
        "\t\t<th style=\"text-align: center;\">Original</th>\n",
        "\t\t<th style=\"text-align: center;\">Transformed</th>\n",
        "\t</tr>\n",
        "\t<tr>\n",
        "\t\t<td><img src=\"data:image/png;base64,iVBORw0KGgoAAAANSUhEUgAAASwAAAEsCAIAAAD2HxkiAAAHDklEQVR4nO3d3VLqSACF0TA17//K\n",
        "mQtqMBoICemw+2etOhdHC2LE/uymI3qb53kCcv5JnwCMToQQJkIIEyGEiRDCRAhhIoQwEUKYCCFM\n",
        "hBAmQggTIYSJEMJECGEihDARQpgIIUyEECZCCBMhhIkQwkQIYSKEMBFCmAghTIQQJkIIEyGEiRDC\n",
        "RAhhIoQwEUKYCCFMhBAmQggTIYSJEMJECGEihDARQpgIIUyEECZCCBMhhIkQwkQIYSKEMBFCmAgh\n",
        "TIQQJkIIEyGEiRDCRAhhIoQwEUKYCCFMhBAmQggTIYSJEMJECGEihDARQpgIIUyEECZCCBMhhIkQ\n",
        "wkQIYSKEMBFCmAghTIQQJkIIEyGEiRDCRAhhIoQwEUKYCCFMhBAmQggTIYSJEMJECGEihDARQpgI\n",
        "IUyEECZCCBMhhIkQwkQIYSKEMBFCmAghTIQQJkIIEyGEiRDCRAhhIoQwEUKYCCFMhBAmwhdut/fv\n",
        "gRJE+Jrq+AoRvjbPOuQLRHiQLClNhJueToa3mxQpSITvvFqUSpFCRHjQPE/z/POmDjnt3/QJVOd2\n",
        "+1XZND2bDJfvuf/n732qtP4sqIAIf2zV9LTDaWojxVfT9ZPvNwTcZl+GaZpODsg6Z5idS+VKznZg\n",
        "IpymUlNCJSm+am/jqawxECXCzQI/WGSmxvee9jZuP/wwCBo9wjdz4HKk1pni0fa27zv2YEgZOsJd\n",
        "q9AzOV2X4pn2to8z8HhIGTfCY88DK0mxVHvbhx11SKQMGuGHOzGlUjw/X312nP0fYshRkTJihLfb\n",
        "uc/64/F69I5l23sczVZNZYaL8GyBiwP9erNgilfMezvP1lPEhLEiLFbg4og//z/5RPHqNWe7Hb56\n",
        "kNdPKtr8GaCBIixf4OLQP/8/k+LSFae6f/auZ2n6p6vlm71EOMqrKC4scFp9e97/0oo/r8l4vOei\n",
        "U10P2fO3vNQ6qh5/3cEQEV5b4N36JU5HUrytj3CRMx12N/or0X+E3yjw4UyKX/Nxh9s3Lmj/43a/\n",
        "5eNfmzp/KdNXC3w4+CqnwEn+WdRtnOGfz2W68nnXBxVVsmw+p+eZMFPgQ+Wz4qFZ7tKx3vg8dl63\n",
        "EYYLfKj512Gsn4V+s8NX7S23ptbbMG3uf27rczlaS4EP60VdPdZL01cP3f5F7Iajl0P/fNCqvqyF\n",
        "VDZYS6iuwHeqOOGPLyFu33jjXvvv27sKvvxFbQzoKsb6SkVndegC/cc/f7Pn4IPpajla0YBu0aHV\n",
        "5vYiVntHdBXhtnmeVfrGoY2Qp9G+uiWvdbU7es8sfRaNO7Nl+vRQCnynqwjfqq3Semfm4x3elu/R\n",
        "3hG9RVhbZg071OHjsp72justwrdUekAXPxRWvw4jlFlJ+zqsd13dgg4jfEulx5gPL9ZnhE1k1tLs\n",
        "sTzPVs65HQNdJ1xyzfAwj9Vl+pwJpzYmQ8Oaaeo4wrdaqJQh9ByhzL7Dwv6kniOEJnQe4fZkGJwq\n",
        "e3yBOB/qPEKoX/8RVjsZwl3/EXIpuzLnDRGhyZCaDREh1GyUCKuaDG2NsjRKhFCtgSKsZzLsZhq0\n",
        "K1PEQBFCncaKsJ7JEB7GihAqNFyEJkNqM1yEKeu0xc7diBG+nQwv+ridVWdrtJQRI0xZ/6EHmPyi\n",
        "p4uOf+ivjDG4QSMsa/+fzbxPhppkadwIP5gMV88k5/8Pdejj6pBfxo3wqe3rE1csXxsN0q5MQUNH\n",
        "uN4m/c7AWu7Q1Dwx3h8csV1t6Ain3AirucPHNyb5fcfoEX7Nejz/+fsO8Q61lyLCWqQ61F6cCCvy\n",
        "WKN+IQft1UOEdbkXcemUeH67xdZoWSKs0RVLU1NftURYqVIdFm/PS72KE2G95vnzhd917ZlIi7O4\n",
        "r92hDq9IxSX7q4mwAXsyKJ6Kqe9rRNiM7+xJau/7RNiS6zrUXpAIG1O8Q0/54kTYniIdmvrqIcIm\n",
        "1XPpgvNE2Kr4pQtKEWHD3j6d014TRNi8p1Oi7ZaGiLAHjw5NfS0SYSdMfe0SIYT5NfgQJkIIEyGE\n",
        "iRDCRAhhIoQwEUKYCCFMhBAmQggTIYSJEMJECGEihDARQpgIIUyEECZCCBMhhIkQwkQIYSKEMBFC\n",
        "mAghTIQQJkIIEyGEiRDCRAhhIoQwEUKYCCFMhBAmQggTIYSJEMJECGEihDARQpgIIUyEECZCCBMh\n",
        "hIkQwkQIYSKEMBFCmAghTIQQJkIIEyGEiRDCRAhhIoQwEUKYCCFMhBAmQggTIYSJEMJECGEihDAR\n",
        "QpgIIUyEECZCCBMhhIkQwkQIYSKEMBFCmAghTIQQJkIIEyGEiRDCRAhhIoQwEUKYCCFMhBAmQggT\n",
        "IYSJEMJECGEihDARQpgIIUyEECZCCBMhhIkQwkQIYSKEMBFCmAghTIQQJkIIEyGEiRDCRAhhIoQw\n",
        "EUKYCCFMhBAmQggTIYSJEML+A6KFBg+jaWRGAAAAAElFTkSuQmCC\n",
        "\"></td>\n",
        "\t\t<td><img src=\"data:image/png;base64,iVBORw0KGgoAAAANSUhEUgAAASwAAAEsCAIAAAD2HxkiAAAG/ElEQVR4nO3d0ZaiOBhGUZw17//K\n",
        "zoVTNl0qohC+n2Tvu7KrAZVjIKh1uV6vE5DzT3oDYHQihDARQpgIIUyEECZCCBMhhIkQwkQIYSKE\n",
        "MBFCmAghTIQQJkIIEyGEiRDCRAhhIoQwEUKYCCFMhBAmQggTIYSJEMJECGEihDARQpgIIUyEECZC\n",
        "CBMhhIkQwkQIYSKEMBFCmAghTIQQJkIIEyGEiRDCRAhhIoQwEUKYCCFMhBAmQggTIYSJEMJECGEi\n",
        "hDARQpgIIUyEECZCCBMhhIkQwkQIYSKEMBFCmAghTIQQJkIIEyGEiRDCRAhhIoQwEUKYCCFMhBAm\n",
        "QggTIYSJEMJECGEihDARQpgIIUyEECZCCBMhhIkQwkQIYSKEMBFCmAghTIQQJkIIEyGEiRDCRAhh\n",
        "IoQwEUKYCCFMhBAmQggTIYSJEMJECGEihDARQpgIIUyEECZCCBMhhIkQwkQIYSKEMBH+uFxe3rLw\n",
        "T7CZCGekRYIIZ65XHXI8EULYv+kNKOY2GF6vv283QtKMCB887fDXj5pkPw5Ht1EjmxkJn/lohub2\n",
        "m49HsAX9ulOn2OYBGAlf+HQHvVzqjoq3bXO1s6rL1cvhNE3T8+mYD/7zXJGHdGVjRbZ2YCKcpo0F\n",
        "zpcyl3pgX7U3354im8o0TSKc9ipwvri5wx7eNe0t/P7wu0HQ6BHuXOB8uXPtHuRP21v+v2PvDClD\n",
        "R9iqwPkK5nZc2Zb2lpcz8P6QMm6EzQucr2luy1r3am95saPuEimDRnhcgfNV3m0fr75bzvpVlNor\n",
        "As/WoUaM8HIJ3etPd/Td21t+X0G1Dre8bJ3KcBHGCpxtwV8/rn+z+Mb21iynwini07vf9V6a3iOP\n",
        "lS/w7jGM1u2tXFqwwzWr7nF4LLNTtleowLuFN7XsO3+z8Sy06eO2fmt/nRz2cq5Yb79so2KBd5fL\n",
        "ZZr+37hsewtL2/3R+3SgfvU5z7JP62pDfIqidIHT608Sr9ToJOrXEfJeHxYZ75Tvrf4jrF7gFq3P\n",
        "3x7PVL9+sdDea51HeIoCP97II3fo22J/DYkbt7b8M3KwniM8RYGfSe3Qj4emlWdZz6bbCLsqsMIO\n",
        "vbLDFqP0bV2PZ85dzMpMvUbYSYHVzqMWpmoatbe8AR08xdM0dRlhnwUWuUdPp2oef2ejRpdPq+ot\n",
        "woUCa8b5ZqvqbfDLoa9FewXvfgNdRVgzsy8VvyML77P7VLWj7sN1FeGy6/XaVaVxX0yZzg3f3l1X\n",
        "EcrsaLtcupgGbe9urO8dvVWa3oo/enjJ+Nn+y/SupcfvPr1deDj7I7BZVyPhZDCMWLhK8fR2z87f\n",
        "eovwLZUexGHnah1GKLPj/XnAtfe5DiN8S6Wt1HyDQXl9RniKzOpv4Ze6vFMtjTU7eldtmrQTpjq/\n",
        "0m2EZ8jM/so0dRzhW2eolCH0HKHMjtHtye1Reo4QTqHzCJcHw+BQ2cuHwtlB5xFCff1HWHYwhJv+\n",
        "I6QpszLbDRGhwZDKhogQKhslwlKDoalR5kaJEMoaKMI6g2E3w6BZmV0MFCHUNFaEdQZDuBsrQiho\n",
        "uAgNhlQzXIQpj2mLnZsRI3w7GDZab2fVmRrdy4gRpuz4N1ToSZ/ftvZW669j891/rDdohPta/0Xv\n",
        "j3/yGcaN8IvB8OFM8vqzqI/Wq0P+Mm6ETy1fn2hx+HrSIM3K7GjoCB+nSY/ZseYzNJUHxtuDI7bW\n",
        "ho5wyu1hlTu8vzDJ7xijR3iYx/15fkuFDrWXIsIqUh1qL06EhdyPUQ/IQXt1iLCW+1/abJfG9ukW\n",
        "U6P7EmFFLQ5NDX1libCovTrcvT0f9dqdCOu6Xr8/8GvXnoF0dw7uq/uowxapuGTfmghPYE0Gu6di\n",
        "6DuMCE/jmDlJ7R1PhGfSrkPtBYnwZHbv0ClfnAjPZ5cODX11iPCU6ly6YDsRnlX80gV7EeGJvT2d\n",
        "094piPD0ng6JpltORIQ9uHdo6DsjEXbC0HdeIoQwX4MPYSKEMBFCmAghTIQQJkIIEyGEiRDCRAhh\n",
        "IoQwEUKYCCFMhBAmQggTIYSJEMJECGEihDARQpgIIUyEECZCCBMhhIkQwkQIYSKEMBFCmAghTIQQ\n",
        "JkIIEyGEiRDCRAhhIoQwEUKYCCFMhBAmQggTIYSJEMJECGEihDARQpgIIUyEECZCCBMhhIkQwkQI\n",
        "YSKEMBFCmAghTIQQJkIIEyGEiRDCRAhhIoQwEUKYCCFMhBAmQggTIYSJEMJECGEihDARQpgIIUyE\n",
        "ECZCCBMhhIkQwkQIYSKEMBFCmAghTIQQJkIIEyGEiRDCRAhhIoQwEUKYCCFMhBAmQggTIYSJEMJE\n",
        "CGEihDARQpgIIUyEECZCCBMhhIkQwkQIYSKEMBFCmAghTIQQJkIIEyGEiRDCRAhhIoQwEUKYCCHs\n",
        "P68V0BZFyJsMAAAAAElFTkSuQmCC\n",
        "\"></td>\n",
        "\t</tr>\n",
        "</table>"
       ],
       "metadata": {},
       "output_type": "pyout",
       "prompt_number": 17,
       "text": [
        "<IPython.core.display.HTML at 0x10e553b90>"
       ]
      }
     ],
     "prompt_number": 17
    },
    {
     "cell_type": "markdown",
     "metadata": {
      "slideshow": {
       "slide_type": "slide"
      }
     },
     "source": [
      "### hydropyridin-2-imine -> amino-pyridine (1)"
     ]
    },
    {
     "cell_type": "code",
     "collapsed": false,
     "input": [
      "demo(\"N=c1[nH]cncc1\")"
     ],
     "language": "python",
     "metadata": {
      "slideshow": {
       "slide_type": "-"
      }
     },
     "outputs": [
      {
       "output_type": "stream",
       "stream": "stderr",
       "text": [
        "[2013/Oct/31 16:56:12 INFO    ] rule 5 (hydropyridin-2-imine -> 2-amino-pyridine (1)) applied\n"
       ]
      },
      {
       "html": [
        "<!-- NB the styling is inline as otherwise it is overridden by the Notebook stylesheets -->\n",
        "\n",
        "<table>\n",
        "\t<tr>\n",
        "\t\t<th style=\"text-align: center;\">Original</th>\n",
        "\t\t<th style=\"text-align: center;\">Transformed</th>\n",
        "\t</tr>\n",
        "\t<tr>\n",
        "\t\t<td><img src=\"data:image/png;base64,iVBORw0KGgoAAAANSUhEUgAAASwAAAEsCAIAAAD2HxkiAAAFMElEQVR4nO3d207jSBRA0Xg0///L\n",
        "noe0hqYbnJvDrrLXekMgJRTeOb6EeFnX9QJ0/qmfAJydCCEmQoiJEGIihJgIISZCiIkQYiKEmAgh\n",
        "JkKIiRBiIoSYCCEmQoiJEGIihJgIISZCiIkQYiKEmAghJkKIiRBiIoSYCCEmQoiJEGIihJgIISZC\n",
        "iIkQYiKEmAghJkKIiRBiIoSYCCEmQoiJEGIihJgIISZCiIkQYiKEmAghJkKIiRBiIoSYCCEmQoiJ\n",
        "EGIihJgIISZCiIkQYiKEmAghJkKIiRBiIoSYCCEmQoiJEGIihJgIISZCiIkQYiKEmAghJkKIiRBi\n",
        "IoSYCCEmQoiJEGIihJgIISZCiIkQYiKEmAghJkKIiRBiIoSYCCEmQoiJEGIihJgIISZCiIkQYiKE\n",
        "mAghJkKIiRBiIoSYCCEmQoiJEGIihJgIISZCiIkQYiKEmAghJkKIiRBiIoSYCCEmQoiJEGIihJgI\n",
        "ISZCiP1bP4FDWZYledx1XZPHZRci3M2yLFUM4UPzOrujEBPhPtpZtK5rtSfM60QIMRHuYIRDMsNw\n",
        "XiKEmAhfNcIYvDIMJyVCiI3yKj6pjTH47qG08bj+pnNxsf5dqhKuO6U6nIjd0efZ1tmFCA/IGZq5\n",
        "iPBJxiB7EeExGYYTEeEzjEF2JMLDMgxnIcKHTTQGdTgFET5mWfwbOzsT4cEZhuMT4QOW5WIKsjsR\n",
        "Hp9hODgR3ssY5E1EeJfZCzQMRyZCiInwttnH4JVhOCwRnogOxyTC2w4wBhnZNO/AYi8fb7t701S0\n",
        "RT3IJISYSXhGE70H/QxMQoiJ8MPfh0hfHjQd4Pzi20+Tbizlnat8JiL85PTbw34s5d1E+Mm63t54\n",
        "7vmZ8a3Xjyd+329yjGX6ESI8pWW5XC7rxeWEIfgE7j9dX8G3N857foZvl8mE/EyEXzh4Y7838I4e\n",
        "fl+4L5fyjy9P36Td0SfNesjz/5M+7GvMfEzCr83a2EN+psNTLOVLTMJv3dxE59u6qjFo6m4S4Ye/\n",
        "N5X5MhvEl0t581tnJcIbtjucqVJHg6MS4W0zlcaERPiqORI1BgcmwrvMUdp3FDg2Ee5g7kSpifBe\n",
        "d5yhGTJEY3B4InyAicc7iHA3I36goDE4AxE+ZqZhOM0TPTsRPmzj8G/EYXgxBkcnwp2N0qEd0XmI\n",
        "8BmjlMYhiHB/faLG4FRE+KTt0voOmYcID8cYnI0InzfiMFTghEQIMTcGedX2zVXceoWbTML3UiA3\n",
        "ifBVToTyIhFCTIQ7MAx5hQghJsJ9/MQwdOfNgxLhVKR1RO5FsZuXh+HWxYxfVzoOfr+okxLhnlwV\n",
        "5AkinI07bx6OCCfkzpvH4sQMxEQ4p5k+9Y0bRDgtJ4GOwj/aQMwkhJgIISZCiIkQYiKEmAghJkKI\n",
        "iRBiIoSYCCEmQoiJEGIihJgIISZCiIkQYiKEmAghJkKIiRBiIoSYCCEmQoiJEGIihJgIISZCiIkQ\n",
        "YiKEmAghJkKIiRBiIoSYCCEmQoiJEGIihJgIISZCiIkQYiKEmAghJkKIiRBiIoSYCCEmQoiJEGIi\n",
        "hJgIISZCiIkQYiKEmAghJkKIiRBiIoSYCCEmQoiJEGIihJgIISZCiIkQYiKEmAghJkKIiRBiIoSY\n",
        "CCEmQoiJEGIihJgIISZCiIkQYiKEmAghJkKIiRBiIoSYCCEmQoiJEGIihJgIISZCiIkQYiKEmAgh\n",
        "JkKIiRBiIoSYCCEmQoiJEGIihJgIISZCiIkQYiKEmAghJkKIiRBiIoSYCCEmQoiJEGIihNh/8Y0y\n",
        "VxDUHE4AAAAASUVORK5CYII=\n",
        "\"></td>\n",
        "\t\t<td><img src=\"data:image/png;base64,iVBORw0KGgoAAAANSUhEUgAAASwAAAEsCAIAAAD2HxkiAAAFc0lEQVR4nO3c3W7aWBhAUTya939l\n",
        "z0WqaZsEY8Bkn2PWUm/aUNkx3nz+EV7Wdb0AnX/qFYB3J0KIiRBiIoSYCCEmQoiJEGIihJgIISZC\n",
        "iIkQYiKEmAghJkKIiRBiIoSYCCEmQoiJEGIihJgIISZCiIkQYiKEmAghJkKIiRBiIoSYCCEmQoiJ\n",
        "EGIihJgIISZCiIkQYiKEmAghJkKIiRBiIoSYCCEmQoiJEGIihJgIISZCiIkQYiKEmAghJkKIiRBi\n",
        "IoSYCCEmQoiJEGIihJgIISZCiIkQYiKEmAghJkKIiRBiIoSYCCEmQoiJEGIihJgIISZCiIkQYiKE\n",
        "mAghJkKIiRBiIoSYCCEmQoiJEGIihJgIISZCiIkQYiKEmAghJkKIiRBiIoSYCCEmQoiJEGIihJgI\n",
        "ISZCiIkQYiKEmAghJkKIiRBiIoSYCCEmQoiJEGIihJgIISZCiIkQYiKEmAghJkKIiRBiIoSYCCEm\n",
        "QoiJEGL/1itwKsuyJMtd1zVZLocQ4WGWZaliCBfN8xyOQkyEx2hn0bqu1ZEwzxMhxER4gBFOyQzD\n",
        "eYkQYiJ81ghj8INhOCkRQmyUT/FJbYzBVw+ljeV6T+fiZv2rVCV8HJTqcCIORx9nX+cQIjwhV2jm\n",
        "IsIHGYMcRYTnZBhORISPMAY5kAhPyzCchQjvNtEY1OEURHifZfE1dg4mwpMzDMcnwjssy8UU5HAi\n",
        "PD/DcHAi3MsY5EVEuMvsBRqGIxMhxER42+xj8INhOCwRvhEdjkmEt51gDDIyEb4Xw3BAIoSYCN+O\n",
        "YTgaEUJMhL99HQ/fDoxppsiy/PrzxauG4cYW3N6411f1HXjk4V/OcUvwcvljF9/4fY7d6T8W9MAW\n",
        "/PO/nOcNuINJ+Jd1vb1n7nnN+NbL5SW/xANb5/2q+8QkPKObY3BZLpfLuvGCxFuOwYsIv/r4KN/e\n",
        "Gfa8JpOP6WtbZ3vFxt2gLyfCbwzd2H6bY3DrBYcs+usW/PTXTxdmpt/cj3NO+KBBzwz3HYhuveDn\n",
        "vXeBFxFeM2hjE7EFdxPhVTc/nYfbzUYbg/uX8v99wrE26A9xTvjb133mJCeHP+bbLfjAj96MSXjD\n",
        "9rgbaBiONgbZTYS3DVQaZyTCZw2RqDE4MxHuMkRp19xcMwWOTYQHGCVRjc1JhHvtuEJThOhAdH4i\n",
        "vMMoE49zEeFhgsdGGIOnIML7zDQMp1nRdyfCu22c/v3oMNw/5YzBsYnwYKM8y8yB6DxE+Ii+NI2d\n",
        "iAiP9/JE3Z0/FxE+aLu0HxqVGjsFEc7GbYnTEeHjhhiGnyhwQiKcisbOaFm9nc9Zlq1tuP3Tl/As\n",
        "gNmYhK/lM46bRPis/p7hJ7KfjQghJsIDDDcMmYoIISbCY5RfJtz4F2Ygwpmp7hQ8gfswTw/DO65q\n",
        "/roC6gnhpyDCI7kryAMcjk5upudt8D0Rzk+HkxMhxER4CobhzER4Fq4JTctXmSBmEkJMhBATIcRE\n",
        "CDERQkyEEBMhxEQIMRFCTIQQEyHERAgxEUJMhBATIcRECDERQkyEEBMhxEQIMRFCTIQQEyHERAgx\n",
        "EUJMhBATIcRECDERQkyEEBMhxEQIMRFCTIQQEyHERAgxEUJMhBATIcRECDERQkyEEBMhxEQIMRFC\n",
        "TIQQEyHERAgxEUJMhBATIcRECDERQkyEEBMhxEQIMRFCTIQQEyHERAgxEUJMhBATIcRECDERQkyE\n",
        "EBMhxEQIMRFCTIQQEyHERAgxEUJMhBATIcRECDERQkyEEBMhxEQIMRFCTIQQEyHERAgxEUJMhBAT\n",
        "IcRECDERQkyEEBMhxEQIMRFCTIQQEyHERAgxEUJMhBATIcRECDERQkyEEBMhxEQIMRFCTIQQEyHE\n",
        "RAgxEULsP5F5XGFdUc1wAAAAAElFTkSuQmCC\n",
        "\"></td>\n",
        "\t</tr>\n",
        "</table>"
       ],
       "metadata": {},
       "output_type": "pyout",
       "prompt_number": 18,
       "text": [
        "<IPython.core.display.HTML at 0x10e553ad0>"
       ]
      }
     ],
     "prompt_number": 18
    },
    {
     "cell_type": "markdown",
     "metadata": {
      "slideshow": {
       "slide_type": "skip"
      }
     },
     "source": [
      "### hydropyridin-2-imine -> amino-pyridine (2)"
     ]
    },
    {
     "cell_type": "code",
     "collapsed": false,
     "input": [
      "demo(\"N=c1[nH]cncc1\")"
     ],
     "language": "python",
     "metadata": {
      "slideshow": {
       "slide_type": "skip"
      }
     },
     "outputs": [
      {
       "output_type": "stream",
       "stream": "stderr",
       "text": [
        "[2013/Oct/31 16:56:12 INFO    ] rule 5 (hydropyridin-2-imine -> 2-amino-pyridine (1)) applied\n"
       ]
      },
      {
       "html": [
        "<!-- NB the styling is inline as otherwise it is overridden by the Notebook stylesheets -->\n",
        "\n",
        "<table>\n",
        "\t<tr>\n",
        "\t\t<th style=\"text-align: center;\">Original</th>\n",
        "\t\t<th style=\"text-align: center;\">Transformed</th>\n",
        "\t</tr>\n",
        "\t<tr>\n",
        "\t\t<td><img src=\"data:image/png;base64,iVBORw0KGgoAAAANSUhEUgAAASwAAAEsCAIAAAD2HxkiAAAFMElEQVR4nO3d207jSBRA0Xg0///L\n",
        "noe0hqYbnJvDrrLXekMgJRTeOb6EeFnX9QJ0/qmfAJydCCEmQoiJEGIihJgIISZCiIkQYiKEmAgh\n",
        "JkKIiRBiIoSYCCEmQoiJEGIihJgIISZCiIkQYiKEmAghJkKIiRBiIoSYCCEmQoiJEGIihJgIISZC\n",
        "iIkQYiKEmAghJkKIiRBiIoSYCCEmQoiJEGIihJgIISZCiIkQYiKEmAghJkKIiRBiIoSYCCEmQoiJ\n",
        "EGIihJgIISZCiIkQYiKEmAghJkKIiRBiIoSYCCEmQoiJEGIihJgIISZCiIkQYiKEmAghJkKIiRBi\n",
        "IoSYCCEmQoiJEGIihJgIISZCiIkQYiKEmAghJkKIiRBiIoSYCCEmQoiJEGIihJgIISZCiIkQYiKE\n",
        "mAghJkKIiRBiIoSYCCEmQoiJEGIihJgIISZCiIkQYiKEmAghJkKIiRBiIoSYCCEmQoiJEGIihJgI\n",
        "ISZCiP1bP4FDWZYledx1XZPHZRci3M2yLFUM4UPzOrujEBPhPtpZtK5rtSfM60QIMRHuYIRDMsNw\n",
        "XiKEmAhfNcIYvDIMJyVCiI3yKj6pjTH47qG08bj+pnNxsf5dqhKuO6U6nIjd0efZ1tmFCA/IGZq5\n",
        "iPBJxiB7EeExGYYTEeEzjEF2JMLDMgxnIcKHTTQGdTgFET5mWfwbOzsT4cEZhuMT4QOW5WIKsjsR\n",
        "Hp9hODgR3ssY5E1EeJfZCzQMRyZCiInwttnH4JVhOCwRnogOxyTC2w4wBhnZNO/AYi8fb7t701S0\n",
        "RT3IJISYSXhGE70H/QxMQoiJ8MPfh0hfHjQd4Pzi20+Tbizlnat8JiL85PTbw34s5d1E+Mm63t54\n",
        "7vmZ8a3Xjyd+329yjGX6ESI8pWW5XC7rxeWEIfgE7j9dX8G3N857foZvl8mE/EyEXzh4Y7838I4e\n",
        "fl+4L5fyjy9P36Td0SfNesjz/5M+7GvMfEzCr83a2EN+psNTLOVLTMJv3dxE59u6qjFo6m4S4Ye/\n",
        "N5X5MhvEl0t581tnJcIbtjucqVJHg6MS4W0zlcaERPiqORI1BgcmwrvMUdp3FDg2Ee5g7kSpifBe\n",
        "d5yhGTJEY3B4InyAicc7iHA3I36goDE4AxE+ZqZhOM0TPTsRPmzj8G/EYXgxBkcnwp2N0qEd0XmI\n",
        "8BmjlMYhiHB/faLG4FRE+KTt0voOmYcID8cYnI0InzfiMFTghEQIMTcGedX2zVXceoWbTML3UiA3\n",
        "ifBVToTyIhFCTIQ7MAx5hQghJsJ9/MQwdOfNgxLhVKR1RO5FsZuXh+HWxYxfVzoOfr+okxLhnlwV\n",
        "5AkinI07bx6OCCfkzpvH4sQMxEQ4p5k+9Y0bRDgtJ4GOwj/aQMwkhJgIISZCiIkQYiKEmAghJkKI\n",
        "iRBiIoSYCCEmQoiJEGIihJgIISZCiIkQYiKEmAghJkKIiRBiIoSYCCEmQoiJEGIihJgIISZCiIkQ\n",
        "YiKEmAghJkKIiRBiIoSYCCEmQoiJEGIihJgIISZCiIkQYiKEmAghJkKIiRBiIoSYCCEmQoiJEGIi\n",
        "hJgIISZCiIkQYiKEmAghJkKIiRBiIoSYCCEmQoiJEGIihJgIISZCiIkQYiKEmAghJkKIiRBiIoSY\n",
        "CCEmQoiJEGIihJgIISZCiIkQYiKEmAghJkKIiRBiIoSYCCEmQoiJEGIihJgIISZCiIkQYiKEmAgh\n",
        "JkKIiRBiIoSYCCEmQoiJEGIihJgIISZCiIkQYiKEmAghJkKIiRBiIoSYCCEmQoiJEGIihNh/8Y0y\n",
        "VxDUHE4AAAAASUVORK5CYII=\n",
        "\"></td>\n",
        "\t\t<td><img src=\"data:image/png;base64,iVBORw0KGgoAAAANSUhEUgAAASwAAAEsCAIAAAD2HxkiAAAFc0lEQVR4nO3c3W7aWBhAUTya939l\n",
        "z0WqaZsEY8Bkn2PWUm/aUNkx3nz+EV7Wdb0AnX/qFYB3J0KIiRBiIoSYCCEmQoiJEGIihJgIISZC\n",
        "iIkQYiKEmAghJkKIiRBiIoSYCCEmQoiJEGIihJgIISZCiIkQYiKEmAghJkKIiRBiIoSYCCEmQoiJ\n",
        "EGIihJgIISZCiIkQYiKEmAghJkKIiRBiIoSYCCEmQoiJEGIihJgIISZCiIkQYiKEmAghJkKIiRBi\n",
        "IoSYCCEmQoiJEGIihJgIISZCiIkQYiKEmAghJkKIiRBiIoSYCCEmQoiJEGIihJgIISZCiIkQYiKE\n",
        "mAghJkKIiRBiIoSYCCEmQoiJEGIihJgIISZCiIkQYiKEmAghJkKIiRBiIoSYCCEmQoiJEGIihJgI\n",
        "ISZCiIkQYiKEmAghJkKIiRBiIoSYCCEmQoiJEGIihJgIISZCiIkQYiKEmAghJkKIiRBiIoSYCCEm\n",
        "QoiJEGL/1itwKsuyJMtd1zVZLocQ4WGWZaliCBfN8xyOQkyEx2hn0bqu1ZEwzxMhxER4gBFOyQzD\n",
        "eYkQYiJ81ghj8INhOCkRQmyUT/FJbYzBVw+ljeV6T+fiZv2rVCV8HJTqcCIORx9nX+cQIjwhV2jm\n",
        "IsIHGYMcRYTnZBhORISPMAY5kAhPyzCchQjvNtEY1OEURHifZfE1dg4mwpMzDMcnwjssy8UU5HAi\n",
        "PD/DcHAi3MsY5EVEuMvsBRqGIxMhxER42+xj8INhOCwRvhEdjkmEt51gDDIyEb4Xw3BAIoSYCN+O\n",
        "YTgaEUJMhL99HQ/fDoxppsiy/PrzxauG4cYW3N6411f1HXjk4V/OcUvwcvljF9/4fY7d6T8W9MAW\n",
        "/PO/nOcNuINJ+Jd1vb1n7nnN+NbL5SW/xANb5/2q+8QkPKObY3BZLpfLuvGCxFuOwYsIv/r4KN/e\n",
        "Gfa8JpOP6WtbZ3vFxt2gLyfCbwzd2H6bY3DrBYcs+usW/PTXTxdmpt/cj3NO+KBBzwz3HYhuveDn\n",
        "vXeBFxFeM2hjE7EFdxPhVTc/nYfbzUYbg/uX8v99wrE26A9xTvjb133mJCeHP+bbLfjAj96MSXjD\n",
        "9rgbaBiONgbZTYS3DVQaZyTCZw2RqDE4MxHuMkRp19xcMwWOTYQHGCVRjc1JhHvtuEJThOhAdH4i\n",
        "vMMoE49zEeFhgsdGGIOnIML7zDQMp1nRdyfCu22c/v3oMNw/5YzBsYnwYKM8y8yB6DxE+Ii+NI2d\n",
        "iAiP9/JE3Z0/FxE+aLu0HxqVGjsFEc7GbYnTEeHjhhiGnyhwQiKcisbOaFm9nc9Zlq1tuP3Tl/As\n",
        "gNmYhK/lM46bRPis/p7hJ7KfjQghJsIDDDcMmYoIISbCY5RfJtz4F2Ygwpmp7hQ8gfswTw/DO65q\n",
        "/roC6gnhpyDCI7kryAMcjk5upudt8D0Rzk+HkxMhxER4CobhzER4Fq4JTctXmSBmEkJMhBATIcRE\n",
        "CDERQkyEEBMhxEQIMRFCTIQQEyHERAgxEUJMhBATIcRECDERQkyEEBMhxEQIMRFCTIQQEyHERAgx\n",
        "EUJMhBATIcRECDERQkyEEBMhxEQIMRFCTIQQEyHERAgxEUJMhBATIcRECDERQkyEEBMhxEQIMRFC\n",
        "TIQQEyHERAgxEUJMhBATIcRECDERQkyEEBMhxEQIMRFCTIQQEyHERAgxEUJMhBATIcRECDERQkyE\n",
        "EBMhxEQIMRFCTIQQEyHERAgxEUJMhBATIcRECDERQkyEEBMhxEQIMRFCTIQQEyHERAgxEUJMhBAT\n",
        "IcRECDERQkyEEBMhxEQIMRFCTIQQEyHERAgxEUJMhBATIcRECDERQkyEEBMhxEQIMRFCTIQQEyHE\n",
        "RAgxEULsP5F5XGFdUc1wAAAAAElFTkSuQmCC\n",
        "\"></td>\n",
        "\t</tr>\n",
        "</table>"
       ],
       "metadata": {},
       "output_type": "pyout",
       "prompt_number": 19,
       "text": [
        "<IPython.core.display.HTML at 0x10e553950>"
       ]
      }
     ],
     "prompt_number": 19
    },
    {
     "cell_type": "markdown",
     "metadata": {},
     "source": [
      "### hydropyridin-4-imine -> amino-pyridine (1)"
     ]
    },
    {
     "cell_type": "code",
     "collapsed": false,
     "input": [
      "demo(\"N=c1nc[nH]cc1\")"
     ],
     "language": "python",
     "metadata": {},
     "outputs": [
      {
       "output_type": "stream",
       "stream": "stderr",
       "text": [
        "[2013/Oct/31 16:56:12 INFO    ] rule 7 (hydropyridin-4-imine -> 4-amino-pyridine (1)) applied\n"
       ]
      },
      {
       "html": [
        "<!-- NB the styling is inline as otherwise it is overridden by the Notebook stylesheets -->\n",
        "\n",
        "<table>\n",
        "\t<tr>\n",
        "\t\t<th style=\"text-align: center;\">Original</th>\n",
        "\t\t<th style=\"text-align: center;\">Transformed</th>\n",
        "\t</tr>\n",
        "\t<tr>\n",
        "\t\t<td><img src=\"data:image/png;base64,iVBORw0KGgoAAAANSUhEUgAAASwAAAEsCAIAAAD2HxkiAAAFBklEQVR4nO3d0VLaUABF0aTT///l\n",
        "9IGpddopAgnu3Ju13lofgJjtiYi4btu2AJ0f9R2AqxMhxEQIMRFCTIQQEyHERAgxEUJMhBATIcRE\n",
        "CDERQkyEEBMhxEQIMRFCTIQQEyHERAgxEUJMhBATIcRECDERQkyEEBMhxEQIMRFCTIQQEyHERAgx\n",
        "EUJMhBATIcRECDERQkyEEBMhxEQIMRFCTIQQEyHERAgxEUJMhBATIcRECDERQkyEEBMhxEQIMRFC\n",
        "TIQQEyHERAgxEUJMhBATIcRECDERQkyEEBMhxEQIMRFCTIQQEyHERAgxEUJMhBATIcRECDERQkyE\n",
        "EBMhxEQIMRFCTIQQEyHERAgxEUJMhBATIcRECDERQkyEEBMhxEQIMRFCTIQQEyHERAgxEUJMhBAT\n",
        "IcRECDERQkyEEBMhxEQIMRFCTIQQEyHERAgxEUJMhBATIcRECDERQkyEEBMhxEQIMRFCTIQQEyHE\n",
        "RAixn/UdmMq6rsntbtuW3C6HEOFh1nWtYghvmv1cjkJMhMdot2jbtupKmP1ECDERHuAM35IZw3GJ\n",
        "EGIi3OsMM3hjDAclQoid5av4oO7M4LtH6c7t+pyOxQ/r36Uq4XZRqsOBuBx9nXOdQ4hwQp6hGYsI\n",
        "X2QGOYoI52QMByLCV5hBDiTCaRnDUYjwaQPNoA6HIMLnrKtfY+dgIpycMTw/ET5hXRcryOFEOD9j\n",
        "eHIifJQZ5E1E+JDRCzSGZyZCiInwa6PP4I0xPC0Rfm2CAm90eE4ihNgwr8DiKH9edvemVXRGPckS\n",
        "QswSXtFAr0G/AksIsWtH+O83RR//c+dD43v706RXPbCvuXaEizPgbRzYh10+wm275umy3d6e+H2P\n",
        "/aoH9gWXj/Ca1nVZlm3x44RT8A7cv79m/3s6+kK+kwP7GBEuy/Kf0+Wvf05z6nx+IO94UJ+P26UO\n",
        "7Ktcjl7MxxnvQvQ0LOFvF3wi4Xs6vOCBfZIl/GT6cahmcPoDu4+XL9012cXbZA9nFpbwro+TdYIL\n",
        "KgWelQghJsKvzDGGZvDERPiA0TtU4LmJEGIifMy4Y2gGT0+EEBPhw0YcQzM4AhG+ZIgOh7iTiPA5\n",
        "g+7JoHf7MkT4pFEuSl2IjkOEEBPh884/hmZwKCKEmAhfcuYxNIOj8fuEO9w/3d/d5/0b9WkdhyWE\n",
        "mCXc54TLM8cfFr4SSwgxEe5zwmdozOBoRAgxEe52wjFkKCI8gg7ZQYTD8tc2Z+Ft8A/y8Wbv31PC\n",
        "bXv9NGIKlvA439+DP/MwBUt4KLvE8yzh4Izh+EQ4Ph0OToQQE+EUjOHIRDgLzwkNy68yQcwSQkyE\n",
        "EBMhxEQIMRFCTIQQEyHERAgxEUJMhBATIcRECDERQkyEEBMhxEQIMRFCTIQQEyHERAgxEUJMhBAT\n",
        "IcRECDERQkyEEBMhxEQIMRFCTIQQEyHERAgxEUJMhBATIcRECDERQkyEEBMhxEQIMRFCTIQQEyHE\n",
        "RAgxEUJMhBATIcRECDERQkyEEBMhxEQIMRFCTIQQEyHERAgxEUJMhBATIcRECDERQkyEEBMhxEQI\n",
        "MRFCTIQQEyHERAgxEUJMhBATIcRECDERQkyEEBMhxEQIMRFCTIQQEyHERAgxEUJMhBATIcRECDER\n",
        "QkyEEBMhxEQIMRFCTIQQEyHERAgxEUJMhBATIcRECDERQkyEEBMhxEQIMRFCTIQQEyHERAgxEUJM\n",
        "hBATIcRECDERQuwX9XIAWhoP1jEAAAAASUVORK5CYII=\n",
        "\"></td>\n",
        "\t\t<td><img src=\"data:image/png;base64,iVBORw0KGgoAAAANSUhEUgAAASwAAAEsCAIAAAD2HxkiAAAFbElEQVR4nO3d0U7bSBiA0Xi17//K\n",
        "3gtWCEpJnMTON+OcI65oKruDv/7GI8KyrusF6PxTnwC8OxFCTIQQEyHERAgxEUJMhBATIcRECDER\n",
        "QkyEEBMhxEQIMRFCTIQQEyHERAgxEUJMhBATIcRECDERQkyEEBMhxEQIMRFCTIQQEyHERAgxEUJM\n",
        "hBATIcRECDERQkyEEBMhxEQIMRFCTIQQEyHERAgxEUJMhBATIcRECDERQkyEEBMhxEQIMRFCTIQQ\n",
        "EyHERAgxEUJMhBATIcRECDERQkyEEBMhxEQIMRFCTIQQEyHERAgxEUJMhBATIcRECDERQkyEEBMh\n",
        "xEQIMRFCTIQQEyHERAgxEUJMhBATIcRECDERQkyEEBMhxEQIMRFCTIQQEyHERAgxEUJMhBATIcRE\n",
        "CDERQkyEEBMhxEQIMRFCTIQQEyHERAgxEUJMhBATIcRECDERQkyEEBMhxEQIMRFCTIQQEyHERAgx\n",
        "EUJMhBD7tz6BU1mWJTnuuq7JcdmFCHezLEsVQ3honud2FGIi3Ec7i9Z1re6EeZ4IISbCHYzwLZlh\n",
        "OC8RQkyEzxphDH4wDCclQoiN8r/4pK6MwaOH0pXj+prOxWb9UaoSPm5KdTgRt6OPc62zCxGekCc0\n",
        "cxHhg4xB9iLCczIMJyLCRxiD7EiEp2UYzkKEd5toDOpwCiK8z7L4MXZ2JsKTMwzHJ8I7LMvFFGR3\n",
        "Ijw/w3BwItzKGOQgItxk9gINw5GJEGIivG32MfjBMByWCN+IDsckwttOMAYZmQjfi2E4IBFCTIRv\n",
        "xzAcjQghJsIvfs6Hv37m42N8v5/qUcPwygJeX9uJVvUA3vLwu5t7guv6/7Uy+O7h5wV95ST3veg/\n",
        "DvTAsnz9K4Ov6jFMwu8+Gzu79XI55N/5wAK+X3V/MAnvN/4wvDkGl+VyuaxXXpAYdj0PJsIfPhrb\n",
        "eDUMeN3kk/y3Bbx+YgOu5Ku4Hf2bm/dUU1wuV8fgtRfscuifC7iu3z7+OKUplvQYInzU12cJ49h2\n",
        "I3rtBa/33gVeRPirt3lCcxQLuJkIf3dz1o02DEcbg9uP8rlPOMhKvpYHM1/89aJ5y8viQT8X8PMz\n",
        "d/3RmzEJr5poGI42BtlMhBAT4S1TDENjcGYi3GB7ZkmH289KgUMS4R4GubgHOQ3uJMJthr0pdSM6\n",
        "PxFCTISbDTgMjcFTEOFD8l3BLaY4SUR4n5vz5JXDcPuUMwbHJsI7jbAruIUb0XmIcG+vqVRjJyLC\n",
        "++V793bnz0WEB3jZpa+xUxDhQ8LtCtsSpyPCR435hEaBExLhYY6oVGNntKy+nM8YsIq3f9+k6ZiE\n",
        "EBPhcwb8ztAYnI0IISbCpw04DJmKCPegQ54gwmlt+ZWmzMCb/+7k6+9Le83hLnYjTsIk3M/re/D7\n",
        "Hk7BJNyVucT9TMLJGYbzE+H8dDg5EUJMhKdgGM5MhGfhmdC0/CgTxExCiIkQYiKEmAghJkKIiRBi\n",
        "IoSYCCEmQoiJEGIihJgIISZCiIkQYiKEmAghJkKIiRBiIoSYCCEmQoiJEGIihJgIISZCiIkQYiKE\n",
        "mAghJkKIiRBiIoSYCCEmQoiJEGIihJgIISZCiIkQYiKEmAghJkKIiRBiIoSYCCEmQoiJEGIihJgI\n",
        "ISZCiIkQYiKEmAghJkKIiRBiIoSYCCEmQoiJEGIihJgIISZCiIkQYiKEmAghJkKIiRBiIoSYCCEm\n",
        "QoiJEGIihJgIISZCiIkQYiKEmAghJkKIiRBiIoSYCCEmQoiJEGIihJgIISZCiIkQYiKEmAghJkKI\n",
        "iRBiIoSYCCEmQoiJEGIihJgIISZCiIkQYiKEmAghJkKIiRBiIoSYCCEmQoiJEGIihJgIISZCiP0H\n",
        "aXVOZlamTUEAAAAASUVORK5CYII=\n",
        "\"></td>\n",
        "\t</tr>\n",
        "</table>"
       ],
       "metadata": {},
       "output_type": "pyout",
       "prompt_number": 20,
       "text": [
        "<IPython.core.display.HTML at 0x10e553f10>"
       ]
      }
     ],
     "prompt_number": 20
    },
    {
     "cell_type": "markdown",
     "metadata": {},
     "source": [
      "### hydropyridin-4-imine -> amino-pyridine (2)"
     ]
    },
    {
     "cell_type": "code",
     "collapsed": false,
     "input": [
      "demo(\"N=c1nc[nH]cc1\")"
     ],
     "language": "python",
     "metadata": {},
     "outputs": [
      {
       "output_type": "stream",
       "stream": "stderr",
       "text": [
        "[2013/Oct/31 16:56:12 INFO    ] rule 7 (hydropyridin-4-imine -> 4-amino-pyridine (1)) applied\n"
       ]
      },
      {
       "html": [
        "<!-- NB the styling is inline as otherwise it is overridden by the Notebook stylesheets -->\n",
        "\n",
        "<table>\n",
        "\t<tr>\n",
        "\t\t<th style=\"text-align: center;\">Original</th>\n",
        "\t\t<th style=\"text-align: center;\">Transformed</th>\n",
        "\t</tr>\n",
        "\t<tr>\n",
        "\t\t<td><img src=\"data:image/png;base64,iVBORw0KGgoAAAANSUhEUgAAASwAAAEsCAIAAAD2HxkiAAAFBklEQVR4nO3d0VLaUABF0aTT///l\n",
        "9IGpddopAgnu3Ju13lofgJjtiYi4btu2AJ0f9R2AqxMhxEQIMRFCTIQQEyHERAgxEUJMhBATIcRE\n",
        "CDERQkyEEBMhxEQIMRFCTIQQEyHERAgxEUJMhBATIcRECDERQkyEEBMhxEQIMRFCTIQQEyHERAgx\n",
        "EUJMhBATIcRECDERQkyEEBMhxEQIMRFCTIQQEyHERAgxEUJMhBATIcRECDERQkyEEBMhxEQIMRFC\n",
        "TIQQEyHERAgxEUJMhBATIcRECDERQkyEEBMhxEQIMRFCTIQQEyHERAgxEUJMhBATIcRECDERQkyE\n",
        "EBMhxEQIMRFCTIQQEyHERAgxEUJMhBATIcRECDERQkyEEBMhxEQIMRFCTIQQEyHERAgxEUJMhBAT\n",
        "IcRECDERQkyEEBMhxEQIMRFCTIQQEyHERAgxEUJMhBATIcRECDERQkyEEBMhxEQIMRFCTIQQEyHE\n",
        "RAixn/UdmMq6rsntbtuW3C6HEOFh1nWtYghvmv1cjkJMhMdot2jbtupKmP1ECDERHuAM35IZw3GJ\n",
        "EGIi3OsMM3hjDAclQoid5av4oO7M4LtH6c7t+pyOxQ/r36Uq4XZRqsOBuBx9nXOdQ4hwQp6hGYsI\n",
        "X2QGOYoI52QMByLCV5hBDiTCaRnDUYjwaQPNoA6HIMLnrKtfY+dgIpycMTw/ET5hXRcryOFEOD9j\n",
        "eHIifJQZ5E1E+JDRCzSGZyZCiInwa6PP4I0xPC0Rfm2CAm90eE4ihNgwr8DiKH9edvemVXRGPckS\n",
        "QswSXtFAr0G/AksIsWtH+O83RR//c+dD43v706RXPbCvuXaEizPgbRzYh10+wm275umy3d6e+H2P\n",
        "/aoH9gWXj/Ca1nVZlm3x44RT8A7cv79m/3s6+kK+kwP7GBEuy/Kf0+Wvf05z6nx+IO94UJ+P26UO\n",
        "7Ktcjl7MxxnvQvQ0LOFvF3wi4Xs6vOCBfZIl/GT6cahmcPoDu4+XL9012cXbZA9nFpbwro+TdYIL\n",
        "KgWelQghJsKvzDGGZvDERPiA0TtU4LmJEGIifMy4Y2gGT0+EEBPhw0YcQzM4AhG+ZIgOh7iTiPA5\n",
        "g+7JoHf7MkT4pFEuSl2IjkOEEBPh884/hmZwKCKEmAhfcuYxNIOj8fuEO9w/3d/d5/0b9WkdhyWE\n",
        "mCXc54TLM8cfFr4SSwgxEe5zwmdozOBoRAgxEe52wjFkKCI8gg7ZQYTD8tc2Z+Ft8A/y8Wbv31PC\n",
        "bXv9NGIKlvA439+DP/MwBUt4KLvE8yzh4Izh+EQ4Ph0OToQQE+EUjOHIRDgLzwkNy68yQcwSQkyE\n",
        "EBMhxEQIMRFCTIQQEyHERAgxEUJMhBATIcRECDERQkyEEBMhxEQIMRFCTIQQEyHERAgxEUJMhBAT\n",
        "IcRECDERQkyEEBMhxEQIMRFCTIQQEyHERAgxEUJMhBATIcRECDERQkyEEBMhxEQIMRFCTIQQEyHE\n",
        "RAgxEUJMhBATIcRECDERQkyEEBMhxEQIMRFCTIQQEyHERAgxEUJMhBATIcRECDERQkyEEBMhxEQI\n",
        "MRFCTIQQEyHERAgxEUJMhBATIcRECDERQkyEEBMhxEQIMRFCTIQQEyHERAgxEUJMhBATIcRECDER\n",
        "QkyEEBMhxEQIMRFCTIQQEyHERAgxEUJMhBATIcRECDERQkyEEBMhxEQIMRFCTIQQEyHERAgxEUJM\n",
        "hBATIcRECDERQuwX9XIAWhoP1jEAAAAASUVORK5CYII=\n",
        "\"></td>\n",
        "\t\t<td><img src=\"data:image/png;base64,iVBORw0KGgoAAAANSUhEUgAAASwAAAEsCAIAAAD2HxkiAAAFbElEQVR4nO3d0U7bSBiA0Xi17//K\n",
        "3gtWCEpJnMTON+OcI65oKruDv/7GI8KyrusF6PxTnwC8OxFCTIQQEyHERAgxEUJMhBATIcRECDER\n",
        "QkyEEBMhxEQIMRFCTIQQEyHERAgxEUJMhBATIcRECDERQkyEEBMhxEQIMRFCTIQQEyHERAgxEUJM\n",
        "hBATIcRECDERQkyEEBMhxEQIMRFCTIQQEyHERAgxEUJMhBATIcRECDERQkyEEBMhxEQIMRFCTIQQ\n",
        "EyHERAgxEUJMhBATIcRECDERQkyEEBMhxEQIMRFCTIQQEyHERAgxEUJMhBATIcRECDERQkyEEBMh\n",
        "xEQIMRFCTIQQEyHERAgxEUJMhBATIcRECDERQkyEEBMhxEQIMRFCTIQQEyHERAgxEUJMhBATIcRE\n",
        "CDERQkyEEBMhxEQIMRFCTIQQEyHERAgxEUJMhBATIcRECDERQkyEEBMhxEQIMRFCTIQQEyHERAgx\n",
        "EUJMhBD7tz6BU1mWJTnuuq7JcdmFCHezLEsVQ3honud2FGIi3Ec7i9Z1re6EeZ4IISbCHYzwLZlh\n",
        "OC8RQkyEzxphDH4wDCclQoiN8r/4pK6MwaOH0pXj+prOxWb9UaoSPm5KdTgRt6OPc62zCxGekCc0\n",
        "cxHhg4xB9iLCczIMJyLCRxiD7EiEp2UYzkKEd5toDOpwCiK8z7L4MXZ2JsKTMwzHJ8I7LMvFFGR3\n",
        "Ijw/w3BwItzKGOQgItxk9gINw5GJEGIivG32MfjBMByWCN+IDsckwttOMAYZmQjfi2E4IBFCTIRv\n",
        "xzAcjQghJsIvfs6Hv37m42N8v5/qUcPwygJeX9uJVvUA3vLwu5t7guv6/7Uy+O7h5wV95ST3veg/\n",
        "DvTAsnz9K4Ov6jFMwu8+Gzu79XI55N/5wAK+X3V/MAnvN/4wvDkGl+VyuaxXXpAYdj0PJsIfPhrb\n",
        "eDUMeN3kk/y3Bbx+YgOu5Ku4Hf2bm/dUU1wuV8fgtRfscuifC7iu3z7+OKUplvQYInzU12cJ49h2\n",
        "I3rtBa/33gVeRPirt3lCcxQLuJkIf3dz1o02DEcbg9uP8rlPOMhKvpYHM1/89aJ5y8viQT8X8PMz\n",
        "d/3RmzEJr5poGI42BtlMhBAT4S1TDENjcGYi3GB7ZkmH289KgUMS4R4GubgHOQ3uJMJthr0pdSM6\n",
        "PxFCTISbDTgMjcFTEOFD8l3BLaY4SUR4n5vz5JXDcPuUMwbHJsI7jbAruIUb0XmIcG+vqVRjJyLC\n",
        "++V793bnz0WEB3jZpa+xUxDhQ8LtCtsSpyPCR435hEaBExLhYY6oVGNntKy+nM8YsIq3f9+k6ZiE\n",
        "EBPhcwb8ztAYnI0IISbCpw04DJmKCPegQ54gwmlt+ZWmzMCb/+7k6+9Le83hLnYjTsIk3M/re/D7\n",
        "Hk7BJNyVucT9TMLJGYbzE+H8dDg5EUJMhKdgGM5MhGfhmdC0/CgTxExCiIkQYiKEmAghJkKIiRBi\n",
        "IoSYCCEmQoiJEGIihJgIISZCiIkQYiKEmAghJkKIiRBiIoSYCCEmQoiJEGIihJgIISZCiIkQYiKE\n",
        "mAghJkKIiRBiIoSYCCEmQoiJEGIihJgIISZCiIkQYiKEmAghJkKIiRBiIoSYCCEmQoiJEGIihJgI\n",
        "ISZCiIkQYiKEmAghJkKIiRBiIoSYCCEmQoiJEGIihJgIISZCiIkQYiKEmAghJkKIiRBiIoSYCCEm\n",
        "QoiJEGIihJgIISZCiIkQYiKEmAghJkKIiRBiIoSYCCEmQoiJEGIihJgIISZCiIkQYiKEmAghJkKI\n",
        "iRBiIoSYCCEmQoiJEGIihJgIISZCiIkQYiKEmAghJkKIiRBiIoSYCCEmQoiJEGIihJgIISZCiP0H\n",
        "aXVOZlamTUEAAAAASUVORK5CYII=\n",
        "\"></td>\n",
        "\t</tr>\n",
        "</table>"
       ],
       "metadata": {},
       "output_type": "pyout",
       "prompt_number": 21,
       "text": [
        "<IPython.core.display.HTML at 0x10e553bd0>"
       ]
      }
     ],
     "prompt_number": 21
    },
    {
     "cell_type": "markdown",
     "metadata": {},
     "source": [
      "Note that, as with the analagous/reverse 'amino-pyridine ->, this rule may also work 'across-rings'..."
     ]
    },
    {
     "cell_type": "code",
     "collapsed": false,
     "input": [
      "demo(\"N=c(c1)ccn2cc[nH]c12\")"
     ],
     "language": "python",
     "metadata": {},
     "outputs": [
      {
       "output_type": "stream",
       "stream": "stderr",
       "text": [
        "[2013/Oct/31 16:56:12 INFO    ] rule 7 (hydropyridin-4-imine -> 4-amino-pyridine (1)) applied\n"
       ]
      },
      {
       "html": [
        "<!-- NB the styling is inline as otherwise it is overridden by the Notebook stylesheets -->\n",
        "\n",
        "<table>\n",
        "\t<tr>\n",
        "\t\t<th style=\"text-align: center;\">Original</th>\n",
        "\t\t<th style=\"text-align: center;\">Transformed</th>\n",
        "\t</tr>\n",
        "\t<tr>\n",
        "\t\t<td><img src=\"data:image/png;base64,iVBORw0KGgoAAAANSUhEUgAAASwAAAEsCAIAAAD2HxkiAAAG5ElEQVR4nO3d3XbaOACFUTNr3v+V\n",
        "PRdMHCcQY7Dlo5+9V29KGyOovsgI4t7meZ6AnH/SA4DRiRDCRAhhIoQwEUKYCCFMhBAmQggTIYSJ\n",
        "EMJECGEihDARQpgIIUyEECZCCBMhhIkQwkQIYSKEMBFCmAghTIQQJkIIEyGEiRDCRAhhIoQwEUKY\n",
        "CCFMhBAmQggTIYSJEMJECGEihDARQpgIIUyEECZCCBMhhIkQwkQIYSKEMBFCmAghTIQQJkIIEyGE\n",
        "iRDCRAhhIoQwEUKYCCFMhBAmQggTIYSJEMJECGEihDARQpgIIUyEECZCCBMhhIkQwkQIYSKEMBFC\n",
        "mAghTIQQJkIIEyGEiRDCRAhhIoQwEUKYCCFMhBAmQggTIYSJEMJECGEihDARQpgIIUyEECZCCBMh\n",
        "hIkQwkQIYSKEMBFCmAghTIQQJkIIEyGEiRDCRAhhIoQwEUKYCCFMhBAmQggTIYSJEMJE+OV2+/OW\n",
        "jT+Cw0S4Ii0SRLgyzzrkeiKEsH/TA6jMfTGc59+3WyEpRoQPnnb467ea5DxOR49RI4dZCZ95a4fm\n",
        "/jcfz2Ar9OtBNTHmAVgJ//DuBL3d6l0V72PzbmetbrNvh9M0Tc+3Y9744rVKntKdjVUy2oGJcJoO\n",
        "Frg+ylrqif2rvfV4Khkq0zSJcDqrwPXh1i57eve0t/H3h58GQaNHeHKB6+OulXuS321v+2vHngwp\n",
        "Q0dYqsD1HaydeGdH2ts+zsDzIWXcCIsXuL6ntSP3elZ724cddUqkDBrhdQWu73JxfL367Dj772LI\n",
        "WZEyYoS3W+hRvzvRT29v+3MFOgwZLsJYgasR/Pjt/g+LH2xvz3FqeIm4jGGYmZmekdfKF7h4DKN0\n",
        "ezuPFuzw6XPy+NH5+y0bf9SagT47WlGB0/Q9k+7OnfpHjvZrYFP5yb092mbT2m+UCOsqcPE441Pt\n",
        "PX5h6Q53LtR//YRnR4aIsNICF/N8aISfnXa+9NjhKYctNNqW9R9h7QUeUfr12+Mr1Y8XpSPt9X65\n",
        "g84jbKLAtwd55WJy/CXiKd8pur7cQc8RNlHge1Jblx+8RKzh3Y5GdBthVwXWMKF3dlhule73gpR9\n",
        "RthJgbXtYWxs1Vwz1E477GKy/tRcgc8HXO2HyF5mUGIHtZ6HX0BvK+FGgXXG+WJU9Q34z6VPe5/q\n",
        "KsI6M/tQ5Q/kxDPD2s66L9dVhNvmg++J88vBT9UM396iqwhldrVT3rqYBm1vMdZ1R++VpkfxrYdv\n",
        "GV/jv02vWnq89uk8//9rbF2thJPFMGLjXYqnt/vX+am3CF9S6UWcdu7WYYQyu973E66993UY4Usq\n",
        "LaXaDxjUrc8Im8is/hF+qMsHVdJYu6OL2rZJO2Gr8yPdRthCZuYr09RxhC+1UClD6DlCmV2j2xe3\n",
        "V+k5QmhC5xFuL4bBpbL3q/jxhs4jhPr1H2G1iyHc9R8hRdmVOW6ICC2G1GyICKFmo0RY1WJoa5S1\n",
        "USKEag0UYT2LYTfLoF2ZUwwUIdRprAjrWQxhMVaEUKHhIrQYUpvhIkx5TFvs3I0Y4cvFsND9dlad\n",
        "rdGzjBhhSqf/ux5H9Xm1tZdKX47Ntf/Yb9AIz7X/Qu/3xVCTrI0b4QeL4cMryfnrUG/drw75YdwI\n",
        "n9p+f6LE6WujQdqVOdHQET5uk14zsdY7NDUvjPcnR2ylDR3hlJthNXe4fGOS3zVGj/Ayj/N5fUsN\n",
        "HWovRYS1SHWovTgRVmQ5R70gB+3VQ4R1Wf6nzXJpHN9usTV6LhHWqMSpqaWvWiKs1Fkdnt6eH/U6\n",
        "nQjrNc+fn/iVa89Cejon97V7q8MSqXjLvjQRNmBPBqenYum7jAibcc2epPauJ8KWlOtQe0EibMzp\n",
        "HXrJFyfC9pzSoaWvHiJsUj1vXXCcCFsVf+uCs4iwYS9fzmmvCSJs3tMl0XZLQ0TYg6VDS1+LRNgJ\n",
        "S1+7RAhhLoMPYSKEMBFCmAghTIQQJkIIEyGEiRDCRAhhIoQwEUKYCCFMhBAmQggTIYSJEMJECGEi\n",
        "hDARQpgIIUyEECZCCBMhhIkQwkQIYSKEMBFCmAghTIQQJkIIEyGEiRDCRAhhIoQwEUKYCCFMhBAm\n",
        "QggTIYSJEMJECGEihDARQpgIIUyEECZCCBMhhIkQwkQIYSKEMBFCmAghTIQQJkIIEyGEiRDCRAhh\n",
        "IoQwEUKYCCFMhBAmQggTIYSJEMJECGEihDARQpgIIUyEECZCCBMhhIkQwkQIYSKEMBFCmAghTIQQ\n",
        "JkIIEyGEiRDCRAhhIoQwEUKYCCFMhBAmQggTIYSJEMJECGEihDARQpgIIUyEECZCCBMhhIkQwkQI\n",
        "YSKEMBFCmAghTIQQJkIIEyGEiRDCRAhhIoQwEUKYCCHsP6dO2BjsfKPsAAAAAElFTkSuQmCC\n",
        "\"></td>\n",
        "\t\t<td><img src=\"data:image/png;base64,iVBORw0KGgoAAAANSUhEUgAAASwAAAEsCAIAAAD2HxkiAAAHE0lEQVR4nO3d23KbSBhGUTQ17//K\n",
        "zIVqsGxJHBu+bnqtykXiyJgkvfMDQtZjHMcByPknvQPQOxFCmAghTIQQJkIIEyGEiRDCRAhhIoQw\n",
        "EUKYCCFMhBAmQggTIYSJEMJECGEihDARQpgIIUyEECZCCBMhhIkQwkQIYSKEMBFCmAghTIQQJkII\n",
        "EyGEiRDCRAhhIoQwEUKYCCFMhBAmQggTIYSJEMJECGEihDARQpgIIUyEECZCCBMhhIkQwkQIYSKE\n",
        "MBFCmAghTIQQJkIIEyGEiRDCRAhhIoQwEUKYCCFMhBAmQggTIYSJEMJECGEihDARQpgIIUyEECZC\n",
        "CBMhhIkQwkQIYSKEMBFCmAghTIQQJkIIEyGEiRDCRAhhIoQwEUKYCCFMhBAmQggTIYSJEMJECGEi\n",
        "hDARQpgIIUyEECZCCBMhhIkQwkQIYSKEMBFCmAghTIQQJkIIEyGEiRDCRAhhIoQwEUKYCL94PJY/\n",
        "AiWI8DvVcQkRfjeOOuQCItxIlpQmwlkfh+HjIUUKEuGSbwelUqQQEW40jsM4/vxShxz2b3oHqvN4\n",
        "/KpsGD4Nw9ePPH/y93Oq9P6noAIi/DFX08cOh6GNFL+N6w//3xDwGP0zDMNwcEHWOWFWHipXsrcd\n",
        "E+EwlBoJlaT4rb2ZU1lrIEqEswXuOMhMre817c08vvtlENR7hAsz8HWl1pni1vbmP7fvxZDSdYSr\n",
        "jkKP5HReikfam99Ox+shpd8It50HVpJiqfbmN9vrkkjpNMKdV2JKpXh8Xu3bzvov0eWqSOkxwsfj\n",
        "2J9693rd+oll25u25lJNZbqL8GiBLxv69cuCKZ4x91burVPEhL4iLFbgyxZ/fn7wRPHsY86GOnw/\n",
        "W5g+MvNbw4ppX6WObuAuX+Dw+37uTa+rWLwR/PmAgjv8vnbX7NjMI0+144s+a3z+aOrG+l4iPKXA\n",
        "yZ+ctqf4+PORk3Z1fV3xDneE1NT0e9VFhOcW+PQ+2Tal+L6FkxzpsJXx0tqN6feP8IoCJ0dSvMzu\n",
        "DucfXNz8y6mnH++/21SBw+0jvLTAycYUAzu5fspdeYr4vhsfO5yO2D/uW2sFDveOMFPgpPKpuGnK\n",
        "ndrht5m2YzsNFjjcOMJwgZPFq6BBm6Zc8Q5Xttfapc4d7vnK+loKnEzPcVXozyqfmSfvjxwuuQVv\n",
        "fYdH7g3MqWyxllBdgUuq2OH1NwDtezb/gttfm1XBP39RMwu6irX+pqK92nQj3u77b9ZsvDO3Ohyt\n",
        "aEG3aNPR5vxBrPa2uFWE88ZxVOmC97OvraeI3x7Jd7e6OvrMLL0XjTtyyfTjphS45FYRLqqt0non\n",
        "8/YOL7r99Y7uFmFtmTVsU4dX3v56O3eLcJFKN4i/lqIPN4xQZiWt67De4+oW3DDCRSrdxjw82T0j\n",
        "bCKzlqbH6362ss/t6Oh5wleeM9zM39Vp7jkJhzaGoWXNMNw4wkUtVEoX7hyhzK7hwP6gO0cITbh5\n",
        "hPPDMDgqm/1WDJR38wihfvePsNphCE/3j5BTuSpzXBcRGobUrIsIoWa9RFjVMHRplFe9RAjV6ijC\n",
        "eobhbcagqzJFdBQh1KmvCOsZhjDpK0KoUHcRGobUprsIUz6+pSwMfUa4OAxP+ro3q86l0VJ6jDCl\n",
        "g7e7ZA/f6OkUm95ljM51GmFZ69828zkMNcmrfiPcMQzfziTH/ze16evqkF/6jfCj+ecnzjh8bTRI\n",
        "V2UK6jrC98uk1yys1ys0NQ/G51+O2M7WdYRDboXV3OH0H5P8rtF7hJd5X89/3t8h3qH2UkRYi1SH\n",
        "2osTYUWmY9QLctBePURYl2cRp47E45dbXBotS4Q1OuPQ1OirlggrVarD4u15qVdxIqzXOO4/8Duv\n",
        "PYO0OAf3tdvU4RmpeMr+bCJswJoMiqdi9F1GhM245pqk9q4nwpac16H2gkTYmOIdOuWLE2F7inRo\n",
        "9NVDhE2q56kLjhNhq+JPXVCKCBu2eDqnvSaIsHkfR6LLLQ0R4R1MHRp9LRLhTRh97RIhhPk2+BAm\n",
        "QggTIYSJEMJECGEihDARQpgIIUyEECZCCBMhhIkQwkQIYSKEMBFCmAghTIQQJkIIEyGEiRDCRAhh\n",
        "IoQwEUKYCCFMhBAmQggTIYSJEMJECGEihDARQpgIIUyEECZCCBMhhIkQwkQIYSKEMBFCmAghTIQQ\n",
        "JkIIEyGEiRDCRAhhIoQwEUKYCCFMhBAmQggTIYSJEMJECGEihDARQpgIIUyEECZCCBMhhIkQwkQI\n",
        "YSKEMBFCmAghTIQQJkIIEyGEiRDCRAhhIoQwEUKYCCFMhBAmQggTIYSJEMJECGEihDARQpgIIUyE\n",
        "ECZCCBMhhIkQwkQIYSKEMBFCmAghTIQQJkIIEyGEiRDCRAhhIoQwEUKYCCFMhBAmQggTIYSJEMJE\n",
        "CGEihDARQpgIIUyEECZCCBMhhIkQwv4D5+YbAZp6V3MAAAAASUVORK5CYII=\n",
        "\"></td>\n",
        "\t</tr>\n",
        "</table>"
       ],
       "metadata": {},
       "output_type": "pyout",
       "prompt_number": 22,
       "text": [
        "<IPython.core.display.HTML at 0x10e553ed0>"
       ]
      }
     ],
     "prompt_number": 22
    },
    {
     "cell_type": "markdown",
     "metadata": {
      "slideshow": {
       "slide_type": "slide"
      }
     },
     "source": [
      "### Fix 1,3 charge-seperated systems (non-aromatic)"
     ]
    },
    {
     "cell_type": "code",
     "collapsed": false,
     "input": [
      "demo(\"C[N-]C(C)=[N+](C)C\")"
     ],
     "language": "python",
     "metadata": {},
     "outputs": [
      {
       "output_type": "stream",
       "stream": "stderr",
       "text": [
        "[2013/Oct/31 16:56:12 INFO    ] rule 9 (Fix 1,3 charge-seperated systems (non-aromatic)) applied\n"
       ]
      },
      {
       "html": [
        "<!-- NB the styling is inline as otherwise it is overridden by the Notebook stylesheets -->\n",
        "\n",
        "<table>\n",
        "\t<tr>\n",
        "\t\t<th style=\"text-align: center;\">Original</th>\n",
        "\t\t<th style=\"text-align: center;\">Transformed</th>\n",
        "\t</tr>\n",
        "\t<tr>\n",
        "\t\t<td><img src=\"data:image/png;base64,iVBORw0KGgoAAAANSUhEUgAAASwAAAEsCAIAAAD2HxkiAAAFCElEQVR4nO3dy04jSRRFUbLV///L\n",
        "rgElVCpo40ebHTdyLTFkYAlvnSQTHMflcnkDOv/ULwDOToQQEyHERAgxEUJMhBATIcRECDERQkyE\n",
        "EBMhxEQIMRFCTIQQEyHERAgxEUJMhBATIcRECDERQkyEEBMhxEQIMRFCTIQQEyHERAgxEUJMhBAT\n",
        "IcRECDERQkyEEBMhxEQIMRFCTIQQEyHERAgxEUJMhBATIcRECDERQkyEEBMhxEQIMRFCTIQQEyHE\n",
        "RAgxEUJMhBATIcRECDERQkyEEBMhxEQIMRFCTIQQEyHERAgxEUJMhBATIcRECDERQkyEEBMhxEQI\n",
        "MRFCTIQQEyHERAgxEUJMhBATIcRECDERQkyEEBMhxEQIMRFCTIQQEyHERAgxEUJMhBATIcRECDER\n",
        "QkyEEBMhxEQIMRFCTIQQEyHERDjecRz1S+ApIpztOI7L5VK/Cp4iQoiJcDAzuAcRQkyEU5nBbYhw\n",
        "JAXuRIQQE+E8ZnAzIhxGgfsRIcREOIkZ3JIIISbCMczgrkQ4gwI3JkKIiXAAM7g3Ea7uON4UuDcR\n",
        "QkyESzuONyu4PRFCTITrMoMnIcJFKfA8RAgxEa7IDJ6KCCEmwhWZwVMRIcRECDERQkyEEBPhj/t8\n",
        "kpmzzc5NhIW7qjuO319s6t/6BazouWM3rz1e+P3s4XK543n8+ze/7fAI338nf0mEX4jfKPNj+5IC\n",
        "/4vL0cjHvt34ze9clO5IhJ3PHX787vf5l8DhHZrBK1yOruT9bbrd5agCr7OEKReliLD3eSL2Gg0z\n",
        "+C0R/rjr1X08Ffxy7ozhjkS4mL+CHM4M3kKE08wZQwXeSITr+XYM53TILUS4vJmlmcHbiXBJ3759\n",
        "1x5DBd5FhKva6w4NV4hwrFXH0AzeS4QLc4fmHEQ4x4TSnKb4ABGubdQdmu3+8vyHiHB57tDsToTz\n",
        "rTGGZvBhIpzAGG5NhAN97rAeQzP4DBEOMeoODXcR4RyrXpSawSeJcCPGcCZ/YTTNn4Et8LMzg8+z\n",
        "hJMtsHgKfJ4Ip/Gu344IB1r1Dg2PESHERDiTMdyICLfwug4dafp6zqIY66+P0H9FG5uejbEaSzjZ\n",
        "z7Rx14EZ3M8SznbkR5ryNEvIDYzhK1nCwX70c83eO7xyV9YgP0qEPEp1/xOXo1MFH+/povQ1RDhS\n",
        "9gG71u8FRMhVux8kvAIRzuNz5jcjQoiJcBgzuB8RTqLALYkQYiIcwwzuSoQQE+EMZnBjIhxAgXsT\n",
        "IcREuDozuD0RLk2BZyBCiIlwXWbwJEQIMREuygyehwhXpMBTESHERLgcM3g2IoSYCNdiBk9IhAtR\n",
        "4DmJEGIiXIUZPC0RQkyESzCDZybCJSjwzEQIMRFCTIQQEyHERAgxEUJMhBATIcRECDERQkyEEBMh\n",
        "xEQIMRFCTIQQEyHERAgxEUJMhBATIcRECDERQkyEEBMhxEQIMRFCTIQQEyHERAgxEUJMhBATIcRE\n",
        "CDERQkyEEBMhxEQIMRFCTIQQEyHERAgxEUJMhBATIcRECDERQkyEEBMhxEQIMRFCTIQQEyHERAgx\n",
        "EUJMhBATIcRECDERQkyEEBMhxEQIMRFCTIQQEyHERAgxEUJMhBATIcRECDERQkyEEBMhxEQIMRFC\n",
        "TIQQEyHERAgxEUJMhBATIcRECDERQkyEEBMhxEQIMRFCTIQQEyHERAgxEUJMhBATIcRECDERQkyE\n",
        "EBMhxEQIMRFCTIQQ+wX4mxVtGTTK/QAAAABJRU5ErkJggg==\n",
        "\"></td>\n",
        "\t\t<td><img src=\"data:image/png;base64,iVBORw0KGgoAAAANSUhEUgAAASwAAAEsCAIAAAD2HxkiAAAE1UlEQVR4nO3dW07jWABF0bjV85+y\n",
        "6yP1gZoqOsEJ+z7WGoGlsHWMHbjHeZ43oPNPfQGwOxFCTIQQEyHERAgxEUJMhBATIcRECDERQkyE\n",
        "EBMhxEQIMRFCTIQQEyHERAgxEUJMhBATIcRECDERQkyEEBMhxEQIMRFCTIQQEyHERAgxEUJMhBAT\n",
        "IcRECDERQkyEEBMhxEQIMRFCTIQQEyHERAgxEUJMhBATIcRECDERQkyEEBMhxEQIMRFCTIQQEyHE\n",
        "RAgxEUJMhBATIcRECDERQkyEEBMhxEQIMRFCTIQQEyHERAgxEUJMhBATIcRECDERQkyEEBMhxEQI\n",
        "MRFCTIQQEyHERAgxEUJMhBATIcRECDERQkyEEBMhxEQIMRFCTIQQEyHERAgxEUJMhBATIcRECDER\n",
        "QkyEEBMhxEQIMRFCTIQQE+H0juOoL4FLRDi34zjO86yvgktECDERTswMrkGEEBPhrMzgMkQ4JQWu\n",
        "RIQQE+F8zOBiRDgZBa5HhBAT4UzM4JJECDERTsMMrkqEc1DgwkQIMRFOwAyuTYSjO46bAtcmQoiJ\n",
        "cGjHcbOCyxMhxEQ4LjO4CREOSoH7ECHERDgiM7gVEUJMhCMyg1sRIcRECDERQkyEEBNh6vOpZs45\n",
        "248Ia6rb3r/1BYzo2rGbj75e+P0e4jy9m9+cCP/AH9Hyk9yODuA+huxKhGPQ4cZECDERDuPjGFrF\n",
        "nYhwJB8fCOlwGyJM/fExrPw2I8LBGMP9iBBiIhyPMdyMCIenw9WJcEi+N7cTEY7KTek2RAgxEQ7M\n",
        "GO5BhPPQ4aJEODZPaDYgwuG5KV2dCCEmwhkYw6WJcEI6XIsIJ+EJzboO/1lsJh838PMH9+6F9KPy\n",
        "HpYQYpZwNl+PIROyhDPzhGYJIpyN9VuOCCfkteFaRAgxEc7JGC5EhEv4mQ4dafoejkab1n/OkPmZ\n",
        "N/WOUnwDSziz87zdbj86Rk6PegNLOLfDkabzs4Q8yRi+mggndhzRtw51+FIihJgIZ5XN4J0xfB0R\n",
        "Tiku8C6/gFWIkId9ru48zeF1IpzPEDPI64iQS/xueJ0IJ2MG1yPCmYxZoDG8SIQQE+E0xpzBO2N4\n",
        "hQghJsI5jDyDd8bw20Q4gfEL5AoR8jLG8HtEOLq5ZvA8b4cQnyTCoc1VIN8jQl7sPE9j+BQRjssM\n",
        "bkKEvJ4xfIoIBzX7DOrwcSIc0ewF8hQR8i7G8EEiHM5KM6jDR4gQYiIcy0ozeGcM/5cIB7JegTxC\n",
        "hLydMfyaCEex9gzq8AsihJgIh7D2DN4Zw79Z/7OHwVlCiIkQYiKEmAghJkKIiRBiIoSYCCEmQoiJ\n",
        "EGIihJgIISZCiIkQYiKEmAghJkKIiRBiIoSYCCEmQoiJEGIihJgIISZCiIkQYiKEmAghJkKIiRBi\n",
        "IoSYCCEmQoiJEGIihJgIISZCiIkQYiKEmAghJkKIiRBiIoSYCCEmQoiJEGIihJgIISZCiIkQYiKE\n",
        "mAghJkKIiRBiIoSYCCEmQoiJEGIihJgIISZCiIkQYiKEmAghJkKIiRBiIoSYCCEmQoiJEGIihJgI\n",
        "ISZCiIkQYiKEmAghJkKIiRBiIoSYCCEmQoiJEGIihJgIISZCiIkQYiKEmAghJkKIiRBiIoSYCCEm\n",
        "QoiJEGIihJgIISZCiIkQYiKE2C8n9uRUvsoxBQAAAABJRU5ErkJggg==\n",
        "\"></td>\n",
        "\t</tr>\n",
        "</table>"
       ],
       "metadata": {},
       "output_type": "pyout",
       "prompt_number": 23,
       "text": [
        "<IPython.core.display.HTML at 0x10e561c90>"
       ]
      }
     ],
     "prompt_number": 23
    },
    {
     "cell_type": "markdown",
     "metadata": {},
     "source": [
      "Note that this rule (and similar ones below) is illustrated using the fully-substituted moiety: in simpler un- or partially-substituted systems, the **`neutralize`** module will typically handle these systems..."
     ]
    },
    {
     "cell_type": "code",
     "collapsed": false,
     "input": [
      "neutralize.apply(s2m(\"[NH-]C(C)=[NH2+]\"))"
     ],
     "language": "python",
     "metadata": {},
     "outputs": [
      {
       "metadata": {},
       "output_type": "pyout",
       "png": "[encoded data removed]",
       "prompt_number": 24,
       "text": [
        "<rdkit.Chem.rdchem.Mol at 0x10e57d2b8>"
       ]
      }
     ],
     "prompt_number": 24
    },
    {
     "cell_type": "markdown",
     "metadata": {},
     "source": [
      "However, in some cases the **`neutralize`** module may _not_ charge balance these systems if they appear to be potential zwitterions; see the documentation page for that module for futher details."
     ]
    },
    {
     "cell_type": "markdown",
     "metadata": {
      "slideshow": {
       "slide_type": "slide"
      }
     },
     "source": [
      "### Fix 1,3 charge-seperated systems (aromatic 1)"
     ]
    },
    {
     "cell_type": "code",
     "collapsed": false,
     "input": [
      "demo(\"[n-]1c(=[N+](C)C)cccc1\")"
     ],
     "language": "python",
     "metadata": {
      "slideshow": {
       "slide_type": "-"
      }
     },
     "outputs": [
      {
       "output_type": "stream",
       "stream": "stderr",
       "text": [
        "[2013/Oct/31 16:56:12 INFO    ] rule 10 (Fix 1,3 charge-seperated systems (aromatic 1)) applied\n"
       ]
      },
      {
       "html": [
        "<!-- NB the styling is inline as otherwise it is overridden by the Notebook stylesheets -->\n",
        "\n",
        "<table>\n",
        "\t<tr>\n",
        "\t\t<th style=\"text-align: center;\">Original</th>\n",
        "\t\t<th style=\"text-align: center;\">Transformed</th>\n",
        "\t</tr>\n",
        "\t<tr>\n",
        "\t\t<td><img src=\"data:image/png;base64,iVBORw0KGgoAAAANSUhEUgAAASwAAAEsCAIAAAD2HxkiAAAFn0lEQVR4nO3dS3bbOBQAUbFP73/L\n",
        "7IHcTuIP9XGoIsB7R5lZRFB4tGhby7quF6DzT/0C4OxECDERQkyEEBMhxEQIMRFCTIQQEyHERAgx\n",
        "EUJMhBATIcRECDERQkyEEBMhxEQIMRFCTIQQEyHERAgxEUJMhBATIcRECDERQkyEEBMhxEQIMRFC\n",
        "TIQQEyHERAgxEUJMhBATIcRECDERQkyEEBMhxEQIMRFCTIQQEyHERAgxEUJMhBATIcRECDERQkyE\n",
        "EBMhxEQIMRFCTIQQEyHERAgxEUJMhBATIcRECDERQkyEEBMhxEQIMRFCTIQQEyHERAgxEUJMhBAT\n",
        "IcRECDERQkyEEBMhxEQIMRFCTIQQEyHERAgxEUJMhBATIcRECDERQkyEEBMhxEQIMRFCTIQQEyHE\n",
        "RAgxEUJMhBATIcRECDERQkyEEBMhxEQIMRFCTIQQEyHERAgxEUJMhBATIcRECDERQkyEEBMhxEQI\n",
        "MRFC7N/6BWSWZVnXtX4V+1qW5fVfdPpV/evm34gb5u6wurq5V3UPbkchduoI13VNbtheIBxHE6/q\n",
        "Tk4dIRzB2SOc8tjOvyubclX3c/YIISfC2Y7tfAxeTbaquxIhxA5xah7BQQbID21cxa5zaeOLTrCq\n",
        "ezvvT8zMZ3vHJzFcb0p1uM3t6Bvfw1AR4SQOO3CcbjeJ8BfbhYQIZ3DYMXjldNsmwj/YLryeCId3\n",
        "8DF45XTbIMKPbJedWNjviPAL67qOsluGGINsE+HAhivQMPySCL+2rhe7hdcQ4aiGG4NXhuFnIvyW\n",
        "YchriHDLYTscdAxeGYYf+C2Kn9l1Mw2bGQ8xCW844DAcegxeGYa/G/6/82wmKPDdTNfyEyYhxEQ4\n",
        "kslGh5vSKxFCTITDmGwMXhmGFxFCToSbPh/S0bE9xxj8cugZhh7W37IsDzw0P/dm2jbHObIHk/CW\n",
        "AzytXy6XuTfvyYehSfgzH+bkPif9268YPzSTD2Z7DJ58SJqEdzjAMGRiIrzP5w6X5fI+oPZO9H1K\n",
        "jHkWGIPbRPisdX1r4/0fe3+5q9E61NhNIrybm9IdSPQiwsd83i6v3EADDkON3UOEm/7fQL+2vS31\n",
        "90j0SoS3HejRwFDD0PsxdxLhDQcqcCgau58IRzPUMPyORH8nwi0HHYOH71BjDxHhtw5a4Pgk+oEI\n",
        "x3TgYaixR4nwa8bgTiT6mQiHdchh6LHEE0T4hWVZBtsqx+hQY88R4Ucj7aRRXuflchlrYV9LhIM7\n",
        "zE2pxp4mwj/YSTuxsBtEOL4DDEPvx/yECH+xV55j3X5IhFM4wDD8jkRvEuGb4fdK1OHw63YAImRH\n",
        "Er2Hvzt6uUyzV15+CZOsW80k5HnbBUr0TiK0V3ZhVe8nQoidPUIH9h6s6kPOHiHkTh3hVAe2zzMd\n",
        "1qkjnM3xflyGe5z3OeGEB/b10zLuu6g7gn0y6dlWdX/njfDke+WOqz/1+ryS29G5+OioAZ13Ek7r\n",
        "803phyzPfQtwQCI8AdUdm9vRGbkpHYoIJ2X6jWO6t+lhNCYhxEQIMRFCTIQQEyHERAgxEUJMhBAT\n",
        "IcRECDERQkyEEBMhxEQIMRFCTIQQEyHERAgxEUJMhBATIcRECDERQkyEEBMhxEQIMRFCTIQQEyHE\n",
        "RAgxEUJMhBATIcRECDERQkyEEBMhxEQIMRFCTIQQEyHERAgxEUJMhBATIcRECDERQkyEEBMhxEQI\n",
        "MRFCTIQQEyHERAgxEUJMhBATIcRECDERQkyEEBMhxEQIMRFCTIQQEyHERAgxEUJMhBATIcRECDER\n",
        "QkyEEBMhxEQIMRFCTIQQEyHERAgxEUJMhBATIcRECDERQkyEEBMhxEQIMRFCTIQQEyHERAgxEUJM\n",
        "hBATIcRECDERQkyEEBMhxEQIMRFCTIQQEyHERAgxEUJMhBATIcRECDERQkyEEBMhxP4DLWygV0Sk\n",
        "M9cAAAAASUVORK5CYII=\n",
        "\"></td>\n",
        "\t\t<td><img src=\"data:image/png;base64,iVBORw0KGgoAAAANSUhEUgAAASwAAAEsCAIAAAD2HxkiAAAFo0lEQVR4nO3d23LaSBRAUTQ1///L\n",
        "zAOZXBwQYBt2d2utyjtSV28dWXLwdj6fT0Dnn/oA4OhECDERQkyEEBMhxEQIMRFCTIQQEyHERAgx\n",
        "EUJMhBATIcRECDERQkyEEBMhxEQIMRFCTIQQEyHERAgxEUJMhBATIcRECDERQkyEEBMhxEQIMRFC\n",
        "TIQQEyHERAgxEUJMhBATIcRECDERQkyEEBMhxEQIMRFCTIQQEyHERAgxEUJMhBATIcRECDERQkyE\n",
        "EBMhxEQIMRFCTIQQEyHERAgxEUJMhBATIcRECDERQkyEEBMhxEQIMRFCTIQQEyHERAgxEUJMhBAT\n",
        "IcRECDERQkyEEBMhxEQIMRFCTIQQEyHERAgxEUJMhBATIcRECDERQkyEEBMhxEQIMRFCTIQQEyHE\n",
        "RAgxEUJMhBATIcRECDERQkyEEBMhxEQIMRFCTIQQEyHERAgxEUJMhBATIcRECDERQkyEEBMhxEQI\n",
        "MRFC7N/6ADLbtp3P5/ooXmvbtvd/6PKr+u3W34g71u6wOru1V/UV3I5C7NARns/n5IbtDcJxtPCq\n",
        "vsihI4QRHD3CJS/b+U9lS67q6xw9QsiJcLXLdj4GLxZb1ZcSIcSGuGqOYJAB8kU7Z/HSubTzoQus\n",
        "6qsd9zdm1rO/45MYLjelOtzndvQHP8NQEeEihh04rm53ifAX24WECFcw7Bi8cHXbJ8I/2C68nwin\n",
        "N/gYvHB12yHCj2yXF7Gwt4jwivP5PMtumWIMsk+EE5uuQMPwKhFedz6f7BbeQ4Szmm4MXhiGfxPh\n",
        "TYYh7yHCPcN2OOkYvDAMPxAhxER4x4DDcOoxeGEY/k6Ek1mgwAsd/iTC+5bY84xLhDNZZgxeGIYX\n",
        "IoSYCKex2Bi8MAxPIoScCB/29wX7jZfwm2Nw2378m8HVoWcY+srDZ2zblUel7Qb6+R7z6rGNZMnb\n",
        "6W9hEj4jenO/nU5rb96DD0OT8Mtef3U/78+6GYbh/hg8+JA0CZ804K+x/W7kY+MGET7v/R3+nBK3\n",
        "PnfsMWIM7hPhJB7vcLBhqLG7RPgpg9+UzkOiJxF+3vu3zoTDUGOPEOFDtu1adbbX10j0QoT3DfTk\n",
        "f6ph6HnMg0R4x0AFTkVjjxPhbKYahrdI9Hci3DPoGHw8s6hDjT1FhDcNWuAjxj5uiX4gwjkNfFOq\n",
        "sWeJ8LqJx+DYJPo3EU5ryGHotcQniPCKbdsm2ypjPAjV2OeI8KOZdtLd4xzpdcVMC/teIpzcMJlp\n",
        "7NNE+IcFd9IYlS64sN9HhPMb4N295zFfIcJflt0rLz6pZdftXUS4hCFfV/z/gRK9Q4Q/TL9Xosym\n",
        "X7cBiPAwxnt3z4XvHT2dltkrl2++2TmR7z7HRdatZhLyefsFSvRBIlxrrwxzIkut6ouJEGJHj9AF\n",
        "+xWs6lOOHiHkDh3hshfsMf+eKTccOsKV1f+pgscd9z3h4hfsa+8MnwzzkxmvvKqvcdwID7hXnjzj\n",
        "w61Pxe3ouvzpqEmIcGk6nIEIISbC1RmGwxPhARzvEdRcln5MDzMwCSEmQoiJEGIihJgIISZCiIkQ\n",
        "YiKEmAghJkKIiRBiIoSYCCEmQoiJEGIihJgIISZCiIkQYiKEmAghJkKIiRBiIoSYCCEmQoiJEGIi\n",
        "hJgIISZCiIkQYiKEmAghJkKIiRBiIoSYCCEmQoiJEGIihJgIISZCiIkQYiKEmAghJkKIiRBiIoSY\n",
        "CCEmQoiJEGIihJgIISZCiIkQYiKEmAghJkKIiRBiIoSYCCEmQoiJEGIihJgIISZCiIkQYiKEmAgh\n",
        "JkKIiRBiIoSYCCEmQoiJEGIihJgIISZCiIkQYiKEmAghJkKIiRBiIoSYCCEmQoiJEGIihJgIISZC\n",
        "iIkQYiKEmAghJkKIiRBiIoSYCCEmQoiJEGIihJgIISZCiIkQYiKEmAghJkKIiRBiIoSYCCH2HxnP\n",
        "s1ul95dtAAAAAElFTkSuQmCC\n",
        "\"></td>\n",
        "\t</tr>\n",
        "</table>"
       ],
       "metadata": {},
       "output_type": "pyout",
       "prompt_number": 25,
       "text": [
        "<IPython.core.display.HTML at 0x10e553710>"
       ]
      }
     ],
     "prompt_number": 25
    },
    {
     "cell_type": "markdown",
     "metadata": {
      "slideshow": {
       "slide_type": "skip"
      }
     },
     "source": [
      "### Fix 1,3 charge-seperated systems (aromatic 2)"
     ]
    },
    {
     "cell_type": "code",
     "collapsed": false,
     "input": [
      "demo(\"C[n+]1c([N-](C))cccc1\")"
     ],
     "language": "python",
     "metadata": {
      "slideshow": {
       "slide_type": "skip"
      }
     },
     "outputs": [
      {
       "output_type": "stream",
       "stream": "stderr",
       "text": [
        "[2013/Oct/31 16:56:12 INFO    ] rule 11 (Fix 1,3 charge-seperated systems (aromatic 2)) applied\n"
       ]
      },
      {
       "html": [
        "<!-- NB the styling is inline as otherwise it is overridden by the Notebook stylesheets -->\n",
        "\n",
        "<table>\n",
        "\t<tr>\n",
        "\t\t<th style=\"text-align: center;\">Original</th>\n",
        "\t\t<th style=\"text-align: center;\">Transformed</th>\n",
        "\t</tr>\n",
        "\t<tr>\n",
        "\t\t<td><img src=\"data:image/png;base64,iVBORw0KGgoAAAANSUhEUgAAASwAAAEsCAIAAAD2HxkiAAAGLUlEQVR4nO3d0XaiyAJAUbhr/v+X\n",
        "vQ+ZlbETNWAbT0HtvfohDyahgWMVlMb1crksQOd/9QbA7EQIMRFCTIQQEyHERAgxEUJMhBATIcRE\n",
        "CDERQkyEEBMhxEQIMRFCTIQQEyHERAgxEUJMhBATIcRECDERQkyEEBMhxEQIMRFCTIQQEyHERAgx\n",
        "EUJMhBATIcRECDERQkyEEBMhxEQIMRFCTIQQEyHERAgxEUJMhBATIcRECDERQkyEEBMhxEQIMRFC\n",
        "TIQQEyHERAgxEUJMhBATIcRECDERQkyEEBMhxEQIMRFCTIQQEyHERAgxEUJMhBATIcRECDERQkyE\n",
        "EBMhxEQIMRFCTIQQEyHERAgxEUJMhBATIcRECDERQkyEEBMhxEQIMRFCTIQQEyHERAgxEUJMhBAT\n",
        "IcRECLF/6g3gwNZ1/fjicrm0W3JoImSHz+o+fLa3rqsOn2bf8YPr8B6cLTp8mh3HV/eGuy3f6HR6\n",
        "gr3G89Xd/FHOqL1cE87ohdXx9zxvzWLjpd1LfpGTahf767TC4U6Hu9hZZzPI2p0Ot3NNeEJvOPt/\n",
        "TP1yuehwI7vpVH71vH/iqlKHWxgJeeQvb+cYD7cQIX94+e0cHf7I3jmPp8/1N6xe6PABI+Gk3rZs\n",
        "+PkrdHiPCCfy5vDYSITnN8jKocHwHjvlJI5yfh9lO9/Jn7fgrT7Gw3orxiJC3k2HX4jwDA43x9Ph\n",
        "NRHS0OEnEZLR4QcRHt7h5qLXdLjMGaGjzlBmjNCz71AcjhkjXBz4wUx+OCaNcDnLgT/0BeG1cxyO\n",
        "58wbIaOZtsOpI5z2qLfs8y+mjnA5eIenmYt+ONl/Z7vZI1wO3uHhTFvaAyJcFh2SEuG/DtehIeU0\n",
        "RPifw3V4OA+eOGZ+ThEhxET4h6MMhjOPG+cjwq+O0uHhmIveI8IbdMg7ifC2y+UiQ95DhHddLsuY\n",
        "Hd6dvK3roFtsLvqQCB8ZtsMbPjf0MFvMv0R4Rjo8FBH+YKDBcF2XdV3X9d5H43598DBMOB8T4c/K\n",
        "Dj8u875f7N3coIE7vEefi8+iGM6ucu7dnvnxMW/0ODMRLj6VaQiPw3swvq3rjca+DNw3H8NIRBh5\n",
        "EN7jZrY0dpAODYMfRPhGT4f3/cF7O4zIbAsR/rJXhff9e3d1OOpgyCLCX7TlBubf2DvWDdahQfKT\n",
        "JYrNvp/xGxu4XP7791rXP3C8RQuZbSTCPfauH/xGeA+M1yFbiHCPMe52/GFLYzocmwiPb8gOrdFv\n",
        "J8KdBhwMl6c6ZBgi3O97h9ev8KwS3dvhgE8ls7JE8QqDDDJ7Xyjza4sW5qK7GAmfMuakdNnwdOAm\n",
        "zXhE+KxDPJdHN2kMdLuYGJzRlnczRe94Mhf9zkh4RkMuWnCPCE9Kh8chwvOyeHgQIjy1XR3+fpAu\n",
        "CG+yTnh2W1ZT3pLfb/+K4xLhBIrB50t1BsAHRMjLXIenuu1EyPMMdy8hQna4im5dVPciIuSR+6+r\n",
        "kd/LiHAO398w8fAtFJ/tGereQITT2PPGJe29k8X6aQz79qvpiZBlWbxwtCTCmRgMhyTCydz7AznX\n",
        "X/BebsxM7+MmzGB/JH8qRsL5mJQORoRTuvkRTkREOIc/G1tX1Q1EhBATIcREOB33QUcjQoiJEGIi\n",
        "nIu56IBECDERQkyEEBPhRFwQjkmEEBPhVLx5YkQinIUPYxmWCCEmQoiJcArmoiMTIcRECDERnp+5\n",
        "6OBECDERQkyEJ2cuOj4RQkyEEBPhmZmLHoIIISZCiInwtMxFj0KEEBPhaRkGj0KEEBMhxEQIMRFC\n",
        "TIQQEyHERAgxEUJMhBATIcRECDERQkyEEBMhxEQIMRFCTIQQEyHERAgxEUJMhBATIcRECDERQkyE\n",
        "EBMhxEQIMRFCTIQQEyHERAgxEUJMhBATIcRECDERQkyEEBMhxEQIMRFCTIQQEyHERAgxEUJMhBAT\n",
        "IcRECDERQkyEEBMhxEQIMRFCTIQQEyHERAgxEUJMhBATIcRECDERQkyEEBMhxEQIMRFCTIQQEyHE\n",
        "RAgxEUJMhBATIcRECDERQkyEEBMhxEQIMRFCTIQQEyHERAgxEUJMhBATIcRECDERQkyEEBMhxEQI\n",
        "MRFCTIQQEyHERAgxEUJMhBATIcT+D8+dG3dgRE3tAAAAAElFTkSuQmCC\n",
        "\"></td>\n",
        "\t\t<td><img src=\"data:image/png;base64,iVBORw0KGgoAAAANSUhEUgAAASwAAAEsCAIAAAD2HxkiAAAGH0lEQVR4nO3d23KiWABAUZya//9l\n",
        "5iFTadsYxOsGzlqVh66UURrYnsMl5jTP8wR0/qkXAEYnQoiJEGIihJgIISZCiIkQYiKEmAghJkKI\n",
        "iRBiIoSYCCEmQoiJEGIihJgIISZCiIkQYiKEmAghJkKIiRBiIoSYCCEmQoiJEGIihJgIISZCiIkQ\n",
        "YiKEmAghJkKIiRBiIoSYCCEmQoiJEGIihJgIISZCiIkQYiKEmAghJkKIiRBiIoSYCCEmQoiJEGIi\n",
        "hJgIISZCiIkQYiKEmAghJkKIiRBiIoSYCCEmQoiJEGIihJgIISZCiIkQYiKEmAghJkKIiRBiIoSY\n",
        "CCEmQoiJEGIihJgIISZCiIkQYiKEmAghJkKIiRBiIoSYCCEmQoiJEGIihJgIISZCiIkQYiKEmAgh\n",
        "JkKI/VsvADt2Op2+/jHPc7skuyZC7vBd3Zfv9k6nkw4fZt1xw3l4C3uLDh9mxXHpt+FuzQ/anR5g\n",
        "rfF4dVefyh51L8eEI3phdTzP+9YoVh7aveSF7FR3sb4OKxzudHgXK+toNnLtTofrOSY8oA/s/TdT\n",
        "n+dZhytZTYfy1v3+gaNKHa5hJGTJk6dzjIdriJC/vPx0jg5vsnaO4+F9/QNXL3S4wEg4qI9dNvx+\n",
        "CR3+RoQD+XB4rCTC49vIlUOD4W+slIPYy/69l+X8JB9vwUd9jYf1UmyLCPk0HV4Q4RHsbo6nw3Mi\n",
        "pKHDbyIko8MvIty93c1Fz+lwGjNCW51NGTFC776bYnOMGOFkw2/M4Jtj0Aino2z4XR8QnjvG5njM\n",
        "uBGyNcN2OHSEw271lnV+YegIp513eJi56JeD/XfWGz3Caecd7s6wpS0Q4TTpkJQI/7e7Dg0phyHC\n",
        "P3bX4e4svHGM/J4iQoiJ8C97GQxHHjeOR4SX9tLh7piL/kaEV+iQTxLhdfM8y5DPEOGv5nnaZod7\n",
        "nLyZiy4Q4ZLNdsiRiBBiPgb/hq/BcBPTpdNpmqbTNG1hWe5iwrlMhLeVHf42G97KG8Oz9DmJcKXP\n",
        "dXjrGPTPIuykQ5ndJMK13tjhcngXL3n+4J10yDIR3uGVHS6Et/wCF2ds99yhQfKLCO/z1D7zcHg/\n",
        "H7yTDmW2hgjf7FXh/fzZnXTITSJ8tbsO8J6x8zsJDJLfXKx/yM+9/+s7V6uY5z9fr3X+hNsLUmYr\n",
        "GQkftTADrPY8k9J9MhI+6ups8B3D3TRNp9P/X1cX4+KR7I2RcKvW57TJkzTLc1Ez1XMifMJrr98/\n",
        "c0Znkx2ykgif82SHLzyVqsPdEuHHvenK4bShDs1F7yLCp928XvexK4drFobtEeEr/Nz1Pxnegmgw\n",
        "NNDdxcTg1dZcSPjwMmxpE5uL/mQkfJtwV9vMwSFruFj/am+6Q+2BxTjnQHHDRHhcOtwJER7axjp0\n",
        "QHiVY8Kj28ZFC39WYIEIB1B0eFGdAXCBCHmZ8/BUt54Ix/CewdBw9xIiHMYrOjx7gtOkuhdxtool\n",
        "G7735jiMhOP5eQPN3985D091HyDCIV27ke27PeF9mAiHdO13kbVXcccMxEQ4qm3cScMkwqHpcBtE\n",
        "CDERjs1guAEiHJ6zojURjmeeLwc/HaZECDERQkyEw/HZa1sjQoiJEGIiHIu56AaJEGIihJgIISbC\n",
        "gTgg3CYRQkyEQ/ELE1skwlH4YyybJUKIiRBiIhyCueiWiRBiIoSYCI/PXHTjRAgxEUJMhAdnLrp9\n",
        "IoSYCCEmwiMzF90FEUJMhBAT4WGZi+6FCCEmwsMyDO6FCCEmQoiJEGIihJgIISZCiIkQYiKEmAgh\n",
        "JkKIiRBiIoSYCCEmQoiJEGIihJgIISZCiIkQYiKEmAghJkKIiRBiIoSYCCEmQoiJEGIihJgIISZC\n",
        "iIkQYiKEmAghJkKIiRBiIoSYCCEmQoiJEGIihJgIISZCiIkQYiKEmAghJkKIiRBiIoSYCCEmQoiJ\n",
        "EGIihJgIISZCiIkQYiKEmAghJkKIiRBiIoSYCCEmQoiJEGIihJgIISZCiIkQYiKEmAghJkKIiRBi\n",
        "IoSYCCEmQoiJEGIihJgIISZCiIkQYiKEmAghJkKIiRBiIoSYCCEmQoiJEGIihJgIISZCiIkQYiKE\n",
        "mAghJkKI/QfISxxhtPStzgAAAABJRU5ErkJggg==\n",
        "\"></td>\n",
        "\t</tr>\n",
        "</table>"
       ],
       "metadata": {},
       "output_type": "pyout",
       "prompt_number": 26,
       "text": [
        "<IPython.core.display.HTML at 0x10e57b890>"
       ]
      }
     ],
     "prompt_number": 26
    },
    {
     "cell_type": "markdown",
     "metadata": {},
     "source": [
      "Note that it is perhaps arguable, on aromaticity grounds, whether the uncharged imine is less desirable that the original zwitterion shown above or even than the cationic methyl-pyridine that would be produced by protonation of the amide anion."
     ]
    },
    {
     "cell_type": "markdown",
     "metadata": {
      "slideshow": {
       "slide_type": "skip"
      }
     },
     "source": [
      "### Fix 1,5 charge-seperated systems (non-aromatic)"
     ]
    },
    {
     "cell_type": "code",
     "collapsed": false,
     "input": [
      "demo(\"C[N-]C=CC=[N+](C)C\")"
     ],
     "language": "python",
     "metadata": {
      "slideshow": {
       "slide_type": "skip"
      }
     },
     "outputs": [
      {
       "output_type": "stream",
       "stream": "stderr",
       "text": [
        "[2013/Oct/31 16:56:12 INFO    ] rule 12 (Fix 1,5 charge-seperated systems (non-aromatic)) applied\n"
       ]
      },
      {
       "html": [
        "<!-- NB the styling is inline as otherwise it is overridden by the Notebook stylesheets -->\n",
        "\n",
        "<table>\n",
        "\t<tr>\n",
        "\t\t<th style=\"text-align: center;\">Original</th>\n",
        "\t\t<th style=\"text-align: center;\">Transformed</th>\n",
        "\t</tr>\n",
        "\t<tr>\n",
        "\t\t<td><img src=\"data:image/png;base64,iVBORw0KGgoAAAANSUhEUgAAASwAAAEsCAIAAAD2HxkiAAAFwUlEQVR4nO3d0XKqyAJAUZm6///L\n",
        "zoNTKW80xii4u2Gtx5wTaIw7jQ2a5Xw+n4DOP/UA4OhECDERQkyEEBMhxEQIMRFCTIQQEyHERAgx\n",
        "EUJMhBATIcRECDERQkyEEBMhxEQIMRFCTIQQEyHERAgxEUJMhBATIcRECDERQkyEEBMhxEQIMRFC\n",
        "TIQQEyHERAgxEUJMhBATIcRECDERQkyEEBMhxEQIMRFCTIQQEyHERAgxEUJMhBATIcRECDERQkyE\n",
        "EBMhxEQIMRFCTIQQEyHERAgxEUJMhBATIcRECDERQkyEEBMhxEQIMRFCTIQQEyHERAgxEUJMhBAT\n",
        "IcRECDERQkyEEBMhxEQIMRFCTIQQEyHERAgxEUJMhBATIcRECDERQkyEEBMhxEQIMRFCTIQQEyHE\n",
        "RAgxEUJMhBATIcRECDERQkyEEBMhxEQIMRFCTIQQEyHERAgxEUJMhBATIcRECDERQkyEEBMhxEQI\n",
        "MRFCTIQQEyHERAgxETKiZVnqIXyOCCEmQoiJEGIihJgIISZChrMsy/l8rkfxOSKEmAghJkKIiRBi\n",
        "IoSYCCEmQoiJEGIihJgIGcvRbpc5iRByIoSYCCEmQoiJkNEca1XmJELIiRBiIoTYkSK8/TzZI33C\n",
        "7BSW5XSwC/Wn07EiPKmOER0swvNZh4zmYBHCeI4XocmQwfyvHkDh0uH1CsC3LA+4OEDnEBH+vuZ2\n",
        "95+PuVSXOubjvfMILzPcnR/tkyelU3R4fSDjj5Ybu43wx/y+PN/hLxvq3L3yOeZQ+dkO38W8TjW3\n",
        "z++hHqhff30MNVoe2k+Ey7JcbsBf84AGTPGnNaQBh8pz9hDh5e+bb3Uggzy5nxyGZd4JzR3htvn9\n",
        "/56+f+Vjj9tfdz3Ib43Hbl+7HvjV7KwRfi6/q11+/8rWe395Whu/w9sX7geOcL7V0SC/i8ser5/f\n",
        "2y2cvnlW+cmhvuz2lomjmum2tWVZLh9KWc7et7te9ya4Zfl+3e/lg916qJuaaKhvm2MmzGa/uzaa\n",
        "Z96Z/X4awN2hDvIwnkyG/xk9wrHyu3Z7rf/l59P7+T32bajhqentrh/cxzvgKfQ2xo1w3Py+vD/P\n",
        "rJjf4+9d8VfGa54/vfx6VEf+0a9q1tXRsXzyKsKbK5+DrPHenf2OulgqwpW8djH9p//2zi4+tp2/\n",
        "7uhxYw+r23eSIlzVg+f3x848w23e3fJKG99xhyJc27q3Vm96G9rqtaxyqvxwPvzrJqcgwm3cTXGc\n",
        "/H7ay8s7enO0f3lL5P6mRBFu5uX32n7+JuwVX6m+k9/T376zKVGEIwnfA/FCh+te3vz7we7mb/ru\n",
        "5DDmNs791s90NdI1kgkuJj9BhKlx8vvy/ALvaZTT7NmnxLlHP7GR3327+mdnbH+wU3c48dAnNsXn\n",
        "o72/wHu7kS0Pdt5TUxEWZlnde+eXRTTVzzglzjdiRlefaU/X4WTDZVwjLTLNdWoqQt42Un7XZpkS\n",
        "5xglg6rPPH81RYcTDJFBTbHGO8Op6bjvrGcOAz+5Ly75jTwljjsyOIiZPvIQdkmEEBMhxEQIMRFC\n",
        "TIQQEyHERAgxEUJMhBATIcRECDERQkyEEBMhxEQIMRFCTIQQEyHERAgxEUJMhBATIcRECDERQkyE\n",
        "EBMhxEQIMRFCTIQQEyHERAgxEUJMhBATIcRECDERQkyEEBMhxEQIMRFCTIQQEyHERAgxEUJMhBAT\n",
        "IcRECDERQkyEEBMhxEQIMRFCTIQQEyHERAgxEUJMhBATIcRECDERQkyEEBMhxEQIMRFCTIQQEyHE\n",
        "RAgxEUJMhBATIcRECDERQkyEEBMhxEQIMRFCTIQQEyHERAgxEUJMhBATIcRECDERQkyEEBMhxEQI\n",
        "MRFCTIQQEyHERAgxEUJMhBATIcRECDERQkyEEBMhxEQIMRFCTIQQEyHERAgxEUJMhBATIcRECDER\n",
        "QkyEEBMhxEQIMRFCTIQQEyHERAgxEUJMhBD7F3kWrhnKHeJTAAAAAElFTkSuQmCC\n",
        "\"></td>\n",
        "\t\t<td><img src=\"data:image/png;base64,iVBORw0KGgoAAAANSUhEUgAAASwAAAEsCAIAAAD2HxkiAAAFuklEQVR4nO3c0W7iOABA0WS1///L\n",
        "2Qe0FYI2hRK4iXPO00hDO7bGNwYHmJdlmYDOP/UA4OxECDERQkyEEBMhxEQIMRFCTIQQEyHERAgx\n",
        "EUJMhBATIcRECDERQkyEEBMhxEQIMRFCTIQQEyHERAgxEUJMhBATIcRECDERQkyEEBMhxEQIMRFC\n",
        "TIQQEyHERAgxEUJMhBATIcRECDERQkyEEBMhxEQIMRFCTIQQEyHERAgxEUJMhBATIcRECDERQkyE\n",
        "EBMhxEQIMRFCTIQQEyHERAgxEUJMhBATIcRECDERQkyEEBMhxEQIMRFCTIQQEyHERAgxEUJMhBAT\n",
        "IcRECDERQkyEEBMhxEQIMRFCTIQQEyHERAgxEUJMhBATIcRECDERQkyEEBMhxEQIMRFCTIQQEyHE\n",
        "RAgxEUJMhBATIcRECDERQkyEEBMhxEQIMRFCTIQQEyHERAgxEUJMhBATIcRECDERQkyEEBMhxMaM\n",
        "cJ7negjwqDEjhAMRIcRECDERQkyEEBMhxEQIMRFCTIQQGzDCeZ6XZalHAY8aMEJ2xVsIfyVCiIkQ\n",
        "YiKEmAghJkKIiRBiIoTYkBG6U8+RDBkhHIkIeSNvIXyECCEmQoiNFuE8T57+cCyjRQiHI0KIiRBi\n",
        "IoSYCCE2WoSORjmc0SJkZ1wUfydCiIkQYiKEmAh5F28hfNAQEd5/vawvnOU4hohwUh0HNkqEy6JD\n",
        "DmqUCL8lS45goAi/3Qx1yO4NFOGkQw5prAh/Ms9S/Dz3Jx70bz2Ara2c0BzivtX14Pc/WrYw4k74\n",
        "tXaX5XYd73lLvB/bbofKps7xtZD3q3lXs/41tl2Nlq2NEuHXOl6Zzs1azye+cmnY+VWDTQ0R4eN1\n",
        "7WRxPziMvV01eI8hIpyO0+GzXe3kqvG4+9OvQ5yHpUaJcHpyvX5+cf95WztWh5fRXo9QhL8Z6HT0\n",
        "/n965cDjqQe/6ObY8/7Mdt1RznivX5bvcHg7NtZ9wstivV4B9xfm9QdveM3edge7X9n72WEk95qB\n",
        "dsIvr2yJm2wy97/kwd3v8oM/DeDbLbH102hths8Y6DXhvc+f1rxynnmUs6Vvx3B9c+Xmz/M8LcvK\n",
        "MxKGjnD64GnNJrcTDtHh+iB/iPD+L/kyeoTT+zvc9m7ens94H5npTWd3O6AO750gwotXFvcjd9LX\n",
        "f+FT9tbhs+P57T6hp6Y3ThPhtN3i/sz+s/lV491jeP53n2fprTtThBevvO668eH7++v/4rbBfORC\n",
        "o8OL80U4vby41x+/uQ+f1nz2Dauemk4njXB6ocM9v+H7Dw9e+cEPznSez7oOp2k6b4QXe7jh9qC3\n",
        "driDj2vM8zxN0zlX47kjnA7V4fT+M9567ufcEs8452/sbC2uedMZ726mfMItUYT/2+ui/N6Bznj/\n",
        "5FRb4omm+rtHviNjP451xvu883R4lnmO6VhnvM87yVNTER7fsc6Wnjf8ljji5wnP5pPfElBYlmWe\n",
        "53msSV0b/BpzLsc6W3reqFuinXAge/vc/dZG3RJFOJbrDkfcNJZluaRYD2RLY+7vcCB2QoiJEGIi\n",
        "hJgIISZCiIkQYiKEmAghJkKIiRBiIoSYCCEmQoiJEGIihJgIISZCiIkQYiKEmAghJkKIiRBiIoSY\n",
        "CCEmQoiJEGIihJgIISZCiIkQYiKEmAghJkKIiRBiIoSYCCEmQoiJEGIihJgIISZCiIkQYiKEmAgh\n",
        "JkKIiRBiIoSYCCEmQoiJEGIihJgIISZCiIkQYiKEmAghJkKIiRBiIoSYCCEmQoiJEGIihJgIISZC\n",
        "iIkQYiKEmAghJkKIiRBiIoSYCCEmQoiJEGIihJgIISZCiIkQYiKEmAghJkKIiRBiIoSYCCEmQoiJ\n",
        "EGIihJgIISZCiIkQYiKEmAghJkKIiRBiIoSYCCEmQoiJEGIihJgIISZCiIkQYiKEmAghJkKIiRBi\n",
        "IoSYCCEmQoiJEGIihJgIISZCiP0HVkiWMWQ5u0AAAAAASUVORK5CYII=\n",
        "\"></td>\n",
        "\t</tr>\n",
        "</table>"
       ],
       "metadata": {},
       "output_type": "pyout",
       "prompt_number": 27,
       "text": [
        "<IPython.core.display.HTML at 0x10e57b950>"
       ]
      }
     ],
     "prompt_number": 27
    },
    {
     "cell_type": "markdown",
     "metadata": {
      "slideshow": {
       "slide_type": "skip"
      }
     },
     "source": [
      "### Fix 1,5 charge-seperated systems (aromatic 1)"
     ]
    },
    {
     "cell_type": "code",
     "collapsed": false,
     "input": [
      "demo(\"[n-]1ccc(=[N+](C)C)cc1\")"
     ],
     "language": "python",
     "metadata": {
      "slideshow": {
       "slide_type": "skip"
      }
     },
     "outputs": [
      {
       "output_type": "stream",
       "stream": "stderr",
       "text": [
        "[2013/Oct/31 16:56:13 INFO    ] rule 13 (Fix 1,5 charge-seperated systems (aromatic 1)) applied\n"
       ]
      },
      {
       "html": [
        "<!-- NB the styling is inline as otherwise it is overridden by the Notebook stylesheets -->\n",
        "\n",
        "<table>\n",
        "\t<tr>\n",
        "\t\t<th style=\"text-align: center;\">Original</th>\n",
        "\t\t<th style=\"text-align: center;\">Transformed</th>\n",
        "\t</tr>\n",
        "\t<tr>\n",
        "\t\t<td><img src=\"data:image/png;base64,iVBORw0KGgoAAAANSUhEUgAAASwAAAEsCAIAAAD2HxkiAAAFX0lEQVR4nO3d21LcOBRA0fbU/P8v\n",
        "ex4ghHDpyxD3luS1Ku+4FW0dJS5g2/f9AnT+qR8Azk6EEBMhxEQIMRFCTIQQEyHERAgxEUJMhBAT\n",
        "IcRECDERQkyEEBMhxEQIMRFCTIQQEyHERAgxEUJMhBATIcRECDERQkyEEBMhxEQIMRFCTIQQEyHE\n",
        "RAgxEUJMhBATIcRECDERQkyEEBMhxEQIMRFCTIQQEyHERAgxEUJMhBATIcRECDERQkyEEBMhxEQI\n",
        "MRFCTIQQEyHERAgxEUJMhBATIcRECDERQkyEEBMhxEQIMRFCTIQQEyHERAgxEUJMhBATIcRECDER\n",
        "QkyEEBMhxEQIMRFCTIQQEyHERAgxEUJMhBATIcRECDERQkyEEBMhxEQIMRFCTIQQEyHERAgxEUJM\n",
        "hBATIcRECDERQkyEEBMhxEQIMRFCTIQQEyHERAgxEUJMhBATIcRECDERQkyEEBMhxEQIMRFCTIQQ\n",
        "EyHE/q0fILNt277v9VMca9u253/R5Vf1r1t/I16xdofVp1t7VY/gOgqxU0e473tyYXuCcBwtvKoH\n",
        "OXWEMIKzR7jksZ3/q2zJVT3O2SPkIDq8nwhX2y75GORRIuQoi51uxznvy/r3XrbLAgPkyqc4tIcF\n",
        "li4kwnVcP0eSTpY53Q7lOvrK3YmKCBcx7MBxut0kwt9sl4NY2OtEuIJhxyD3EOEfnNkHsbBXiHB6\n",
        "xuDsRPiRM/sg+75b1y+J8AsTbZe5xuC+X2ZZ2GcS4cTmKpDviPBrzuyDWNjPRDgrY3AZIvyWM/sg\n",
        "FvYDEV4z7HYxBlfiuyh+5tBG183s5XRb9/M9xiS8YcBhaAwuxl/nZBS4HpMQYiKciTG4JBFCTITT\n",
        "MAZXJUKIifCqz28novcVS43BYVZ1EF7W3/LQS+Vzb6YHeFX/jkl4ywBv67fLZbUNO8CqjsMk/JkP\n",
        "J/oxp/vrtxibHosyCe/g2D6CVf1FhPf5vGO27fI2oI7eTG8DcLFd+92qvv05B9fR/+sljKddEd/2\n",
        "69qX0oU/2vdMwru5Ph3BqorwMZ/P6Wee3AtfSs9toVfARxrlDviW3xBP8zMrfZafMQlvG6XAy0LD\n",
        "UIHviPCGgQpkUSKczQLD0Bj8kwivGXQMTt2hAj8R4bcGLZDliHBOkw5DY/ArIvyaMcjTiHBa0w1D\n",
        "Y/AbIvzCtm2T7ZPxOxz/CTsi/GimHyQxy3O+N+MzH0yEk5viUuoiepUI/zDTGGQVIpzf4MPQGLxF\n",
        "hL8ZgyREuIRhh6ExeAdn/6sVxuD1Hf/832eqwPuYhBCb//j/G1YYgy/GGT7jPMnwTEKIiXChMXgZ\n",
        "5n9ojMFHiBBiZ49wqTH4Ih+GxuCDzh7hmsIOFfi4U0e44BhkQn4XxaLe/+6K5Ktzt/NOwvXHYPXp\n",
        "1l7VA6y+EWF4552EMAgRQkyEEBMhxEQIMRFCTIQQEyHERAgxEUJMhBATIcRECDERQkyEEBMhxEQI\n",
        "MRFCTIQQEyHERAgxEUJMhBATIcRECDERQkyEEBMhxEQIMRFCTIQQEyHERAgxEUJMhBATIcRECDER\n",
        "QkyEEBMhxEQIMRFCTIQQEyHERAgxEUJMhBATIcRECDERQkyEEBMhxEQIMRFCTIQQEyHERAgxEUJM\n",
        "hBATIcRECDERQkyEEBMhxEQIMRFCTIQQEyHERAgxEUJMhBATIcRECDERQkyEEBMhxEQIMRFCTIQQ\n",
        "EyHERAgxEUJMhBATIcRECDERQkyEEBMhxEQIMRFCTIQQEyHERAgxEUJMhBATIcRECDERQkyEEBMh\n",
        "xEQIMRFCTIQQEyHERAgxEUJMhBATIcRECDERQkyEEBMhxEQIMRFCTIQQ+w9o405dFdZ3vQAAAABJ\n",
        "RU5ErkJggg==\n",
        "\"></td>\n",
        "\t\t<td><img src=\"data:image/png;base64,iVBORw0KGgoAAAANSUhEUgAAASwAAAEsCAIAAAD2HxkiAAAFsElEQVR4nO3d3VLbOhhA0fhM3/+V\n",
        "cy7oUErzCzhbkte6ZiaORlufcWi6nc/nE9D5r74AODoRQkyEEBMhxEQIMRFCTIQQEyHERAgxEUJM\n",
        "hBATIcRECDERQkyEEBMhxEQIMRFCTIQQEyHERAgxEUJMhBATIcRECDERQkyEEBMhxEQIMRFCTIQQ\n",
        "EyHERAgxEUJMhBATIcRECDERQkyEEBMhxEQIMRFCTIQQEyHERAgxEUJMhBATIcRECDERQkyEEBMh\n",
        "xEQIMRFCTIQQEyHERAgxEUJMhBATIcRECDERQkyEEBMhxEQIMRFCTIQQEyHERAgxEUJMhBATIcRE\n",
        "CDERQkyEEBMhxEQIMRFCTIQQEyHERAgxEUJMhBATIcRECDERQkyEEBMhxEQIMRFCTIQQEyHERAgx\n",
        "EUJMhBATIcRECDERQkyEEBMhxEQIMRFCTIQQEyHERAgxEUJMhBATIcRECDERQkyEEBMhxEQIMRFC\n",
        "TIQQ+1VfQGbbtvP5XF/FvrZte/2LLr+qP279jXjD2h1W727tVd2D21GIHTrC8/mc3LC9QDiOFl7V\n",
        "nRw6QhjB0SNc8tjOfytbclX3c/QI2YkOHyfC1bZLPgZ5lgjZy2Kn236O+2H9R2/bZYEBcuNd7NrD\n",
        "AksXEuE6bp8jSSfLnG67cjv6m3snKiJcxLADx+l2lwj/sF12YmFvE+EKhh2DPEKEf3Fm78TC3iDC\n",
        "6RmDsxPhZ87snZzPZ+t6kQgvmGi7zDUGz+fTLAv7SiKc2FwFco0IL3Nm78TC/kuEszIGlyHCq5zZ\n",
        "O7Gwn4jwlmG3izG4EhESGPZ0S4jwjgG3izG4GBFOZpkCl3gTP0OE99ku7EqEM1lmDPKRCCEmwmkY\n",
        "g6sSIa+ybcM9aB6DCB/27wZ64Za6Ogbfdvb4m/v9Cj9darqqg/CVh8/YtguPSttN8/455sVrm8K8\n",
        "V/5DTMJnRJ/cb6fT3Jv046L929uAfw/xWibht+1/ip9vz7rBh+GxA3uESfikwY/tka/tdP3AGnxV\n",
        "dybC571+x7zv3WuvO+AAfHP7RvSjA3cowkk83uFRt/K8RPglBz62n/D4GHz/mUOuqgi/6vV3gHMN\n",
        "w7vXcPEHhr2v3pMIH7JtV56t84hrC6XD0+kkwkcM9OR/lmF490b0/QdGWdmSCO8YqEAWJcLZjD8M\n",
        "jcEnifCWQcfg45m9vsPHL2nElW2I8KpBC3zEINc9yGUMT4RzGvOm1I3ol4jwsonHILMR4bRGG4bG\n",
        "4FeJ8IJt2ybbJ/mfyAz4iGgeIvxspu9TunudyW+Gd/+1BH8T4eTyTwVPbkS/S4R/mWkMPmiESrlJ\n",
        "hPNrP7s3Br9NhH8sOAbf7PemTNefIMIljPBxhTH4VSL8bfox+Prf/dyI/hARHoYnNKOa/Pj/IdOP\n",
        "wXcvHj5vL2cMfo8v/+UbBPYT3I4uNAZPw9xzGoPPECHEjh7hUmPwTT4MjcEnHT3CNYUdKvB5h45w\n",
        "wTHIhDwdXdTH/y8teXUedtxJuP4YrN7d2qu6g9U3IgzvuJMQBiFCiIkQYiKEmAghJkKIiRBiIoSY\n",
        "CCEmQoiJEGIihJgIISZCiIkQYiKEmAghJkKIiRBiIoSYCCEmQoiJEGIihJgIISZCiIkQYiKEmAgh\n",
        "JkKIiRBiIoSYCCEmQoiJEGIihJgIISZCiIkQYiKEmAghJkKIiRBiIoSYCCEmQoiJEGIihJgIISZC\n",
        "iIkQYiKEmAghJkKIiRBiIoSYCCEmQoiJEGIihJgIISZCiIkQYiKEmAghJkKIiRBiIoSYCCEmQoiJ\n",
        "EGIihJgIISZCiIkQYiKEmAghJkKIiRBiIoSYCCEmQoiJEGIihJgIISZCiIkQYiKEmAghJkKIiRBi\n",
        "IoSYCCEmQoiJEGIihJgIISZCiIkQYiKEmAghJkKIiRBiIoSYCCEmQoiJEGIihJgIISZCiIkQYiKE\n",
        "mAghJkKIiRBi/wMgJ3tlFhp7ugAAAABJRU5ErkJggg==\n",
        "\"></td>\n",
        "\t</tr>\n",
        "</table>"
       ],
       "metadata": {},
       "output_type": "pyout",
       "prompt_number": 28,
       "text": [
        "<IPython.core.display.HTML at 0x10e553a90>"
       ]
      }
     ],
     "prompt_number": 28
    },
    {
     "cell_type": "markdown",
     "metadata": {},
     "source": [
      "Note that in the un- or partially-substituted case, when using the full **`standardise`** module, the initial application of the **`neutralize`** module removes the charges _via_ protonation/deprotonation to give an undesirable hydropyridine-imine..."
     ]
    },
    {
     "cell_type": "code",
     "collapsed": false,
     "input": [
      "neutralize.apply(s2m(\"[n-]1ccc(=[NH+]C)cc1\"))"
     ],
     "language": "python",
     "metadata": {},
     "outputs": [
      {
       "metadata": {},
       "output_type": "pyout",
       "png": "[encoded data removed]",
       "prompt_number": 29,
       "text": [
        "<rdkit.Chem.rdchem.Mol at 0x10e57daa0>"
       ]
      }
     ],
     "prompt_number": 29
    },
    {
     "cell_type": "markdown",
     "metadata": {},
     "source": [
      "However, this is then fixed by application of the appropriate 'hydropyridine-imine -> aminopyridine' transform during the rule-application step..."
     ]
    },
    {
     "cell_type": "code",
     "collapsed": false,
     "input": [
      "standardise.apply(s2m(\"[n-]1ccc(=[NH+]C)cc1\"))"
     ],
     "language": "python",
     "metadata": {},
     "outputs": [
      {
       "output_type": "stream",
       "stream": "stderr",
       "text": [
        "[2013/Oct/31 16:56:13 INFO    ] rule 8 (hydropyridin-4-imine -> 4-amino-pyridine (2)) applied on pass 1\n"
       ]
      },
      {
       "metadata": {},
       "output_type": "pyout",
       "png": "[encoded data removed]",
       "prompt_number": 30,
       "text": [
        "<rdkit.Chem.rdchem.Mol at 0x10e57daf8>"
       ]
      }
     ],
     "prompt_number": 30
    },
    {
     "cell_type": "markdown",
     "metadata": {
      "slideshow": {
       "slide_type": "skip"
      }
     },
     "source": [
      "### Fix 1,5 charge-seperated systems (aromatic 2)"
     ]
    },
    {
     "cell_type": "code",
     "collapsed": false,
     "input": [
      "demo(\"C[n+]1ccc([N-]C)cc1\")"
     ],
     "language": "python",
     "metadata": {
      "slideshow": {
       "slide_type": "skip"
      }
     },
     "outputs": [
      {
       "output_type": "stream",
       "stream": "stderr",
       "text": [
        "[2013/Oct/31 16:56:13 INFO    ] rule 14 (Fix 1,5 charge-seperated systems (aromatic 2)) applied\n"
       ]
      },
      {
       "html": [
        "<!-- NB the styling is inline as otherwise it is overridden by the Notebook stylesheets -->\n",
        "\n",
        "<table>\n",
        "\t<tr>\n",
        "\t\t<th style=\"text-align: center;\">Original</th>\n",
        "\t\t<th style=\"text-align: center;\">Transformed</th>\n",
        "\t</tr>\n",
        "\t<tr>\n",
        "\t\t<td><img src=\"data:image/png;base64,iVBORw0KGgoAAAANSUhEUgAAASwAAAEsCAIAAAD2HxkiAAAGFklEQVR4nO3d23LaSBRAUZia//9l\n",
        "5sETF7EN5iJpd0trVR5SuWDFsDndSJDz5XI5AZ1/6gOAoxMhxEQIMRFCTIQQEyHERAgxEUJMhBAT\n",
        "IcRECDERQkyEEBMhxEQIMRFCTIQQEyHERAgxEUJMhBATIcRECDERQkyEEBMhxEQIMRFCTIQQEyHE\n",
        "RAgxEUJMhBATIcRECDERQkyEEBMhxEQIMRFCTIQQEyHERAgxEUJMhBATIcRECDERQkyEEBMhxEQI\n",
        "MRFCTIQQEyHERAgxEUJMhBATIcRECDERQkyEEBMhxEQIMRFCTIQQEyHERAgxEUJMhBATIcRECDER\n",
        "QkyEEBMhxEQIMRFCTIQQEyHERAgxEUJMhBATIcRECDERQkyEEBMhxEQIMRFCTIQQEyHERAgxEUJM\n",
        "hBATIcRECDERQkyEEBMhxEQIMRFCTIQQEyHERAgxEUJMhBATIcRECDERQkyEEBMhxEQIMRFC7N/6\n",
        "AHjD+fz1Vy6X4jh4iwgn8b23W39Mh7MR4WAejO3TR3LXf0uHszlf3GGJZ2M7/bbU/HKD7tZ5mITr\n",
        "e224PetyeSVsBmASruORHtb4zl9/XffsJEzCFQzyoqXN4SRMwqV9Flh9Y20OZ+Nk/e58qc5GcXgi\n",
        "nNb5fDMw028qIlzUZmvRzy/0SIeG4dhEOL9HGtPhwES4nC1fknlk42dzOAkRbuVjC7dgCS90yJBE\n",
        "uImVhuQjt2ZzODwRLqQ6PfhsYzocjwj3xeZwQiJc39pD0uZwciJcQn6p2rMdGoYjEeFePNu/Doch\n",
        "wrfdH4PVyUObw3mIcL9sDichwjVtv1e0OZyQCN+TvyTznc3hbES4R2NuDr9/Ff2fTicRvmWcl2Tu\n",
        "azu8vmJWdT/xGTM79eXD1378vJk1PqDt/g1+fMX8WWkwIlzHCE/5z3b4Qh4j/DPnJ8JXPbjabJ/1\n",
        "n511dzp8/HZ+/YYYhn8T4d79Out+HJhLJXfnkO68enSwREX4kllekvnuwQ5v2eYa9IMR4QE8vDk8\n",
        "n06X61/Z7JCOzSmKY3j8SprL5f8fGx/SgYnweZOuRX87nvN55Y9j/3H8/nAYKx7CmER4JJ8P+tGe\n",
        "IK4ccKHq/6JY1LBj8Derj8EnHeoshknIiA41D0XIoI7ToQiXYy3KS0TIuA4yDEV4w2He/Db4GPxz\n",
        "EcGeifC2Zy99/jDwA3pSl8tl3x2K8LZnr2Pe5kKTQ9p3hyL86tH7ehePicHXogdx9Au4v6f012PS\n",
        "m9+G8TEMd/mUcaAIr9Yzz7xV4M6b3z5+sseHxZj22uFuI/y+hVjszvu4nfkn5IwP6F12uJMIV0zu\n",
        "dJjTVZPYX4cTR3gd3up3yfcOJ38Q7OxxPDX3xFvmXZPOHuHsx3/NKQqmtKczhyJ8y6S7xX2Mkd10\n",
        "KMJ3TdrhPuyjQxEuYK4O9zEG90SEy5irwz3ZwTAUIdObvUMRLmaKYbjXtejU/ygRLmmKDhmNCBfW\n",
        "vhP8/Met3516YuzVxJetDWuzixvXvWKWrYhwGpLbK+uTtbw5DBdPzlp0WCbhWp5alJpyRybCFd3v\n",
        "cNO3YjEwS5TVjbAOHOEYuMUpCoiJcHX5RVXG4ODsCbeQfCzK1JdTHornyO2s1OGt2NyzsxDhphY/\n",
        "eXgS2/wsRwelt+MwCbf2ZRhaTCLCgNP0XBMhxJwnhJgIISZCiIkQYiKEmAghJkKIiRBiIoSYCCEm\n",
        "QoiJEGIihJgIISZCiIkQYiKEmAghJkKIiRBiIoSYCCEmQoiJEGIihJgIISZCiIkQYiKEmAghJkKI\n",
        "iRBiIoSYCCEmQoiJEGIihJgIISZCiIkQYiKEmAghJkKIiRBiIoSYCCEmQoiJEGIihJgIISZCiIkQ\n",
        "YiKEmAghJkKIiRBiIoSYCCEmQoiJEGIihJgIISZCiIkQYiKEmAghJkKIiRBiIoSYCCEmQoiJEGIi\n",
        "hJgIISZCiIkQYiKEmAghJkKIiRBiIoSYCCEmQoiJEGIihJgIISZCiIkQYiKEmAghJkKIiRBiIoSY\n",
        "CCEmQoiJEGIihJgIISZCiIkQYiKEmAghJkKIiRBiIoSYCCEmQoiJEGIihJgIISZCiIkQYiKE2H/U\n",
        "ruRXKJSKigAAAABJRU5ErkJggg==\n",
        "\"></td>\n",
        "\t\t<td><img src=\"data:image/png;base64,iVBORw0KGgoAAAANSUhEUgAAASwAAAEsCAIAAAD2HxkiAAAF40lEQVR4nO3d21LbSBRAUXtq/v+X\n",
        "NQ+ElAsw44ukrW6tVXlIEbAN8ua0LMm5LstyATr/1A8Azk6EEBMhxEQIMRFCTIQQEyHERAgxEUJM\n",
        "hBATIcRECDERQkyEEBMhxEQIMRFCTIQQEyHERAgxEUJMhBATIcRECDERQkyEEBMhxEQIMRFCTIQQ\n",
        "EyHERAgxEUJMhBATIcRECDERQkyEEBMhxEQIMRFCTIQQEyHERAgxEUJMhBATIcRECDERQkyEEBMh\n",
        "xEQIMRFCTIQQEyHERAgxEUJMhBATIcRECDERQkyEEBMhxEQIMRFCTIQQEyHERAgxEUJMhBATIcRE\n",
        "CDERQkyEEBMhxEQIMRFCTIQQEyHERAgxEUJMhBATIcRECDERQkyEEBMhxEQIMRFCTIQQEyHERAgx\n",
        "EUJMhBATIcRECDERQkyEEBMhxEQIMRFCTIQQEyHERAgxEUJMhBATIcRECDERQkyEEBMhxEQIsX/r\n",
        "B8AbrtevH1mW4nHwFhEO4ntv9z5Nh6MR4cE8GNtfH8ndfpUOR3NdbLDEs7Fd/m+p+eUGbdZxmITb\n",
        "e224PWtZXgmbAzAJt/FID1v85G/v15YdhEm4gYO8aGnncBAm4dr+Flj9YO0cjsbB+ul8qc6O4uFZ\n",
        "jo7p930/L9IMRYSr2mgt+trxjL9fZefw2ER4PA8m91RXOjwwL8ys57UxuEVy927ctj4kk3Bfmyb3\n",
        "4+3YOTw8Ee7i9xI2HVB2Dg9PhCt5fC3aZqDD4xHhLtrn/ZdFadKh8+nuE+E57LxzaEf0GV4dXUN+\n",
        "qtqDNhpHO7/aNB2T8KxeXpRKbm0m4dtGGYMfnj1yKLntmYQn8+DOYXhM5XxEeD7PHjmU3MZE+J6x\n",
        "1qI/+rHDcb+dAbme8JTyaw6/3+OJj2qYhG8YegzudgT/3pt9OHfnkwhPbIsj+I/f4Me961CEZ/fm\n",
        "6d1PJccdInzV0GvRe37pcIveDMPL5SJCft453G3E6VCEL5psDH7v8JfPZG0i5HK5/Onwerkstx/Z\n",
        "8a4//nrOoeg4IZ8+nv7L8ufP/nd91rfjEOHzJluLfrpedzyb3zk6N0TIsZxwGLqUictl5zH4gFPt\n",
        "HJqEHNGp5qEIOajzdChCDrcWPRsRclwnGYYifMDUF78dfAx+nkQwMxE+ZvbnwZEtyzJ3hyJ8zEkW\n",
        "Rkc1d4fOHf3qVP+b2MHXoidx9gjvvffCD1x0k/oYhlP+yjhRhDfrmVcvFdBhatYOp43w+y7EfBvv\n",
        "TSM+oafscJII90vOKzS1+TocOMLb8HbdJJ8dDr0ynex5PDRb4i3jdjh6hKM//luOEzKkmY4civAt\n",
        "g+4hzjFGpulQhO8atMM5zNGhCFcwVodzjMGZiHAdY3U4kwmGoQgZ3ugdinA1QwzDWdeiQ39TIlzT\n",
        "EB1yNCJcWXsl+PXTvX8demLMauDT1g5rt5MbnaQ+BxEOQ3Kzsj7ZypvDcPXkrEUPyyTcylOLUlPu\n",
        "zES4od87zC7F4mAsUTZ3hHXgER4D9zhEATERbi4/qcoYPDj7hHtI3hZl6NMpT8XvyP1s1OG92GzZ\n",
        "UYhwV6sfPLyIbXyWowelt/MwCff2ZRhaTCLCgMP03BIhxBwnhJgIISZCiIkQYiKEmAghJkKIiRBi\n",
        "IoSYCCEmQoiJEGIihJgIISZCiIkQYiKEmAghJkKIiRBiIoSYCCEmQoiJEGIihJgIISZCiIkQYiKE\n",
        "mAghJkKIiRBiIoSYCCEmQoiJEGIihJgIISZCiIkQYiKEmAghJkKIiRBiIoSYCCEmQoiJEGIihJgI\n",
        "ISZCiIkQYiKEmAghJkKIiRBiIoSYCCEmQoiJEGIihJgIISZCiIkQYiKEmAghJkKIiRBiIoSYCCEm\n",
        "QoiJEGIihJgIISZCiIkQYiKEmAghJkKIiRBiIoSYCCEmQoiJEGIihJgIISZCiIkQYiKEmAghJkKI\n",
        "iRBiIoSYCCEmQoiJEGIihJgIISZCiIkQYiKEmAghJkKIiRBiIoSYCCEmQoiJEGIihJgIISZCiIkQ\n",
        "YiKE2H+w6M9VqmpX2wAAAABJRU5ErkJggg==\n",
        "\"></td>\n",
        "\t</tr>\n",
        "</table>"
       ],
       "metadata": {},
       "output_type": "pyout",
       "prompt_number": 31,
       "text": [
        "<IPython.core.display.HTML at 0x10e5533d0>"
       ]
      }
     ],
     "prompt_number": 31
    },
    {
     "cell_type": "markdown",
     "metadata": {
      "slideshow": {
       "slide_type": "fragment"
      }
     },
     "source": [
      "### Fix 1,3 conjugated cation (non-aromatic)\n",
      "\n",
      "In this case, and the other 'conjugated cation' rules that follow, the NH+ moiety exposed by the transformation will be deprotonated in the subsequent neutralization step when the full procedure is performed, leaving the desired neutral parent."
     ]
    },
    {
     "cell_type": "code",
     "collapsed": false,
     "input": [
      "demo(\"CNC=[N+](C)C\")"
     ],
     "language": "python",
     "metadata": {
      "slideshow": {
       "slide_type": "-"
      }
     },
     "outputs": [
      {
       "output_type": "stream",
       "stream": "stderr",
       "text": [
        "[2013/Oct/31 16:56:13 INFO    ] rule 15 (Fix 1,3 conjugated cation (non-aromatic)) applied\n"
       ]
      },
      {
       "html": [
        "<!-- NB the styling is inline as otherwise it is overridden by the Notebook stylesheets -->\n",
        "\n",
        "<table>\n",
        "\t<tr>\n",
        "\t\t<th style=\"text-align: center;\">Original</th>\n",
        "\t\t<th style=\"text-align: center;\">Transformed</th>\n",
        "\t</tr>\n",
        "\t<tr>\n",
        "\t\t<td><img src=\"data:image/png;base64,iVBORw0KGgoAAAANSUhEUgAAASwAAAEsCAIAAAD2HxkiAAAFB0lEQVR4nO3d0Y6iSABA0WGz///L\n",
        "7IOzxojaSoO30HPeujtRUnK7CkGc5nn+A3T+qTcAvp0IISZCiIkQYiKEmAghJkKIiRBiIoSYCCEm\n",
        "QoiJEGIihJgIISZCiIkQYiKEmAghJkKIiRBiIoSYCCEmQoiJEGIihJgIISZCiIkQYiKEmAghJkKI\n",
        "iRBiIoSYCCEmQoiJEGIihJgIISZCiIkQYiKEmAghJkKIiRBiIoSYCCEmQoiJEGIihJgIISZCiIkQ\n",
        "YiKEmAghJkKIiRBiIoSYCCEmQoiJEGIihJgIISZCiIkQYiKEmAghJkKIiRBiIoSYCCEmQoiJEGIi\n",
        "hJgIISZCiIkQYiKEmAghJkKIiRBiIoSYCCEmQoiJEGIihJgIISZCiIkQYiKEmAghJkKIiRBiIoSY\n",
        "CCEmQoiJEGIihJgIISZCiIkQYiKEmAghJkKIiRBiIoSYCCEmQoiJEGIihJgIISZCiIkQYiKEmAgh\n",
        "JkKIiRBiIoSYCCEmQlaapqnehA8hQoiJEGIihJgIISZC1pimaZ7neis+hAghJkKIiRBiIoSYCCEm\n",
        "QoiJEGIihJgIISZCXuZymW2JEGIihJgIISZCiImQFbwrsyURQkyEEBMhr5mmP84RbkuEEBMhxES4\n",
        "qeVNqc+/efAnvpsItyYtXiTCrc2zDnmJCHmBt0b38G+9AZ/oNBku99bjz5AK3IMI93Gzw6sfj98k\n",
        "m7Ac3YagWM1M+Cvn9m6s07xDw3NEuNKprx+OkZ7s8KnH4mO5Wchrpmk6fZBng2Fb9um1+EoifNbp\n",
        "K9q3H66rFAd5OZbvKjk7sRvL0R9M/0ey13+rqyXrOEtT1b2LCG/bvb1Ly0PHEQK4d7aTrYnw2l7L\n",
        "zsdOT3c1JY4cwOCbdygi/OutU989y6Xp+zfm8klNhm8hwmjquyc8RLx5NmXZ4dWHswYZtyP76gjH\n",
        "yu/szYeIr15RcF45jzZuh/XVEQ6X39l7DhGfPFHp0p+dfXWEo9tpabriIoFlh8P+/zogJ+uHt+GF\n",
        "Nbtdo+Pw8DdEeBC/mYg2ae+JzhwnriPC41jR4e/ze/FJdbiCCA/lyag2nPpefxBL01eJ8Gget7FH\n",
        "fqv2EN/m+zwjdUw/njN449R3//HsXU8xTId1r8MB8rt44CEvhxiMCI/sMp6R2ls8j93sEaPzld7+\n",
        "oX4dPmBovkl6Qw0d3mNcvsMY97NxiHiTCD/deNd8mhKvGI4PNcbUd48OL7kD9ydazn6D7fHzPE8/\n",
        "nur8Gj7K9LkGC+/KuUNTolUBMUtTy1FilqYipGcmBEoihJgIISZCiIkQYiKEmAghJkKIiRBiIoSY\n",
        "CCEmQoiJEGIihJgIISZCiIkQYiKEmAghJkKIiRBiIoSYCCEmQoiJEGIihJgIISZCiIkQYiKEmAgh\n",
        "JkKIiRBiIoSYCCEmQoiJEGIihJgIISZCiIkQYiKEmAghJkKIiRBiIoSYCCEmQoiJEGIihJgIISZC\n",
        "iIkQYiKEmAghJkKIiRBiIoSYCCEmQoiJEGIihJgIISZCiIkQYiKEmAghJkKIiRBiIoSYCCEmQoiJ\n",
        "EGIihJgIISZCiIkQYiKEmAghJkKIiRBiIoSYCCEmQoiJEGIihJgIISZCiIkQYiKEmAghJkKIiRBi\n",
        "IoSYCCEmQoiJEGIihJgIISZCiIkQYiKEmAghJkKIiRBiIoSYCCEmQoiJEGIihJgIISZCiIkQYiKE\n",
        "mAghJkKIiRBiIoTYf/g/KjeZtytTAAAAAElFTkSuQmCC\n",
        "\"></td>\n",
        "\t\t<td><img src=\"data:image/png;base64,iVBORw0KGgoAAAANSUhEUgAAASwAAAEsCAIAAAD2HxkiAAAFAElEQVR4nO3d0XKTUBRA0eD4/7+M\n",
        "D3Wc2MRIuMAmyVrjg9poMWX3cG9oneZ5vgCdH/UBwKcTIcRECDERQkyEEBMhxEQIMRFCTIQQEyHE\n",
        "RAgxEUJMhBATIcRECDERQkyEEBMhxEQIMRFCTIQQEyHERAgxEUJMhBATIcRECDERQkyEEBMhxEQI\n",
        "MRFCTIQQEyHERAgxEUJMhBATIcRECDERQkyEEBMhxEQIMRFCTIQQEyHERAgxEUJMhBATIcRECDER\n",
        "QkyEEBMhxEQIMRFCTIQQEyHERAgxEUJMhBATIcRECDERQkyEEBMhxEQIMRFCTIQQEyHERAgxEUJM\n",
        "hBATIcRECDERQkyEEBMhxEQIMRFCTIQQEyHERAgxEUJMhBATIcRECDERQkyEEBMhxEQIMRFCTIQQ\n",
        "EyHERAgxEUJMhBATIcRECDERQkyEEBMhxEQIMRFCTIQQEyHERAgxEUJMhBATIcRECDERQkyEEBPh\n",
        "qGma6kPgtYkQYiKEmAghJsIh0zTN81wfBa9NhBATIcRECDERQkyEXC5uOUiJcD1bo2xChBATIcRE\n",
        "iOvqmAghJkKIiXAll3BsRYQQEyHERLjam1yLuq7OiRBiIoSYCCEmQoiJcI1putjLYCsi/Gi2Rs9A\n",
        "hBATIcRECDERfjgLwp4IISbCNWwosiERfi6vdp6ECCEmQoiJEGIivHH7DeH//M6DN8FaIrxHWhxI\n",
        "hPfM89t3aGv0PES4qXdPlz38rA/grL6G4e2weJfMjMHzEOG/3e3w2y9v92y+fuIcZzERbuSrOist\n",
        "nmdN+NAH7NCQE+H/PDXZjEGe51uMbOR2YHpiWcYkXGyafv+46yX2Ud3xc0oiXOb6ZH3Q4b/2Ts/j\n",
        "hIf08US4zPK6Ttjh9QC31XQ+IlxspMPqvA/fNYuJ8BnL62qXiLfL1+vjMQxPRoRPWl5XskS8/bxw\n",
        "exiX7x1KsiXC5z1V12EdLszvHqOx5XXCAbcn/cJHPn7wyDH89zCu3/r3ba5ueq2YhAPaJeLA6Lt7\n",
        "VF9/2kg8nkk47NlZtPCRW73HVX+9k+JIItzI6kvT5c//gXfG6fBIItzO8kiezam4MdUS8TAi3NTm\n",
        "Hdb3hRuJBxDhDsYvTev2rvnffPfm+d3HyKsX35zgA6TDXXlydzNyafr48YVpmi6Xi7NlDyLc07oO\n",
        "T/wRMRL34Dnd3yavDZ6GDjfnjpn9nfArDAfM8zy9+D/hbER4iHfsUIpbEeFRvn1F34ub59lI3Irr\n",
        "e4ZYIo4zCRliHo4TIaMsEQeJkA1YIo4QIZvR4ToiZEs2aVYQIcRECDERQkyEEBMhxEQIMRFCTIQQ\n",
        "EyHERAgxEUJMhBATIcRECDERQkyEEBMhxEQIMRFCTIQQEyHERAgxEUJMhBATIcRECDERQkyEEBMh\n",
        "xEQIMRFCTIQQEyHERAgxEUJMhBATIcRECDERQkyEEBMhxEQIMRFCTIQQEyHERAgxEUJMhBATIcRE\n",
        "CDERQkyEEBMhxEQIMRFCTIQQEyHERAgxEUJMhBATIcRECDERQkyEEBMhxEQIMRFCTIQQEyHERAgx\n",
        "EUJMhBATIcRECDERQkyEEBMhxEQIMRFCTIQQEyHERAgxEUJMhBATIcRECDERQkyEEBMhxEQIMRFC\n",
        "TIQQEyHERAgxEUJMhBATIcRECDERQkyEEBMhxEQIMRFCTIQQEyHERAgxEUJMhBATIcRECDERQkyE\n",
        "EBMhxH4BU50XU0bzzKsAAAAASUVORK5CYII=\n",
        "\"></td>\n",
        "\t</tr>\n",
        "</table>"
       ],
       "metadata": {},
       "output_type": "pyout",
       "prompt_number": 32,
       "text": [
        "<IPython.core.display.HTML at 0x10e57bb90>"
       ]
      }
     ],
     "prompt_number": 32
    },
    {
     "cell_type": "markdown",
     "metadata": {
      "slideshow": {
       "slide_type": "slide"
      }
     },
     "source": [
      "### Fix 1,3 conjugated cation (aromatic 1)"
     ]
    },
    {
     "cell_type": "code",
     "collapsed": false,
     "input": [
      "demo(\"CNc1[n+](C)cccc1\")"
     ],
     "language": "python",
     "metadata": {
      "slideshow": {
       "slide_type": "-"
      }
     },
     "outputs": [
      {
       "output_type": "stream",
       "stream": "stderr",
       "text": [
        "[2013/Oct/31 16:56:13 INFO    ] rule 16 (Fix 1,3 conjugated cation (aromatic 1)) applied\n"
       ]
      },
      {
       "html": [
        "<!-- NB the styling is inline as otherwise it is overridden by the Notebook stylesheets -->\n",
        "\n",
        "<table>\n",
        "\t<tr>\n",
        "\t\t<th style=\"text-align: center;\">Original</th>\n",
        "\t\t<th style=\"text-align: center;\">Transformed</th>\n",
        "\t</tr>\n",
        "\t<tr>\n",
        "\t\t<td><img src=\"data:image/png;base64,iVBORw0KGgoAAAANSUhEUgAAASwAAAEsCAIAAAD2HxkiAAAGQklEQVR4nO3d3W6b3BZAUTj63v+V\n",
        "OReurMRxHP9g5saMcVU1bYow04sNuJmXZZmAzv/qDYCjEyHERAgxEUJMhBATIcRECDERQkyEEBMh\n",
        "xEQIMRFCTIQQEyHERAgxEUJMhBATIcRECDERQkyEEBMhxEQIMRFCTIQQEyHERAgxEUJMhBATIcRE\n",
        "CDERQkyEEBMhxEQIMRFCTIQQEyHERAgxEUJMhBATIcRECDERQkyEEBMhxEQIMRFCTIQQEyHERAgx\n",
        "EUJMhBATIcRECDERQkyEEBMhxEQIMRFCTIQQEyHERAgxEUJMhBATIcRECDERQkyEEBMhxEQIMRFC\n",
        "TIQQEyHERAgxEUJMhBATIcRECDERQkyEEBMhxEQIMRFCTIQQEyHERAgxEUJMhBATIcRECDERQkyE\n",
        "EBMhxEQIMRFCTIQQEyHERAgxEUJMhBATIcRECDERQkyEEBMhxES4qXme601gOCLc1LIsOuSCCLd2\n",
        "6lCKnIkwsCyLkciZCDM65ESEJR0yiTBniYgIe5aIByfCUejwsEQ4kF106OR5dfOyLPU28M3pEB/w\n",
        "dfm6YfPsyFmNXTmooY7yq+8Lw75Z7M5ArzQXRujwz9JG2Mi9sweHNs9T8vqcV333HB46fJHdN7pT\n",
        "Dpu9Ss+dZOrwFfbdPmwwEl9c41kiPk2Eu/G+Dlfsx0h8gl22J+t2OM/TNK0/vnT4KPvriN69ztTh\n",
        "Q+ysAzk/6PLca/5QWpaI9xPh53uxve/f6rEDxki8h33EYx4dcTr8kwe4d+jn89MbPlH96AevdvFU\n",
        "ekuE+1Qf1k90KMXfiHCflmV3HRqJvxHhJ9rqWH90xOnwKhHu1gDDcLJEXIMI9+xnh/P873fOv9ho\n",
        "QywRnyfCz7Is/+4Gnn+x3b9sifgkEe7cPSelW01FS8TniHD/fk687ua4JeITRLhDF42dF4FXFYe4\n",
        "JeJDRPjRVnxs9EEPpXXwJaIIeRenpncSIe912LTuJ8Kd604476fD20TIFlx9uUGEbOTPJeJhP3ko\n",
        "ws815JmqU9OfRMjWjjnubhAhxEQIMRHumcXVRxDhR9j/Kuuwl0YnEX6sIS+NcpUIISZCiIkQYiKE\n",
        "mAjpHfnS6CTCHbtx/dOl0V0RIcSOGKGn+BnKESP0aRqGcsQIJx/0ZiQHjXA6/H+zxziOG+HJB3a4\n",
        "t0ujB78/MYlw2mmHeyuNG0Q4TZaIpP6rN2AUpzOiTzg12vv2H49J+M0uT03ZORFeGrrD008anOdp\n",
        "mubJ0PsQIrxixCXijx/0OfSbxd0+4fz/ZdaE1w20RLwo7cv2nDvsN5IXiPCWZVnmOTrp+znlrm3H\n",
        "QG8Wv/NOcZsI/3D6mfCbHj/35ff968uYHcrvHiL826nD6d3XQR5v7/ufHajD82J1kO0ZnAjvcjqW\n",
        "3jUSX8vvy1/ql4j5BuzRKO+de7Fyh79fdHntu279sj43+sYZ3S2T8DHrHDMrjb7fbHlqavS9ToTb\n",
        "enN+X77rezu06luRCDf0tcD3H7vvWCKu2N4HPGmwFhFubsPRseJdxBV7dgZ7wcr4EJ7u8B2jzyF3\n",
        "QYRP+XmR9Pw7N76UerRDo28zTkefNUZa97t/ibhWM0bfnUT4rOB5tlfduUQcagF5BCI8nPfdvTD6\n",
        "niPCF/w2DIe/+L56h0bfK0T4mqsd/rwwM55V7iIafasQ4XG9chfR6FuRCF92/qTTPj10amr0vYMI\n",
        "13CADo2+93Gznn+uZmb0bUCEfHMeiUbfZkTIJfltTIQQ85//QkyEEBMhxEQIMRFCTIQQEyHERAgx\n",
        "EUJMhBATIcRECDERQkyEEBMhxEQIMRFCTIQQEyHERAgxEUJMhBATIcRECDERQkyEEBMhxEQIMRFC\n",
        "TIQQEyHERAgxEUJMhBATIcRECDERQkyEEBMhxEQIMRFCTIQQEyHERAgxEUJMhBATIcRECDERQkyE\n",
        "EBMhxEQIMRFCTIQQEyHERAgxEUJMhBATIcRECDERQkyEEBMhxEQIMRFCTIQQEyHERAgxEUJMhBAT\n",
        "IcRECDERQkyEEBMhxEQIMRFCTIQQEyHERAgxEUJMhBATIcRECDERQkyEEBMhxEQIMRFCTIQQEyHE\n",
        "RAgxEUJMhBATIcRECDERQkyEEBMhxEQIMRFCTIQQEyHERAgxEUJMhBD7P85epSDl3KssAAAAAElF\n",
        "TkSuQmCC\n",
        "\"></td>\n",
        "\t\t<td><img src=\"data:image/png;base64,iVBORw0KGgoAAAANSUhEUgAAASwAAAEsCAIAAAD2HxkiAAAGW0lEQVR4nO3d0XKiWBRAUZya//9l\n",
        "5sEeqzXGgAIbwlrVD12dTkIp28MFTC7jOA5A5596A+DsRAgxEUJMhBATIcRECDERQkyEEBMhxEQI\n",
        "MRFCTIQQEyHERAgxEUJMhBATIcRECDERQkyEEBMhxEQIMRFCTIQQEyHERAgxEUJMhBATIcRECDER\n",
        "QkyEEBMhxEQIMRFCTIQQEyHERAgxEUJMhBATIcRECDERQkyEEBMhxEQIMRFCTIQQEyHERAgxEUJM\n",
        "hBATIcRECDERQkyEEBMhxEQIMRFCTIQQEyHERAgxEUJMhBATIcRECDERQkyEEBMhxEQIMRFCTIQQ\n",
        "EyHERAgxEUJMhBATIcRECDERQkyEEBMhxEQIMRFCTIQQEyHERAgxEUJMhBATIcRECDERQkyEEBMh\n",
        "xEQIMRFCTIQQEyHERAgxEUJMhBATIcRECDERQkyEEBMhxEQIMRFu6nK51JvA7ohwU+M46pAHItza\n",
        "tUMpciPCwDiORiI3IszokCsRlnTIIMKcJSIi7FkinpwI90KHpyXCHTlEhw6eF3cZx7HeBu5cd/Ed\n",
        "Pi9/b9jlYs9ZjIdyp3a1lz99Xdjti8Xh7OiZ5sEeOvyxtD1s5NF5BHftchmS5+e26puye+jwQx6+\n",
        "vbvmsNmz9N5Bpg4/4bE7hg1G4odrPEvEt4nwMNbrcMF+jMQ3eMiOZNkOL5dhGJYfXzqcy+N1MIss\n",
        "EddeZ+pwFg/WIb03Em83urz3nM9KyxJxOhEe1fQOP2zv/kvN22GMxCk8Rr/ZGoedc0ecDn/kBu6D\n",
        "+3ov9fV8y+XPqFx8/5/7xqtD3JXeEuHxPdvF18jv/uvP7lCK3xHh8Y3j0w7X/7bzOjQSvyNC3jd3\n",
        "xOnwKRH+CtEwHCwRlyDC36LrcLBE/IwIWYYl4ttE+Iukw3CwRHyXCH+X+rK4JeIb3M1wfAvelrYc\n",
        "N5pOZxKyilmHpidfIoqQtTg0nUiErOu0aU0nwoPb5YLwgQ5fEyFbcIH+BRGykR+XiKd956EI2ZRD\n",
        "069EyNbOOe5eECHERAgxER6ZxdWvIMJf4firrNOeGh1ECDkRQkyEEBMhxEQIMRHSO/Op0UGEB3aE\n",
        "NzExhQghdsYI3cXPrpwxQu+mYVfOGOHgjd7syUkjHE7/Y/bYj/NGeKXD3MmvTwwiHA7aoesTv4gI\n",
        "h8ESkZQI/7BEpCLCOzpkeyJ8tOsOL5c/f4bh+nuM6g1iASJ8Yo9LxP/bu9n1i8VkTo0Ow/BvvQE7\n",
        "dd0zdrGLPJT21/bcOuw3kg+I8JVxHC+X6KDv65R7th07erH4nleK10T4g+vvgd90/5mW3/3Hx312\n",
        "KL8pRPiza4fD2udB5rd3/3931OFtsbqT7dk5EU5y3ZfWGomf5ffXJ/VLxHwDjmgvr50n9f1Jl8++\n",
        "6tZP63ujbz+ju2USFhYafd/Z8tDU6PucCGvv7b4/LVLX7tCqb0EijHzS3tTvsPwSccH2fsGdBktx\n",
        "UH4QHxzBLjISF+zZEewDEe7eEidv3u5wjdFnl3sgwjm+XqO4/cuLD739vR589kzN7dDo24w14Uwb\n",
        "3D6zzrnT6UvEpZox+iYS4Uzr3ca28nWLYfKNprtaQJ6BCLfyIt3187v/2mtdvTD63iPC+b4bhnPP\n",
        "uW/b3v33WbhDo+8TInzL0w6/nph5+pfb/eAvPnd9i1xFNPoWIcL1vbj7O913P3kvotG3IBG+6+lA\n",
        "m/Xp+zDr0NToW4MIPzCrw7/32p3twVM6NPrW42L9+rZ4R/ACnmZm9G1AhNy5jUSjbzMi5JH8NiZC\n",
        "iPnhvxATIcRECDERQkyEEBMhxEQIMRFCTIQQEyHERAgxEUJMhBATIcRECDERQkyEEBMhxEQIMRFC\n",
        "TIQQEyHERAgxEUJMhBATIcRECDERQkyEEBMhxEQIMRFCTIQQEyHERAgxEUJMhBATIcRECDERQkyE\n",
        "EBMhxEQIMRFCTIQQEyHERAgxEUJMhBATIcRECDERQkyEEBMhxEQIMRFCTIQQEyHERAgxEUJMhBAT\n",
        "IcRECDERQkyEEBMhxEQIMRFCTIQQEyHERAgxEUJMhBATIcRECDERQkyEEBMhxEQIMRFCTIQQEyHE\n",
        "RAgxEUJMhBATIcRECDERQkyEEBMhxEQIMRFCTIQQEyHERAgxEUJMhBATIcRECDERQkyEEBMhxEQI\n",
        "MRFCTIQQEyHE/gOr/cAE6Su8xAAAAABJRU5ErkJggg==\n",
        "\"></td>\n",
        "\t</tr>\n",
        "</table>"
       ],
       "metadata": {},
       "output_type": "pyout",
       "prompt_number": 33,
       "text": [
        "<IPython.core.display.HTML at 0x10e561dd0>"
       ]
      }
     ],
     "prompt_number": 33
    },
    {
     "cell_type": "markdown",
     "metadata": {
      "slideshow": {
       "slide_type": "skip"
      }
     },
     "source": [
      "### Fix 1,3 conjugated cation (aromatic 2)"
     ]
    },
    {
     "cell_type": "code",
     "collapsed": false,
     "input": [
      "demo(\"[nH]1c(=[N+](C)C)cccc1\")"
     ],
     "language": "python",
     "metadata": {
      "slideshow": {
       "slide_type": "skip"
      }
     },
     "outputs": [
      {
       "output_type": "stream",
       "stream": "stderr",
       "text": [
        "[2013/Oct/31 16:56:13 INFO    ] rule 17 (Fix 1,3 conjugated cation (aromatic 2)) applied\n"
       ]
      },
      {
       "html": [
        "<!-- NB the styling is inline as otherwise it is overridden by the Notebook stylesheets -->\n",
        "\n",
        "<table>\n",
        "\t<tr>\n",
        "\t\t<th style=\"text-align: center;\">Original</th>\n",
        "\t\t<th style=\"text-align: center;\">Transformed</th>\n",
        "\t</tr>\n",
        "\t<tr>\n",
        "\t\t<td><img src=\"data:image/png;base64,iVBORw0KGgoAAAANSUhEUgAAASwAAAEsCAIAAAD2HxkiAAAFpElEQVR4nO3dwVriSBhAUTLfvP8r\n",
        "ZxY4drdiAO1wU5VzVroCquvWH4k2y7quF6DzT/0E4OxECDERQkyEEBMhxEQIMRFCTIQQEyHERAgx\n",
        "EUJMhBATIcRECDERQkyEEBMhxEQIMRFCTIQQEyHERAgxEUJMhBATIcRECDERQkyEEBMhxEQIMRFC\n",
        "TIQQEyHERAgxEUJMhBATIcRECDERQkyEEBMhxEQIMRFCTIQQEyHERAgxEUJMhBATIcRECDERQkyE\n",
        "EBMhxEQIMRFCTIQQEyHERAgxEUJMhBATIcRECDERQkyEEBMhxEQIMRFCTIQQEyHERAgxEUJMhBAT\n",
        "IcRECDERQkyEEBMhxEQIMRFCTIQQEyHERAgxEUJMhBATIcRECDERQkyEEBMhxEQIMRFCTIQQEyHE\n",
        "RAgxEUJMhBATIcRECDERQkyEEBMhxEQIMRFCTIQQEyHERAgxEUJMhBATIcRECDERQkyEEBMhxEQI\n",
        "MRFC7N/6CWSWZVnXtX4W+1qW5fUPOv2q/nXzb8QNc3dYvbq5V3UPLkchduoI13VNLtheIBxHE6/q\n",
        "Tk4dIRzB2SOc8tjOfyqbclX3c/YIISfC2Y7tfAxeTbaquxIhxA5xah7BQQbID228il3n0saDTrCq\n",
        "ezvvb8zMZ3vHJzFcL0p1uM3l6Bs/w1AR4SQOO3CcbneJ8BfbhYQIZ3DYMXjldNsmwj/YLryeCId3\n",
        "8DF45XTbIMKPbJedWNiviPCGdV1H2S1DjEG2iXBgwxVoGN4kwtvW9WK38BoiHNVwY/DKMPxMhF8y\n",
        "DHkNEW45bIeDjsErw/ADf0XxM7tupmEz4ykm4R0HHIZDj8Erw/B3w/9zns0EBb6b6bX8hEkIMRGO\n",
        "ZLLR4aL0SoQQE+EwJhuDV4bhRYSQE+Gmz4d0dGzPMQZvDj3D0M36e5bliZvm595M2+Y4R/ZgEt5z\n",
        "gLv1y+Uy9+Y9+TA0CX/mw5zc56R/+xPjp2bywWyPwZMPSZPwAQcYhkxMhI/53OGyXN4H1N6Jvk+J\n",
        "Mc8CY3CbCL9rXd/aeP9i74e7Gq1Djd0lwoe5KN2BRC8ifM7n7fLKDTTgMNTYI0S46f8N9Gvb21J/\n",
        "j0SvRHjfgW4NDDUMvR/zIBHecaACh6Kxx4lwNEMNw69I9Hci3HLQMXj4DjX2FBF+6aAFjk+iH4hw\n",
        "TAcehhp7lghvMwZ3ItHPRDisQw5DtyW+QYQ3LMsy2FY5Roca+x4RfjTSThrleV4ul7EW9rVEOLjD\n",
        "XJRq7NtE+Ac7aScWdoMIx3eAYej9mJ8Q4S/2yvdYtx8S4RQOMAy/ItG7RPhm+L0SdTj8uh2ACNmR\n",
        "RB/h/x29XKbZKy9/CZOsW80k5Pu2C5Tog0Ror+zCqj5OhBA7e4QO7D1Y1aecPULInTrCeQ7sjQ8z\n",
        "ffnnnM6zqq9y6gincrzfleFB571PONuBff2ojGde0b1sv1n1VKv6EueN0F65twBnX5+XOW+EE/pq\n",
        "GLpSPTYRzuVmhx++1eTBeGMGYiKcjg8zHY0IZ3T695zGMtfb9DAgkxBiIoSYCCEmQoiJEGIihJgI\n",
        "ISZCiIkQYiKEmAghJkKIiRBiIoSYCCEmQoiJEGIihJgIISZCiIkQYiKEmAghJkKIiRBiIoSYCCEm\n",
        "QoiJEGIihJgIISZCiIkQYiKEmAghJkKIiRBiIoSYCCEmQoiJEGIihJgIISZCiIkQYiKEmAghJkKI\n",
        "iRBiIoSYCCEmQoiJEGIihJgIISZCiIkQYiKEmAghJkKIiRBiIoSYCCEmQoiJEGIihJgIISZCiIkQ\n",
        "YiKEmAghJkKIiRBiIoSYCCEmQoiJEGIihJgIISZCiIkQYiKEmAghJkKIiRBiIoSYCCEmQoiJEGIi\n",
        "hJgIISZCiIkQYiKEmAghJkKIiRBiIoSYCCEmQoiJEGIihJgIISZCiIkQYiKEmAghJkKIiRBi/wFR\n",
        "xaBdhwIfyAAAAABJRU5ErkJggg==\n",
        "\"></td>\n",
        "\t\t<td><img src=\"data:image/png;base64,iVBORw0KGgoAAAANSUhEUgAAASwAAAEsCAIAAAD2HxkiAAAFwUlEQVR4nO3dy3LbOBRAQXNq/v+X\n",
        "NQtmEsfW07Z0ALC7skhWolA4vDTpSNvpdHoDOv/UBwBHJ0KIiRBiIoSYCCEmQoiJEGIihJgIISZC\n",
        "iIkQYiKEmAghJkKIiRBiIoSYCCEmQoiJEGIihJgIISZCiIkQYiKEmAghJkKIiRBiIoSYCCEmQoiJ\n",
        "EGIihJgIISZCiIkQYiKEmAghJkKIiRBiIoSYCCEmQoiJEGIihJgIISZCiIkQYiKEmAghJkKIiRBi\n",
        "IoSYCCEmQoiJEGIihJgIISZCiIkQYiKEmAghJkKIiRBiIoSYCCEmQoiJEGIihJgIISZCiIkQYiKE\n",
        "mAghJkKIiRBiIoSYCCEmQoiJEGIihJgIISZCiIkQYiKEmAghJkKIiRBiIoSYCCEmQoiJEGIihJgI\n",
        "ISZCiIkQYiKEmAghJkKIiRBiIoSYCCEmQoiJEGIihJgIISZCiIkQYiKEmAghJkKIiRBiIoSYCCEm\n",
        "QoiJEGL/1geQ2bbtdDrVR/Fc27a9/kWXX9Uft/5GvGLtDqt3t/aqPoPLUYgdOsLT6ZRcsL1AOI4W\n",
        "XtUnOXSEMIKjR7jkaTv/qWzJVX2eo0cIORGudtrOx+BusVV9KhFCbIiz5ggGGSDfdOVdPHUuXXnR\n",
        "BVb12Y77GzPrub7jkxj2i1IdXudy9Bc/w1AR4SKGHTjObjeJ8A/bhYQIVzDsGNw5u10nwr/YLrye\n",
        "CKc3+BjcObtdIcKPbJcnsbCXiPCM0+k0y26ZYgxynQgnNl2BhuFZIjzvdHqzW3gNEc5qujG4Mww/\n",
        "E+FFhiGvIcJrhu1w0jG4Mww/ECHERHjDgMNw6jG4MwzfE+FkFihwp8PfRHjbEnuecYlwJsuMwZ1h\n",
        "uBMhxEQ4jcXG4M4wfBMh5ER4t88n7Beewi+OwW379WcGZ4eeYegjDx+xbWdulbYb6PdzzLPHNpIl\n",
        "L6d/hEn4iOjJ/fb2tvbmPfgwNAm/7fln99P1WTfDMLw+Bg8+JE3CBw34a2zvjXxsXCDCx72+w99T\n",
        "4tLrjj1GjMHrRDiJ+zscbBhq7CYRfsngF6XzkOibCL/u9VtnwmGosXuI8C7bdq462+t7JLoT4W0D\n",
        "3fmfahi6H3MnEd4wUIFT0dj9RDibqYbhJRJ9T4TXDDoG788s6lBjDxHhRYMWeI+xj1uiH4hwTgNf\n",
        "lGrsUSI8b+IxODaJfibCaQ05DD2W+AIRnrFt22RbZYwboRr7GhF+NNNOunmcIz2umGlhX0uEkxsm\n",
        "M419mQj/suBOGqPSBRf254hwfgM8u3c/5jtE+Meye+XJb2rZdXsVES5hyMcV/7+gRG8Q4S/T75Uo\n",
        "s+nXbQAiPIzxnt2z87mjb2/L7JX7Hxv+kEXWrWYS8nXXC5TonURorzyFVb2fCCF29AidsJ/Bqj7k\n",
        "6BFC7tARTn/CvvK9pd1Xmk6/qi936AhXUP/nCb7vuM8JFzlh79+K8b03ciHkL+a9wqq+1nEjPPpe\n",
        "eZfuhZU49vq80HEjXMelYehKdRIiXMLZDj/88/M9m/0vB78iGIAIj2evzoc6DsPd0VX43tJpiXAh\n",
        "D002Y3AYS9ymh5mZhBATIcRECDERQkyEEBMhxEQIMRFCTIQQEyHERAgxEUJMhBATIcRECDERQkyE\n",
        "EBMhxEQIMRFCTIQQEyHERAgxEUJMhBATIcRECDERQkyEEBMhxEQIMRFCTIQQEyHERAgxEUJMhBAT\n",
        "IcRECDERQkyEEBMhxEQIMRFCTIQQEyHERAgxEUJMhBATIcRECDERQkyEEBMhxEQIMRFCTIQQEyHE\n",
        "RAgxEUJMhBATIcRECDERQkyEEBMhxEQIMRFCTIQQEyHERAgxEUJMhBATIcRECDERQkyEEBMhxEQI\n",
        "MRFCTIQQEyHERAgxEUJMhBATIcRECDERQkyEEBMhxEQIMRFCTIQQEyHERAgxEUJMhBATIcRECDER\n",
        "QkyEEBMhxEQIMRFCTIQQEyHERAgxEUJMhBD7D6Jvv2MeP0RAAAAAAElFTkSuQmCC\n",
        "\"></td>\n",
        "\t</tr>\n",
        "</table>"
       ],
       "metadata": {},
       "output_type": "pyout",
       "prompt_number": 34,
       "text": [
        "<IPython.core.display.HTML at 0x10e57b690>"
       ]
      }
     ],
     "prompt_number": 34
    },
    {
     "cell_type": "markdown",
     "metadata": {
      "slideshow": {
       "slide_type": "skip"
      }
     },
     "source": [
      "### Fix 1,5 conjugated cation (non-aromatic)"
     ]
    },
    {
     "cell_type": "code",
     "collapsed": false,
     "input": [
      "demo(\"CNC=CC=[N+](C)C\")"
     ],
     "language": "python",
     "metadata": {
      "slideshow": {
       "slide_type": "skip"
      }
     },
     "outputs": [
      {
       "output_type": "stream",
       "stream": "stderr",
       "text": [
        "[2013/Oct/31 16:56:13 INFO    ] rule 18 (Fix 1,5 conjugated cation (non-aromatic)) applied\n"
       ]
      },
      {
       "html": [
        "<!-- NB the styling is inline as otherwise it is overridden by the Notebook stylesheets -->\n",
        "\n",
        "<table>\n",
        "\t<tr>\n",
        "\t\t<th style=\"text-align: center;\">Original</th>\n",
        "\t\t<th style=\"text-align: center;\">Transformed</th>\n",
        "\t</tr>\n",
        "\t<tr>\n",
        "\t\t<td><img src=\"data:image/png;base64,iVBORw0KGgoAAAANSUhEUgAAASwAAAEsCAIAAAD2HxkiAAAFwElEQVR4nO3dy3LiOABAUTw1///L\n",
        "zIKuVIZXAzZcCZ+z66SDZcJFRjZkOR6PB6DzTz0A2DsRQkyEEBMhxEQIMRFCTIQQEyHERAgxEUJM\n",
        "hBATIcRECDERQkyEEBMhxEQIMRFCTIQQEyHERAgxEUJMhBATIcRECDERQkyEEBMhxEQIMRFCTIQQ\n",
        "EyHERAgxEUJMhBATIcRECDERQkyEEBMhxEQIMRFCTIQQEyHERAgxEUJMhBATIcRECDERQkyEEBMh\n",
        "xEQIMRFCTIQQEyHERAgxEUJMhBATIcRECDERQkyEEBMhxEQIMRFCTIQQEyHERAgxEUJMhBATIcRE\n",
        "CDERQkyEEBMhxEQIMRFCTIQQEyHERAgxEUJMhBATIcRECDERQkyEEBMhxEQIMRFCTIQQEyHERAgx\n",
        "EUJMhBATIcRECDERQkyEEBMhxEQIMRFCTIQQEyHERAgxEUJMhBATIcRECDERQkyEEBMhxEQIMRFC\n",
        "TIQQEyHERAgxEUJMhIxoWZZ6CJ8jQoiJEGIihJgIISZCiImQ4SzLcjwe61F8jgghJkKIiRBiIoSY\n",
        "CCEmQoiJEGIihJgIISZCxrK3y2UOIoScCCEmQoiJEGIiZDT7WpU5iBByIoSYCCG2mwgvP0z25yt3\n",
        "vsVnLcthZyfqD4cdRXiQFoPaU4THow4Z0J4ihCH9Ww/gs06T4eXLDjMknZ1FeLjR4dk/NckHORxl\n",
        "IDtcGj18/Ux4mtLOf7WPr9BMsWT+e1/GHy0XvjbC6/n9eKrDezeUunqGc8yhctsXvot5m2ouH99D\n",
        "3VF/fQYZarTc9T0RLstyugB/yx0aMMWzIf2MZ8Ch8phviPD0983ftSODPLgfHMatRBnY3BG+N7//\n",
        "b+n8Kx+7357d9CDPGvddvnbd8avZWSP8XH6/Nnn+lXdv/eVpbfwOL1+47zjC+VZHg/xOTlv8/fh+\n",
        "38LpyqPKTw71ZbeuXtqfmU7WL8ty+lDKcvZ+9yVvy3J+3u/lnZ366ryJhrraHDNhNvtd9aZ5Zs3s\n",
        "d2sAV4c6yN14MBn+MXqEY+X32+Xp/pcfT+vzu+9sqOGh6eWmLzs8e7P1gL/6rY0b4bj5/Vg/z2yY\n",
        "3/2f3fAp4zWPH17+3Ksj/+o3Nevq6Fg+eRZh5crnIGu8V2e/vS6WinAjr51Mv/Xf1mziY7fz7Ibu\n",
        "N3a3uu9OUoSbuvP4/tiRZ3ibV295oxv/4g5FuLVtL61+62Vom9eyyaHy3fnw2Zucggjf42qK4+R3\n",
        "aysvb2jlaJ95S+T3TYkifJuX32v7+YuwN3yluia/h3/8y6ZEEY4kfA/ECx1ue3rz+Z39mr/p+yW7\n",
        "Mbdxrrd+pKuRzpFMcDL5ASJMjZPfj8cXeA+jHGbPPiXOPfqJjfzu280/O+P9Ozt1hxMPfWJTfD7a\n",
        "+gXeyxt5587Oe2gqwsIsq3trniyiqX7GKXG+ETO6+kh7ug4nGy7jGmmRaa5DUxGy2kj5/TbLlDjH\n",
        "KBlUfeT5V1N0OMEQGdQUa7wzHJqO+8565jDwg/vklN/IU+K4I4OdmOkjD+EriRBiIoSYCCEmQoiJ\n",
        "EGIihJgIISZCiIkQYiKEmAghJkKIiRBiIoSYCCEmQoiJEGIihJgIISZCiIkQYiKEmAghJkKIiRBi\n",
        "IoSYCCEmQoiJEGIihJgIISZCiIkQYiKEmAghJkKIiRBiIoSYCCEmQoiJEGIihJgIISZCiIkQYiKE\n",
        "mAghJkKIiRBiIoSYCCEmQoiJEGIihJgIISZCiIkQYiKEmAghJkKIiRBiIoSYCCEmQoiJEGIihJgI\n",
        "ISZCiIkQYiKEmAghJkKIiRBiIoSYCCEmQoiJEGIihJgIISZCiIkQYiKEmAghJkKIiRBiIoSYCCEm\n",
        "QoiJEGIihJgIISZCiIkQYiKEmAghJkKIiRBiIoSYCCEmQoiJEGIihJgIISZCiIkQYiKEmAghJkKI\n",
        "iRBiIoSYCCEmQoiJEGIihJgIISZCiIkQYv8BjKKqHyqcHNsAAAAASUVORK5CYII=\n",
        "\"></td>\n",
        "\t\t<td><img src=\"data:image/png;base64,iVBORw0KGgoAAAANSUhEUgAAASwAAAEsCAIAAAD2HxkiAAAFx0lEQVR4nO3c0W7iOABA0WS1///L\n",
        "2Qe0VQUtJS1wY+ecp860ZZyRbwxOYN22bQE6/9QDgLMTIcRECDERQkyEEBMhxEQIMRFCTIQQEyHE\n",
        "RAgxEUJMhBATIcRECDERQkyEEBMhxEQIMRFCTIQQEyHERAgxEUJMhBATIcRECDERQkyEEBMhxEQI\n",
        "MRFCTIQQEyHERAgxEUJMhBATIcRECDERQkyEEBMhxEQIMRFCTIQQEyHERAgxEUJMhBATIcRECDER\n",
        "QkyEEBMhxEQIMRFCTIQQEyHERAgxEUJMhBATIcRECDERQkyEEBMhxEQIMRFCTIQQEyHERAgxEUJM\n",
        "hBATIcRECDERQkyEEBMhxEQIMRFCTIQQEyHERAgxEUJMhBATIcRECDERQkyEEBMhxEQIMRFCTIQQ\n",
        "EyHERAgxEUJMhBATIcRECDERQkyEEBMhxEQIMRFCTIQQEyHERAgxEUJMhBATIcRECDERQkyEEJsz\n",
        "wnVd6yHAo+aMEAYiQoiJEGIihJgIISZCiIkQYiKEmAghNmGE67pu21aPAh41YYQcilsIfyRCiIkQ\n",
        "YiKEmAghJkKIiRBiIoTYlBG6Us9IpowQRiJCXsgthI8QIcRECLHZIlzXxdMfxjJbhDAcEUJMhBAT\n",
        "IcRECLHZIrQ1ynBmi5CDcVL8mQghJkKIiRBiIuRV3EL4oKEivP0Y2Y+/ufMtOLahIlykxYRGi3Db\n",
        "dMhkRovw16TLUf1bD2C/y2J4+5JfZoxpwAiXbzq8+uPtns3lCxt2HMyYEe5yqc5++dv5/37QsBHO\n",
        "ukPz+aDM4nMYeWNm1xw9/oRe1+vTypRnGW6c42Mhb2fzoY76x9gONVqebZYIP+bxncO5muv5gd85\n",
        "NRz8rMFTTRHh43UdZHI/OIyjnTV4jSkiXMbpcG9XBzlrPO52F9q+9E9miXDZOV/fP7l/vayN1eHt\n",
        "xVgR/mTk3dEru+6heecNN1fbntu2e1/3dm054Mbp55flBxzegQ17nfBLH9flP9y5S+bLH37iOfu5\n",
        "K9jtzD7OCiO5v5loJfzwlyXxKYvM7YM8uPpdfvG7AXy5JLa+G63FcI+JXhPeev9uzV/2M0fZW/py\n",
        "DJ8vrlx9va7Ltrlv946pI1zeuFvzlMsJQ3R4f5DfRHj7TT7MHuHy+g6fezXvyHu8jxzpVWc3K6AO\n",
        "b50gwou/TO5HrqTff8Bdjtbh3vH8dJ3QU9Mrp4lwed7kfs/68/SzxqvHsP+xzzP17jtThBd/ed11\n",
        "5c3X9+//i88N5i0nGh1enC/C5c+T+/7PP92bd2vee8Oqp6bLSSNc/tDhkW/4/sUP3/nFNx7pup51\n",
        "Hi7Lct4IL45wwe1BL+3wAG/XWNd1WZZzzsZzR7gM1eHy+j3e+tjPuSSe8Zi/cLC5eM+L9ngPc8gn\n",
        "XBJF+L+jTsqvDbTH+yunWhJPdKg/e+QzMo5jrD3e/c7T4VmOc05j7fHud5KnpiIc31h7S/tNvyTO\n",
        "+H7Cs3nnpwQUtm1b13Wd66A+m/wccy5j7S3tN+uSaCWcyNHed/9ssy6JIpzL5w5nXDS2bbukWA/k\n",
        "meZc32EgVkKIiRBiIoSYCCEmQoiJEGIihJgIISZCiIkQYiKEmAghJkKIiRBiIoSYCCEmQoiJEGIi\n",
        "hJgIISZCiIkQYiKEmAghJkKIiRBiIoSYCCEmQoiJEGIihJgIISZCiIkQYiKEmAghJkKIiRBiIoSY\n",
        "CCEmQoiJEGIihJgIISZCiIkQYiKEmAghJkKIiRBiIoSYCCEmQoiJEGIihJgIISZCiIkQYiKEmAgh\n",
        "JkKIiRBiIoSYCCEmQoiJEGIihJgIISZCiIkQYiKEmAghJkKIiRBiIoSYCCEmQoiJEGIihJgIISZC\n",
        "iIkQYiKEmAghJkKIiRBiIoSYCCEmQoiJEGIihJgIISZCiIkQYiKEmAghJkKIiRBiIoSYCCEmQoiJ\n",
        "EGIihJgIISZCiIkQYiKEmAghJkKIiRBiIoSYCCEmQoj9B/sWni/WaGF7AAAAAElFTkSuQmCC\n",
        "\"></td>\n",
        "\t</tr>\n",
        "</table>"
       ],
       "metadata": {},
       "output_type": "pyout",
       "prompt_number": 35,
       "text": [
        "<IPython.core.display.HTML at 0x10e57b990>"
       ]
      }
     ],
     "prompt_number": 35
    },
    {
     "cell_type": "markdown",
     "metadata": {
      "slideshow": {
       "slide_type": "skip"
      }
     },
     "source": [
      "### Fix 1,5 conjugated cation (aromatic 1)"
     ]
    },
    {
     "cell_type": "code",
     "collapsed": false,
     "input": [
      "demo(\"CNc1cc[n+](C)cc1\")"
     ],
     "language": "python",
     "metadata": {
      "slideshow": {
       "slide_type": "skip"
      }
     },
     "outputs": [
      {
       "output_type": "stream",
       "stream": "stderr",
       "text": [
        "[2013/Oct/31 16:56:13 INFO    ] rule 19 (Fix 1,5 conjugated cation (aromatic 1)) applied\n"
       ]
      },
      {
       "html": [
        "<!-- NB the styling is inline as otherwise it is overridden by the Notebook stylesheets -->\n",
        "\n",
        "<table>\n",
        "\t<tr>\n",
        "\t\t<th style=\"text-align: center;\">Original</th>\n",
        "\t\t<th style=\"text-align: center;\">Transformed</th>\n",
        "\t</tr>\n",
        "\t<tr>\n",
        "\t\t<td><img src=\"data:image/png;base64,iVBORw0KGgoAAAANSUhEUgAAASwAAAEsCAIAAAD2HxkiAAAGRElEQVR4nO3dQVLbShRAUflX9r9l\n",
        "/QEJ5QKMZbB8u6VzKqOQgCC6fu1WZF/WdV2Azn/1AcDZiRBiIoSYCCEmQoiJEGIihJgIISZCiIkQ\n",
        "YiKEmAghJkKIiRBiIoSYCCEmQoiJEGIihJgIISZCiIkQYiKEmAghJkKIiRBiIoSYCCEmQoiJEGIi\n",
        "hJgIISZCiIkQYiKEmAghJkKIiRBiIoSYCCEmQoiJEGIihJgIISZCiIkQYiKEmAghJkKIiRBiIoSY\n",
        "CCEmQoiJEGIihJgIISZCiIkQYiKEmAghJkKIiRBiIoSYCCEmQoiJEGIihJgIISZCiIkQYiKEmAgh\n",
        "JkKIiRBiIoSYCCEmQoiJEGIihJgIISZCiIkQYiKEmAghJkKIiRBiIoSYCCEmQoiJEGIihJgIISZC\n",
        "iIkQYiKEmAghJkKIiRBiIoSYCCEmQoiJEGIihJgIISZCiIkQYiKEmAghJkKIiRBiIoSYCCH2pz4A\n",
        "apfLx99Z1+I4zkuEZ/K5t1t/TIcvJMIj2hjbu7fkrv+WDl/osvpZT+1nvW38bM6NlxDhPJ7b28av\n",
        "4vTYn+Xo2LaE99xO1vXh2vkdk3Bg4b7l9Zd2huzMJBzVewZ5AzZpduZiPV/5UJ0F6p5EeHqXy9eN\n",
        "6fBVRDikl61F37/Qlg7Zhwj5526HhuE+RDieV27JPLrm1OEORDibt6dwT4zhboeeHO5MhFPZaUje\n",
        "/Ww63JMIB1NdHrz73M8mzW5EyFds0ryQCOex95C0SROZOMLL8U6C/L+q2aQpTBzhuq4H7PCWl/Vp\n",
        "k+blJo5wOViH+Rh8Z5PmteaO8CzaPm3S7Gz6CA81DMdhk+aFpo9wOUaH46xF33ly+CrHubP+cpn5\n",
        "e/kmwnHWovP+eMd2nDvr3+bhlB0OOAa/NN4t9tcroCn/6ZdlOVKEx5T3+eF1n9IOPz/pmDe8a4eK\n",
        "cOJhOLKow6Mm99mhIlxm7DCfdVvs/DqIV5/7CMvLR011vm42U4fDbsl89uUmzefBeG9UegeaD442\n",
        "Cd9MMw9Hy2y769IeWaCOt7nTO8J1wmMasM9bFwYfWayO892M47ARHuEK/oB+0JB/hXsOG+Hyt8P6\n",
        "IL4x4Kzb4suj9Q4Wv3DkCJd5z43B+9zY4fsLUj33lakO55gbM9fezo0xT+aJbfmBvr/3qJ/+tw4+\n",
        "Ccc10ZWJ7WZdeMROEaFz43U+P3BM91DycqeIcBmtwyONwavj/Hvssxz5MM4S4TJah/DPiSJcPEbv\n",
        "yf7Ljx1/d3QgHwbxAdaiPIMI9/Htwvdy6xYB7Z2SCJ9h+3PNdV2WZZ3rPo8NrEV/Q4SPezC5Gx+Z\n",
        "5D4P9ifCezYmJyd+6ky7o59z+uYd279vb10//nrcYe7zsBb9pZNNwp+dL7udYhalLOeahMuPLtjv\n",
        "XMjs89AY/L2TRcjzTfwIMoiTLUeX27c2dePIovTkzhfhcqPD9J0VJu1wxmMekOXoKGZ/csiPnTVC\n",
        "t1T8mjH4LGeNcBnx8rpheE5nivCbm76HuR9chyd0pggnMUWH1qJPJEKIiXBE+TC8/HPro8bgE53y\n",
        "OuEMXnnl8DzvBDgmEY5rpw4lNxrritH9ssOnJ2ct+nQm4aGYcjMS4ejuLkqvw5PcjCwt5jDIInCQ\n",
        "wzgYlyjmkF+0YD8iZCtjcCeeE06juufQBN6bx7bJ7NfhrdicIXsT4Xx+3+GXvTkTKpajR2a4TcEk\n",
        "nNKHYSi2qYlwVq7RH4YIIeY6IcRECDERQkyEEBMhxEQIMRFCTIQQEyHERAgxEUJMhBATIcRECDER\n",
        "QkyEEBMhxEQIMRFCTIQQEyHERAgxEUJMhBATIcRECDERQkyEEBMhxEQIMRFCTIQQEyHERAgxEUJM\n",
        "hBATIcRECDERQkyEEBMhxEQIMRFCTIQQEyHERAgxEUJMhBATIcRECDERQkyEEBMhxEQIMRFCTIQQ\n",
        "EyHERAgxEUJMhBATIcRECDERQkyEEBMhxEQIMRFCTIQQEyHERAgxEUJMhBATIcRECDERQkyEEBMh\n",
        "xEQIMRFCTIQQEyHERAgxEUJMhBATIcRECDERQkyEEBMhxEQIMRFCTIQQEyHERAgxEUJMhBATIcRE\n",
        "CDERQkyEEBMhxEQIMRFCTIQQEyHERAgxEUJMhBATIcRECDERQkyEEBMhxP4HGb76QMbLzdUAAAAA\n",
        "SUVORK5CYII=\n",
        "\"></td>\n",
        "\t\t<td><img src=\"data:image/png;base64,iVBORw0KGgoAAAANSUhEUgAAASwAAAEsCAIAAAD2HxkiAAAGMElEQVR4nO3d21biSABA0TBr/v+X\n",
        "Mw9OO4x4AUk4qcrey4deakuUOqkiCXBZ13UBOn/VGwBnJ0KIiRBiIoSYCCEmQoiJEGIihJgIISZC\n",
        "iIkQYiKEmAghJkKIiRBiIoSYCCEmQoiJEGIihJgIISZCiIkQYiKEmAghJkKIiRBiIoSYCCEmQoiJ\n",
        "EGIihJgIISZCiIkQYiKEmAghJkKIiRBiIoSYCCEmQoiJEGIihJgIISZCiIkQYiKEmAghJkKIiRBi\n",
        "IoSYCCEmQoiJEGIihJgIISZCiIkQYiKEmAghJkKIiRBiIoSYCCEmQoiJEGIihJgIISZCiIkQYiKE\n",
        "mAghJkKIiRBiIoSYCCEmQoiJEGIihJgIISZCiIkQYiKEmAghJkKIiRBiIoSYCCEmQoiJEGIihJgI\n",
        "ISZCiIkQYiKEmAghJkKIiRBiIoSYCCEmQoiJEGIihJgIISZCiIkQYiKEmAghJkKIiRBiIoTY3/UG\n",
        "ULtcPn5mXYvtOC8Rnsltb199mw5fSIQzujO2d2/JXf8vHb7QZfW3HtrvervzpxkbLyHCcWzb2523\n",
        "Ynjsz3L02O4Jb9tO1vXh2nmOmfDAwuOW1zdthOzMTHhU7xnkDThIszMn6/nMh+osUPckwnO7XP77\n",
        "+ECHr2I5ekg7rUV/cXxVe/sT4bzu7Of7zq879OBwHyI8nt9Ng5skd8+t6HBrIhzTa5J7/yGuaNuT\n",
        "CIfyfXv7taHDPYnwYO5fi744AwdpdiPCobTzj4M0+3CekN8yMW5k4Agv8w2C41yq9hVn8HcwcITr\n",
        "uk7Y4fHpcGsDR7hM1uHxp8F3x9/CoYwdIZnrDqfZD0aGj3CqyXBc7oInDB/hMkeHA61F33lwuJEZ\n",
        "Ilzm6HBE1x0OtPs4mKle3uJyGfPXGXEavPa2/cXGX+95h7zrl2VxxQwbeNUVbbeLnXHDuzZVhG+L\n",
        "0jnuGGZN7taEQ3awDkdfi27hKrcZlpePmmomfGM+zNxe1f3Zdd7fvpzNGe+1CSNcBupwvmnwjuqm\n",
        "+V23MmeEZN4O0vy/M9V9b5LzhLecOWQU00a4/NthvRHfmG8t+sZz8B80c4SL8VDxd3/E5BEuxgOH\n",
        "N3+EBzXrWvSdnd/dThGh8dCYdf+ytVNEuBytw0mnwcvtqfa5fsGdnCXC5Wgdwh8ninCxX96TFyL9\n",
        "NVfMvJDLt/iMCPfx7cL3cqanCPAjEW7h/sea67osyzrc861+Yi36DBE+7sHkvvjKIM/zYH8ivFv1\n",
        "tmTM7gRHR2/juX5roR+/+VPr+vHjcdM8z8Na9EnnmAk3GSY7DDSLUpZTzITLoc/Tjz4fmgafd44I\n",
        "f23kPF7Fn+hZ51iOLp+/7MKyvCSz65v4bNawKD2500S4fNHhV2+o8OEf9xfyq6oH7XDEbT6gM0X4\n",
        "kLex9eMjnvuPpv78LUN2yPNOFuGTR2i2S24CdhlbOVmEy4Md3vNWmNsNRJPhObnLb9RXxozS4Sjb\n",
        "eXznmwkfUgyyIebD42/hQER4w9jitZysP6L8MprLH1991TS4ITPhQb1yUXqedwI8JhEe104dSu5o\n",
        "rCuO7skON0/OWnRzZsKpmOVGJMKj+3FReh2e5EZkaTGGgywCD7IZk3GKYgz5SQv2I0LuZRrciceE\n",
        "w6guZzMD782+bTD7dfhVbEbI3kQ4nuc7/LQ3I6FiOTozk9sQzIRD+jAZim1oIhyVc/TTECHEnCeE\n",
        "mAghJkKIiRBiIoSYCCEmQoiJEGIihJgIISZCiIkQYiKEmAghJkKIiRBiIoSYCCEmQoiJEGIihJgI\n",
        "ISZCiIkQYiKEmAghJkKIiRBiIoSYCCEmQoiJEGIihJgIISZCiIkQYiKEmAghJkKIiRBiIoSYCCEm\n",
        "QoiJEGIihJgIISZCiIkQYiKEmAghJkKIiRBiIoSYCCEmQoiJEGIihJgIISZCiIkQYiKEmAghJkKI\n",
        "iRBiIoSYCCEmQoiJEGIihJgIISZCiIkQYiKEmAghJkKIiRBiIoSYCCEmQoiJEGIihJgIISZCiIkQ\n",
        "YiKEmAghJkKIiRBiIoSYCCEmQoiJEGIihJgIISZCiIkQYiKEmAghJkKIiRBiIoSYCCEmQoiJEGIi\n",
        "hJgIISZCiIkQYiKEmAghJkKIiRBiIoTYP8HT3E/1E0wXAAAAAElFTkSuQmCC\n",
        "\"></td>\n",
        "\t</tr>\n",
        "</table>"
       ],
       "metadata": {},
       "output_type": "pyout",
       "prompt_number": 36,
       "text": [
        "<IPython.core.display.HTML at 0x10e57b710>"
       ]
      }
     ],
     "prompt_number": 36
    },
    {
     "cell_type": "markdown",
     "metadata": {
      "slideshow": {
       "slide_type": "skip"
      }
     },
     "source": [
      "### Fix 1,5 conjugated cation (aromatic 2)"
     ]
    },
    {
     "cell_type": "code",
     "collapsed": false,
     "input": [
      "demo(\"[nH]1ccc(=[N+](C)C)cc1\")"
     ],
     "language": "python",
     "metadata": {
      "slideshow": {
       "slide_type": "skip"
      }
     },
     "outputs": [
      {
       "output_type": "stream",
       "stream": "stderr",
       "text": [
        "[2013/Oct/31 16:56:13 INFO    ] rule 20 (Fix 1,5 conjugated cation (aromatic 2)) applied\n"
       ]
      },
      {
       "html": [
        "<!-- NB the styling is inline as otherwise it is overridden by the Notebook stylesheets -->\n",
        "\n",
        "<table>\n",
        "\t<tr>\n",
        "\t\t<th style=\"text-align: center;\">Original</th>\n",
        "\t\t<th style=\"text-align: center;\">Transformed</th>\n",
        "\t</tr>\n",
        "\t<tr>\n",
        "\t\t<td><img src=\"data:image/png;base64,iVBORw0KGgoAAAANSUhEUgAAASwAAAEsCAIAAAD2HxkiAAAFa0lEQVR4nO3d0VLcOBRAQXtr//+X\n",
        "vQ9QJMDgYRY8x5K7K+/xKDq6Cg5h3bZtATr/1A8AVydCiIkQYiKEmAghJkKIiRBiIoSYCCEmQoiJ\n",
        "EGIihJgIISZCiIkQYiKEmAghJkKIiRBiIoSYCCEmQoiJEGIihJgIISZCiIkQYiKEmAghJkKIiRBi\n",
        "IoSYCCEmQoiJEGIihJgIISZCiIkQYiKEmAghJkKIiRBiIoSYCCEmQoiJEGIihJgIISZCiIkQYiKE\n",
        "mAghJkKIiRBiIoSYCCEmQoiJEGIihJgIISZCiIkQYiKEmAghJkKIiRBiIoSYCCEmQoiJEGIihJgI\n",
        "ISZCiIkQYiKEmAghJkKIiRBiIoSYCCEmQoiJEGIihJgIISZCiIkQYiKEmAghJkKIiRBiIoSYCCEm\n",
        "QoiJEGIihJgIISZCiIkQYiKEmAghJkKIiRBiIoSYCCEmQoiJEGIihJgIISZCiIkQYiKEmAghJkKI\n",
        "iRBi/9YPkFnXddu2+imOta7r83/T6Vf1182/EXfM3WH16eZe1SO4jkLs0hFu25Zc2J4gHEcTr+pB\n",
        "Lh0hnMHVI5zy2M7/Vjblqh7n6hFyEB1+nwhn2y75GORRIuQok51ux7nuy/q/vWyXCQbIzqc4tIcJ\n",
        "li4kwnnsnyNJJ9OcbodyHX3l7kRFhJM47cBxut0lwj9sl4NY2H0inMFpxyDfIcJ3nNkHsbA7RDg8\n",
        "Y3B0IvzImX2Qbdus600ivGGg7TLWGNy2ZZSFfSYRDmysAvmKCG9zZh/Ewn4mwlEZg9MQ4Zec2Qex\n",
        "sB+IcM9pt4sxOBPfRfEzhzY6b2Yvp9u8n+8xJuEdJxyGxuBk/HEORoHzMQkhJsKRGINTEiHERDgM\n",
        "Y3BWIoSYCHd9fjsRva+YZwzuLOlpVvvJvKy/56GXytfYND/lPf17JuE9J3hbvy7LVHv2BEt6Kibh\n",
        "z3w41I854F+/xdgAmZQIv8G/dPx1Xy3pJSek6+j3fL5BrevyNqCO3jpvm3WmPXrzUrpt735dgwj/\n",
        "r7dd8pztMmWHLMsiwgf4csKvs6TLsojwMZ8n3jOvTFMOw8vcOXfM8gr4YGf5usxbfqd4mp+Z6bP8\n",
        "jEl431kKXCYahgr8iwjvOFGBTEqEo5lgGBqD74lwz0nH4NAdKvATEX7ppAUyHRGOadBhaAzeIsLb\n",
        "jEGeRoTDGm4YGoNfEOEN67oOtk/O3+H5n7Ajwo9G+o8kRnnOv434zAcT4eCGuJS6iO4S4TsjjUFm\n",
        "IcLxnXwYGoP3iPAPY5CECKdw2mFoDH6Ds//VDGNwf8c//+eZKvB7TEKIjX/8/4YZxuCL8wyf8zzJ\n",
        "6ZmEEBPhRGNwOc1XaIzBR4gQYlePcKox+CIfhsbgg64e4ZzCDhX4uEtHOOEYZEB+KtOk3v6H+eRS\n",
        "6mh7xHUn4fxjsPp0c6/qAWbfiHB6152EcBIihJgIISZCiIkQYiKEmAghJkKIiRBiIoSYCCEmQoiJ\n",
        "EGIihJgIISZCiIkQYiKEmAghJkKIiRBiIoSYCCEmQoiJEGIihJgIISZCiIkQYiKEmAghJkKIiRBi\n",
        "IoSYCCEmQoiJEGIihJgIISZCiIkQYiKEmAghJkKIiRBiIoSYCCEmQoiJEGIihJgIISZCiIkQYiKE\n",
        "mAghJkKIiRBiIoSYCCEmQoiJEGIihJgIISZCiIkQYiKEmAghJkKIiRBiIoSYCCEmQoiJEGIihJgI\n",
        "ISZCiIkQYiKEmAghJkKIiRBiIoSYCCEmQoiJEGIihJgIISZCiIkQYiKEmAghJkKIiRBiIoSYCCEm\n",
        "QoiJEGIihJgIISZCiIkQYiKEmAghJkKIiRBiIoSYCCEmQoiJEGIihJgIISZCiIkQYiKEmAgh9h/a\n",
        "MVxHlYR8xgAAAABJRU5ErkJggg==\n",
        "\"></td>\n",
        "\t\t<td><img src=\"data:image/png;base64,iVBORw0KGgoAAAANSUhEUgAAASwAAAEsCAIAAAD2HxkiAAAFvElEQVR4nO3d0VLbOBiAUbyz7//K\n",
        "3gs6LG2TkECcT5LPGe6YDopGn38TU9j2fX8DOv/UC4CzEyHERAgxEUJMhBATIcRECDERQkyEEBMh\n",
        "xEQIMRFCTIQQEyHERAgxEUJMhBATIcRECDERQkyEEBMhxEQIMRFCTIQQEyHERAgxEUJMhBATIcRE\n",
        "CDERQkyEEBMhxEQIMRFCTIQQEyHERAgxEUJMhBATIcRECDERQkyEEBMhxEQIMRFCTIQQEyHERAgx\n",
        "EUJMhBATIcRECDERQkyEEBMhxEQIMRFCTIQQEyHERAgxEUJMhBATIcRECDERQkyEEBMhxEQIMRFC\n",
        "TIQQEyHERAgxEUJMhBATIcRECDERQkyEEBMhxEQIMRFCTIQQEyHERAgxEUJMhBATIcRECDERQkyE\n",
        "EBMhxEQIMRFCTIQQEyHERAgxEUJMhBATIcRECDERQkyEEBMhxEQIMRFCTIQQEyHERAgxEUJMhBAT\n",
        "IcRECLF/6wVktm3b971exbG2bXv9F11+V59u/YN4w9odVq9u7V09gttRiJ06wn3fkxu2FwjH0cK7\n",
        "epBTRwgjOHuES1628+/KltzV45w9Qg6iw/uJcLXjko9BHiVCjrLY1e04531Y/9n7cVlggNx4FYf2\n",
        "sMDWhUS4jtvXkaSTZa5uh3I7+ot7JyoiXMSwA8fV7Usi/J/jchAbe5sIVzDsGOQeIvyNa/ZBbOwN\n",
        "IpyeMTg7Ef7JNfsg+77b14tEeMFEx2WuMbjvb7Ns7CuJcGJzFcg1IrzMNfsgNvZvIpyVMbgMEV7l\n",
        "mn0QG/sHEd4y7HExBlciQgLDXt0SIvzCgMfFGFyMCCezTIFLvIjnEOHXHBcOJcKZLDMG+UyEEBPh\n",
        "NIzBVYkQYiK8299PKl747OLqGNy2Xx+Du7F76caOwK88fMS2XXirtD0xH88xL65tKOOvMGISPiJ6\n",
        "cr+9va1weAf8uYcxmIQ/dvzVfb896wYfhj9f1Ziv63lE+KD3Ez/smRh5bW/Xd+/cE9Lt6ONef1v1\n",
        "cWqvfd1hw/t7wRd3b99/+/j8zz+G/LqhinAS93e40mH9aPKPONciwm/xHsM9blwv7N4nIvyu11+Y\n",
        "5xqGt9fw0O6tOwPfeWPmLtt26U+LrX44nunaTxpc/NTJNtYk/NpA7zjOMgw/f/Ub+V377MmI8AsD\n",
        "FciiRDib8YehMfggEd4y6Bi8P7PXd3j/kkbc2YYIrxq0wHsMsu5BljE8Ec5pzJtSN6LfIsLLJh6D\n",
        "zEaE0xptGBqD3yXCC7Ztm+yc5D8iM+BbRPMQ4Z9m+n1KX64z+c7w9qpm2dsXEuHk8qeCb25Ef0qE\n",
        "v5lpDN5phEq5SYTza5/dG4M/JsL/LTgG3x33okzXZxDhEkZ4XGEMfpcIf5l+DL7+ez83ok8iwtPw\n",
        "Ds2oJr/8P8n0Y/DDi4fPtf8a//qVzMyvt+AHBPYMbkcXGoNvw9xzGoOPECHEzh7hUmPwXT4MjcEH\n",
        "nT3CNYUdKvBxp45wwTHIhLw7uqjPfy8t+erc7byTcP0xWL26tXf1AKsfRBjeeSchDEKEEBMhxEQI\n",
        "MRFCTIQQEyHERAgxEUJMhBATIcRECDERQkyEEBMhxEQIMRFCTIQQEyHERAgxEUJMhBATIcRECDER\n",
        "QkyEEBMhxEQIMRFCTIQQEyHERAgxEUJMhBATIcRECDERQkyEEBMhxEQIMRFCTIQQEyHERAgxEUJM\n",
        "hBATIcRECDERQkyEEBMhxEQIMRFCTIQQEyHERAgxEUJMhBATIcRECDERQkyEEBMhxEQIMRFCTIQQ\n",
        "EyHERAgxEUJMhBATIcRECDERQkyEEBMhxEQIMRFCTIQQEyHERAgxEUJMhBATIcRECDERQkyEEBMh\n",
        "xEQIMRFCTIQQEyHERAgxEUJMhBATIcRECDERQkyEEBMhxEQIMRFCTIQQEyHERAgxEUJMhBATIcRE\n",
        "CDERQkyEEBMhxEQIMRFCTIQQEyHE/gPwgZRU2K2tuwAAAABJRU5ErkJggg==\n",
        "\"></td>\n",
        "\t</tr>\n",
        "</table>"
       ],
       "metadata": {},
       "output_type": "pyout",
       "prompt_number": 37,
       "text": [
        "<IPython.core.display.HTML at 0x10e57bad0>"
       ]
      }
     ],
     "prompt_number": 37
    },
    {
     "cell_type": "markdown",
     "metadata": {},
     "source": [
      "### Fix hydrazine-diazonium system\n",
      "\n",
      "Borrowed from the InChI standardisation procedure, and probably not the most widely-used of the rules..."
     ]
    },
    {
     "cell_type": "code",
     "collapsed": false,
     "input": [
      "demo(\"CNNC[N+]#N\")"
     ],
     "language": "python",
     "metadata": {},
     "outputs": [
      {
       "output_type": "stream",
       "stream": "stderr",
       "text": [
        "[2013/Oct/31 16:56:13 INFO    ] rule 25 (Fix hydrazine-diazonium system) applied\n"
       ]
      },
      {
       "html": [
        "<!-- NB the styling is inline as otherwise it is overridden by the Notebook stylesheets -->\n",
        "\n",
        "<table>\n",
        "\t<tr>\n",
        "\t\t<th style=\"text-align: center;\">Original</th>\n",
        "\t\t<th style=\"text-align: center;\">Transformed</th>\n",
        "\t</tr>\n",
        "\t<tr>\n",
        "\t\t<td><img src=\"data:image/png;base64,iVBORw0KGgoAAAANSUhEUgAAASwAAAEsCAIAAAD2HxkiAAAFlklEQVR4nO3c0W6jOABAUVjt//9y\n",
        "9gFtNCq0kyYhF8w5r62iNOHWNgbm2+02AZ1/6jcAVydCiIkQYiKEmAghJkKIiRBiIoSYCCEmQoiJ\n",
        "EGIihJgIISZCiIkQYiKEmAghJkKIiRBiIoSYCCEmQoiJEGIihJgIISZCiIkQYiKEmAghJkKIiRBi\n",
        "IoSYCCEmQoiJEGIihJgIISZCiIkQYiKEmAghJkKIiRBiIoSYCCEmQoiJEGIihJgIISZCiIkQYiKE\n",
        "mAghJkKIiRBiIoSYCCEmQoiJEGIihJgIISZCiIkQYiKEmAghJkKIiRBiIoSYCCEmQoiJEGIihJgI\n",
        "ISZCiIkQYiKEmAghJkKIiRBiIoSYCCEmQoiJEGIihJgIISZCiIkQYiKEmAghJkKIiRBiIoSYCCEm\n",
        "QoiJEGIihJgIISZCiIkQYiKEmAghJkKIiRBiIoSYCCEmQoiJEGIihJgIISZCiIkQYiKEmAghJkKI\n",
        "iRBiIoSYCCEmQoiJEGIihJgIISZCiIkQYiKEmAghJkKIDR3hPE/zXL8J+It/6zewv3uHt1v6PmDb\n",
        "0CPhl+oMjBzSfLvC+LBu7wp/NSdxjQjv1MjxXCzChRQ5kpOvCdc5PbLqu90sFzmOk0c4PVbdpiXF\n",
        "P2tcUlTjScyjfFPnj/B2ezUbA+MJzfM4K6lB9wmXhH71JS2//Gd7T7wI+1sGwGEKnAaJcBkM19/K\n",
        "0ylOf9Ror/9IRhoA784/HV18mZS+vtIzRz2eIQucxolw7S0Vbb4IhVELnIaKcPMMzRtTPOMR8MMW\n",
        "znO7O4V5ngcucBpkTXj33ZnSd630zngcbK6Wz2Ps/BYnHwnXX8/PX9gFV3qvb+F0rlDgdPoIn3PB\n",
        "FE/oIgVO40xH7Ub84OctnOMZbyfwZ6NEuHhlpfdlm36wI2Czw+9O/KZXKVxnALwbZTq6x27ExRVT\n",
        "9Hm+0AB4N9BI+JbrzoY5AjbHvSei+tSoeOVrBAeKcPHGld76OD7LNPW72B7s8OOr5bN8rjsZff79\n",
        "yv2763/OpzhYvvzJr7/hPe+BvvIAeDfcSPjFi3PU784rHtNOtex2f8mJPtpdjR7hYqf51aEOor2f\n",
        "2bHDZ3icD691jQjvnvinfvzB8MOPzFl/hrzmYhEufpviusPNLbVkr796aJUU3+eSES5emV/dD8HN\n",
        "3/zY2Yb8sXFHniCcxyib9a945KbBR07uf/J61PWLtxcbDHHPVEWE//vrQfzIHRvrOw/3eIJbPgBu\n",
        "ktazLjwd3bSeo27+9MHX2eOxUW/fBnyX45/BOioRfuOAO2zHHAB5mQj395YdtlMUeLZ7pg5ChB/0\n",
        "9MB42Cno2q/umWKaJhEGfpXiKQZAXiPCyCNz1JMWeOan2iREWPtuYNz8tbPQ4W+MfivTufxwHyDj\n",
        "MhIeyeZEVIGjE+EhCe9KXLYGMRFCTIQQEyHERAgxEUJMhBATIcRECDERQkyEEBMhxEQIMRFCTIQQ\n",
        "EyHERAgxEUJMhBATIcRECDERQkyEEBMhxEQIMRFCTIQQEyHERAgxEUJMhBATIcRECDERQkyEEBMh\n",
        "xEQIMRFCTIQQEyHERAgxEUJMhBATIcRECDERQkyEEBMhxEQIMRFCTIQQEyHERAgxEUJMhBATIcRE\n",
        "CDERQkyEEBMhxEQIMRFCTIQQEyHERAgxEUJMhBATIcRECDERQkyEEBMhxEQIMRFCTIQQEyHERAgx\n",
        "EUJMhBATIcRECDERQkyEEBMhxEQIMRFCTIQQEyHERAgxEUJMhBATIcRECDERQkyEEBMhxEQIMRFC\n",
        "TIQQEyHERAgxEUJMhBATIcRECDERQkyEEBMhxEQIMRFCTIQQEyHERAgxEUJMhBATIcRECDERQkyE\n",
        "EBMhxEQIMRFCTIQQEyHERAgxEUJMhBATIcRECDERQkyEEBMhxEQIsf8ArNqKdTw86pkAAAAASUVO\n",
        "RK5CYII=\n",
        "\"></td>\n",
        "\t\t<td><img src=\"data:image/png;base64,iVBORw0KGgoAAAANSUhEUgAAASwAAAEsCAIAAAD2HxkiAAAFdElEQVR4nO3d246iSgBAUZ2c//9l\n",
        "5sEc4yjaeOsN1FqZB2PbRhm2VRSSPk7TdAA6f+oXAKMTIcRECDERQkyEEBMhxEQIMRFCTIQQEyHE\n",
        "RAgxEUJMhBATIcRECDERQkyEEBMhxEQIMRFCTIQQEyHERAgxEUJMhBATIcRECDERQkyEEBMhxEQI\n",
        "MRFCTIQQEyHERAgxEUJMhBATIcRECDERQkyEEBMhxEQIMRFCTIQQEyHERAgxEUJMhBATIcRECDER\n",
        "QkyEEBMhxEQIMRFCTIQQEyHERAgxEUJMhBATIcRECDERQkyEEBMhxEQIMRFCTIQQEyHERAgxEUJM\n",
        "hBATIcRECDERQkyEEBMhxEQIMRFCTIQQEyHERAgxEUJMhBATIcRECDERQkyEEBMhxEQIMRFCTIQQ\n",
        "EyHERAgxEUJMhBATIcRECDERQkyEEBMhxEQIMRFCTIQQEyHERAgxEUJMhBATIcRECDERQkyEEBMh\n",
        "xEQIMRFCTIQXjsf6FTCinUZ4m9P5ngc/Ot0+/YPfstMIH1vSmBT5LUNGOE3zgU3TYZr+uUeKfN9/\n",
        "9QtYn3OHtzPYq0Q5OR5tmXfsN8LHI9hpMHy865x+enXEeJDiHFvmDfuN8HZiefuAJR/hUlzOlOEl\n",
        "+43ws8xRH/A59Z4hF2bO7q3QPP6V3SzevHwiZ9aetszvGjvCw6uf1rvZ4T7+mk9b5nLjOPX6k51O\n",
        "R2/TOt9zO7E8vDp9unqqLc6+Fh4Yv/bMB3PURQYeCT84mt0+1e4t3FC7mTJ8005HwuWsuNwbDD+Y\n",
        "io380PARno08fZrt8N45nqsbT22fkTfyfQNPR2fdW1fg7Lx9zjc+ssI8MCPhHVe71+6nTy+crbn0\n",
        "8qh4GL3Ag5HwB8+uK7xwem09Xkvo0mtnIwZc1vrXcRr7/T9n9rtvtw+4ms2ucAv/+EZW8pxjMBI+\n",
        "Y8nAODuvW9WB5ZdqcTbiVY4Jn3dvwf3HXXkNK4G3Hxmf5WzE84yEb7h3MHM7GK7ha1yzg/b3GBgX\n",
        "E+HbZlOc7TDcKasDNikuYDr6IQv36WS29psD4KzZd212+j8j4dc8PvP2O0PEL09Bf3T7RYgrQw6S\n",
        "IvymJZftf+8LOqs9Z3D5loes7orp6Ec9uIRqyS9+ao662vxufe9aqu0wEq7JR+aoGyqQw+FgJFyj\n",
        "dxZvtljg8IOhCFfsqQt/tpjf2dgdinD1lnxBZ9MFDk+E23Fv8Wb2YZvz5rVUW2ZhZmseX/iz0QJP\n",
        "Nv3i3+BSpo27HD22/F858CGh6ejWDbvn7ojpKMREyCoMvC4jQqiJEGIihJgIISZCiImQtRh2gVSE\n",
        "EBMhxEQIMRGyKiMeFIoQYiKEmAghJkJWZJqm43jnCkUIMRFCTIQQEyHERAgxEUJMhBATIcRECDER\n",
        "si4DfmlGhBATIcRECDERQkyErM5ofzNThBATIcRECDERQkyEEBMhxEQIMRFCTIQQEyHERAgxEUJM\n",
        "hBATIcRECDERQkyEEBMhxEQIMRFCTIQQEyHERAgxEUJMhBATIcRECDERQkyEEBMhxEQIMRFCTIQQ\n",
        "EyHERAgxEUJMhBATIcRECDERQkyEEBMhxEQIMRFCTIQQEyHERAgxEUJMhBATIcRECDERQkyEEBMh\n",
        "xEQIMRFCTIQQEyHERAgxEUJMhBATIcRECDERQkyEEBMhxEQIMRFCTIQQEyHERAgxEUJMhBATIcRE\n",
        "CDERQkyEEBMhxEQIMRFCTIQQEyHERAgxEUJMhBATIcRECDERQkyEEBMhxEQIMRFCTIQQEyHERAgx\n",
        "EUJMhBATIcRECDERQkyEEBMhxEQIMRFCTIQQEyHERAgxEUJMhBATIcRECDERQkyEEBMhxEQIMRFC\n",
        "TIQQEyHE/gLN9GRsUiPlhwAAAABJRU5ErkJggg==\n",
        "\"></td>\n",
        "\t</tr>\n",
        "</table>"
       ],
       "metadata": {},
       "output_type": "pyout",
       "prompt_number": 38,
       "text": [
        "<IPython.core.display.HTML at 0x10e580090>"
       ]
      }
     ],
     "prompt_number": 38
    },
    {
     "cell_type": "markdown",
     "metadata": {
      "slideshow": {
       "slide_type": "slide"
      }
     },
     "source": [
      "### Fix heterocyclic tautomer 1"
     ]
    },
    {
     "cell_type": "code",
     "collapsed": false,
     "input": [
      "demo(\"n1ccc2ccc[nH]c12\")"
     ],
     "language": "python",
     "metadata": {
      "slideshow": {
       "slide_type": "-"
      }
     },
     "outputs": [
      {
       "output_type": "stream",
       "stream": "stderr",
       "text": [
        "[2013/Oct/31 16:56:13 INFO    ] rule 21 (Fix heterocyclic tautomer 1) applied\n"
       ]
      },
      {
       "html": [
        "<!-- NB the styling is inline as otherwise it is overridden by the Notebook stylesheets -->\n",
        "\n",
        "<table>\n",
        "\t<tr>\n",
        "\t\t<th style=\"text-align: center;\">Original</th>\n",
        "\t\t<th style=\"text-align: center;\">Transformed</th>\n",
        "\t</tr>\n",
        "\t<tr>\n",
        "\t\t<td><img src=\"data:image/png;base64,iVBORw0KGgoAAAANSUhEUgAAASwAAAEsCAIAAAD2HxkiAAAGBklEQVR4nO3dy1IbSRBAUfXE/P8v\n",
        "axbyyBgw76pbpT5nZ1hAQF9ndilQH9fr9QJ0/qm/ATg7EUJMhBATIcRECDERQkyEEBMhxEQIMRFC\n",
        "TIQQEyHERAgxEUJMhBATIcRECDERQkyEEBMhxEQIMRFCTIQQEyHERAgxEUJMhBATIcRECDERQkyE\n",
        "EBMhxEQIMRFCTIQQEyHERAgxEUJMhBATIcRECDERQkyEEBMhxEQIMRFCTIQQEyHERAgxEUJMhBAT\n",
        "IcRECDERQkyEEBMhxEQIMRFCTIQQEyHERAgxEUJMhBATIcRECDERQkyEEBMhxEQIMRFCTIQQEyHE\n",
        "RAgxEUJMhBATIcRECDERQkyEEBMhxEQIMRFCTIQQEyHERAgxEULs3/ob4HK5XI7jSL7u9XpNvi5P\n",
        "ibB3HEcVQ/ilubOOQkyEsXYWXa/XahPmToQQE2FphVsywzAnQoiJMLPCGLwxDFsi5HLRYcrrhI03\n",
        "xuDoGBYZv9yJcDlVJLdhKNH5rKMB1zpPiZDf3BkmRDibMcgzIuQPhuF8IpxqizGow8lECDERznMc\n",
        "27xGZxjOJMJJjuOySYDMJkJeZxhOI8IZNh2DOpxDhMNtWiDTiJC3GIYTiHAsY5B3iZB3GIajiXAg\n",
        "Y5CPEOFAD1OgYTiUCPkQHY4jQoiJkI8yDAcRIcRE+CUvB8L9I298an+G4Qgi/KqHvhaVNpMIv+p6\n",
        "fdQO3/7zf8Pwx4mQz9niHTr24s1/v+E2DF9ekTsPCo3NJ8LvebXDZ//cuclnJDqCdZTfNJYQ4bc9\n",
        "7gnNMxIdRIQ/4SEuTY1V/NzHuM/GTX687xYo0XFMwjHu1+tDbKoKHEqEaCwmwmEeZRhKdDQRjrRD\n",
        "hxrLiZC3SHQCEQ629jDU2ApEeF5elliECMdbexj+jQKnEeFcy3SosXWIcIrdLneJziTCWVZaSjW2\n",
        "FBGejvOY1YhwopWG4d8ocD4RnovGFiTCudYehhJNiHC6rkONrUmE/CLRiggLxTDU2LJEeBZelliW\n",
        "CCMrndAosCVCiImws8YwNAZzIkyt0SEtEZ6aMbgCEdYMw9PzVKYl/OpveofG4ApEuIRfKcxNwgN3\n",
        "F2EdrXVPrfDg60WIEGIihJgIU7s9QY0RRHhqbgtX4HR0YebkOZiEnbcbU+BpiPDsbKQ5EUJMhEuy\n",
        "i56JCCMrZWYjbYkQYiJcz0pDkglEWJAZT4iQy8VtYUqEizEkz0eE0xk4/EmEncVmnY20IsKV2EVP\n",
        "SYQQE+Fca886G2lChMtYu0/GESHERDiRWcdrRLiGZfp0WzifCCEmQoh5MtYCltlF7zwybSaTEGIi\n",
        "hJgIawvsoi+PQ52RzuQduE/tVprbv5YIz8vpyyKsoyO93OiefaTbRRW4DpNwsON4K7Aigw+uoLfb\n",
        "QqFOIMLBrtd3OpxLVwsS4Vl86gzGgc1MIhxvgWH4qQFoWk7mYGaKW4cRBS7OJAzcepxwqVtBtyDC\n",
        "WZ4Mw9t1PnpFNQB3YR2d6M+rfOiK+vGojuNQYMtPP/bjq+lnV1AXQM46GvvZ1dQKuiMRLuH7r2I4\n",
        "g9mXCFdxv0X8QhoG4NZEuJD/V9PPRfKpM5iLAbge/ymu6IO1OIN5DH4x63o7GwPwYYhwad8fXwbg\n",
        "+rxYv7TbH/V9+e1eFLgFv6Q9fOG05mIF3YRJuIdPvf3ZrVgF7sIk3Mm7880A3JEI9/O31dQd4Kas\n",
        "o/t5dTVV4L785nZ13zytoLsT4d4MwAdgHd2bAh+ACCEmQoiJEGIihJgIISZCiIkQYiKEmAghJkKI\n",
        "iRBiIoSYCCEmQoiJEGIihJgIISZCiIkQYiKEmAghJkKIiRBiIoSYCCEmQoiJEGIihJgIISZCiIkQ\n",
        "YiKEmAghJkKIiRBiIoSYCCEmQoiJEGIihJgIISZCiIkQYiKEmAghJkKIiRBiIoSYCCEmQoiJEGIi\n",
        "hJgIISZCiIkQYiKEmAghJkKIiRBiIoSYCCEmQoiJEGIihJgIISZCiIkQYiKEmAghJkKIiRBiIoSY\n",
        "CCEmQoiJEGIihJgIISZCiIkQYiKEmAghJkKIiRBiIoSYCCEmQoj9B+nmQWC+cg1ZAAAAAElFTkSu\n",
        "QmCC\n",
        "\"></td>\n",
        "\t\t<td><img src=\"data:image/png;base64,iVBORw0KGgoAAAANSUhEUgAAASwAAAEsCAIAAAD2HxkiAAAF8klEQVR4nO3dy3LTShRAUekW///L\n",
        "vgODeQXbAal3t71WZQIM7Iq06xxJCd4vl8sGdP6r3wC8OxFCTIQQEyHERAgxEUJMhBATIcRECDER\n",
        "QkyEEBMhxEQIMRFCTIQQEyHERAgxEUJMhBATIcRECDERQkyEEBMhxEQIMRFCTIQQEyHERAgxEUJM\n",
        "hBATIcRECDERQkyEEBMhxEQIMRFCTIQQEyHERAgxEUJMhBATIcRECDERQkyEEBMhxEQIMRFCTIQQ\n",
        "EyHERAgxEUJMhBATIcRECDERQkyEEBMhxEQIMRFCTIQQEyHERAgxEUJMhBATIcRECDERQkyEEBMh\n",
        "xEQIMRFCTIQQEyHERAgxEUJMhBATIcRECDERQkyEEBMhxEQIMRFC7Ev9Bti2bdv3PXndy+WSvC4/\n",
        "EmFv3/cqhvClubGOQkyEsXYWXS6XahPmRoQQE2FphksywzAnQoiJMDPDGLwyDFsiZNt0mPKcsHFn\n",
        "DJ4dwyTjlxsRTqeK5DoMJTqedTTgXOdHIuQ7V4YJEY5mDPILEfITw3A8EQ61xBjU4WAihJgIx9n3\n",
        "ZZ7RGYYjiXCQfd8WCZDRRMjHDMNhRDjComNQh2OI8HSLFsgwIuQew3AAEZ7LGOQhEfKAYXg2EZ7I\n",
        "GOQZIjzRyxRoGJ5KhDxFh+cRIcREyLMMw5OIEGIiPMLv8+FFJ4ZheAYRHuThqbnvX79WoLSRRHiQ\n",
        "y+VBYLfnFdOf3/d//d8wPJwI+Zwl/oeOtYjwOC8xDDU2nggP9RId3iHRM4iQ7zSWEOHRXncYSvQk\n",
        "IjzBmplprCLCI3x47t4pcL5KHxYo0fOI8BzzZfYvFHgqEUZmqlRjLRGe5mFmM3V4h0TPJsIzrZCZ\n",
        "xnIiTE1fqUQHEOHJ5s5MYzMQYa2r1GOJSYjwfGveoVHgMCIca5rMNDYPEQ7x8HSfbBhKdCQRjjJT\n",
        "ZhqbiginMapS92NmI8KBZhqGf6LA8UQ4k/Mr1diERDjW3I8rJJoQ4XATP50nIcL5RJVKtCLCwjNL\n",
        "6fXrOBqblgjfhccS0xJhZKbHFQpsiRBiIuzMMQyNwZwIU3N0SEuEb80YnIEIa4bh2/tSvwG2bdu+\n",
        "9je8Q2NwBiKcwtcUxibhA3cnYR2t3UoYPpR88PUkRAgxEUJMhKluF2UeInxrLgtnIEKIibBjF2Xb\n",
        "NhFiI82JEGIihJgIIzNdENpIWyKEmAghJsLCTLsoORGybS4LUyKEmAiHM3D4mQg7k10Q2kgrIoSY\n",
        "CCEmwrHmfjhhI02IEGIihJgIB5p7F6UiQn7isnA8EUJMhBDzyVh8wEemjWQSQkyEEBMhH3xGmnuk\n",
        "I/l8wrd2Lc3lX0uE78vdl0lYRw/1+wp3+5s7/1RQ4DxEeLTpL6X2fX+mQJeFw1hHj3a5bPs+7U+H\n",
        "GoATEuG7+NQ9GDdsRhLhCf40DLvt7lMD0LQcTITn+LDDX/44qkkFTk6Er8wKugQRnuY6DDsG4Co8\n",
        "ojhTd1orcCG++7HrsDzwIFhBl2MdjV3P/6OeLBqAKxLhFP79Cf9nZ5oC5yHCWdzu4/xFGp8dgJsV\n",
        "dCYinMi31fRzM8oKujqHZEZPDiv3YF6DCOd1f2oZgC/DsZnaIeNLgZNzeBbw1xVZQZfgJ2YW8He/\n",
        "X3tNV4HzE+Earh0+n6IVdCEO1WIe1mUFXY4I13MnMwNwRdbR9Vyv9H5fTRW4KIdtYbeRaAVdmgiX\n",
        "ZwCuzjq6PAWuToQQEyHERAgxEUJMhBATIcRECDERQkyEEBMhxEQIMRFCTIQQEyHERAgxEUJMhBAT\n",
        "IcRECDERQkyEEBMhxEQIMRFCTIQQEyHERAgxEUJMhBATIcRECDERQkyEEBMhxEQIMRFCTIQQEyHE\n",
        "RAgxEUJMhBATIcRECDERQkyEEBMhxEQIMRFCTIQQEyHERAgxEUJMhBATIcRECDERQkyEEBMhxEQI\n",
        "MRFCTIQQEyHERAgxEUJMhBATIcRECDERQkyEEBMhxEQIMRFCTIQQEyHERAgxEUJMhBATIcRECDER\n",
        "QkyEEBMhxEQIMRFCTIQQEyHE/gfKJD5o9t0BuAAAAABJRU5ErkJggg==\n",
        "\"></td>\n",
        "\t</tr>\n",
        "</table>"
       ],
       "metadata": {},
       "output_type": "pyout",
       "prompt_number": 39,
       "text": [
        "<IPython.core.display.HTML at 0x10e57bdd0>"
       ]
      }
     ],
     "prompt_number": 39
    },
    {
     "cell_type": "markdown",
     "metadata": {},
     "source": [
      "Note/question: should pyrimidones such as the following molecule be excluded by these rules rule?"
     ]
    },
    {
     "cell_type": "code",
     "collapsed": false,
     "input": [
      "demo(\"c1cc(=O)[nH]c2nccn12\")"
     ],
     "language": "python",
     "metadata": {},
     "outputs": [
      {
       "output_type": "stream",
       "stream": "stderr",
       "text": [
        "[2013/Oct/31 16:56:13 INFO    ] rule 21 (Fix heterocyclic tautomer 1) applied\n"
       ]
      },
      {
       "html": [
        "<!-- NB the styling is inline as otherwise it is overridden by the Notebook stylesheets -->\n",
        "\n",
        "<table>\n",
        "\t<tr>\n",
        "\t\t<th style=\"text-align: center;\">Original</th>\n",
        "\t\t<th style=\"text-align: center;\">Transformed</th>\n",
        "\t</tr>\n",
        "\t<tr>\n",
        "\t\t<td><img src=\"data:image/png;base64,iVBORw0KGgoAAAANSUhEUgAAASwAAAEsCAIAAAD2HxkiAAAHLElEQVR4nO3d23ai3BaFUdjtf/9X\n",
        "Zl/QyhBU4gEYk7V6v7JS0Xjgy8SF0XGapgHI+V/6CkDvRAhhIoQwEUKYCCFMhBAmQggTIYSJEMJE\n",
        "CGEihDARQpgIIUyEECZCCBMhhIkQwkQIYSKEMBFCmAghTIQQJkIIEyGEiRDCRAhhIoQwEUKYCCFM\n",
        "hBAmQggTIYSJEMJECGEihDARQpgIIUyEECZCCBMhhIkQwkQIYSKEMBFCmAghTIQQJkIIEyGEiRDC\n",
        "RAhhIoQwEUKYCCFMhBAmQggTIYSJEMJECGEihDARQpgIIUyEECZCCBMhhIkQwkQIYSKEMBFCmAgh\n",
        "TIQQJkIIEyGEiRDCRAhhIoQwEUKYCCFMhBAmQggTIYSJEMJECGEihDARQpgIIUyEECZCCBMhhIkQ\n",
        "wkQIYSKEMBFCmAghTIQQJkIIEyGEiRDCRAhhIoQwEUKYCCFMhBAmQggTIYSJEMJECGEihDARQpgI\n",
        "GzGO4ziO6WvBJ/5LXwF2MI7jNE3zifkr8z+5hNGjdXW3AldfHKR4ESK8sD9LMxgvQYRX9XAAbnzz\n",
        "fMLDXZAIL+mtAldnnE943OsQ4fV8XODqQgYp1iDCi9mlwOWlzSdsBkEivJJ9C1xd8nzC9nA+EV7G\n",
        "cQWufsp8woZxGhFewCvP33Z/jqfG04iwuvihCEs4RxNhaXUORRiMxxFhXTseihj2rtFmsyMRFjWO\n",
        "w76PzI41nrNE1A9/RVHR7gUOi/aMsmr8SqtlHlcnPCZfDkbDcEcmYSFHDMBnVoNxMBtzRFjFmQUu\n",
        "qTFOhCWkClxSY0rvEa7elyWy2VUocMkSzsl6j3D4vZFtv1fSEZtjtQKX5HeOrte43l3i+53ozxn7\n",
        "vAstkO7FJHzDs23ufnzef+P9xKs8AzlTvxHu+Iv8YXL336A6Huo3wkM9jG2adMgDnb4Dt+cz1NFp\n",
        "hBsOfTP5eRi2YZomb7y/ix4jzI7BljpkFz1GuMFuKufrLsIKmRmGLHUX4YYz+0z/HqCQviIMjsHl\n",
        "jz3tjwaPZm1mF31FuKHCbip96ihCmVFTRxFuOLlPCzMs9RKhMUhZvUS4QZ9kdRGhzI5jgfR7XUS4\n",
        "QZ/EtR+hzCiu/QhrskDKTeMRbo9BQ5IKGo+QE1ib+VLLEZYfgzZchqHtCOESmo2w/Bhs0DiO9ks/\n",
        "0GyE9bX3VGqapvlGNXa7jtbmWx4ag0HzfetTZV7XZoScbB6Ay958qszrGozQGCzFYPxTgxFSkA8/\n",
        "3NDaWLjcGCx4lT7wwa2wm3pjEvKVj1u67aZO//697xW7kKYivNwYvLrv79Kfs9+OavT3GDUV4f0a\n",
        "Hce53dX77Fh2XGODm2zdDp+832jdK/zc/XXef8WlmxqbmoSzivOwoVeQPJt7+69/LmdjqUdzbw1G\n",
        "OJTq8OFn9l7WK/fqgTU2qs0IhwodtpXf8P5us2ODL2o2wiHYYXP5Dd89cVXjthr7bEc6tcNP86uy\n",
        "8/zIEUfVHR5cqvvY7+iMTfyb6TeO4zDU3CgPv+ve/YSq5f1c7L76WBcRDkdvTB9vGf/O+BPhZ5dz\n",
        "jPNWJV88GrG6Qq2smvYS4XBQh1/n93PeZ4cxQg9QZgvfGIwPr1ATHba8MLOy8zrNx/ufz854/5KR\n",
        "1T9P3Npi2/b8U7s5TD/rKMJhrw53z28lWmOJTxHu7CVsfUU4fNnhd6svb5/x9BrL7dzVujZH6S7C\n",
        "4bMO98rv3fOuznJwjX1s8+V0tDCz8upv/Wx+L17yET+iIKuj7fn7Qdxx8fMgvdXY4nHCHndHb+bj\n",
        "An8/lDXzW11+Q3+osaWV8Ja6noSz3XZqirxktMT6Jm8Q4TB832GR/Lgmb4M/DP/2Sz/ZoVudbZoK\n",
        "FXh/e25f2fgvTtf1c8Kl20s1Xo3oEtOvlfXDtpmEv2y8hPOXstNv5dXbQ5JJuPbGQYu/vxv+JsJP\n",
        "XSW/Z8dhTMgyRPjE/YZ7+8pV8rt52OH9rSPEc8LnHm6XlyuQ8kT4XEurGi3dluaIsBtmeFUi3HTp\n",
        "AXJf3f1f8W98M2cR4V8u3SFXIEIIE+ELDEOOJMLXeMrEYfwpE4SZhBAmQggTIYSJEMJECGEihDAR\n",
        "QpgIIUyEECZCCBMhhIkQwkQIYSKEMBFCmAghTIQQJkIIEyGEiRDCRAhhIoQwEUKYCCFMhBAmQggT\n",
        "IYSJEMJECGEihDARQpgIIUyEECZCCBMhhIkQwkQIYSKEMBFCmAghTIQQJkIIEyGEiRDCRAhhIoQw\n",
        "EUKYCCFMhBAmQggTIYSJEMJECGEihDARQpgIIUyEECZCCBMhhIkQwkQIYSKEMBFCmAghTIQQJkII\n",
        "EyGEiRDCRAhhIoQwEUKYCCFMhBAmQggTIYSJEMJECGEihDARQpgIIUyEECZCCBMhhIkQwkQIYSKE\n",
        "MBFCmAghTIQQJkIIEyGEiRDCRAhhIoQwEUKYCCFMhBAmQggTIYSJEMJECGEihLD/A4KmJOgio5nF\n",
        "AAAAAElFTkSuQmCC\n",
        "\"></td>\n",
        "\t\t<td><img src=\"data:image/png;base64,iVBORw0KGgoAAAANSUhEUgAAASwAAAEsCAIAAAD2HxkiAAAHHUlEQVR4nO3d3XaizBaGUdjju/9b\n",
        "Zh8w2rbREH+Ad1XVnEd2OlHUerIIGDMvyzIBOf9LbwCMToQQJkIIEyGEiRDCRAhhIoQwEUKYCCFM\n",
        "hBAmQggTIYSJEMJECGEihDARQpgIIUyEECZCCBMhhIkQwkQIYSKEMBFCmAghTIQQJkIIEyGEiRDC\n",
        "RAhhIoQwEUKYCCFMhBAmQggTIYSJEMJECGEihDARQpgIIUyEECZCCBMhhIkQwkQIYSKEMBFCmAgh\n",
        "TIQQJkIIEyGEiRDCRAhhIoQwEUKYCCFMhBAmQggTIYSJEMJECGEihDARQpgIIUyEECZCCBMhhIkQ\n",
        "wkQIYSKEMBFCmAghTIQQJkIIEyGEiRDCRAhhIoQwEUKYCCFMhBAmQggTIYSJEMJECGEihDARQpgI\n",
        "IUyEECZCCBMhhIkQwkQIYSKEMBFCmAghTIQQJkIIEyGEiRDCRAhhIoQwEUKYCCFMhBAmQggTIYSJ\n",
        "sBPzPM/znN4KPvFfegM4wDzPy7KsF9aPrP+kCbNnq3W3AjcfnKTYCBE27NfSDMYmiLBVTwfgziev\n",
        "FzzdBYmwSW8VuPnC9YLnvQ4RtufjAjdXMkmxBhE25pAC769tvWAZBImwJccWuLnm9YL1cD0RNuO8\n",
        "Aje3sl6wMC4jwga88vPb4T/jqfEyIqwufirCIZyzibC0OqciDMbziLCuA09FTEfXaNkcSIRFzfN0\n",
        "7DNzYI3XHCIah9+iqOjwAqe79oyyanxLq2UdVxc8J18ORsPwQCZhIWcMwJ9sBuNkNuaIsIorC7yn\n",
        "xjgRlpAq8J4aU0aPcPO+LJFlV6HAew7hXGz0CKd/F9n+eyWdsRyrFXhPftcY+hjXu4f4/k307xeO\n",
        "+RA6QHoUk/ANP625x/H5+ImPE6/yDORK40Z44Dfyp8k9foLqeGrcCE/1NLZl0SFPDPoO3H6eoY5B\n",
        "I9xx6pvJr8OwD8uyeOP9Q4wYYXYM9tQhhxgxwh12U7necBFWyMww5N5wEe64ss/09wEKGSvC4Bi8\n",
        "v9nLfmnwbI7NHGKsCHdU2E1lTANFKDNqGijCHRf36cAM90aJ0BikrFEi3KFPsoaIUGbncYD0e0NE\n",
        "uEOfxPUfocworv8Ia3KAlJvOI9wfg4YkFXQeIRdwbOZLPUdYfgxauExT3xFCE7qNsPwY7NA8z/ZL\n",
        "P9BthPX196PUsizrnersfp2tz7c8NAaD1sfWX5V5XZ8RcrF1AN735q/KvK7DCI3BUgzGX3UYIQX5\n",
        "44c7ehsLzY3Bgpv0gQ/uhd3UG5OQr3zc0m03dfnz72M3rCFdRdjcGNzTwluyff+Q/v3y21mN2nf5\n",
        "DF1F+HiMrnmFl+btoT5mx3LgGvtastM0NTfxdjb46SnvGnftcZuPP+IyTI2NrdcXtdXh71v7yp8C\n",
        "vsqvc++UGtt5Nj/Q0mJ9S0MdvrGp6RrfelSdjXhRMyv1A610+PZ2hnZTP3481bivjWX6sSY6/Hwj\n",
        "LxyMhzySanyqgTX6pc47nE4fjGecVXd68F4DC/R71Tuc53maDliUJwzG0x+6d0+H3t/Hys/pO2qv\n",
        "zuMU7fDPkvob4U2BGq87Kvni2YjNBvVy1LTk0jxHrQ43ney8BWJoNzWzwncG49MN6qLDSuvyfCU6\n",
        "fMxv/xN2PvOoW3z2FcnH6elg7DfCrl629qvw69pejOHxBVybf767/T9d4TMlXrI62EvYCkyGy2U6\n",
        "/OaIwuGz8efbqbscTMKeXD0P398b3Dp8Nj7TxXpu0oiTcHXFmvs+vxev+eubaKNAR0f7c+KTeF5+\n",
        "+zf00S22tJidJ+zP8evvsvz2b/flDWipwE6NHuF04CpM5be/Gavhn+XKRjwws7GeJ/9qlRbJb3Pr\n",
        "3ga7ESKcpm+qKZXfxqbGx+809kRr8LcoDrIsdRe02VibCL9WOb+NnVeokiPC77SSH4WJcDCGYT0i\n",
        "/ONxad4+svNfLdJhMSK8Y2mSIMI744yIce5pC0Q4KoeUynCy/l8/vXymg7nxeKd0WIMIHzzt8PG1\n",
        "JnAQu6MQJsJnHLfgQiL8gZ+XuIrfJ4QwkxDCRAhhIoQwEUKYCCFMhBAmQggTIYSJEMJECGEihDAR\n",
        "QpgIIUyEECZCCBMhhIkQwkQIYSKEMBFCmAghTIQQJkIIEyGEiRDCRAhhIoQwEUKYCCFMhBAmQggT\n",
        "IYSJEMJECGEihDARQpgIIUyEECZCCBMhhIkQwkQIYSKEMBFCmAghTIQQJkIIEyGEiRDCRAhhIoQw\n",
        "EUKYCCFMhBAmQggTIYSJEMJECGEihDARQpgIIUyEECZCCBMhhIkQwkQIYSKEMBFCmAghTIQQJkII\n",
        "EyGEiRDCRAhhIoQwEUKYCCFMhBAmQggTIYSJEMJECGEihDARQpgIIUyEECZCCBMhhIkQwkQIYSKE\n",
        "MBFCmAghTIQQJkIIEyGEiRDCRAhhIoQwEUKYCCFMhBD2f1bMEu7SjP0aAAAAAElFTkSuQmCC\n",
        "\"></td>\n",
        "\t</tr>\n",
        "</table>"
       ],
       "metadata": {},
       "output_type": "pyout",
       "prompt_number": 40,
       "text": [
        "<IPython.core.display.HTML at 0x10e57b310>"
       ]
      }
     ],
     "prompt_number": 40
    },
    {
     "cell_type": "markdown",
     "metadata": {
      "slideshow": {
       "slide_type": "slide"
      }
     },
     "source": [
      "### Fix heterocyclic tautomer 2"
     ]
    },
    {
     "cell_type": "code",
     "collapsed": false,
     "input": [
      "demo(\"c1cnc2ccc[nH]c12\")"
     ],
     "language": "python",
     "metadata": {
      "slideshow": {
       "slide_type": "-"
      }
     },
     "outputs": [
      {
       "output_type": "stream",
       "stream": "stderr",
       "text": [
        "[2013/Oct/31 16:56:13 INFO    ] rule 22 (Fix heterocyclic tautomer 2) applied\n"
       ]
      },
      {
       "html": [
        "<!-- NB the styling is inline as otherwise it is overridden by the Notebook stylesheets -->\n",
        "\n",
        "<table>\n",
        "\t<tr>\n",
        "\t\t<th style=\"text-align: center;\">Original</th>\n",
        "\t\t<th style=\"text-align: center;\">Transformed</th>\n",
        "\t</tr>\n",
        "\t<tr>\n",
        "\t\t<td><img src=\"data:image/png;base64,iVBORw0KGgoAAAANSUhEUgAAASwAAAEsCAIAAAD2HxkiAAAGEklEQVR4nO3d207jSBRA0Xg0///L\n",
        "noeMMgw0IQFcuype660biUQkW+fYxWXb9/0CdP6qnwCcnQghJkKIiRBiIoSYCCEmQoiJEGIihJgI\n",
        "ISZCiIkQYiKEmAghJkKIiRBiIoSYCCEmQoiJEGIihJgIISZCiIkQYiKEmAghJkKIiRBiIoSYCCEm\n",
        "QoiJEGIihJgIISZCiIkQYiKEmAghJkKIiRBiIoSYCCEmQoiJEGIihJgIISZCiIkQYiKEmAghJkKI\n",
        "iRBiIoSYCCEmQoiJEGIihJgIISZCiIkQYiKEmAghJkKIiRBiIoSYCCEmQoiJEGIihJgIISZCiIkQ\n",
        "YiKEmAghJkKIiRBiIoSYCCEmQoiJEGIihJgIISZCiIkQYiKEmAgh9nf9BLhcLpdt25LH3fc9eVze\n",
        "EmFv27YqhvChubGOQkyEsXYW7ftebcLciBBiIizNcElmGOZECDERZmYYg1eGYUuEXC46TDknbNwZ\n",
        "g0fHMMn45UaE06kiuQ5DiY5nHQ14r/OWCPmPK8OECEczBnlHhPyPYTieCIdaYgzqcDARQkyE42zb\n",
        "Mmd0huFIIhxk2y6LBMhoIuTPDMNhRDjComNQh2OI8HCLFsgwIuQew3AAER7LGORLIuQLhuHRRHgg\n",
        "Y5BHiPBAL1OgYXgoEfIQHR5HhBATIY8yDA8iQoiJ8Fs+DoTb/9z50PoMwyOI8Lte+r2otJFE+F37\n",
        "/qod3v/xf8Pw14mQ5yzxGzrW4pf//sB1GH58R648KDQ2ngh/5o8dvvvnyk2+I9EjWEf5j8YSIvyx\n",
        "171D845EDyLC3/ASb02NVXzdj3GbjYt8eb8sUKLHMQmPcXu/vsSmqsBDiRCNxUR4mFcZhhI9mgiP\n",
        "tEKHGsuJkHskOoAIDzb3MNTYDER4Xo4lJiHC4809DD+jwGFEONY0HWpsHiIcYrW3u0RHEuEoMy2l\n",
        "GpuKCE/H/ZjZiHCgmYbhZxQ4ngjPRWMTEuFYcw9DiSZEOFzXocbmJEL+JdGKCAvFMNTYtER4Fo4l\n",
        "piXCyEx3aBTYEiHERNiZYxgagzkRpubokJYIT80YnIE/CFO7/RZ9w/CsTMIJdLPIEJyBSTiF7atz\n",
        "vAMe0uCdhUnYay7M3BOahgghJkKIifDEbKRzEGHMSR0inNpmRp2ACM/NRjoBEZbu76I21ZMQIcRE\n",
        "CDERZmbZRV0W1kQIMRFCTIQzGn1f1EaaEmHD8QM3IoSYCKcTD0kb6XAiDMy4i872fM5EhBAT4Vxm\n",
        "HJIcTISjzZuZg4qICCcyb58cSYQQEyFv2EgLIhzqzsJpFz0tEUJMhBDztyjGWWMXneRpnIlJCDER\n",
        "QkyEg8y8izqPaLkmPLVrfi4DWyI8r22T3xSso7FqF71X4Mf11MJ6JBGOkF/1vbVtD8xA1Q0kwtjg\n",
        "OK/5ff2Y+67DYUQ4wr7v27blf+fMReCcRDjIvu/XFJNHf2gFfccwHEWEQyUdPrqCfqTDIUQ42uDV\n",
        "9PEBeJ2WjOecMHC9GXP0LdNr5w8+xKetGobHMwkzh66m18J/WuCVmzkHm+j86pyemle//gl929oM\n",
        "RDiF31pNn/o8TiwmYR2dwq+spgpclEk4kW+vplbQpYlwOs+upgbg6kQ4owcn25MD8JfvAPFbRDiv\n",
        "+yPuyQHohZ6X12ZqP4/HAJyfCGf3k4oMwCV4kdbwjbs1FwNwEc4J1/DUQeJT37NGToTLePDHL6yg\n",
        "y/GCreezzKygizIJ1/PH1dQKui6TcFW3uWcArk6Ea3MF+AKso2tT4AsQIcRECDERQkyEEBMhxEQI\n",
        "MRFCTIQQEyHERAgxEUJMhBATIcRECDERQkyEEBMhxEQIMRFCTIQQEyHERAgxEUJMhBATIcRECDER\n",
        "QkyEEBMhxEQIMRFCTIQQEyHERAgxEUJMhBATIcRECDERQkyEEBMhxEQIMRFCTIQQEyHERAgxEUJM\n",
        "hBATIcRECDERQkyEEBMhxEQIMRFCTIQQEyHERAgxEUJMhBATIcRECDERQkyEEBMhxEQIMRFCTIQQ\n",
        "EyHERAgxEUJMhBATIcRECDERQkyEEBMhxEQIMRFCTIQQEyHERAgxEUJMhBATIcRECLF/ANweQ1J4\n",
        "2z3HAAAAAElFTkSuQmCC\n",
        "\"></td>\n",
        "\t\t<td><img src=\"data:image/png;base64,iVBORw0KGgoAAAANSUhEUgAAASwAAAEsCAIAAAD2HxkiAAAGBElEQVR4nO3dwW7bVhBAUbHo//8y\n",
        "u1DhJo1rSw357lA6B17FRiRAupkhn+1s+77fgM4f9ROAdydCiIkQYiKEmAghJkKIiRBiIoSYCCEm\n",
        "QoiJEGIihJgIISZCiIkQYiKEmAghJkKIiRBiIoSYCCEmQoiJEGIihJgIISZCiIkQYiKEmAghJkKI\n",
        "iRBiIoSYCCEmQoiJEGIihJgIISZCiIkQYiKEmAghJkKIiRBiIoSYCCEmQoiJEGIihJgIISZCiIkQ\n",
        "YiKEmAghJkKIiRBiIoSYCCEmQoiJEGIihJgIISZCiIkQYiKEmAghJkKIiRBiIoSYCCEmQoiJEGIi\n",
        "hJgIISZCiIkQYiKEmAghJkKIiRBiIoSYCCEmQoiJEGIihJgIISZCiP1ZPwFut9tt27bkcfd9Tx6X\n",
        "H4mwt21bFUP40HywjkJMhLF2Fu37Xm3CfBAhxERYmnBJZhjmRAgxEWYmjME7w7AlQm43HaacEza+\n",
        "GINnxzBk/PJBhONUkdyHoUTXs44GvNf5kQj5hyvDhAhXMwb5FxHyE8NwPREudYkxqMPFRAgxEa6z\n",
        "bZc5ozMMVxLhItt2u0iArCZCPmcYLiPCFS46BnW4hghPd9ECWUaEfMUwXECE5zIG+ZYI+YZheDYR\n",
        "nsgY5BEiPNHLFGgYnkqEPESH5xEhxETIowzDk4gQYiI8wq/z4UUnhmF4BhEe5Nu35rb9/XEFSltJ\n",
        "hAfZ928C+zivGP/+/vrH/w3Dw4mQ51ziN3RciwiP8xLDUGPrifBQL9HhFyR6BhHyD40lRHi01x2G\n",
        "Ej2JCE9wzcw0VhHhET59735R4LxKvy1QoucR4TnmZfY7FHgqEUYmVaqxlghP821mkzr8gkTPJsIz\n",
        "XSEzjeVEmBpfqUQXEOHJZmemsQlEWOsqdSwxhAjPd807NApcRoRrjclMY3OIcIlv3+7DhqFEVxLh\n",
        "KpMy09goIhxjVaXux0wjwoUmDcP/osD1RDjJ+ZVqbCARrjX7uEKiCREuN/h0noQI54kqlWhFhIVH\n",
        "ltL7x3E0NpYI34VjibFEGJl0XKHAlgghJsLOjGFoDOZEmJrRIS0RvjVjcII/6yfw9j5+bb5h+K5M\n",
        "wgH2Pelvu90MwQlMwjEWr4XbpsAhTMJec2HmntAYIoSYCCEmwjdmI51BhDEndYgQYiJ8bzbSAURY\n",
        "sotyEyHkRAgxEWam7KIuC2sihJgIISZCbKQxETamXBAygAghJkJ+ZiNdToSBibvotOfzTkQIMRFC\n",
        "TISrTdxF7xxUREQIMRFCTIT8wEZaEOFScy8I6YgQYiKEmP+LYp1r7KLzn+HLMQkhJkKIiXCRT3fR\n",
        "zUkAImzt+75tmxTfnAhj+77fU6yfCBkRjhB3+OtDf/zJF5/iICJc4ZHDiXg1lVZHhIOUq+m+67Ai\n",
        "whWemnLu1rwb3zGzyH0dffCbZp764sPch+Gvj+ifg5OZhEs9tW0Gq+mnS+m+//TB0US4mtWUfxFh\n",
        "4KkbMKvv1rhDs5wIM3NXUzvnWlf44ZqXdk/rwVfhqS9+7C+83URXE+EIT90IPequ6ae3QlnPOjrC\n",
        "/1hNf3M7VeAcJuEgz26b/28kWkGnEeE4p66mBuBAIpzojLs1h9/U4SginOvAkXiN3zH1rrw2o/1+\n",
        "PAbgfCKc7ncqMgAvwYt0Dc/fgDEAL8M54TU8dZB4L1aBVyHCy3jwjN4KejlesOv5r8ysoBdlEl7P\n",
        "p6upFfS6TMKr+ph7BuDVifDaXAG+AOvotSnwBYgQYiKEmAghJkKIiRBiIoSYCCEmQoiJEGIihJgI\n",
        "ISZCiIkQYiKEmAghJkKIiRBiIoSYCCEmQoiJEGIihJgIISZCiIkQYiKEmAghJkKIiRBiIoSYCCEm\n",
        "QoiJEGIihJgIISZCiIkQYiKEmAghJkKIiRBiIoSYCCEmQoiJEGIihJgIISZCiIkQYiKEmAghJkKI\n",
        "iRBiIoSYCCEmQoiJEGIihJgIISZCiIkQYiKEmAghJkKIiRBiIoSYCCEmQoiJEGIihJgIISZCiIkQ\n",
        "YiKEmAghJkKIiRBiIoSYCCEmQoiJEGIihJgIISZCiIkQYiKE2F98xVNMnrcBHQAAAABJRU5ErkJg\n",
        "gg==\n",
        "\"></td>\n",
        "\t</tr>\n",
        "</table>"
       ],
       "metadata": {},
       "output_type": "pyout",
       "prompt_number": 41,
       "text": [
        "<IPython.core.display.HTML at 0x10e5808d0>"
       ]
      }
     ],
     "prompt_number": 41
    },
    {
     "cell_type": "markdown",
     "metadata": {
      "slideshow": {
       "slide_type": "slide"
      }
     },
     "source": [
      "### Fix heterocyclic tautomer 3"
     ]
    },
    {
     "cell_type": "code",
     "collapsed": false,
     "input": [
      "demo(\"n1ccc2c[nH]ccc12\")"
     ],
     "language": "python",
     "metadata": {
      "slideshow": {
       "slide_type": "-"
      }
     },
     "outputs": [
      {
       "output_type": "stream",
       "stream": "stderr",
       "text": [
        "[2013/Oct/31 16:56:13 INFO    ] rule 23 (Fix heterocyclic tautomer 3) applied\n"
       ]
      },
      {
       "html": [
        "<!-- NB the styling is inline as otherwise it is overridden by the Notebook stylesheets -->\n",
        "\n",
        "<table>\n",
        "\t<tr>\n",
        "\t\t<th style=\"text-align: center;\">Original</th>\n",
        "\t\t<th style=\"text-align: center;\">Transformed</th>\n",
        "\t</tr>\n",
        "\t<tr>\n",
        "\t\t<td><img src=\"data:image/png;base64,iVBORw0KGgoAAAANSUhEUgAAASwAAAEsCAIAAAD2HxkiAAAGM0lEQVR4nO3c0U4UWxBA0ekb//+X\n",
        "5z6gREUGUPrsOvRaMTHAS8eZTVWfjnPc7/cb0PmvvgC4OhFCTIQQEyHERAgxEUJMhBATIcRECDER\n",
        "QkyEEBMhxEQIMRFCTIQQEyHERAgxEUJMhBATIcRECDERQkyEEBMhxEQIMRFCTIQQEyHERAgxEUJM\n",
        "hBATIcRECDERQkyEEBMhxEQIMRFCTIQQEyHERAgxEUJMhBATIcRECDERQkyEEBMhxEQIMRFCTIQQ\n",
        "EyHERAgxEUJMhBATIcRECDERQkyEEBMhxEQIMRFCTIQQEyHERAgxEUJMhBATIcRECDERQkyEEBMh\n",
        "xEQIMRFCTIQQEyHERAgxEUJMhBATIcRECDERQkyEEBMhxER4Acfx6nce/IhVRHgN0hrsW30B3G63\n",
        "2/Gvkdxf/cH9x1/H8eMLZhFh7ziOuzwuTISX8dowtKnWRBhbOgb/2OFvX2pyOQczEBNhKbgbfBqG\n",
        "TCLC63EINIxzucygQ9Hn2Tjkei7GJGy8WeA/Pzn8iOcrsakWRDjRoCHJ+UQYmNiYYdgR4ThZojqM\n",
        "iHC1iWOQlAhniRM1DAsiXMoY5CURrvOexxJ9oobhciKcYkSBv9HhEiJcZGJjr9nlOr8KEY4wLlFL\n",
        "6UIiXGFcY0wiwtPtcR7zkmG4ighjQwtkIRGea+/GDMMlRFjaIFEdnk+EJ9qgMQYQYWabRA3Dk4nw\n",
        "LNs0Rk2Ep9j1scRrDMMziTCwWYGcTISf72s2ZhieRoSrbZyoDs8hwk+2cWNERLjUHokex/c/LxmG\n",
        "JxDhZ9qjscd8GvdyIvxM9/v9wSdnS5Q/EuE6GxSosYIIP9njYTjamwVK9Bwi5H0UeBoRfr4th6HG\n",
        "OiLkHSR6JhGeYrNhqLGUCM+yWYcPSPRkIrw8jdVEeKINhqHHEgOIkNcpcAkRnmv0MNTYDCLkFRJd\n",
        "RYSnGzoMNTaGCFcY16HzmElEyAujfl9cgAgXGTQM3z/ljMElRMivLKLLiXCdEcNQY/OIcKkRHT4g\n",
        "0YIIr0RjI4lwtWwYeiwxlQi53W4KLIkwEAxDjQ32rb4AlnjcnkRTJmFj+jEpC4kwM6VDY7AmQoiJ\n",
        "sNQPQ2NwABFemAJnEGGsH4bUPKKYIezQGKyZhL377ZYlqMABTMIRvqewNonjOCQ4gUlY605H3I4O\n",
        "IUKIiRBiIkx5UocIL85t4QRORwczJ6/BJOw8bkyBlyHCq7OR5kQIMRGOZBe9EhFGJmVmI22JEGIi\n",
        "nGfSkGQBERZkxk9EyO3mtjAlwmEMyesR4XIGDr8SYWfYrLORVkQ4iV30kkQIMRGuNXvW2UgTIhxj\n",
        "dp+cR4QQE+FCZh1/IsIZxvTptnA9EUJMhBA77vX+w5xd9NlxeGOsYxJCTIQQE2FtwC768jjUGelK\n",
        "PoH70p5Kc/vXEuF1OX0Zwjp6ppcb3W/f6XZRBc5hEp7sOB4FVmTwzhX06bZQqAuI8GT3+xsdrqWr\n",
        "gUR4FR86g3Fgs5IIzzdgGH5oAJqWizmYWeKpw4gChzMJA089LnirW0G3IMJVfhqGT+/zs1dUA3AX\n",
        "1tGFfn2Xn7qivj+q4zgU2PKvH/v01fSjK6g3QM46Gvvc1dQKuiMRjvDvTzGcwexLhFM83yL+RRoG\n",
        "4NZEOMiP1fRjkXzoDOZmAM7jl+JE76zFGczX4IWZ63E2BuCXIcLR/n18GYDzeVg/2tN/6vvrj3tR\n",
        "4Ba8SHv4i9OamxV0EybhHj708WdPxSpwFybhTt6cbwbgjkS4n9dWU3eAm7KO7uePq6kC9+WV29Xz\n",
        "5mkF3Z0I92YAfgHW0b0p8AsQIcRECDERQkyEEBMhxEQIMRFCTIQQEyHERAgxEUJMhBATIcRECDER\n",
        "QkyEEBMhxEQIMRFCTIQQEyHERAgxEUJMhBATIcRECDERQkyEEBMhxEQIMRFCTIQQEyHERAgxEUJM\n",
        "hBATIcRECDERQkyEEBMhxEQIMRFCTIQQEyHERAgxEUJMhBATIcRECDERQkyEEBMhxEQIMRFCTIQQ\n",
        "EyHERAgxEUJMhBATIcRECDERQkyEEBMhxEQIMRFCTIQQEyHERAgxEUJMhBATIcRECDERQkyEEBMh\n",
        "xEQIMRFCTIQQEyHERAgxEUJMhBATIcRECLH/AWvkWmbQVU5ZAAAAAElFTkSuQmCC\n",
        "\"></td>\n",
        "\t\t<td><img src=\"data:image/png;base64,iVBORw0KGgoAAAANSUhEUgAAASwAAAEsCAIAAAD2HxkiAAAGFUlEQVR4nO3d224TSQBF0e4R///L\n",
        "ngeTjJjcHOKqXWWvJSQEg8CMsznV3VzOy+VyAJ1/6hcAz06EEBMhxEQIMRFCTIQQEyHERAgxEUJM\n",
        "hBATIcRECDERQkyEEBMhxEQIMRFCTIQQEyHERAgxEUJMhBATIcRECDERQkyEEBMhxEQIMRFCTIQQ\n",
        "EyHERAgxEUJMhBATIcRECDERQkyEEBMhxEQIMRFCTIQQEyHERAgxEUJMhBATIcRECDERQkyEEBMh\n",
        "xEQIMRFCTIQQEyHERAgxEUJMhBATIcRECDERQkyEEBMhxEQIMRFCTIQQEyHERAgxEUJMhBATIcRE\n",
        "CDERQkyEEBMhxEQIMRFCTIQQEyHERAgxEUJMhBATIcRECDERPp/z/PprmEiET0l1K/lVvwCO4zjO\n",
        "n1ZxufXbXV4+O8+XLxATYe88z4senpjj6LO6jiELEGGsnEEdrkGEEBNhqb8aNIYLEOHTe/1VQI0R\n",
        "EWayGXz3B1VgR4SNLwv88ZPD/393vz+9yximRLii+4+kzBYmwkB/P+YtlXZEuJxRiX6ZmQ4jIpwt\n",
        "fjr/8iKaF8B7RLiW+KSq0oIIp+qvBmW2HhHOc8tjif6GjUqnE+Eq5hV4e2Y6nEKEkyyxcjfa5XU+\n",
        "ChEuYXaiHlesRIQzrDiDMluGCIfb437MWyqdRYQxz+4R4ViLrtyNVDqFCEt9ou7QLECEA/WN3UJm\n",
        "NRFm9kj0UOlwIhxlm8YOmcVEOMSujyU+otKRRBhYsUCZdUR4fys29nMqHUaEs62bqMcVERHe2bqN\n",
        "3UJmBRFOtXeih0qHEOE9bd/YIbPA/h80i/mkw0dI9LXM3X8iK7GE82xfIGOI8M4ul8ud/xmJdZjB\n",
        "MUTIbRQ4jAjv75HHkAFEyA3M4EgiHMIYcjsRjvI4HZrBwUQIMREO9AhjaAbHEyEfU+AUIhzrEcaQ\n",
        "wUTIB8zgLCIczhjyORHOsF+HZnAiEfLGXr9e7E+Ek+w3hocZnESE/MlBdDoRzrPlGDKeCKdavUMz\n",
        "WBAhxEQ427pjaAYjIuQ4DgWWRBhYdwwpiBAzGBNhwxjySoSZVTo0gzURQkyEpX4MzeACRPjEFLgG\n",
        "Ecb6MaT2q34BHMeR/hE+M1izhL3LcSQJnocCl2AJl/A7hclJOAavwRLWursjLkcXIUKIiRBiIkx5\n",
        "UocIn5zLwhWIEGIeUXQ+OouOniZH38VYwmfnRJqzhOuxVE/GEkJMhJGVHk44kbZECDERQkyEhZXO\n",
        "ouREyHG4LEyJEGIinM7g8CcRdha7IHQirYgQYiKEmAjnWvvhhBNpQoQQEyHERDjR2mdRKiLkDy4L\n",
        "5xMhxEQIsfPi+oQ3ztMHxjyWEGIihJgIOd7eDnWPdCZ/5eFTu5bm8q8lwufl7ssiHEfv6u0R7vVr\n",
        "PvlPBQWuQ4T3tvyl1HmetxTosnAax9F7u1yO81z2d4cawAWJ8Fl86x6MGzYziXCAj8awO919awCt\n",
        "5WQiHOPdDif/O4T//TgKXJoIH5kj6BZEOMx1DDsGcBceUYzUfVgrcCP+78euY3nHN8ERdDuOo7Hr\n",
        "x/+9niwawB2JcAk/f8L/3U1T4DpEuIrX+zh/kcZ3B/BwBF2JCBfycjT93kY5gu7OW7KiG8fKPZjH\n",
        "IMJ1fb5aBvBheG+Wdpf5UuDivD0b+OuKHEG34HfMbODv/nztNV0Frk+Ee7h2eHuKjqAb8VZt5su6\n",
        "HEG3I8L9fJKZAdyR4+h+rld6b4+mCtyUt21jr5PoCLo1EW7PAO7OcXR7CtydCCEmQoiJEGIihJgI\n",
        "ISZCiIkQYiKEmAghJkKIiRBiIoSYCCEmQoiJEGIihJgIISZCiIkQYiKEmAghJkKIiRBiIoSYCCEm\n",
        "QoiJEGIihJgIISZCiIkQYiKEmAghJkKIiRBiIoSYCCEmQoiJEGIihJgIISZCiIkQYiKEmAghJkKI\n",
        "iRBiIoSYCCEmQoiJEGIihJgIISZCiIkQYiKEmAghJkKIiRBiIoSYCCEmQoiJEGIihJgIISZCiIkQ\n",
        "YiKEmAghJkKIiRBiIoSYCCEmQoiJEGIihJgIISZCiIkQYiKEmAghJkKIiRBiIoSYCCEmQoj9C06j\n",
        "N2273rkZAAAAAElFTkSuQmCC\n",
        "\"></td>\n",
        "\t</tr>\n",
        "</table>"
       ],
       "metadata": {},
       "output_type": "pyout",
       "prompt_number": 42,
       "text": [
        "<IPython.core.display.HTML at 0x10e57b290>"
       ]
      }
     ],
     "prompt_number": 42
    },
    {
     "cell_type": "markdown",
     "metadata": {
      "slideshow": {
       "slide_type": "slide"
      }
     },
     "source": [
      "### Fix heterocyclic tautomer 4"
     ]
    },
    {
     "cell_type": "code",
     "collapsed": false,
     "input": [
      "demo(\"c1cnc2c[nH]ccc12\")"
     ],
     "language": "python",
     "metadata": {
      "slideshow": {
       "slide_type": "-"
      }
     },
     "outputs": [
      {
       "output_type": "stream",
       "stream": "stderr",
       "text": [
        "[2013/Oct/31 16:56:13 INFO    ] rule 24 (Fix heterocyclic tautomer 4) applied\n"
       ]
      },
      {
       "html": [
        "<!-- NB the styling is inline as otherwise it is overridden by the Notebook stylesheets -->\n",
        "\n",
        "<table>\n",
        "\t<tr>\n",
        "\t\t<th style=\"text-align: center;\">Original</th>\n",
        "\t\t<th style=\"text-align: center;\">Transformed</th>\n",
        "\t</tr>\n",
        "\t<tr>\n",
        "\t\t<td><img src=\"data:image/png;base64,iVBORw0KGgoAAAANSUhEUgAAASwAAAEsCAIAAAD2HxkiAAAGOklEQVR4nO3d0W7bSBJAUXEx///L\n",
        "2gfvBLNxpMhjsW91eA4CBI6BmIBwU0W2Yx33+/0GdP5TXwBcnQghJkKIiRBiIoSYCCEmQoiJEGIi\n",
        "hJgIISZCiIkQYiKEmAghJkKIiRBiIoSYCCEmQoiJEGIihJgIISZCiIkQYiKEmAghJkKIiRBiIoSY\n",
        "CCEmQoiJEGIihJgIISZCiIkQYiKEmAghJkKIiRBiIoSYCCEmQoiJEGIihJgIISZCiIkQYiKEmAgh\n",
        "JkKIiRBiIoSYCCEmQoiJEGIihJgIISZCiIkQYiKEmAghJkKIiRBiIoSYCCEmQoiJEGIihJgIISZC\n",
        "iIkQYiKEmAghJkKIiRBiIoSYCCEmQoiJEGIihJgIISZCiIkQYiK8gON4+CdPPsUqIrwGaQ32V30B\n",
        "3G632/HdSO4PP3H/+7fj+PsDZhFh7ziOuzwuTISX8WgY2lRrIowtHYO/7PCnDzW5nAczEBNhKbgb\n",
        "/BiGTCLC6/EQaBjP5TKDHor+mI1DrudiTMLGbwv89snhV/y4EptqQYQTDRqSnE+EgYmNGYYdEY6T\n",
        "JarDiAhXmzgGSYlwljhRw7AgwqWMQT4T4TqvHEv0iRqGy4lwihEF/kSHS4hwkYmNPbLLdf4pRDjC\n",
        "uEQtpQuJcIVxjTGJCE+3x/OYzwzDVUQYG1ogC4nwXHs3ZhguIcLSBonq8HwiPNEGjTGACDPbJGoY\n",
        "nkyEZ9mmMWoiPMWuxxKPGIZnEmFgswI5mQjf789szDA8jQhX2zhRHZ5DhG+2cWNERLjUHokex/9+\n",
        "fWYYnkCE77RHY8/5adzLifCd7vf7k5+cLVF+SYTrbFCgxgoifLPnw3C03xYo0XOIkNco8DQifL8t\n",
        "h6HGOiLkBRI9kwhPsdkw1FhKhGfZrMMnJHoyEV6exmoiPNEGw9CxxAAi5DEFLiHCc40ehhqbQYQ8\n",
        "INFVRHi6ocNQY2OIcIVxHXoeM4kI+WTUvxcXIMJFBg3D16ecMbiECPl/FtHlRLjOiGGosXlEuNSI\n",
        "Dp+QaEGEV6KxkUS4WjYMHUtMJUJut5sCSyIMBMNQY4P9VV8ASzxvT6Ipk7Ax/TEpC4kwM6VDY7Am\n",
        "QoiJsNQPQ2NwABFemAJnEGGsH4bURHhVxuAYzgl74TDU3wQinGL1uxfagcewjvaad/D17vNjiBBi\n",
        "IoSYCC/MRjqDCGPNDSGTiHA05/hXIMJrs5EOIMLS813UpnoRIoSYCCEmwsyUXdRtYU2EEBMhxEQ4\n",
        "0ernojbSlAgbjh/4QYQQE+E48ZC0kS4nwsDEXXTa9VyJCCEmwlkmDklOJsLV5mbmoCIiwkHm9smZ\n",
        "RAgxEfIPNtKCCJd6snDaRS9LhBATIcS8F8U6e+yiQy7jSkxCiIkQYiJcZPIu6jyi5Z7w0j7ycxvY\n",
        "EuF1HYf8RrCOxqpd9FmBn9dTC+uZRLhCftf3T8fxwgxU3UIijC2O8yO/33/N+12Hy4hwhfv9fhxH\n",
        "/j5nbgJnEuEi9/v9I8Xkq7+0gv7EMFxFhEslHb66gn6mwyVEuNri1fT1AfgxLVnPOWHg42HM2Y9M\n",
        "Pzp/8Us8bNUwPJ9JmDl1Nf0o/LsFfvAw52SDzq+u6Uvz6u1/oW9bm0CEI7xrNf3S3+PEYgjr6Ahv\n",
        "WU0VuCmTcJB/vZpaQbcmwnG+upoagLsT4UQvTrYvDsA3PwHiXUQ41/MR98UB6IWey2sz2vfjMQDn\n",
        "E+F036nIANyCF2kP/+Jpzc0A3IRzwj186SDxS9+zRk6E23jxv19YQbfjBdvPo8ysoJsyCffzy9XU\n",
        "Crovk3BXP+aeAbg7Ee7NHeAfwDq6NwX+AUQIMRFCTIQQEyHERAgxEUJMhBATIcRECDERQkyEEBMh\n",
        "xEQIMRFCTIQQEyHERAgxEUJMhBATIcRECDERQkyEEBMhxEQIMRFCTIQQEyHERAgxEUJMhBATIcRE\n",
        "CDERQkyEEBMhxEQIMRFCTIQQEyHERAgxEUJMhBATIcRECDERQkyEEBMhxEQIMRFCTIQQEyHERAgx\n",
        "EUJMhBATIcRECDERQkyEEBMhxEQIMRFCTIQQEyHERAgxEUJMhBATIcRECDERQkyEEBMhxEQIMRFC\n",
        "TIQQEyHERAgxEUJMhBATIcRECDERQkyEEBMhxEQIMRFC7L/VHlxaNk4AeQAAAABJRU5ErkJggg==\n",
        "\"></td>\n",
        "\t\t<td><img src=\"data:image/png;base64,iVBORw0KGgoAAAANSUhEUgAAASwAAAEsCAIAAAD2HxkiAAAGI0lEQVR4nO3d7W7TWBRAUWfE+7+y\n",
        "50eGaqAtTah9973xWkJCfIgYhd1zcl2a277vG9D5p74AuDoRQkyEEBMhxEQIMRFCTIQQEyHERAgx\n",
        "EUJMhBATIcRECDERQkyEEBMhxEQIMRFCTIQQEyHERAgxEUJMhBATIcRECDERQkyEEBMhxEQIMRFC\n",
        "TIQQEyHERAgxEUJMhBATIcRECDERQkyEEBMhxEQIMRFCTIQQEyHERAgxEUJMhBATIcRECDERQkyE\n",
        "EBMhxEQIMRFCTIQQEyHERAgxEUJMhBATIcRECDERQkyEEBMhxEQIMRFCTIQQEyHERAgxEUJMhBAT\n",
        "IcRECDERQkyEEBMhxEQIMRFCTIQQEyHERAgxEUJMhBATIcREeD2329c/w0AivCTVzeRHfQFs27bd\n",
        "vlvF/ujv239+d7v9/AExEfZut9uuhwuzjl7VfRgyARHGyjGowzmIEGIiLPWvBg3DCYjw8t4+Cqgx\n",
        "IsJMNgY/fFAFdkTY+LLAb985/P2P++/bhwzDlAhndPyQlNnERBjoz2PeU2lHhNM5K9EvM9NhRISj\n",
        "xXfnf15EcwF8RIRziTdVlRZEOFT/alBm8xHhOI/clugPbFQ6nAhnMa7AxzPT4RAiHGSKKfegVa7z\n",
        "VYhwCqMTdbtiJiIcYcYxKLNpiPB0a5zHvKfSUUQYc+8eEZ5r0in3IJUOIcJSn6gTmgmI8ER9Y4+Q\n",
        "WU2EmTUS3VR6OhGeZZnGNpnFRHiKVW9LfEalZxJhYMYCZdYR4fFmbOz7VHoaEY42b6JuV0REeLB5\n",
        "G3uEzAoiHGrtRDeVnkKER1q+sU1mgfX/0UzmDx2+QqJvZa7+F5mJSTjO8gVyDhEebN/3g99GYh7G\n",
        "4DlEyGMUeBoRHu+VhyEnECEPMAbPJMJTGIY8ToRneZ0OjcGTiRBiIjzRKwxDY/B8IuRzChxChOd6\n",
        "hWHIyUTIJ4zBUUR4OsOQPxPhCOt1aAwOJELeWevjxfpEOMh6w3AzBgcRIb+yiA4nwnGWHIacT4RD\n",
        "zd6hMVgQIcREONq8w9AYjIiQbdsUWBJhYN5hSEGEGIMxETYMQ96IMDNLh8ZgTYQQE2GpH4bG4ARE\n",
        "eGEKnIMIY/0wpCbCqzIGp/GjvgDKYai/GYhwFqPfvdAOPA3raK95B19viz0NEUJMhBAT4YXZSOcg\n",
        "wljzgpCZiBBiIrw2G+kE3CcsfbiLnn3j3vY7GxFORyRXYx2FmAgzs5yLellYEyHERAgxEWIjjYmw\n",
        "McsLQiYgQoiJkF/ZSIcTYWDGXXS267kSEUJMhBAT4Wgz7qJ3blRERAgxEUJMhPyPjbQgwqHmfUFI\n",
        "R4QQEyHEfHmLcdbYRee/wpdjEkJMhBAT4SDJVzdkCSIs3d8eVIoXJ8LYvu/etv7iRDiFuMP3D/32\n",
        "M3/4JQ4iwhEeuTkRr6bS6ohwIuVquu86rIhwhKemnNOaq/EZM4Pc19EHP2nmqd98mPswfP+IPhyc\n",
        "zCQc6qltM1hNP1xK9/2XbxxNhKNZTfmNCANPHcCMPq1xQjOcCDN/MRLPvqS3Bxv0QGzbtm0r/Oea\n",
        "V/f4Acy9wwOfsnvX/gm0RDiFpw5Cjzo1/fAolPFEOIunptz3R6IC5yHCuQwYiVbQ2YhwOs+OxKee\n",
        "QQNwQiKc1OGnNYcf6nAUEc7rwJG4xteYuirPzey+348CJ+dm/ey+c5v+/skACpycZ2gNf/GKTn6r\n",
        "MAnX8OxnkCpwIZ6qxXw5Ep2CLkeES/ps0BmAK7KOLunD1VSBi/K0Lext87SCLk2EyzMAV2cdXZ4C\n",
        "VydCiIkQYiKEmAghJkKIiRBiIoSYCCEmQoiJEGIihJgIISZCiIkQYiKEmAghJkKIiRBiIoSYCCEm\n",
        "QoiJEGIihJgIISZCiIkQYiKEmAghJkKIiRBiIoSYCCEmQoiJEGIihJgIISZCiIkQYiKEmAghJkKI\n",
        "iRBiIoSYCCEmQoiJEGIihJgIISZCiIkQYiKEmAghJkKIiRBiIoSYCCEmQoiJEGIihJgIISZCiIkQ\n",
        "YiKEmAghJkKIiRBiIoSYCCEmQoiJEGIihJgIISZCiIkQYiKEmAghJkKIiRBiIoSYCCEmQoiJEGIi\n",
        "hJgIISZCiIkQYv8CtX5PT/LMge8AAAAASUVORK5CYII=\n",
        "\"></td>\n",
        "\t</tr>\n",
        "</table>"
       ],
       "metadata": {},
       "output_type": "pyout",
       "prompt_number": 43,
       "text": [
        "<IPython.core.display.HTML at 0x10e57b0d0>"
       ]
      }
     ],
     "prompt_number": 43
    }
   ],
   "metadata": {}
  }
 ]
}