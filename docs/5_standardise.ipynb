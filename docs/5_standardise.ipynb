{
 "metadata": {
  "name": ""
 },
 "nbformat": 3,
 "nbformat_minor": 0,
 "worksheets": [
  {
   "cells": [
    {
     "cell_type": "markdown",
     "metadata": {
      "slideshow": {
       "slide_type": "slide"
      }
     },
     "source": [
      "# `standardise`: get standardised parent"
     ]
    },
    {
     "cell_type": "code",
     "collapsed": false,
     "input": [
      "%run setup.py"
     ],
     "language": "python",
     "metadata": {
      "slideshow": {
       "slide_type": "skip"
      }
     },
     "outputs": [],
     "prompt_number": 1
    },
    {
     "cell_type": "code",
     "collapsed": false,
     "input": [
      "from standardise import standardise"
     ],
     "language": "python",
     "metadata": {},
     "outputs": [],
     "prompt_number": 2
    },
    {
     "cell_type": "code",
     "collapsed": false,
     "input": [
      "mol = Chem.MolFromSmiles(\"c1nnn[n-]1\")\n",
      "\n",
      "try:\n",
      "    \n",
      "    new_mol = standardise.apply(mol)\n",
      "    \n",
      "except standardise.StandardiseException as e:\n",
      "    \n",
      "    logging.warn(e.msg)"
     ],
     "language": "python",
     "metadata": {
      "slideshow": {
       "slide_type": "skip"
      }
     },
     "outputs": [
      {
       "output_type": "stream",
       "stream": "stderr",
       "text": [
        "[2013/Oct/01 18:56:56 DEBUG   ] Broke 0 bonds to Group I and II metals\n"
       ]
      },
      {
       "output_type": "stream",
       "stream": "stderr",
       "text": [
        "[2013/Oct/01 18:56:56 DEBUG   ] Starting fragment 'c1nnn[n-]1'...\n"
       ]
      },
      {
       "output_type": "stream",
       "stream": "stderr",
       "text": [
        "[2013/Oct/01 18:56:56 DEBUG   ] Check for non-organic elements...\n"
       ]
      },
      {
       "output_type": "stream",
       "stream": "stderr",
       "text": [
        "[2013/Oct/01 18:56:56 DEBUG   ] Applying rules...\n"
       ]
      },
      {
       "output_type": "stream",
       "stream": "stderr",
       "text": [
        "[2013/Oct/01 18:56:56 DEBUG   ] Attempt to neutralize...\n"
       ]
      },
      {
       "output_type": "stream",
       "stream": "stderr",
       "text": [
        "[2013/Oct/01 18:56:56 DEBUG   ] 0 positive/H, 0 positive/quat and 1 negative charges identified\n"
       ]
      },
      {
       "output_type": "stream",
       "stream": "stderr",
       "text": [
        "[2013/Oct/01 18:56:56 DEBUG   ] Overall H balance: +1; formal charge: 0\n"
       ]
      },
      {
       "output_type": "stream",
       "stream": "stderr",
       "text": [
        "[2013/Oct/01 18:56:56 DEBUG   ] Re-applying rules after neutralization...\n"
       ]
      },
      {
       "output_type": "stream",
       "stream": "stderr",
       "text": [
        "[2013/Oct/01 18:56:56 DEBUG   ] Check for salt/solvates...\n"
       ]
      },
      {
       "output_type": "stream",
       "stream": "stderr",
       "text": [
        "[2013/Oct/01 18:56:56 DEBUG   ] > Fragment matches salt/solvate 'tetrazole'\n"
       ]
      },
      {
       "output_type": "stream",
       "stream": "stderr",
       "text": [
        "[2013/Oct/01 18:56:56 DEBUG   ] Fragment is a salt/solvate\n"
       ]
      },
      {
       "output_type": "stream",
       "stream": "stderr",
       "text": [
        "[2013/Oct/01 18:56:56 DEBUG   ] raising no_non_salt\n"
       ]
      },
      {
       "output_type": "stream",
       "stream": "stderr",
       "text": [
        "[2013/Oct/01 18:56:56 WARNING ] No non-salt/solvate components\n"
       ]
      }
     ],
     "prompt_number": 3
    },
    {
     "cell_type": "code",
     "collapsed": false,
     "input": [
      "mol = Chem.MolFromSmiles(\"[Na]OC(=O)Cc1ccc(C[NH3+])cc1.c1nnn[n-]1.O\")\n",
      "mol"
     ],
     "language": "python",
     "metadata": {
      "slideshow": {
       "slide_type": "slide"
      }
     },
     "outputs": [
      {
       "metadata": {},
       "output_type": "pyout",
       "png": "[encoded data removed]",
       "prompt_number": 3,
       "text": [
        "<rdkit.Chem.rdchem.Mol at 0x1062632f0>"
       ]
      }
     ],
     "prompt_number": 3
    },
    {
     "cell_type": "code",
     "collapsed": false,
     "input": [
      "standardise.apply(mol)"
     ],
     "language": "python",
     "metadata": {
      "slideshow": {
       "slide_type": "fragment"
      }
     },
     "outputs": [
      {
       "output_type": "stream",
       "stream": "stderr",
       "text": [
        "[2013/Oct/01 20:04:30 DEBUG   ] Broke 1 bonds to Group I and II metals\n"
       ]
      },
      {
       "output_type": "stream",
       "stream": "stderr",
       "text": [
        "[2013/Oct/01 20:04:30 DEBUG   ] Starting fragment '[Na+]'...\n"
       ]
      },
      {
       "output_type": "stream",
       "stream": "stderr",
       "text": [
        "[2013/Oct/01 20:04:30 DEBUG   ] Check for non-organic elements...\n"
       ]
      },
      {
       "output_type": "stream",
       "stream": "stderr",
       "text": [
        "[2013/Oct/01 20:04:30 DEBUG   ] > Fragment contains a non-organic element\n"
       ]
      },
      {
       "output_type": "stream",
       "stream": "stderr",
       "text": [
        "[2013/Oct/01 20:04:30 DEBUG   ] Fragment contains a non-organic element\n"
       ]
      },
      {
       "output_type": "stream",
       "stream": "stderr",
       "text": [
        "[2013/Oct/01 20:04:30 DEBUG   ] Starting fragment '[NH3+]Cc1ccc(CC(=O)[O-])cc1'...\n"
       ]
      },
      {
       "output_type": "stream",
       "stream": "stderr",
       "text": [
        "[2013/Oct/01 20:04:30 DEBUG   ] Check for non-organic elements...\n"
       ]
      },
      {
       "output_type": "stream",
       "stream": "stderr",
       "text": [
        "[2013/Oct/01 20:04:30 DEBUG   ] Applying rules...\n"
       ]
      },
      {
       "output_type": "stream",
       "stream": "stderr",
       "text": [
        "[2013/Oct/01 20:04:30 DEBUG   ] Attempt to neutralize...\n"
       ]
      },
      {
       "output_type": "stream",
       "stream": "stderr",
       "text": [
        "[2013/Oct/01 20:04:30 DEBUG   ] 1 positive/H, 0 positive/quat and 1 negative charges identified\n"
       ]
      },
      {
       "output_type": "stream",
       "stream": "stderr",
       "text": [
        "[2013/Oct/01 20:04:30 DEBUG   ] Overall H balance: 0; formal charge: 0\n"
       ]
      },
      {
       "output_type": "stream",
       "stream": "stderr",
       "text": [
        "[2013/Oct/01 20:04:30 DEBUG   ] Re-applying rules after neutralization...\n"
       ]
      },
      {
       "output_type": "stream",
       "stream": "stderr",
       "text": [
        "[2013/Oct/01 20:04:30 DEBUG   ] Check for salt/solvates...\n"
       ]
      },
      {
       "output_type": "stream",
       "stream": "stderr",
       "text": [
        "[2013/Oct/01 20:04:30 DEBUG   ] Fragment kept.\n"
       ]
      },
      {
       "output_type": "stream",
       "stream": "stderr",
       "text": [
        "[2013/Oct/01 20:04:30 DEBUG   ] Starting fragment 'c1nnn[n-]1'...\n"
       ]
      },
      {
       "output_type": "stream",
       "stream": "stderr",
       "text": [
        "[2013/Oct/01 20:04:30 DEBUG   ] Check for non-organic elements...\n"
       ]
      },
      {
       "output_type": "stream",
       "stream": "stderr",
       "text": [
        "[2013/Oct/01 20:04:30 DEBUG   ] Applying rules...\n"
       ]
      },
      {
       "output_type": "stream",
       "stream": "stderr",
       "text": [
        "[2013/Oct/01 20:04:30 DEBUG   ] Attempt to neutralize...\n"
       ]
      },
      {
       "output_type": "stream",
       "stream": "stderr",
       "text": [
        "[2013/Oct/01 20:04:30 DEBUG   ] 0 positive/H, 0 positive/quat and 1 negative charges identified\n"
       ]
      },
      {
       "output_type": "stream",
       "stream": "stderr",
       "text": [
        "[2013/Oct/01 20:04:30 DEBUG   ] Overall H balance: +1; formal charge: 0\n"
       ]
      },
      {
       "output_type": "stream",
       "stream": "stderr",
       "text": [
        "[2013/Oct/01 20:04:30 DEBUG   ] Re-applying rules after neutralization...\n"
       ]
      },
      {
       "output_type": "stream",
       "stream": "stderr",
       "text": [
        "[2013/Oct/01 20:04:30 DEBUG   ] Check for salt/solvates...\n"
       ]
      },
      {
       "output_type": "stream",
       "stream": "stderr",
       "text": [
        "[2013/Oct/01 20:04:30 DEBUG   ] > Fragment matches salt/solvate 'tetrazole'\n"
       ]
      },
      {
       "output_type": "stream",
       "stream": "stderr",
       "text": [
        "[2013/Oct/01 20:04:30 DEBUG   ] Fragment is a salt/solvate\n"
       ]
      },
      {
       "output_type": "stream",
       "stream": "stderr",
       "text": [
        "[2013/Oct/01 20:04:30 DEBUG   ] Starting fragment 'O'...\n"
       ]
      },
      {
       "output_type": "stream",
       "stream": "stderr",
       "text": [
        "[2013/Oct/01 20:04:30 DEBUG   ] Check for non-organic elements...\n"
       ]
      },
      {
       "output_type": "stream",
       "stream": "stderr",
       "text": [
        "[2013/Oct/01 20:04:30 DEBUG   ] Applying rules...\n"
       ]
      },
      {
       "output_type": "stream",
       "stream": "stderr",
       "text": [
        "[2013/Oct/01 20:04:30 DEBUG   ] Attempt to neutralize...\n"
       ]
      },
      {
       "output_type": "stream",
       "stream": "stderr",
       "text": [
        "[2013/Oct/01 20:04:30 DEBUG   ] 0 positive/H, 0 positive/quat and 0 negative charges identified\n"
       ]
      },
      {
       "output_type": "stream",
       "stream": "stderr",
       "text": [
        "[2013/Oct/01 20:04:30 DEBUG   ] Overall H balance: 0; formal charge: 0\n"
       ]
      },
      {
       "output_type": "stream",
       "stream": "stderr",
       "text": [
        "[2013/Oct/01 20:04:30 DEBUG   ] Re-applying rules after neutralization...\n"
       ]
      },
      {
       "output_type": "stream",
       "stream": "stderr",
       "text": [
        "[2013/Oct/01 20:04:30 DEBUG   ] Check for salt/solvates...\n"
       ]
      },
      {
       "output_type": "stream",
       "stream": "stderr",
       "text": [
        "[2013/Oct/01 20:04:30 DEBUG   ] > Fragment matches salt/solvate 'water or hydroxide'\n"
       ]
      },
      {
       "output_type": "stream",
       "stream": "stderr",
       "text": [
        "[2013/Oct/01 20:04:30 DEBUG   ] Fragment is a salt/solvate\n"
       ]
      },
      {
       "output_type": "stream",
       "stream": "stderr",
       "text": [
        "[2013/Oct/01 20:04:30 DEBUG   ] got parent\n"
       ]
      },
      {
       "metadata": {},
       "output_type": "pyout",
       "png": "[encoded data removed]",
       "prompt_number": 4,
       "text": [
        "<rdkit.Chem.rdchem.Mol at 0x1062268e8>"
       ]
      }
     ],
     "prompt_number": 4
    },
    {
     "cell_type": "code",
     "collapsed": false,
     "input": [
      "mol = Chem.MolFromSmiles(\"CNc1[n+](C)cccc1.c1nnn[n-]1\")\n",
      "mol"
     ],
     "language": "python",
     "metadata": {
      "slideshow": {
       "slide_type": "slide"
      }
     },
     "outputs": [
      {
       "metadata": {},
       "output_type": "pyout",
       "png": "[encoded data removed]",
       "prompt_number": 5,
       "text": [
        "<rdkit.Chem.rdchem.Mol at 0x10622b2f0>"
       ]
      }
     ],
     "prompt_number": 5
    },
    {
     "cell_type": "code",
     "collapsed": false,
     "input": [
      "standardise.apply(mol)"
     ],
     "language": "python",
     "metadata": {},
     "outputs": [
      {
       "output_type": "stream",
       "stream": "stderr",
       "text": [
        "[2013/Oct/01 20:05:33 DEBUG   ] Broke 0 bonds to Group I and II metals\n"
       ]
      },
      {
       "output_type": "stream",
       "stream": "stderr",
       "text": [
        "[2013/Oct/01 20:05:33 DEBUG   ] Starting fragment 'CNc1cccc[n+]1C'...\n"
       ]
      },
      {
       "output_type": "stream",
       "stream": "stderr",
       "text": [
        "[2013/Oct/01 20:05:33 DEBUG   ] Check for non-organic elements...\n"
       ]
      },
      {
       "output_type": "stream",
       "stream": "stderr",
       "text": [
        "[2013/Oct/01 20:05:33 DEBUG   ] Applying rules...\n"
       ]
      },
      {
       "output_type": "stream",
       "stream": "stderr",
       "text": [
        "[2013/Oct/01 20:05:33 DEBUG   ] > rule 'Fix 1,3 conjugated cation (aromatic 1)' applied 1 time(s)\n"
       ]
      },
      {
       "output_type": "stream",
       "stream": "stderr",
       "text": [
        "[2013/Oct/01 20:05:33 DEBUG   ] Attempt to neutralize...\n"
       ]
      },
      {
       "output_type": "stream",
       "stream": "stderr",
       "text": [
        "[2013/Oct/01 20:05:33 DEBUG   ] 1 positive/H, 0 positive/quat and 0 negative charges identified\n"
       ]
      },
      {
       "output_type": "stream",
       "stream": "stderr",
       "text": [
        "[2013/Oct/01 20:05:33 DEBUG   ] Overall H balance: -1; formal charge: 0\n"
       ]
      },
      {
       "output_type": "stream",
       "stream": "stderr",
       "text": [
        "[2013/Oct/01 20:05:33 DEBUG   ] Re-applying rules after neutralization...\n"
       ]
      },
      {
       "output_type": "stream",
       "stream": "stderr",
       "text": [
        "[2013/Oct/01 20:05:33 DEBUG   ] Check for salt/solvates...\n"
       ]
      },
      {
       "output_type": "stream",
       "stream": "stderr",
       "text": [
        "[2013/Oct/01 20:05:33 DEBUG   ] Fragment kept.\n"
       ]
      },
      {
       "output_type": "stream",
       "stream": "stderr",
       "text": [
        "[2013/Oct/01 20:05:33 DEBUG   ] Starting fragment 'c1nnn[n-]1'...\n"
       ]
      },
      {
       "output_type": "stream",
       "stream": "stderr",
       "text": [
        "[2013/Oct/01 20:05:33 DEBUG   ] Check for non-organic elements...\n"
       ]
      },
      {
       "output_type": "stream",
       "stream": "stderr",
       "text": [
        "[2013/Oct/01 20:05:33 DEBUG   ] Applying rules...\n"
       ]
      },
      {
       "output_type": "stream",
       "stream": "stderr",
       "text": [
        "[2013/Oct/01 20:05:33 DEBUG   ] Attempt to neutralize...\n"
       ]
      },
      {
       "output_type": "stream",
       "stream": "stderr",
       "text": [
        "[2013/Oct/01 20:05:33 DEBUG   ] 0 positive/H, 0 positive/quat and 1 negative charges identified\n"
       ]
      },
      {
       "output_type": "stream",
       "stream": "stderr",
       "text": [
        "[2013/Oct/01 20:05:33 DEBUG   ] Overall H balance: +1; formal charge: 0\n"
       ]
      },
      {
       "output_type": "stream",
       "stream": "stderr",
       "text": [
        "[2013/Oct/01 20:05:33 DEBUG   ] Re-applying rules after neutralization...\n"
       ]
      },
      {
       "output_type": "stream",
       "stream": "stderr",
       "text": [
        "[2013/Oct/01 20:05:33 DEBUG   ] Check for salt/solvates...\n"
       ]
      },
      {
       "output_type": "stream",
       "stream": "stderr",
       "text": [
        "[2013/Oct/01 20:05:33 DEBUG   ] > Fragment matches salt/solvate 'tetrazole'\n"
       ]
      },
      {
       "output_type": "stream",
       "stream": "stderr",
       "text": [
        "[2013/Oct/01 20:05:33 DEBUG   ] Fragment is a salt/solvate\n"
       ]
      },
      {
       "output_type": "stream",
       "stream": "stderr",
       "text": [
        "[2013/Oct/01 20:05:33 DEBUG   ] got parent\n"
       ]
      },
      {
       "metadata": {},
       "output_type": "pyout",
       "png": "[encoded data removed]",
       "prompt_number": 6,
       "text": [
        "<rdkit.Chem.rdchem.Mol at 0x106226838>"
       ]
      }
     ],
     "prompt_number": 6
    }
   ],
   "metadata": {}
  }
 ]
}