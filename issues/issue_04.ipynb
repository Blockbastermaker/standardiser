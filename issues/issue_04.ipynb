{
 "metadata": {
  "name": ""
 },
 "nbformat": 3,
 "nbformat_minor": 0,
 "worksheets": [
  {
   "cells": [
    {
     "cell_type": "code",
     "collapsed": false,
     "input": [
      "%run setup.py\n",
      "\n",
      "reload(logging) # This seems to be necessary to get logging from modules to work as expected\n",
      "\n",
      "logging.basicConfig(level=logging.DEBUG, format=\"[%(asctime)s %(levelname)-8s] %(message)s\", datefmt=\"%H:%M:%S\")"
     ],
     "language": "python",
     "metadata": {},
     "outputs": [],
     "prompt_number": 1
    },
    {
     "cell_type": "code",
     "collapsed": false,
     "input": [
      "from standardise import standardise"
     ],
     "language": "python",
     "metadata": {},
     "outputs": [],
     "prompt_number": 2
    },
    {
     "cell_type": "markdown",
     "metadata": {},
     "source": [
      "# Issue 04\n",
      "\n",
      "In cases such as that shown below (based on real examples), application of a 'hydroxy pyridine -> pyridone' rule is followed by application of a 'heterocyclic tautomer' rule, and the proton originally from the hydroxy group ends up on a different ring to the resulting carbonyl.\n",
      "\n",
      "Is this behaviour desirable?"
     ]
    },
    {
     "cell_type": "markdown",
     "metadata": {},
     "source": [
      "For this 4-hydroxy pyrimidine starting point, the result doesn't seem unreasonable..."
     ]
    },
    {
     "cell_type": "code",
     "collapsed": false,
     "input": [
      "mol = Chem.MolFromSmiles(\"Oc1ccnc2nccn12\")\n",
      "mol"
     ],
     "language": "python",
     "metadata": {},
     "outputs": [
      {
       "metadata": {},
       "output_type": "pyout",
       "png": "[encoded data removed]",
       "prompt_number": 3,
       "text": [
        "<rdkit.Chem.rdchem.Mol at 0x1073e6b40>"
       ]
      }
     ],
     "prompt_number": 3
    },
    {
     "cell_type": "code",
     "collapsed": false,
     "input": [
      "standardise.rules.apply(mol)"
     ],
     "language": "python",
     "metadata": {},
     "outputs": [
      {
       "output_type": "stream",
       "stream": "stderr",
       "text": [
        "[10:10:19 DEBUG   ] apply> mol = 'Oc1ccnc2nccn21'\n"
       ]
      },
      {
       "output_type": "stream",
       "stream": "stderr",
       "text": [
        "[10:10:19 DEBUG   ] apply> starting pass 1...\n"
       ]
      },
      {
       "output_type": "stream",
       "stream": "stderr",
       "text": [
        "[10:10:19 INFO    ] rule 4 '4-hydroxy pyridine -> 4-pyridone' applied on pass 1\n"
       ]
      },
      {
       "output_type": "stream",
       "stream": "stderr",
       "text": [
        "[10:10:19 INFO    ] rule 23 'Fix heterocyclic tautomer 1' applied on pass 1\n"
       ]
      },
      {
       "output_type": "stream",
       "stream": "stderr",
       "text": [
        "[10:10:19 DEBUG   ] ...total of 2 hits in pass: will continue...\n"
       ]
      },
      {
       "output_type": "stream",
       "stream": "stderr",
       "text": [
        "[10:10:19 DEBUG   ] apply> starting pass 2...\n"
       ]
      },
      {
       "output_type": "stream",
       "stream": "stderr",
       "text": [
        "[10:10:19 DEBUG   ] ...total of 0 hits in pass: finished.\n"
       ]
      },
      {
       "metadata": {},
       "output_type": "pyout",
       "png": "[encoded data removed]",
       "prompt_number": 5,
       "text": [
        "<rdkit.Chem.rdchem.Mol at 0x1074a1ed8>"
       ]
      }
     ],
     "prompt_number": 5
    },
    {
     "cell_type": "markdown",
     "metadata": {},
     "source": [
      "For the 2-hydroxy pyrimidine starting point, the result (perhaps) seems a little more awkward, with the carbonyl adjacent to a pyridine N..."
     ]
    },
    {
     "cell_type": "code",
     "collapsed": false,
     "input": [
      "mol = Chem.MolFromSmiles(\"c1cc(O)nc2nccn12\")\n",
      "mol"
     ],
     "language": "python",
     "metadata": {},
     "outputs": [
      {
       "metadata": {},
       "output_type": "pyout",
       "png": "[encoded data removed]",
       "prompt_number": 8,
       "text": [
        "<rdkit.Chem.rdchem.Mol at 0x10743fad0>"
       ]
      }
     ],
     "prompt_number": 8
    },
    {
     "cell_type": "code",
     "collapsed": false,
     "input": [
      "standardise.rules.apply(mol)"
     ],
     "language": "python",
     "metadata": {},
     "outputs": [
      {
       "output_type": "stream",
       "stream": "stderr",
       "text": [
        "[10:10:44 DEBUG   ] apply> mol = 'Oc1ccn2ccnc2n1'\n"
       ]
      },
      {
       "output_type": "stream",
       "stream": "stderr",
       "text": [
        "[10:10:44 DEBUG   ] apply> starting pass 1...\n"
       ]
      },
      {
       "output_type": "stream",
       "stream": "stderr",
       "text": [
        "[10:10:44 INFO    ] rule 3 '2-hydroxy pyridine -> 2-pyridone' applied on pass 1\n"
       ]
      },
      {
       "output_type": "stream",
       "stream": "stderr",
       "text": [
        "[10:10:44 INFO    ] rule 23 'Fix heterocyclic tautomer 1' applied on pass 1\n"
       ]
      },
      {
       "output_type": "stream",
       "stream": "stderr",
       "text": [
        "[10:10:44 DEBUG   ] ...total of 2 hits in pass: will continue...\n"
       ]
      },
      {
       "output_type": "stream",
       "stream": "stderr",
       "text": [
        "[10:10:44 DEBUG   ] apply> starting pass 2...\n"
       ]
      },
      {
       "output_type": "stream",
       "stream": "stderr",
       "text": [
        "[10:10:44 DEBUG   ] ...total of 0 hits in pass: finished.\n"
       ]
      },
      {
       "metadata": {},
       "output_type": "pyout",
       "png": "[encoded data removed]",
       "prompt_number": 7,
       "text": [
        "<rdkit.Chem.rdchem.Mol at 0x1074a20c8>"
       ]
      }
     ],
     "prompt_number": 7
    },
    {
     "cell_type": "markdown",
     "metadata": {},
     "source": [
      "Should the 'heterocyclic tautomer' rules be amended to excluded either or both cases such as this?"
     ]
    }
   ],
   "metadata": {}
  }
 ]
}