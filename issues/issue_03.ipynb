{
 "metadata": {
  "name": ""
 },
 "nbformat": 3,
 "nbformat_minor": 0,
 "worksheets": [
  {
   "cells": [
    {
     "cell_type": "code",
     "collapsed": false,
     "input": [
      "%run setup.py\n",
      "\n",
      "reload(logging) # Seems to be required to get logging from modules working\n",
      "\n",
      "logging.basicConfig(level=logging.DEBUG, format=\"[%(asctime)s %(levelname)-8s] %(message)s\", datefmt=\"%H:%M:%S\")"
     ],
     "language": "python",
     "metadata": {},
     "outputs": [],
     "prompt_number": 1
    },
    {
     "cell_type": "code",
     "collapsed": false,
     "input": [
      "from standardise import standardise"
     ],
     "language": "python",
     "metadata": {},
     "outputs": [],
     "prompt_number": 2
    },
    {
     "cell_type": "markdown",
     "metadata": {},
     "source": [
      "# Issue 03\n",
      "\n",
      "In some cases, more than one standardised tautomer is possible. In the current system only one, arbitrarily chosen, tautomer is returned: no attempt is made to pick a 'canonical' tautomer or the lowest energy example."
     ]
    },
    {
     "cell_type": "code",
     "collapsed": false,
     "input": [
      "mol = Chem.MolFromSmiles(\"Oc1nc(O)c(C)cc1\")\n",
      "mol"
     ],
     "language": "python",
     "metadata": {},
     "outputs": [
      {
       "metadata": {},
       "output_type": "pyout",
       "png": "[encoded data removed]",
       "prompt_number": 3,
       "text": [
        "<rdkit.Chem.rdchem.Mol at 0x1055e8c90>"
       ]
      }
     ],
     "prompt_number": 3
    },
    {
     "cell_type": "code",
     "collapsed": false,
     "input": [
      "standardise.rules.apply(mol)"
     ],
     "language": "python",
     "metadata": {},
     "outputs": [
      {
       "output_type": "stream",
       "stream": "stderr",
       "text": [
        "[17:20:50 DEBUG   ] apply> mol = 'Cc1ccc(O)nc1O'\n"
       ]
      },
      {
       "output_type": "stream",
       "stream": "stderr",
       "text": [
        "[17:20:50 DEBUG   ] apply> starting pass 1...\n"
       ]
      },
      {
       "output_type": "stream",
       "stream": "stderr",
       "text": [
        "[17:20:50 INFO    ] rule 3 '2-hydroxy pyridine -> 2-pyridone' applied on pass 1\n"
       ]
      },
      {
       "output_type": "stream",
       "stream": "stderr",
       "text": [
        "[17:20:50 DEBUG   ] ...total of 1 hits in pass: will continue...\n"
       ]
      },
      {
       "output_type": "stream",
       "stream": "stderr",
       "text": [
        "[17:20:50 DEBUG   ] apply> starting pass 2...\n"
       ]
      },
      {
       "output_type": "stream",
       "stream": "stderr",
       "text": [
        "[17:20:50 DEBUG   ] ...total of 0 hits in pass: finished.\n"
       ]
      },
      {
       "metadata": {},
       "output_type": "pyout",
       "png": "[encoded data removed]",
       "prompt_number": 4,
       "text": [
        "<rdkit.Chem.rdchem.Mol at 0x105660578>"
       ]
      }
     ],
     "prompt_number": 4
    },
    {
     "cell_type": "markdown",
     "metadata": {},
     "source": [
      "The alternative strategy would be to attempt to generate all possible standardised tautomers _via_ a recursive application of the rules, and then either return them all to the user or algorithmically select one 'canonical' example.\n",
      "\n",
      "This could obviously become fairly complicated..."
     ]
    }
   ],
   "metadata": {}
  }
 ]
}