{
 "metadata": {
  "name": ""
 },
 "nbformat": 3,
 "nbformat_minor": 0,
 "worksheets": [
  {
   "cells": [
    {
     "cell_type": "code",
     "collapsed": false,
     "input": [
      "%run setup.py\n",
      "\n",
      "reload(logging) # This seems to be necessary to get logging from modules to work as expected\n",
      "\n",
      "logging.basicConfig(level=logging.DEBUG, format=\"[%(asctime)s %(levelname)-8s] %(message)s\", datefmt=\"%H:%M:%S\")"
     ],
     "language": "python",
     "metadata": {},
     "outputs": [],
     "prompt_number": 1
    },
    {
     "cell_type": "code",
     "collapsed": false,
     "input": [
      "from standardise import standardise"
     ],
     "language": "python",
     "metadata": {},
     "outputs": [],
     "prompt_number": 2
    },
    {
     "cell_type": "markdown",
     "metadata": {},
     "source": [
      "**Warning: Algorithms have been altered because of the information documented in this notebook. Running the notebook may thus not given the behaviour illustrated.**"
     ]
    },
    {
     "cell_type": "markdown",
     "metadata": {},
     "source": [
      "# Issue 05\n",
      "\n",
      "Currently, the '4-hydroxy pyridine -> 4-pyridone' transform may operate 'across rings', as in the hydroxy-quinoline below..."
     ]
    },
    {
     "cell_type": "code",
     "collapsed": false,
     "input": [
      "mol = Chem.MolFromSmiles(\"Oc1cccc2ncccc12\")\n",
      "mol"
     ],
     "language": "python",
     "metadata": {},
     "outputs": [
      {
       "metadata": {},
       "output_type": "pyout",
       "png": "[encoded data removed]",
       "prompt_number": 3,
       "text": [
        "<rdkit.Chem.rdchem.Mol at 0x10dbc4c90>"
       ]
      }
     ],
     "prompt_number": 3
    },
    {
     "cell_type": "code",
     "collapsed": false,
     "input": [
      "standardise.rules.apply(mol)"
     ],
     "language": "python",
     "metadata": {},
     "outputs": [
      {
       "output_type": "stream",
       "stream": "stderr",
       "text": [
        "[10:13:24 DEBUG   ] apply> mol = 'Oc1cccc2ncccc12'\n"
       ]
      },
      {
       "output_type": "stream",
       "stream": "stderr",
       "text": [
        "[10:13:24 DEBUG   ] apply> starting pass 1...\n"
       ]
      },
      {
       "output_type": "stream",
       "stream": "stderr",
       "text": [
        "[10:13:24 INFO    ] rule 4 '4-hydroxy pyridine -> 4-pyridone' applied on pass 1\n"
       ]
      },
      {
       "output_type": "stream",
       "stream": "stderr",
       "text": [
        "[10:13:24 DEBUG   ] ...total of 1 hits in pass: will continue...\n"
       ]
      },
      {
       "output_type": "stream",
       "stream": "stderr",
       "text": [
        "[10:13:24 DEBUG   ] apply> starting pass 2...\n"
       ]
      },
      {
       "output_type": "stream",
       "stream": "stderr",
       "text": [
        "[10:13:24 DEBUG   ] ...total of 0 hits in pass: finished.\n"
       ]
      },
      {
       "metadata": {},
       "output_type": "pyout",
       "png": "[encoded data removed]",
       "prompt_number": 4,
       "text": [
        "<rdkit.Chem.rdchem.Mol at 0x10dc3c578>"
       ]
      }
     ],
     "prompt_number": 4
    },
    {
     "cell_type": "markdown",
     "metadata": {},
     "source": [
      "Is this behaviour desirable?"
     ]
    },
    {
     "cell_type": "markdown",
     "metadata": {},
     "source": [
      "Another example, based on a real molecules, is shown below. Here, the transform can only occur after a 'hydropyridinimine -> amino-pyridine' transform has prepared the way..."
     ]
    },
    {
     "cell_type": "code",
     "collapsed": false,
     "input": [
      "mol = Chem.MolFromSmiles(\"Oc1n(C)c(=O)cc2[nH][nH]c(=N)c12\")\n",
      "mol"
     ],
     "language": "python",
     "metadata": {},
     "outputs": [
      {
       "metadata": {},
       "output_type": "pyout",
       "png": "[encoded data removed]",
       "prompt_number": 7,
       "text": [
        "<rdkit.Chem.rdchem.Mol at 0x1052361a0>"
       ]
      }
     ],
     "prompt_number": 7
    },
    {
     "cell_type": "code",
     "collapsed": false,
     "input": [
      "standardise.rules.apply(mol)"
     ],
     "language": "python",
     "metadata": {},
     "outputs": [
      {
       "output_type": "stream",
       "stream": "stderr",
       "text": [
        "[12:42:26 DEBUG   ] apply> starting pass 1...\n"
       ]
      },
      {
       "output_type": "stream",
       "stream": "stderr",
       "text": [
        "[12:42:26 DEBUG   ] apply> hit for rule 4 (hydropyridin-2-imine -> 2-amino-pyridine (1))...\n"
       ]
      },
      {
       "output_type": "stream",
       "stream": "stderr",
       "text": [
        "[12:42:26 DEBUG   ] ...total of 1 hits in pass: will continue...\n"
       ]
      },
      {
       "output_type": "stream",
       "stream": "stderr",
       "text": [
        "[12:42:26 DEBUG   ] apply> starting pass 2...\n"
       ]
      },
      {
       "output_type": "stream",
       "stream": "stderr",
       "text": [
        "[12:42:26 DEBUG   ] apply> hit for rule 3 (4-hydroxy pyridine -> 4-pyridone)...\n"
       ]
      },
      {
       "output_type": "stream",
       "stream": "stderr",
       "text": [
        "[12:42:26 DEBUG   ] ...total of 1 hits in pass: will continue...\n"
       ]
      },
      {
       "output_type": "stream",
       "stream": "stderr",
       "text": [
        "[12:42:26 DEBUG   ] apply> starting pass 3...\n"
       ]
      },
      {
       "output_type": "stream",
       "stream": "stderr",
       "text": [
        "[12:42:26 DEBUG   ] ...total of 0 hits in pass: finished.\n"
       ]
      },
      {
       "metadata": {},
       "output_type": "pyout",
       "png": "[encoded data removed]",
       "prompt_number": 8,
       "text": [
        "<rdkit.Chem.rdchem.Mol at 0x10523e9b0>"
       ]
      }
     ],
     "prompt_number": 8
    },
    {
     "cell_type": "markdown",
     "metadata": {},
     "source": [
      "### Hydropyridin-4-imine\n",
      "\n",
      "Interestingly, the analagous converse case of the 'hydropyridin-4-imine -> 4-amino-pyridine' with a hydroquinoline-imine _doesn't_ happen..."
     ]
    },
    {
     "cell_type": "code",
     "collapsed": false,
     "input": [
      "mol = Chem.MolFromSmiles(\"N=c1cccc2[nH]cccc12\")\n",
      "mol"
     ],
     "language": "python",
     "metadata": {},
     "outputs": [
      {
       "metadata": {},
       "output_type": "pyout",
       "png": "[encoded data removed]",
       "prompt_number": 84,
       "text": [
        "<rdkit.Chem.rdchem.Mol at 0x10dbe5590>"
       ]
      }
     ],
     "prompt_number": 84
    },
    {
     "cell_type": "code",
     "collapsed": false,
     "input": [
      "standardise.rules.apply(mol)"
     ],
     "language": "python",
     "metadata": {},
     "outputs": [
      {
       "output_type": "stream",
       "stream": "stderr",
       "text": [
        "[11:55:06 DEBUG   ] apply> mol = 'N=c1cccc2[nH]cccc1-2'\n"
       ]
      },
      {
       "output_type": "stream",
       "stream": "stderr",
       "text": [
        "[11:55:06 DEBUG   ] apply> starting pass 1...\n"
       ]
      },
      {
       "output_type": "stream",
       "stream": "stderr",
       "text": [
        "[11:55:06 DEBUG   ] ...total of 0 hits in pass: finished.\n"
       ]
      },
      {
       "metadata": {},
       "output_type": "pyout",
       "png": "[encoded data removed]",
       "prompt_number": 85,
       "text": [
        "<rdkit.Chem.rdchem.Mol at 0x10dbe5590>"
       ]
      }
     ],
     "prompt_number": 85
    },
    {
     "cell_type": "markdown",
     "metadata": {},
     "source": [
      "This is bacause the 'hydropyridin-4-imine -> 4-amino-pyridine (1)' pattern specifies all-aromatic bonds..."
     ]
    },
    {
     "cell_type": "code",
     "collapsed": false,
     "input": [
      "[x['SMARTS'] for x in standardise.rules.rule_set if x['description'] == 'hydropyridin-4-imine -> 4-amino-pyridine (1)'][0]"
     ],
     "language": "python",
     "metadata": {},
     "outputs": [
      {
       "metadata": {},
       "output_type": "pyout",
       "prompt_number": 86,
       "text": [
        "'[Nv3+0H1:1]=[c:2]:[a:3]:[a:4]:[nH:5]>>[NH2:1]-[c:2]:[a:3]:[a:4]:[nH0:5]'"
       ]
      }
     ],
     "prompt_number": 86
    },
    {
     "cell_type": "markdown",
     "metadata": {},
     "source": [
      "whereas in the hydroquinoline-imine the shared bond (alone of the ring bonds) \n",
      "is considered to be single by RDKit..."
     ]
    },
    {
     "cell_type": "code",
     "collapsed": false,
     "input": [
      "from copy import deepcopy\n",
      "mol2 = deepcopy(mol)\n",
      "for atom in mol2.GetAtoms(): atom.SetProp(\"molAtomMapNumber\", str(atom.GetIdx()))\n",
      "mol2"
     ],
     "language": "python",
     "metadata": {},
     "outputs": [
      {
       "metadata": {},
       "output_type": "pyout",
       "png": "[encoded data removed]",
       "prompt_number": 75,
       "text": [
        "<rdkit.Chem.rdchem.Mol at 0x10dcfac90>"
       ]
      }
     ],
     "prompt_number": 75
    },
    {
     "cell_type": "code",
     "collapsed": false,
     "input": [
      "for bond in mol2.GetBonds(): print(\"{:2d} - {:2d} = {}\".format(bond.GetBeginAtomIdx(), bond.GetEndAtomIdx(), bond.GetBondType()))"
     ],
     "language": "python",
     "metadata": {},
     "outputs": [
      {
       "output_type": "stream",
       "stream": "stdout",
       "text": [
        " 0 -  1 = DOUBLE\n",
        " 1 -  2 = AROMATIC\n",
        " 2 -  3 = AROMATIC\n",
        " 3 -  4 = AROMATIC\n",
        " 4 -  5 = AROMATIC\n",
        " 5 -  6 = AROMATIC\n",
        " 6 -  7 = AROMATIC\n",
        " 7 -  8 = AROMATIC\n",
        " 8 -  9 = AROMATIC\n",
        " 9 - 10 = AROMATIC\n",
        "10 -  1 = AROMATIC\n",
        "10 -  5 = SINGLE\n"
       ]
      }
     ],
     "prompt_number": 46
    },
    {
     "cell_type": "markdown",
     "metadata": {},
     "source": [
      "To further complicate matters, the imidzole analogue shown below (and used in the main docs) _is_ affected by the default transform..."
     ]
    },
    {
     "cell_type": "code",
     "collapsed": false,
     "input": [
      "mol = Chem.MolFromSmiles(\"N=c(c1)ccn2cc[nH]c12\")\n",
      "mol"
     ],
     "language": "python",
     "metadata": {},
     "outputs": [
      {
       "metadata": {},
       "output_type": "pyout",
       "png": "[encoded data removed]",
       "prompt_number": 91,
       "text": [
        "<rdkit.Chem.rdchem.Mol at 0x10dd1a670>"
       ]
      }
     ],
     "prompt_number": 91
    },
    {
     "cell_type": "code",
     "collapsed": false,
     "input": [
      "standardise.rules.apply(mol)"
     ],
     "language": "python",
     "metadata": {},
     "outputs": [
      {
       "output_type": "stream",
       "stream": "stderr",
       "text": [
        "[12:00:58 DEBUG   ] apply> mol = 'N=c1ccn2cc[nH]c2c1'\n"
       ]
      },
      {
       "output_type": "stream",
       "stream": "stderr",
       "text": [
        "[12:00:58 DEBUG   ] apply> starting pass 1...\n"
       ]
      },
      {
       "output_type": "stream",
       "stream": "stderr",
       "text": [
        "[12:00:58 INFO    ] rule 7 'hydropyridin-4-imine -> 4-amino-pyridine (1)' applied on pass 1\n"
       ]
      },
      {
       "output_type": "stream",
       "stream": "stderr",
       "text": [
        "[12:00:58 DEBUG   ] ...total of 1 hits in pass: will continue...\n"
       ]
      },
      {
       "output_type": "stream",
       "stream": "stderr",
       "text": [
        "[12:00:58 DEBUG   ] apply> starting pass 2...\n"
       ]
      },
      {
       "output_type": "stream",
       "stream": "stderr",
       "text": [
        "[12:00:58 DEBUG   ] ...total of 0 hits in pass: finished.\n"
       ]
      },
      {
       "metadata": {},
       "output_type": "pyout",
       "png": "[encoded data removed]",
       "prompt_number": 92,
       "text": [
        "<rdkit.Chem.rdchem.Mol at 0x10dbdeaa0>"
       ]
      }
     ],
     "prompt_number": 92
    },
    {
     "cell_type": "markdown",
     "metadata": {},
     "source": [
      "This is because all bonds in the ring system are aromatic..."
     ]
    },
    {
     "cell_type": "code",
     "collapsed": false,
     "input": [
      "for bond in mol.GetBonds(): print(\"{:2d} - {:2d} = {}\".format(bond.GetBeginAtomIdx(), bond.GetEndAtomIdx(), bond.GetBondType()))"
     ],
     "language": "python",
     "metadata": {},
     "outputs": [
      {
       "output_type": "stream",
       "stream": "stdout",
       "text": [
        " 0 -  1 = DOUBLE\n",
        " 1 -  2 = AROMATIC\n",
        " 1 -  3 = AROMATIC\n",
        " 3 -  4 = AROMATIC\n",
        " 4 -  5 = AROMATIC\n",
        " 5 -  6 = AROMATIC\n",
        " 6 -  7 = AROMATIC\n",
        " 7 -  8 = AROMATIC\n",
        " 8 -  9 = AROMATIC\n",
        " 9 -  2 = AROMATIC\n",
        " 9 -  5 = AROMATIC\n"
       ]
      }
     ],
     "prompt_number": 93
    },
    {
     "cell_type": "markdown",
     "metadata": {},
     "source": [
      "### Altering the rule..."
     ]
    },
    {
     "cell_type": "markdown",
     "metadata": {},
     "source": [
      "If the 'hydropyridin-4-imine -> 4-amino-pyridine' rules are fixed to allow a single-bond at the appropriate position, then the hydroquinoline-imine is standardised..."
     ]
    },
    {
     "cell_type": "code",
     "collapsed": false,
     "input": [
      "reload(standardise.rules)"
     ],
     "language": "python",
     "metadata": {},
     "outputs": [
      {
       "metadata": {},
       "output_type": "pyout",
       "prompt_number": 83,
       "text": [
        "<module 'standardise.rules' from '/Users/francis/projects/standardiser/standardise/rules.pyc'>"
       ]
      }
     ],
     "prompt_number": 83
    },
    {
     "cell_type": "code",
     "collapsed": false,
     "input": [
      "[x['SMARTS'] for x in standardise.rules.rule_set if x['description'] == 'hydropyridin-4-imine -> 4-amino-pyridine (1)'][0]"
     ],
     "language": "python",
     "metadata": {},
     "outputs": [
      {
       "metadata": {},
       "output_type": "pyout",
       "prompt_number": 81,
       "text": [
        "'[Nv3+0H1:1]=[c:2]:[a:3]:,-[a:4]:[nH:5]>>[NH2:1]-[c:2]:[a:3]:[a:4]:[nH0:5]'"
       ]
      }
     ],
     "prompt_number": 81
    },
    {
     "cell_type": "code",
     "collapsed": false,
     "input": [
      "standardise.rules.apply(mol)"
     ],
     "language": "python",
     "metadata": {},
     "outputs": [
      {
       "output_type": "stream",
       "stream": "stderr",
       "text": [
        "[11:37:09 DEBUG   ] apply> mol = '[NH:0]=[c:1]1[cH:2][cH:3][cH:4][c:5]2[nH:6][cH:7][cH:8][cH:9][c:10]1-2'\n"
       ]
      },
      {
       "output_type": "stream",
       "stream": "stderr",
       "text": [
        "[11:37:09 DEBUG   ] apply> starting pass 1...\n"
       ]
      },
      {
       "output_type": "stream",
       "stream": "stderr",
       "text": [
        "[11:37:09 INFO    ] rule 7 'hydropyridin-4-imine -> 4-amino-pyridine (1)' applied on pass 1\n"
       ]
      },
      {
       "output_type": "stream",
       "stream": "stderr",
       "text": [
        "[11:37:09 DEBUG   ] ...total of 1 hits in pass: will continue...\n"
       ]
      },
      {
       "output_type": "stream",
       "stream": "stderr",
       "text": [
        "[11:37:09 DEBUG   ] apply> starting pass 2...\n"
       ]
      },
      {
       "output_type": "stream",
       "stream": "stderr",
       "text": [
        "[11:37:09 DEBUG   ] ...total of 0 hits in pass: finished.\n"
       ]
      },
      {
       "metadata": {},
       "output_type": "pyout",
       "png": "[encoded data removed]",
       "prompt_number": 82,
       "text": [
        "<rdkit.Chem.rdchem.Mol at 0x10dbde848>"
       ]
      }
     ],
     "prompt_number": 82
    },
    {
     "cell_type": "markdown",
     "metadata": {},
     "source": [
      "For consistency with the hydroxy-quinoline and the imidazo-imine cases, the altered rule has been incorporated into the rules file, such that the hydroquinoline-imine is also now standardised by default.\n",
      "\n",
      "However, this could be changed if it is not considered appropriate. Which set of behaviours is desirable? "
     ]
    }
   ],
   "metadata": {}
  }
 ]
}