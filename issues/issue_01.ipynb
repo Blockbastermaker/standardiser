{
 "metadata": {
  "name": ""
 },
 "nbformat": 3,
 "nbformat_minor": 0,
 "worksheets": [
  {
   "cells": [
    {
     "cell_type": "code",
     "collapsed": false,
     "input": [
      "%run setup.py\n",
      "\n",
      "reload(logging)\n",
      "\n",
      "logging.basicConfig(level=logging.DEBUG, format=\"[%(asctime)s %(levelname)-8s] %(message)s\", datefmt=\"%H:%M:%S\")"
     ],
     "language": "python",
     "metadata": {},
     "outputs": [],
     "prompt_number": 1
    },
    {
     "cell_type": "code",
     "collapsed": false,
     "input": [
      "from standardise import standardise"
     ],
     "language": "python",
     "metadata": {},
     "outputs": []
    },
    {
     "cell_type": "markdown",
     "metadata": {},
     "source": [
      "**Warning: Algorithms have been altered because of the information documented in this notebook. Running the notebook may thus not given the behaviour illustrated.**"
     ]
    },
    {
     "cell_type": "markdown",
     "metadata": {},
     "source": [
      "# Issue 01\n",
      "\n",
      "The molecule below is a simplified version of real examples. It illustrates a problem with the original (very simple) version of the algorithm.\n",
      "\n",
      "While the code has been fixed to cope with cases like this, it should be noted that it is not really clear how often problems of this nature would occur in practice, and thus how much the extra complexity needed to deal with them is warranted.\n",
      "\n",
      "It would also be possible to deal with this issue by rewriting the SMARTS transforms to be more specific (_i.e._ by excluding cases such as the present one). However, tt was felt that this would likely end up being more compolicated than the chosen method, as mutiple complicated SMARTS could become necessary to represent fairly simple transforms."
     ]
    },
    {
     "cell_type": "code",
     "collapsed": false,
     "input": [
      "mol = Chem.MolFromSmiles(\"Oc1nc(CCc2c(O)ncnc2O)nc(O)c1\")\n",
      "mol"
     ],
     "language": "python",
     "metadata": {},
     "outputs": [
      {
       "metadata": {},
       "output_type": "pyout",
       "png": "[encoded data removed]",
       "prompt_number": 2,
       "text": [
        "<rdkit.Chem.rdchem.Mol at 0x105dd4b40>"
       ]
      }
     ],
     "prompt_number": 2
    },
    {
     "cell_type": "code",
     "collapsed": false,
     "input": [
      "rxn = AllChem.ReactionFromSmarts(\"[OX2H1:1]-[c:2]:[nX2:3]>>[OH0:1]=[c:2]:[nH1:3]\") # 2-hydroxy pyridine -> 2-pyridone"
     ],
     "language": "python",
     "metadata": {},
     "outputs": [],
     "prompt_number": 109
    },
    {
     "cell_type": "code",
     "collapsed": false,
     "input": [
      "# Run transform...\n",
      "# NB As the transorm is a one-component reaction, only the first component from each product tuple will exist\n",
      "\n",
      "products = [x[0] for x in rxn.RunReactants((mol,))]\n",
      "\n",
      "# Sanitize product mols...\n",
      "\n",
      "for x in products: Chem.SanitizeMol(x)\n",
      "    \n",
      "# Keep unique products (i.e. tautomers) only\n",
      "\n",
      "products = {Chem.MolToSmiles(x): x for x in products}.values()\n",
      "\n",
      "# Depict...\n",
      "\n",
      "Draw.MolsToGridImage(products)"
     ],
     "language": "python",
     "metadata": {},
     "outputs": [
      {
       "metadata": {},
       "output_type": "pyout",
       "png": "[encoded data removed]",
       "prompt_number": 111,
       "text": [
        "<PIL.Image.Image image mode=RGB size=600x200 at 0x10E4E4B90>"
       ]
      }
     ],
     "prompt_number": 111
    },
    {
     "cell_type": "code",
     "collapsed": false,
     "input": [
      "# Run reaction on first product...\n",
      "\n",
      "prod = rxn.RunReactants((products[0],))[0][0]\n",
      "prod\n",
      "\n",
      "# Note that both applications of rhe reaction have been to the second ring"
     ],
     "language": "python",
     "metadata": {},
     "outputs": [
      {
       "metadata": {},
       "output_type": "pyout",
       "png": "[encoded data removed]",
       "prompt_number": 112,
       "text": [
        "<rdkit.Chem.rdchem.Mol at 0x10e47f578>"
       ]
      }
     ],
     "prompt_number": 112
    },
    {
     "cell_type": "code",
     "collapsed": false,
     "input": [
      "# Attempt to sanitize molecule fails...\n",
      "\n",
      "Chem.SanitizeMol(prod)"
     ],
     "language": "python",
     "metadata": {},
     "outputs": [
      {
       "ename": "ValueError",
       "evalue": "Sanitization error: Can't kekulize mol \n",
       "output_type": "pyerr",
       "traceback": [
        "\u001b[0;31m---------------------------------------------------------------------------\u001b[0m\n\u001b[0;31mValueError\u001b[0m                                Traceback (most recent call last)",
        "\u001b[0;32m<ipython-input-113-f4c59820c266>\u001b[0m in \u001b[0;36m<module>\u001b[0;34m()\u001b[0m\n\u001b[0;32m----> 1\u001b[0;31m \u001b[0mChem\u001b[0m\u001b[0;34m.\u001b[0m\u001b[0mSanitizeMol\u001b[0m\u001b[0;34m(\u001b[0m\u001b[0mprod\u001b[0m\u001b[0;34m)\u001b[0m\u001b[0;34m\u001b[0m\u001b[0m\n\u001b[0m",
        "\u001b[0;31mValueError\u001b[0m: Sanitization error: Can't kekulize mol \n"
       ]
      }
     ],
     "prompt_number": 113
    },
    {
     "cell_type": "code",
     "collapsed": false,
     "input": [
      "# Run reaction on second product...\n",
      "\n",
      "prod = rxn.RunReactants((products[1],))[0][0]\n",
      "prod\n",
      "\n",
      "# Note that both applications of rhe reaction have been to the first ring"
     ],
     "language": "python",
     "metadata": {},
     "outputs": [
      {
       "metadata": {},
       "output_type": "pyout",
       "png": "[encoded data removed]",
       "prompt_number": 116,
       "text": [
        "<rdkit.Chem.rdchem.Mol at 0x10c5d3500>"
       ]
      }
     ],
     "prompt_number": 116
    },
    {
     "cell_type": "code",
     "collapsed": false,
     "input": [
      "# Attempt to sanitize molecule...\n",
      "\n",
      "Chem.SanitizeMol(prod)"
     ],
     "language": "python",
     "metadata": {},
     "outputs": [
      {
       "ename": "ValueError",
       "evalue": "Sanitization error: Can't kekulize mol \n",
       "output_type": "pyerr",
       "traceback": [
        "\u001b[0;31m---------------------------------------------------------------------------\u001b[0m\n\u001b[0;31mValueError\u001b[0m                                Traceback (most recent call last)",
        "\u001b[0;32m<ipython-input-115-f4c59820c266>\u001b[0m in \u001b[0;36m<module>\u001b[0;34m()\u001b[0m\n\u001b[0;32m----> 1\u001b[0;31m \u001b[0mChem\u001b[0m\u001b[0;34m.\u001b[0m\u001b[0mSanitizeMol\u001b[0m\u001b[0;34m(\u001b[0m\u001b[0mprod\u001b[0m\u001b[0;34m)\u001b[0m\u001b[0;34m\u001b[0m\u001b[0m\n\u001b[0m",
        "\u001b[0;31mValueError\u001b[0m: Sanitization error: Can't kekulize mol \n"
       ]
      }
     ],
     "prompt_number": 115
    },
    {
     "cell_type": "markdown",
     "metadata": {},
     "source": [
      "As the transform is applied to the same ring as the first on the second attempt, a non-physical 'intermediate' is obtained. This may be depicted but not sanitized, which means it may not used in any further transformations.\n",
      "\n",
      "Thus, due to the way the transforms are applied, the desired product, where the transform has been applied once to each ring, cannot be obtained by simple serial application of the transform."
     ]
    },
    {
     "cell_type": "markdown",
     "metadata": {},
     "source": [
      "Note that, in the present case, as the '2-hydroxy pyridine -> 2-pyridone' transform may only be applied once, the '4-hydroxy pyridine -> 4-pyridone' transform ends up being applied to the second ring instead, While this is not quite wrong, it is not what one might expect..."
     ]
    },
    {
     "cell_type": "code",
     "collapsed": false,
     "input": [
      "# Use old apply function...\n",
      "\n",
      "standardise.rules.apply_old(mol)"
     ],
     "language": "python",
     "metadata": {},
     "outputs": [
      {
       "output_type": "stream",
       "stream": "stderr",
       "text": [
        "[17:09:30 DEBUG   ] starting pass 1...\n"
       ]
      },
      {
       "output_type": "stream",
       "stream": "stderr",
       "text": [
        "[17:09:30 DEBUG   ] SanitizeMol failed for rule 3 (2-hydroxy pyridine -> 2-pyridone): 'Sanitization error: Can't kekulize mol'\n"
       ]
      },
      {
       "output_type": "stream",
       "stream": "stderr",
       "text": [
        "[17:09:30 DEBUG   ] rule 3 (2-hydroxy pyridine -> 2-pyridone) applied 1 time(s) on pass 1\n"
       ]
      },
      {
       "output_type": "stream",
       "stream": "stderr",
       "text": [
        "[17:09:30 DEBUG   ] SanitizeMol failed for rule 4 (4-hydroxy pyridine -> 4-pyridone): 'Sanitization error: Can't kekulize mol'\n"
       ]
      },
      {
       "output_type": "stream",
       "stream": "stderr",
       "text": [
        "[17:09:30 DEBUG   ] rule 4 (4-hydroxy pyridine -> 4-pyridone) applied 1 time(s) on pass 1\n"
       ]
      },
      {
       "output_type": "stream",
       "stream": "stderr",
       "text": [
        "[17:09:30 DEBUG   ] ...total of 2 applications in pass: will continue...\n"
       ]
      },
      {
       "output_type": "stream",
       "stream": "stderr",
       "text": [
        "[17:09:30 DEBUG   ] starting pass 2...\n"
       ]
      },
      {
       "output_type": "stream",
       "stream": "stderr",
       "text": [
        "[17:09:30 DEBUG   ] SanitizeMol failed for rule 3 (2-hydroxy pyridine -> 2-pyridone): 'Sanitization error: Can't kekulize mol'\n"
       ]
      },
      {
       "output_type": "stream",
       "stream": "stderr",
       "text": [
        "[17:09:30 DEBUG   ] SanitizeMol failed for rule 4 (4-hydroxy pyridine -> 4-pyridone): 'Sanitization error: Can't kekulize mol'\n"
       ]
      },
      {
       "output_type": "stream",
       "stream": "stderr",
       "text": [
        "[17:09:30 DEBUG   ] ...total of 0 applications in pass: finished.\n"
       ]
      },
      {
       "metadata": {},
       "output_type": "pyout",
       "png": "[encoded data removed]",
       "prompt_number": 3,
       "text": [
        "<rdkit.Chem.rdchem.Mol at 0x105e2b5f0>"
       ]
      }
     ],
     "prompt_number": 3
    },
    {
     "cell_type": "markdown",
     "metadata": {},
     "source": [
      "By contrast, with the new apply function, the '2-hydroxy pyridine -> 2-pyridone' transform is applied to both rings..."
     ]
    },
    {
     "cell_type": "code",
     "collapsed": false,
     "input": [
      "# Use new apply function...\n",
      "\n",
      "standardise.rules.apply(mol)"
     ],
     "language": "python",
     "metadata": {},
     "outputs": [
      {
       "output_type": "stream",
       "stream": "stderr",
       "text": [
        "[17:09:43 DEBUG   ] apply> mol = 'Oc1cc(O)nc(CCc2c(O)ncnc2O)n1'\n"
       ]
      },
      {
       "output_type": "stream",
       "stream": "stderr",
       "text": [
        "[17:09:43 DEBUG   ] apply> starting pass 1...\n"
       ]
      },
      {
       "output_type": "stream",
       "stream": "stderr",
       "text": [
        "[17:09:43 INFO    ] rule 3 '2-hydroxy pyridine -> 2-pyridone' applied on pass 1\n"
       ]
      },
      {
       "output_type": "stream",
       "stream": "stderr",
       "text": [
        "[17:09:43 DEBUG   ] ...total of 1 hits in pass: will continue...\n"
       ]
      },
      {
       "output_type": "stream",
       "stream": "stderr",
       "text": [
        "[17:09:43 DEBUG   ] apply> starting pass 2...\n"
       ]
      },
      {
       "output_type": "stream",
       "stream": "stderr",
       "text": [
        "[17:09:43 DEBUG   ] ...total of 0 hits in pass: finished.\n"
       ]
      },
      {
       "metadata": {},
       "output_type": "pyout",
       "png": "[encoded data removed]",
       "prompt_number": 4,
       "text": [
        "<rdkit.Chem.rdchem.Mol at 0x105e90398>"
       ]
      }
     ],
     "prompt_number": 4
    }
   ],
   "metadata": {}
  }
 ]
}