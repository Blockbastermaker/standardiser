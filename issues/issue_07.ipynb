{
 "metadata": {
  "name": ""
 },
 "nbformat": 3,
 "nbformat_minor": 0,
 "worksheets": [
  {
   "cells": [
    {
     "cell_type": "code",
     "collapsed": false,
     "input": [
      "%run setup.py\n",
      "\n",
      "reload(logging) # This seems to be necessary to get logging from modules to work as expected\n",
      "\n",
      "logging.basicConfig(level=logging.DEBUG, format=\"[%(asctime)s %(levelname)-8s] %(message)s\", datefmt=\"%H:%M:%S\")"
     ],
     "language": "python",
     "metadata": {},
     "outputs": [],
     "prompt_number": 2
    },
    {
     "cell_type": "code",
     "collapsed": false,
     "input": [
      "from standardise import standardise"
     ],
     "language": "python",
     "metadata": {},
     "outputs": []
    },
    {
     "cell_type": "markdown",
     "metadata": {},
     "source": [
      "# Issue 07\n",
      "\n",
      "The charged heterocycle below is converted by rule 'Fix 1,3 conjugated cation (aromatic 1)' to an imine which is then deprotonated in the neutralisation step..."
     ]
    },
    {
     "cell_type": "code",
     "collapsed": false,
     "input": [
      "mol = Chem.MolFromSmiles(\"CNc1[n+](C)ccs1\")\n",
      "mol"
     ],
     "language": "python",
     "metadata": {},
     "outputs": [
      {
       "metadata": {},
       "output_type": "pyout",
       "png": "[encoded data removed]",
       "prompt_number": 30,
       "text": [
        "<rdkit.Chem.rdchem.Mol at 0x111d07de0>"
       ]
      }
     ],
     "prompt_number": 30
    },
    {
     "cell_type": "code",
     "collapsed": false,
     "input": [
      "mol = standardise.rules.apply(mol)\n",
      "mol"
     ],
     "language": "python",
     "metadata": {},
     "outputs": [
      {
       "output_type": "stream",
       "stream": "stderr",
       "text": [
        "[13:55:21 DEBUG   ] apply> starting pass 1...\n"
       ]
      },
      {
       "output_type": "stream",
       "stream": "stderr",
       "text": [
        "[13:55:21 DEBUG   ] apply> hit for rule 16 (Fix 1,3 conjugated cation (aromatic 1))...\n"
       ]
      },
      {
       "output_type": "stream",
       "stream": "stderr",
       "text": [
        "[13:55:21 DEBUG   ] ...total of 1 hits in pass: will continue...\n"
       ]
      },
      {
       "output_type": "stream",
       "stream": "stderr",
       "text": [
        "[13:55:21 DEBUG   ] apply> starting pass 2...\n"
       ]
      },
      {
       "output_type": "stream",
       "stream": "stderr",
       "text": [
        "[13:55:21 DEBUG   ] ...total of 0 hits in pass: finished.\n"
       ]
      },
      {
       "metadata": {},
       "output_type": "pyout",
       "png": "[encoded data removed]",
       "prompt_number": 31,
       "text": [
        "<rdkit.Chem.rdchem.Mol at 0x111d33050>"
       ]
      }
     ],
     "prompt_number": 31
    },
    {
     "cell_type": "code",
     "collapsed": false,
     "input": [
      "mol = standardise.neutralize.apply(mol)\n",
      "mol"
     ],
     "language": "python",
     "metadata": {},
     "outputs": [
      {
       "output_type": "stream",
       "stream": "stderr",
       "text": [
        "[13:55:22 DEBUG   ] 1 positive/H, 0 positive/quat and 0 negative (of which 0 are acid) charges identified\n"
       ]
      },
      {
       "output_type": "stream",
       "stream": "stderr",
       "text": [
        "[13:55:22 DEBUG   ] Overall H balance: -1; formal charge: 0\n"
       ]
      },
      {
       "metadata": {},
       "output_type": "pyout",
       "png": "[encoded data removed]",
       "prompt_number": 32,
       "text": [
        "<rdkit.Chem.rdchem.Mol at 0x111d34cb0>"
       ]
      }
     ],
     "prompt_number": 32
    },
    {
     "cell_type": "code",
     "collapsed": false,
     "input": [
      "# Note that RDKit still considers the ring to be aromatic...\n",
      "\n",
      "Chem.MolToSmiles(mol)"
     ],
     "language": "python",
     "metadata": {},
     "outputs": [
      {
       "metadata": {},
       "output_type": "pyout",
       "prompt_number": 33,
       "text": [
        "'CN=c1sccn1C'"
       ]
      }
     ],
     "prompt_number": 33
    },
    {
     "cell_type": "markdown",
     "metadata": {},
     "source": [
      "The question is whether this is really a desirable outcome. On the one hand, it removes the charge, and the heterocycle is still considered aromatic. On the other hand, an exocyclic double bond has been introduced, which looks a bit awkward.\n",
      "\n",
      "On balance, I would probably prefer the uncharged imine to the charged amine in _this_ particular case, but it does raises tricky questions of degrees of aromaticity and effects on pKa, among other things."
     ]
    },
    {
     "cell_type": "markdown",
     "metadata": {},
     "source": [
      "### Six-membered analogue"
     ]
    },
    {
     "cell_type": "markdown",
     "metadata": {},
     "source": [
      "In the analagous case with a 6-membered ring, the imine looks even more awkward..."
     ]
    },
    {
     "cell_type": "code",
     "collapsed": false,
     "input": [
      "mol = Chem.MolFromSmiles(\"CNc1[n+](C)cccc1\")\n",
      "mol"
     ],
     "language": "python",
     "metadata": {},
     "outputs": [
      {
       "metadata": {},
       "output_type": "pyout",
       "png": "[encoded data removed]",
       "prompt_number": 47,
       "text": [
        "<rdkit.Chem.rdchem.Mol at 0x111d30ad0>"
       ]
      }
     ],
     "prompt_number": 47
    },
    {
     "cell_type": "code",
     "collapsed": false,
     "input": [
      "mol = standardise.rules.apply(mol)\n",
      "mol"
     ],
     "language": "python",
     "metadata": {},
     "outputs": [
      {
       "output_type": "stream",
       "stream": "stderr",
       "text": [
        "[14:00:18 DEBUG   ] apply> starting pass 1...\n"
       ]
      },
      {
       "output_type": "stream",
       "stream": "stderr",
       "text": [
        "[14:00:18 DEBUG   ] apply> hit for rule 16 (Fix 1,3 conjugated cation (aromatic 1))...\n"
       ]
      },
      {
       "output_type": "stream",
       "stream": "stderr",
       "text": [
        "[14:00:18 DEBUG   ] ...total of 1 hits in pass: will continue...\n"
       ]
      },
      {
       "output_type": "stream",
       "stream": "stderr",
       "text": [
        "[14:00:18 DEBUG   ] apply> starting pass 2...\n"
       ]
      },
      {
       "output_type": "stream",
       "stream": "stderr",
       "text": [
        "[14:00:18 DEBUG   ] ...total of 0 hits in pass: finished.\n"
       ]
      },
      {
       "metadata": {},
       "output_type": "pyout",
       "png": "[encoded data removed]",
       "prompt_number": 48,
       "text": [
        "<rdkit.Chem.rdchem.Mol at 0x10dd69500>"
       ]
      }
     ],
     "prompt_number": 48
    },
    {
     "cell_type": "code",
     "collapsed": false,
     "input": [
      "mol = standardise.neutralize.apply(mol)\n",
      "mol"
     ],
     "language": "python",
     "metadata": {},
     "outputs": [
      {
       "output_type": "stream",
       "stream": "stderr",
       "text": [
        "[14:00:19 DEBUG   ] 1 positive/H, 0 positive/quat and 0 negative (of which 0 are acid) charges identified\n"
       ]
      },
      {
       "output_type": "stream",
       "stream": "stderr",
       "text": [
        "[14:00:19 DEBUG   ] Overall H balance: -1; formal charge: 0\n"
       ]
      },
      {
       "metadata": {},
       "output_type": "pyout",
       "png": "[encoded data removed]",
       "prompt_number": 49,
       "text": [
        "<rdkit.Chem.rdchem.Mol at 0x111d71680>"
       ]
      }
     ],
     "prompt_number": 49
    },
    {
     "cell_type": "markdown",
     "metadata": {},
     "source": [
      "This example is based on a real [molecule](https://www.ebi.ac.uk/chembl/compound/inspect/CHEMBL83939 \"CHEMBL83939\"), and, in the context of the whole molecule, the problem looks even worse. The presence of the carboxylic acid means the molecule with the charged heterocycle could exist as a charge-neutral zwitterion (possibly even with an internal salt-bridge)."
     ]
    },
    {
     "cell_type": "code",
     "collapsed": false,
     "input": [
      "mol = Chem.MolFromSmiles(\"CC(C)Cc1ccc(N)[n+](CCCC(=O)O)n1\")\n",
      "mol"
     ],
     "language": "python",
     "metadata": {},
     "outputs": [
      {
       "metadata": {},
       "output_type": "pyout",
       "png": "[encoded data removed]",
       "prompt_number": 64,
       "text": [
        "<rdkit.Chem.rdchem.Mol at 0x111d76a60>"
       ]
      }
     ],
     "prompt_number": 64
    },
    {
     "cell_type": "code",
     "collapsed": true,
     "input": [
      "standardise.neutralize.apply(standardise.rules.apply(mol))"
     ],
     "language": "python",
     "metadata": {},
     "outputs": [
      {
       "output_type": "stream",
       "stream": "stderr",
       "text": [
        "[14:36:55 DEBUG   ] apply> starting pass 1...\n"
       ]
      },
      {
       "output_type": "stream",
       "stream": "stderr",
       "text": [
        "[14:36:55 DEBUG   ] apply> hit for rule 16 (Fix 1,3 conjugated cation (aromatic 1))...\n"
       ]
      },
      {
       "output_type": "stream",
       "stream": "stderr",
       "text": [
        "[14:36:55 DEBUG   ] ...total of 1 hits in pass: will continue...\n"
       ]
      },
      {
       "output_type": "stream",
       "stream": "stderr",
       "text": [
        "[14:36:55 DEBUG   ] apply> starting pass 2...\n"
       ]
      },
      {
       "output_type": "stream",
       "stream": "stderr",
       "text": [
        "[14:36:55 DEBUG   ] ...total of 0 hits in pass: finished.\n"
       ]
      },
      {
       "output_type": "stream",
       "stream": "stderr",
       "text": [
        "[14:36:55 DEBUG   ] 1 positive/H, 0 positive/quat and 0 negative (of which 0 are acid) charges identified\n"
       ]
      },
      {
       "output_type": "stream",
       "stream": "stderr",
       "text": [
        "[14:36:55 DEBUG   ] Overall H balance: -1; formal charge: 0\n"
       ]
      },
      {
       "metadata": {},
       "output_type": "pyout",
       "png": "[encoded data removed]",
       "prompt_number": 65,
       "text": [
        "<rdkit.Chem.rdchem.Mol at 0x111d91b50>"
       ]
      }
     ],
     "prompt_number": 65
    },
    {
     "cell_type": "markdown",
     "metadata": {},
     "source": [
      "Thus, it might be that, at least in the case of nitrogen-containing, six-membered aromatics, the 'Fix 1,n charge-seperated systems' transforms are too agressive.\n",
      "\n",
      "A few other examples where this happens...\n",
      "\n",
      "* [CHEMBL1623170](https://www.ebi.ac.uk/chembl/compound/inspect/CHEMBL1623170 \"CHEMBL1623170\")\n",
      "* [CHEMBL355307](https://www.ebi.ac.uk/chembl/compound/inspect/CHEMBL355307 \"CHEMBL355307\") \n",
      "* [CHEMBL1198819](https://www.ebi.ac.uk/chembl/compound/inspect/CHEMBL1198819 \"CHEMBL1198819\")"
     ]
    },
    {
     "cell_type": "markdown",
     "metadata": {},
     "source": [
      "Note that there are, perhaps, some counterexamples. In some molecular [contexts](https://www.ebi.ac.uk/chembl/compound/inspect/CHEMBL1187086 \"CHEMBL1187086\"), the imine maybe doesn't look _quite_ so bad..."
     ]
    },
    {
     "cell_type": "code",
     "collapsed": false,
     "input": [
      "mol = Chem.MolFromSmiles(\"CCN(CC)CCNc1c2ccccc2[n+](C)c3c4cc(F)cc(F)c4[nH]c13\")\n",
      "mol"
     ],
     "language": "python",
     "metadata": {},
     "outputs": [
      {
       "metadata": {},
       "output_type": "pyout",
       "png": "[encoded data removed]",
       "prompt_number": 55,
       "text": [
        "<rdkit.Chem.rdchem.Mol at 0x10dbf1910>"
       ]
      }
     ],
     "prompt_number": 55
    },
    {
     "cell_type": "code",
     "collapsed": true,
     "input": [
      "standardise.neutralize.apply(standardise.rules.apply(mol))"
     ],
     "language": "python",
     "metadata": {},
     "outputs": [
      {
       "output_type": "stream",
       "stream": "stderr",
       "text": [
        "[14:20:51 DEBUG   ] apply> starting pass 1...\n"
       ]
      },
      {
       "output_type": "stream",
       "stream": "stderr",
       "text": [
        "[14:20:51 DEBUG   ] apply> hit for rule 19 (Fix 1,5 conjugated cation (aromatic 1))...\n"
       ]
      },
      {
       "output_type": "stream",
       "stream": "stderr",
       "text": [
        "[14:20:51 DEBUG   ] ...total of 1 hits in pass: will continue...\n"
       ]
      },
      {
       "output_type": "stream",
       "stream": "stderr",
       "text": [
        "[14:20:51 DEBUG   ] apply> starting pass 2...\n"
       ]
      },
      {
       "output_type": "stream",
       "stream": "stderr",
       "text": [
        "[14:20:51 DEBUG   ] ...total of 0 hits in pass: finished.\n"
       ]
      },
      {
       "output_type": "stream",
       "stream": "stderr",
       "text": [
        "[14:20:51 DEBUG   ] 1 positive/H, 0 positive/quat and 0 negative (of which 0 are acid) charges identified\n"
       ]
      },
      {
       "output_type": "stream",
       "stream": "stderr",
       "text": [
        "[14:20:51 DEBUG   ] Overall H balance: -1; formal charge: 0\n"
       ]
      },
      {
       "metadata": {},
       "output_type": "pyout",
       "png": "[encoded data removed]",
       "prompt_number": 62,
       "text": [
        "<rdkit.Chem.rdchem.Mol at 0x111d861b0>"
       ]
      }
     ],
     "prompt_number": 62
    },
    {
     "cell_type": "markdown",
     "metadata": {},
     "source": [
      "### A note on charges..."
     ]
    },
    {
     "cell_type": "markdown",
     "metadata": {},
     "source": [
      "As an aside, note that, at present, no attempt is made to (re)deprotonate acids to balance quat positive charges. Some experimental code has been added to address this (_N.B._ not on by default)..."
     ]
    },
    {
     "cell_type": "code",
     "collapsed": false,
     "input": [
      "reload(standardise.neutralize)\n",
      "\n",
      "standardise.neutralize.apply(mol)"
     ],
     "language": "python",
     "metadata": {},
     "outputs": [
      {
       "output_type": "stream",
       "stream": "stderr",
       "text": [
        "[14:40:03 DEBUG   ] 0 positive/H, 1 positive/quat and 0 negative (of which 0 are acid) charges identified\n"
       ]
      },
      {
       "output_type": "stream",
       "stream": "stderr",
       "text": [
        "[14:40:03 WARNING ] Surplus of quat positive charges but with uncharged acids detected\n"
       ]
      },
      {
       "output_type": "stream",
       "stream": "stderr",
       "text": [
        "[14:40:03 DEBUG   ] Overall H balance: -1; formal charge: 0\n"
       ]
      },
      {
       "metadata": {},
       "output_type": "pyout",
       "png": "[encoded data removed]",
       "prompt_number": 67,
       "text": [
        "<rdkit.Chem.rdchem.Mol at 0x111ce9100>"
       ]
      }
     ],
     "prompt_number": 67
    },
    {
     "cell_type": "markdown",
     "metadata": {},
     "source": [
      "### Another interesting tautomer problem..."
     ]
    },
    {
     "cell_type": "markdown",
     "metadata": {},
     "source": [
      "Whilst in general the 9H-purine tautomer (H on the imidazole ring) is preferble to the 1H-purine (H on the pyrimidine), there might be exceptions. In the case below, an internal H-bond conceivably might stabilize the alternative (_i.e._ 1H-purine) tautomer..."
     ]
    },
    {
     "cell_type": "code",
     "collapsed": false,
     "input": [
      "mol = Chem.MolFromSmiles(\"NS(=O)(=O)c1[nH]cnc2ncnc12\")\n",
      "mol"
     ],
     "language": "python",
     "metadata": {},
     "outputs": [
      {
       "metadata": {},
       "output_type": "pyout",
       "png": "[encoded data removed]",
       "prompt_number": 22,
       "text": [
        "<rdkit.Chem.rdchem.Mol at 0x111d07e50>"
       ]
      }
     ],
     "prompt_number": 22
    },
    {
     "cell_type": "code",
     "collapsed": false,
     "input": [
      "# Which would make the transformation applied inappropriate...\n",
      "\n",
      "standardise.rules.apply(mol)"
     ],
     "language": "python",
     "metadata": {},
     "outputs": [
      {
       "output_type": "stream",
       "stream": "stderr",
       "text": [
        "[13:41:54 DEBUG   ] apply> starting pass 1...\n"
       ]
      },
      {
       "output_type": "stream",
       "stream": "stderr",
       "text": [
        "[13:41:54 DEBUG   ] apply> hit for rule 24 (Fix heterocyclic tautomer 3)...\n"
       ]
      },
      {
       "output_type": "stream",
       "stream": "stderr",
       "text": [
        "[13:41:54 DEBUG   ] ...total of 1 hits in pass: will continue...\n"
       ]
      },
      {
       "output_type": "stream",
       "stream": "stderr",
       "text": [
        "[13:41:54 DEBUG   ] apply> starting pass 2...\n"
       ]
      },
      {
       "output_type": "stream",
       "stream": "stderr",
       "text": [
        "[13:41:54 DEBUG   ] ...total of 0 hits in pass: finished.\n"
       ]
      },
      {
       "metadata": {},
       "output_type": "pyout",
       "png": "[encoded data removed]",
       "prompt_number": 23,
       "text": [
        "<rdkit.Chem.rdchem.Mol at 0x111d0cb18>"
       ]
      }
     ],
     "prompt_number": 23
    },
    {
     "cell_type": "markdown",
     "metadata": {},
     "source": [
      "Whilst cases such as this could be dealt with by (somewhat elaborate) SMARTS, any general solution is of course far outside the scope of a system such as this one."
     ]
    }
   ],
   "metadata": {}
  }
 ]
}