{
 "metadata": {
  "name": ""
 },
 "nbformat": 3,
 "nbformat_minor": 0,
 "worksheets": [
  {
   "cells": [
    {
     "cell_type": "code",
     "collapsed": false,
     "input": [
      "%run setup.py\n",
      "\n",
      "reload(logging) # This seems to be necessary to get logging from modules to work as expected\n",
      "\n",
      "logging.basicConfig(level=logging.DEBUG, format=\"[%(asctime)s %(levelname)-8s] %(message)s\", datefmt=\"%H:%M:%S\")"
     ],
     "language": "python",
     "metadata": {},
     "outputs": [],
     "prompt_number": 1
    },
    {
     "cell_type": "code",
     "collapsed": false,
     "input": [
      "from standardise import standardise"
     ],
     "language": "python",
     "metadata": {},
     "outputs": []
    },
    {
     "cell_type": "markdown",
     "metadata": {},
     "source": [
      "**Warning: Algorithms have been altered because of the information documented in this notebook. Running the notebook may thus not given the behaviour illustrated.**"
     ]
    },
    {
     "cell_type": "markdown",
     "metadata": {},
     "source": [
      "# Issue 06\n",
      "\n",
      "This is based on a real example. The amino-pyrimidine moiety is protonated and this prevents the '2-hydroxy pyridine -> 2-pyridone' transform. The '4-hydroxy pyridine -> 4-pyridone' transform is thus applied instead, which is not what might be expected..."
     ]
    },
    {
     "cell_type": "code",
     "collapsed": false,
     "input": [
      "mol = Chem.MolFromSmiles(\"Oc1[nH+]c(N)nc2n(C)c[n+](C)c12\")\n",
      "mol"
     ],
     "language": "python",
     "metadata": {},
     "outputs": [
      {
       "metadata": {},
       "output_type": "pyout",
       "png": "[encoded data removed]",
       "prompt_number": 4,
       "text": [
        "<rdkit.Chem.rdchem.Mol at 0x10430a4b0>"
       ]
      }
     ],
     "prompt_number": 4
    },
    {
     "cell_type": "code",
     "collapsed": false,
     "input": [
      "standardise.rules.apply(mol)"
     ],
     "language": "python",
     "metadata": {},
     "outputs": [
      {
       "output_type": "stream",
       "stream": "stderr",
       "text": [
        "[12:24:44 DEBUG   ] apply> starting pass 1...\n"
       ]
      },
      {
       "output_type": "stream",
       "stream": "stderr",
       "text": [
        "[12:24:44 DEBUG   ] apply> hit for rule 3 (4-hydroxy pyridine -> 4-pyridone)...\n"
       ]
      },
      {
       "output_type": "stream",
       "stream": "stderr",
       "text": [
        "[12:24:44 DEBUG   ] ...total of 1 hits in pass: will continue...\n"
       ]
      },
      {
       "output_type": "stream",
       "stream": "stderr",
       "text": [
        "[12:24:44 DEBUG   ] apply> starting pass 2...\n"
       ]
      },
      {
       "output_type": "stream",
       "stream": "stderr",
       "text": [
        "[12:24:44 DEBUG   ] ...total of 0 hits in pass: finished.\n"
       ]
      },
      {
       "metadata": {},
       "output_type": "pyout",
       "png": "[encoded data removed]",
       "prompt_number": 5,
       "text": [
        "<rdkit.Chem.rdchem.Mol at 0x10447f230>"
       ]
      }
     ],
     "prompt_number": 5
    },
    {
     "cell_type": "markdown",
     "metadata": {},
     "source": [
      "In the standardization procedure as originally implemented, neutralization was applied only _after_ the rules. If it is applied before the rules, the above molecule is handled correctly..."
     ]
    },
    {
     "cell_type": "code",
     "collapsed": false,
     "input": [
      "standardise.rules.apply(standardise.neutralize.apply(mol))"
     ],
     "language": "python",
     "metadata": {},
     "outputs": [
      {
       "output_type": "stream",
       "stream": "stderr",
       "text": [
        "[12:28:21 DEBUG   ] 1 positive/H, 1 positive/quat and 0 negative charges identified\n"
       ]
      },
      {
       "output_type": "stream",
       "stream": "stderr",
       "text": [
        "[12:28:21 DEBUG   ] Overall H balance: -1; formal charge: 1\n"
       ]
      },
      {
       "output_type": "stream",
       "stream": "stderr",
       "text": [
        "[12:28:21 DEBUG   ] apply> starting pass 1...\n"
       ]
      },
      {
       "output_type": "stream",
       "stream": "stderr",
       "text": [
        "[12:28:21 DEBUG   ] apply> hit for rule 2 (2-hydroxy pyridine -> 2-pyridone)...\n"
       ]
      },
      {
       "output_type": "stream",
       "stream": "stderr",
       "text": [
        "[12:28:21 DEBUG   ] ...total of 1 hits in pass: will continue...\n"
       ]
      },
      {
       "output_type": "stream",
       "stream": "stderr",
       "text": [
        "[12:28:21 DEBUG   ] apply> starting pass 2...\n"
       ]
      },
      {
       "output_type": "stream",
       "stream": "stderr",
       "text": [
        "[12:28:21 DEBUG   ] ...total of 0 hits in pass: finished.\n"
       ]
      },
      {
       "metadata": {},
       "output_type": "pyout",
       "png": "[encoded data removed]",
       "prompt_number": 6,
       "text": [
        "<rdkit.Chem.rdchem.Mol at 0x1044dea28>"
       ]
      }
     ],
     "prompt_number": 6
    },
    {
     "cell_type": "markdown",
     "metadata": {},
     "source": [
      "The procedure might thus be enhanced by including a neutralization step _before_ application of the rules as well as after. Neutralization _after_ the rules is required as some rules 'expose' a removable proton on cations (_i.e._ the various 'conjugated cation' rules)."
     ]
    },
    {
     "cell_type": "markdown",
     "metadata": {},
     "source": [
      "#### After modification of 'standardise' module...\n",
      "\n",
      "_N.B._ This change has been incorporated into the standardise module and is thus now default behaviour."
     ]
    },
    {
     "cell_type": "code",
     "collapsed": false,
     "input": [
      "reload(standardise)"
     ],
     "language": "python",
     "metadata": {},
     "outputs": [
      {
       "metadata": {},
       "output_type": "pyout",
       "prompt_number": 7,
       "text": [
        "<module 'standardise.standardise' from '/Users/francis/projects/standardiser/standardise/standardise.py'>"
       ]
      }
     ],
     "prompt_number": 7
    },
    {
     "cell_type": "code",
     "collapsed": false,
     "input": [
      "standardise.apply(mol)"
     ],
     "language": "python",
     "metadata": {},
     "outputs": [
      {
       "output_type": "stream",
       "stream": "stderr",
       "text": [
        "[13:30:58 DEBUG   ] Broke 0 bonds to Group I and II metals\n"
       ]
      },
      {
       "output_type": "stream",
       "stream": "stderr",
       "text": [
        "[13:30:58 DEBUG   ] Starting fragment 'Cn1c[n+](C)c2c1nc(N)[nH+]c2O'...\n"
       ]
      },
      {
       "output_type": "stream",
       "stream": "stderr",
       "text": [
        "[13:30:58 DEBUG   ] 1) Check for non-organic elements...\n"
       ]
      },
      {
       "output_type": "stream",
       "stream": "stderr",
       "text": [
        "[13:30:58 DEBUG   ] 2) Attempting to neutralize (first pass)...\n"
       ]
      },
      {
       "output_type": "stream",
       "stream": "stderr",
       "text": [
        "[13:30:58 DEBUG   ] 1 positive/H, 1 positive/quat and 0 negative charges identified\n"
       ]
      },
      {
       "output_type": "stream",
       "stream": "stderr",
       "text": [
        "[13:30:58 DEBUG   ] Overall H balance: -1; formal charge: 1\n"
       ]
      },
      {
       "output_type": "stream",
       "stream": "stderr",
       "text": [
        "[13:30:58 DEBUG   ] 3) Applying rules...\n"
       ]
      },
      {
       "output_type": "stream",
       "stream": "stderr",
       "text": [
        "[13:30:58 DEBUG   ] apply> starting pass 1...\n"
       ]
      },
      {
       "output_type": "stream",
       "stream": "stderr",
       "text": [
        "[13:30:58 DEBUG   ] apply> hit for rule 2 (2-hydroxy pyridine -> 2-pyridone)...\n"
       ]
      },
      {
       "output_type": "stream",
       "stream": "stderr",
       "text": [
        "[13:30:58 DEBUG   ] ...total of 1 hits in pass: will continue...\n"
       ]
      },
      {
       "output_type": "stream",
       "stream": "stderr",
       "text": [
        "[13:30:58 DEBUG   ] apply> starting pass 2...\n"
       ]
      },
      {
       "output_type": "stream",
       "stream": "stderr",
       "text": [
        "[13:30:58 DEBUG   ] ...total of 0 hits in pass: finished.\n"
       ]
      },
      {
       "output_type": "stream",
       "stream": "stderr",
       "text": [
        "[13:30:58 DEBUG   ] 4) Attempting to neutralize (second pass)...\n"
       ]
      },
      {
       "output_type": "stream",
       "stream": "stderr",
       "text": [
        "[13:30:58 DEBUG   ] 0 positive/H, 1 positive/quat and 0 negative charges identified\n"
       ]
      },
      {
       "output_type": "stream",
       "stream": "stderr",
       "text": [
        "[13:30:58 DEBUG   ] Overall H balance: 0; formal charge: 1\n"
       ]
      },
      {
       "output_type": "stream",
       "stream": "stderr",
       "text": [
        "[13:30:58 DEBUG   ] 5) Checking if frag is a salt/solvate...\n"
       ]
      },
      {
       "output_type": "stream",
       "stream": "stderr",
       "text": [
        "[13:30:58 DEBUG   ] ...fragment kept.\n"
       ]
      },
      {
       "metadata": {},
       "output_type": "pyout",
       "png": "[encoded data removed]",
       "prompt_number": 8,
       "text": [
        "<rdkit.Chem.rdchem.Mol at 0x1044db310>"
       ]
      }
     ],
     "prompt_number": 8
    }
   ],
   "metadata": {}
  }
 ]
}