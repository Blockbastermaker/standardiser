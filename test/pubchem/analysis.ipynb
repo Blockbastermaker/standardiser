{
 "metadata": {
  "name": ""
 },
 "nbformat": 3,
 "nbformat_minor": 0,
 "worksheets": [
  {
   "cells": [
    {
     "cell_type": "markdown",
     "metadata": {},
     "source": [
      "### Check the bahaviour of the standardiser rules by running on some PubChem structures"
     ]
    },
    {
     "cell_type": "code",
     "collapsed": false,
     "input": [
      "%run setup.py\n",
      "\n",
      "sys.path.append(\"..\")\n",
      "\n",
      "from standardise import rules\n",
      "\n",
      "import numpy as np"
     ],
     "language": "python",
     "metadata": {},
     "outputs": [],
     "prompt_number": 7
    },
    {
     "cell_type": "code",
     "collapsed": false,
     "input": [
      "# Load standardised structures (NB import all columns as strings)...\n",
      "\n",
      "cols = ['smiles_new', 'name', 'smiles_old', 'rules_applied']\n",
      "\n",
      "rules_applied = pd.read_table(open('rules_applied.smi', 'r'), header=None, names=cols, dtype={x: np.str for x in cols})\n",
      "\n",
      "rules_applied.set_index('name', inplace=True)\n",
      "\n",
      "# # Keep only rows that have had a rule applied...\n",
      "# \n",
      "# rules_applied = standardised[pd.notnull(standardised['rules_applied'])]\n",
      "\n",
      "len(rules_applied)"
     ],
     "language": "python",
     "metadata": {},
     "outputs": [
      {
       "metadata": {},
       "output_type": "pyout",
       "prompt_number": 8,
       "text": [
        "2"
       ]
      }
     ],
     "prompt_number": 8
    },
    {
     "cell_type": "code",
     "collapsed": true,
     "input": [
      "# Add molecule columns to data frame...\n",
      "\n",
      "PandasTools.AddMoleculeColumnToFrame(rules_applied, smilesCol='smiles_old', molCol='mol_old')\n",
      "PandasTools.AddMoleculeColumnToFrame(rules_applied, smilesCol='smiles_new', molCol='mol_new')\n",
      "del rules_applied[\"smiles_old\"], rules_applied[\"smiles_new\"]\n",
      "\n",
      "rules_applied[\"rules_applied\"] = rules_applied[\"rules_applied\"].apply(lambda x: [int(x) for x in x.split(\",\")])\n",
      "\n",
      "# rules_applied.head()"
     ],
     "language": "python",
     "metadata": {},
     "outputs": [
      {
       "output_type": "stream",
       "stream": "stdout",
       "text": [
        "Patching pandas\n",
        "Patching pandas\n"
       ]
      }
     ],
     "prompt_number": 9
    },
    {
     "cell_type": "code",
     "collapsed": false,
     "input": [
      "# Molecules having multiple rules applied...\n",
      "\n",
      "multi = rules_applied.ix[[i for i, x in enumerate(rules_applied['rules_applied']) if len(x) > 1], :]\n",
      "\n",
      "multi"
     ],
     "language": "python",
     "metadata": {},
     "outputs": [
      {
       "html": [
        "<div style=\"max-height:1000px;max-width:1500px;overflow:auto;\">\n",
        "<table border=\"1\" class=\"dataframe\">\n",
        "  <tbody>\n",
        "    <tr>\n",
        "      <td>Index([], dtype=object)</td>\n",
        "      <td>Empty DataFrame</td>\n",
        "    </tr>\n",
        "  </tbody>\n",
        "</table>\n",
        "</div>"
       ],
       "metadata": {},
       "output_type": "pyout",
       "prompt_number": 10,
       "text": [
        "Empty DataFrame\n",
        "Columns: [rules_applied, mol_old, mol_new]\n",
        "Index: []"
       ]
      }
     ],
     "prompt_number": 10
    },
    {
     "cell_type": "code",
     "collapsed": false,
     "input": [
      "# Split dataframe into one per rule...\n",
      "\n",
      "frames = {n: rules_applied[rules_applied[\"rules_applied\"].apply(lambda x: n in x)] for n in (x[\"n\"] for x in rules.rule_set)}\n",
      "\n",
      "names = {x[\"n\"]: x[\"name\"] for x in rules.rule_set}\n",
      "\n",
      "for n, frame in frames.items(): print(\"{:2d}) {:50s}: {:3d}\".format(n, names[n], frame.shape[0]))"
     ],
     "language": "python",
     "metadata": {},
     "outputs": [
      {
       "output_type": "stream",
       "stream": "stdout",
       "text": [
        " 1) hydroxy imine -> carboxamide                      :   0\n",
        " 2) 2-hydroxy pyridine -> 2-pyridone                  :   0\n",
        " 3) 4-hydroxy pyridine -> 4-pyridone (within-ring)    :   0\n",
        " 4) 4-hydroxy pyridine -> 4-pyridone (any)            :   0\n",
        " 5) 4-pyrimidone -> 2-pyrimidone (any)                :   0\n",
        " 6) hydropyridin-2-imine -> 2-amino-pyridine          :   1\n",
        " 7) hydropyridin-4-imine -> 4-amino-pyridine          :   1\n",
        " 8) Fix heterocyclic tautomer 1                       :   0\n",
        " 9) Fix heterocyclic tautomer 2                       :   0\n",
        "10) Fix heterocyclic tautomer 3                       :   0\n",
        "11) Fix heterocyclic tautomer 4                       :   0\n",
        "12) Enol -> Ketone                                    :   0\n",
        "13) Fix 1,3 charge-seperated systems (non-aromatic)   :   0\n",
        "14) Fix 1,3 charge-seperated systems (aromatic 1)     :   0\n",
        "15) Fix 1,3 charge-seperated systems (aromatic 2)     :   0\n",
        "16) Fix 1,5 charge-seperated systems (non-aromatic)   :   0\n",
        "17) Fix 1,5 charge-seperated systems (aromatic 1)     :   0\n",
        "18) Fix 1,5 charge-seperated systems (aromatic 2)     :   0\n",
        "19) Fix 1,3 conjugated cation (non-aromatic)          :   0\n",
        "20) Fix 1,3 conjugated cation (aromatic 1)            :   0\n",
        "21) Fix 1,3 conjugated cation (aromatic 2)            :   0\n",
        "22) Fix 1,5 conjugated cation (non-aromatic)          :   0\n",
        "23) Fix 1,5 conjugated cation (aromatic 1)            :   0\n",
        "24) Fix 1,5 conjugated cation (aromatic 2)            :   0\n",
        "25) Fix 1,5 conjugated cation (aromatic 3)            :   0\n",
        "26) Charge-seperate sulphoxides                       :   0\n",
        "27) Un-charge-seperate sulphones                      :   0\n",
        "28) Fix hydrazine-diazonium system                    :   0\n"
       ]
      }
     ],
     "prompt_number": 14
    },
    {
     "cell_type": "code",
     "collapsed": false,
     "input": [
      "# Inspect a frame...\n",
      "\n",
      "n = 7\n",
      "\n",
      "frames[n].head()"
     ],
     "language": "python",
     "metadata": {},
     "outputs": [
      {
       "html": [
        "<div style=\"max-height:1000px;max-width:1500px;overflow:auto;\">\n",
        "<table border=\"1\" class=\"dataframe\">\n",
        "  <thead>\n",
        "    <tr style=\"text-align: right;\">\n",
        "      <th></th>\n",
        "      <th>rules_applied</th>\n",
        "      <th>mol_old</th>\n",
        "      <th>mol_new</th>\n",
        "    </tr>\n",
        "    <tr>\n",
        "      <th>name</th>\n",
        "      <th></th>\n",
        "      <th></th>\n",
        "      <th></th>\n",
        "    </tr>\n",
        "  </thead>\n",
        "  <tbody>\n",
        "    <tr>\n",
        "      <th>n2</th>\n",
        "      <td> [7]</td>\n",
        "      <td> <img src=\"data:image/png;base64,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\" alt=\"Mol\"/></td>\n",
        "      <td> <img src=\"data:image/png;base64,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\" alt=\"Mol\"/></td>\n",
        "    </tr>\n",
        "  </tbody>\n",
        "</table>\n",
        "</div>"
       ],
       "metadata": {},
       "output_type": "pyout",
       "prompt_number": 15,
       "text": [
        "     rules_applied                                                                                                                                                                                                                                                                                                                                                                                                                                                                                                                                                                                                                                                                                                                                                                                                                                                                                                                                                                                                                                                                                                                                                                                                                                                                                                                                                                                                                                                                                                                                                                                                                                                                                                                                                                                                                                                                                                                                                                                                                                                                                                                                                                        mol_old                                                                                                                                                                                                                                                                                                                                                                                                                                                                                                                                                                                                                                                                                                                                                                                                                                                                                                                                                                                                                                                                                                                                                                                                                                                                                                                                                                                                                                                                                                                                                                                                                                                                                                                                                                                                                                                                                                                                                                                                                                                                                                                                                                        mol_new\n",
        "name                                                                                                                                                                                                                                                                                                                                                                                                                                                                                                                                                                                                                                                                                                                                                                                                                                                                                                                                                                                                                                                                                                                                                                                                                                                                                                                                                                                                                                                                                                                                                                                                                                                                                                                                                                                                                                                                                                                                                                                                                                                                                                                                                                                                                                                                                                                                                                                                                                                                                                                                                                                                                                                                                                                                                                                                                                                                                                                                                                                                                                                                                                                                                                                                                                                                                                                                                                                                                                                                                                                                                                                                                                                                                                                                                                                                                                                                                                                                                                                                                                                                                                                                                                                                                                                                                                                                                                            \n",
        "n2             [7]  <img src=\"data:image/png;base64,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\" alt=\"Mol\"/>  <img src=\"data:image/png;base64,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\" alt=\"Mol\"/>"
       ]
      }
     ],
     "prompt_number": 15
    },
    {
     "cell_type": "code",
     "collapsed": false,
     "input": [],
     "language": "python",
     "metadata": {},
     "outputs": []
    }
   ],
   "metadata": {}
  }
 ]
}